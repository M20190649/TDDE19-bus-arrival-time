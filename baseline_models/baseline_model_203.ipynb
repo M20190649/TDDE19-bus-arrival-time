{
 "cells": [
  {
   "cell_type": "markdown",
   "metadata": {},
   "source": [
    "## Baseline model for bus 203"
   ]
  },
  {
   "cell_type": "code",
   "execution_count": 1,
   "metadata": {
    "collapsed": true
   },
   "outputs": [],
   "source": [
    "import pandas as pd\n",
    "import numpy as np\n",
    "import matplotlib.pyplot as plt\n",
    "import seaborn as sns\n",
    "import dateutil.parser\n",
    "sns.set()"
   ]
  },
  {
   "cell_type": "code",
   "execution_count": 2,
   "metadata": {
    "collapsed": true
   },
   "outputs": [],
   "source": [
    "bus_line_file = '../bus203_all.csv'"
   ]
  },
  {
   "cell_type": "code",
   "execution_count": 3,
   "metadata": {
    "collapsed": true
   },
   "outputs": [],
   "source": [
    "# convert timestamp column to pandas timestamp\n",
    "df = pd.read_csv(bus_line_file)\n",
    "df['timestamp'] = pd.to_datetime(df['timestamp'])\n",
    "df['timestamp'] = df['timestamp'].dt.tz_localize('UTC').dt.tz_convert('Europe/Stockholm')"
   ]
  },
  {
   "cell_type": "markdown",
   "metadata": {},
   "source": [
    "### Split the data random subsets of 80% train, 20% test"
   ]
  },
  {
   "cell_type": "code",
   "execution_count": 4,
   "metadata": {},
   "outputs": [
    {
     "name": "stdout",
     "output_type": "stream",
     "text": [
      "[   1    2    3 ... 3662 3663 3664]\n"
     ]
    }
   ],
   "source": [
    "journey_ids = df['journey_number'].unique().copy()\n",
    "print(journey_ids) # journeys should be ordered"
   ]
  },
  {
   "cell_type": "code",
   "execution_count": 5,
   "metadata": {
    "scrolled": true
   },
   "outputs": [
    {
     "name": "stdout",
     "output_type": "stream",
     "text": [
      "[2606  207  420 ...  381 2980  888]\n"
     ]
    }
   ],
   "source": [
    "# shuffle all the journey numbers\n",
    "np.random.shuffle(journey_ids)\n",
    "print(journey_ids) # check that journey ids are now shuffled"
   ]
  },
  {
   "cell_type": "code",
   "execution_count": 6,
   "metadata": {
    "collapsed": true
   },
   "outputs": [],
   "source": [
    "num_journeys = len(journey_ids)\n",
    "num_train = round(num_journeys * 0.8)"
   ]
  },
  {
   "cell_type": "code",
   "execution_count": 7,
   "metadata": {
    "collapsed": true,
    "scrolled": true
   },
   "outputs": [],
   "source": [
    "# take 80% of shuffled journey ids as train, the rest as test\n",
    "train_ids = journey_ids[:num_train]\n",
    "test_ids = journey_ids[num_train:]"
   ]
  },
  {
   "cell_type": "code",
   "execution_count": 8,
   "metadata": {
    "collapsed": true
   },
   "outputs": [],
   "source": [
    "# split data into test and train by the ids\n",
    "train = df[df['journey_number'].isin(train_ids)]\n",
    "test = df[df['journey_number'].isin(test_ids)]"
   ]
  },
  {
   "cell_type": "code",
   "execution_count": 9,
   "metadata": {
    "scrolled": false
   },
   "outputs": [
    {
     "name": "stdout",
     "output_type": "stream",
     "text": [
      "train data rows comprise 0.8002% of the total data\n",
      "test data rows comprise 0.1998% of the total data\n"
     ]
    }
   ],
   "source": [
    "# sanity check\n",
    "print('train data rows comprise {:.4f}% of the total data'.format(len(train.index) / len(df.index)))\n",
    "print('test data rows comprise {:.4f}% of the total data'.format(len(test.index) / len(df.index)))"
   ]
  },
  {
   "cell_type": "markdown",
   "metadata": {},
   "source": [
    "### Calculate the average segment time for each segment in the train data"
   ]
  },
  {
   "cell_type": "code",
   "execution_count": 10,
   "metadata": {
    "collapsed": true
   },
   "outputs": [],
   "source": [
    "def duration(x):\n",
    "    timedelta = x.max() - x.min()\n",
    "    return timedelta.seconds"
   ]
  },
  {
   "cell_type": "markdown",
   "metadata": {},
   "source": [
    "We need to calculate the duration of the segments in both the test and train data:"
   ]
  },
  {
   "cell_type": "code",
   "execution_count": 11,
   "metadata": {
    "scrolled": false
   },
   "outputs": [
    {
     "name": "stderr",
     "output_type": "stream",
     "text": [
      "/home/max/anaconda3/lib/python3.6/site-packages/ipykernel_launcher.py:1: SettingWithCopyWarning: \n",
      "A value is trying to be set on a copy of a slice from a DataFrame.\n",
      "Try using .loc[row_indexer,col_indexer] = value instead\n",
      "\n",
      "See the caveats in the documentation: http://pandas.pydata.org/pandas-docs/stable/indexing.html#indexing-view-versus-copy\n",
      "  \"\"\"Entry point for launching an IPython kernel.\n",
      "/home/max/anaconda3/lib/python3.6/site-packages/ipykernel_launcher.py:2: SettingWithCopyWarning: \n",
      "A value is trying to be set on a copy of a slice from a DataFrame.\n",
      "Try using .loc[row_indexer,col_indexer] = value instead\n",
      "\n",
      "See the caveats in the documentation: http://pandas.pydata.org/pandas-docs/stable/indexing.html#indexing-view-versus-copy\n",
      "  \n"
     ]
    }
   ],
   "source": [
    "train['segment_time'] = train.groupby(['journey_number', 'segment_number'])['timestamp'].transform(duration)\n",
    "test['segment_time'] = test.groupby(['journey_number', 'segment_number'])['timestamp'].transform(duration)"
   ]
  },
  {
   "cell_type": "markdown",
   "metadata": {},
   "source": [
    "The warning above is a false positive..\n"
   ]
  },
  {
   "cell_type": "code",
   "execution_count": 12,
   "metadata": {},
   "outputs": [
    {
     "data": {
      "text/html": [
       "<div>\n",
       "<style scoped>\n",
       "    .dataframe tbody tr th:only-of-type {\n",
       "        vertical-align: middle;\n",
       "    }\n",
       "\n",
       "    .dataframe tbody tr th {\n",
       "        vertical-align: top;\n",
       "    }\n",
       "\n",
       "    .dataframe thead th {\n",
       "        text-align: right;\n",
       "    }\n",
       "</style>\n",
       "<table border=\"1\" class=\"dataframe\">\n",
       "  <thead>\n",
       "    <tr style=\"text-align: right;\">\n",
       "      <th></th>\n",
       "      <th>Unnamed: 0</th>\n",
       "      <th>timestamp</th>\n",
       "      <th>event</th>\n",
       "      <th>vehicle_id</th>\n",
       "      <th>line</th>\n",
       "      <th>longitude</th>\n",
       "      <th>latitude</th>\n",
       "      <th>direction</th>\n",
       "      <th>speed</th>\n",
       "      <th>station</th>\n",
       "      <th>journey_number</th>\n",
       "      <th>segment_number</th>\n",
       "      <th>segment_time</th>\n",
       "    </tr>\n",
       "  </thead>\n",
       "  <tbody>\n",
       "    <tr>\n",
       "      <th>0</th>\n",
       "      <td>0</td>\n",
       "      <td>2018-02-16 04:48:40+01:00</td>\n",
       "      <td>JourneyStartedEvent</td>\n",
       "      <td>5432</td>\n",
       "      <td>203</td>\n",
       "      <td>58.414238</td>\n",
       "      <td>15.571015</td>\n",
       "      <td>-1.0</td>\n",
       "      <td>-1.0</td>\n",
       "      <td>NaN</td>\n",
       "      <td>1</td>\n",
       "      <td>1</td>\n",
       "      <td>72</td>\n",
       "    </tr>\n",
       "  </tbody>\n",
       "</table>\n",
       "</div>"
      ],
      "text/plain": [
       "   Unnamed: 0                 timestamp                event  vehicle_id  \\\n",
       "0           0 2018-02-16 04:48:40+01:00  JourneyStartedEvent        5432   \n",
       "\n",
       "   line  longitude   latitude  direction  speed station  journey_number  \\\n",
       "0   203  58.414238  15.571015       -1.0   -1.0     NaN               1   \n",
       "\n",
       "   segment_number  segment_time  \n",
       "0               1            72  "
      ]
     },
     "execution_count": 12,
     "metadata": {},
     "output_type": "execute_result"
    }
   ],
   "source": [
    "train.head(1)"
   ]
  },
  {
   "cell_type": "markdown",
   "metadata": {},
   "source": [
    "Now we want to get the average time it took to drive each segment. Since we have the segment time duplicated over all rows with the same journey number and segment number, we need to only take this number once to not get a skewed weighting of the average. We can group by `journey_number` and `segment_number`, and take any aggregate function (min, max, mean) since the segment time is the same for each row where the journey number and segment number are the same."
   ]
  },
  {
   "cell_type": "code",
   "execution_count": 13,
   "metadata": {
    "collapsed": true
   },
   "outputs": [],
   "source": [
    "a = train.groupby(['journey_number', 'segment_number']).min().reset_index()"
   ]
  },
  {
   "cell_type": "code",
   "execution_count": 14,
   "metadata": {
    "scrolled": false
   },
   "outputs": [
    {
     "data": {
      "text/plain": [
       "{1: 192.8996527777778,\n",
       " 2: 56.04097222222222,\n",
       " 3: 62.63854166666667,\n",
       " 4: 39.25833333333333,\n",
       " 5: 57.13472222222222,\n",
       " 6: 58.94027777777778,\n",
       " 7: 102.73958333333333,\n",
       " 8: 42.36423611111111,\n",
       " 9: 161.75520833333334,\n",
       " 10: 74.92604166666666,\n",
       " 11: 69.62222222222222}"
      ]
     },
     "execution_count": 14,
     "metadata": {},
     "output_type": "execute_result"
    }
   ],
   "source": [
    "averages = dict(a.groupby('segment_number')['segment_time'].mean())\n",
    "averages"
   ]
  },
  {
   "cell_type": "markdown",
   "metadata": {},
   "source": [
    "The dict above holds our average segment durations, which will be used to make predictions on the test set."
   ]
  },
  {
   "cell_type": "markdown",
   "metadata": {},
   "source": [
    "### Get the errors of the predictions on segment duration vs the actual segment durations in the test set"
   ]
  },
  {
   "cell_type": "markdown",
   "metadata": {},
   "source": [
    "Now we can go through all segments in the test data for each journey and subtract the average segment time from the actual segment time. We can then calculate how big the error was, expressed as a percentage of the actual segment time. "
   ]
  },
  {
   "cell_type": "code",
   "execution_count": 15,
   "metadata": {
    "collapsed": true,
    "scrolled": true
   },
   "outputs": [],
   "source": [
    "data = []\n",
    "for name, group in test.groupby(['journey_number', 'segment_number']):\n",
    "    # get error in seconds\n",
    "    error_s = group['segment_time'].iloc[0] - averages[name[1]]\n",
    "    # get error as a percentage of the ground truth segment travel time\n",
    "    error_p = error_s / group['segment_time'].iloc[0] * 100\n",
    "    # get the absolute values of the errors in seconds and as a percentage\n",
    "    abs_error_s = abs(error_s)\n",
    "    abs_error_p = abs(error_p)\n",
    "    data.append([name[0], name[1], error_s, abs_error_s, error_p, abs_error_p])"
   ]
  },
  {
   "cell_type": "code",
   "execution_count": 16,
   "metadata": {
    "collapsed": true
   },
   "outputs": [],
   "source": [
    "time_diffs = pd.DataFrame(columns=['journey_number', 'segment_number', 'error_s', 'abs_error_s', 'error_p', 'abs_error_p'], data=data)"
   ]
  },
  {
   "cell_type": "code",
   "execution_count": 17,
   "metadata": {},
   "outputs": [
    {
     "data": {
      "text/html": [
       "<div>\n",
       "<style scoped>\n",
       "    .dataframe tbody tr th:only-of-type {\n",
       "        vertical-align: middle;\n",
       "    }\n",
       "\n",
       "    .dataframe tbody tr th {\n",
       "        vertical-align: top;\n",
       "    }\n",
       "\n",
       "    .dataframe thead th {\n",
       "        text-align: right;\n",
       "    }\n",
       "</style>\n",
       "<table border=\"1\" class=\"dataframe\">\n",
       "  <thead>\n",
       "    <tr style=\"text-align: right;\">\n",
       "      <th></th>\n",
       "      <th>journey_number</th>\n",
       "      <th>segment_number</th>\n",
       "      <th>error_s</th>\n",
       "      <th>abs_error_s</th>\n",
       "      <th>error_p</th>\n",
       "      <th>abs_error_p</th>\n",
       "    </tr>\n",
       "  </thead>\n",
       "  <tbody>\n",
       "    <tr>\n",
       "      <th>0</th>\n",
       "      <td>3</td>\n",
       "      <td>1</td>\n",
       "      <td>-13.899653</td>\n",
       "      <td>13.899653</td>\n",
       "      <td>-7.765169</td>\n",
       "      <td>7.765169</td>\n",
       "    </tr>\n",
       "    <tr>\n",
       "      <th>1</th>\n",
       "      <td>3</td>\n",
       "      <td>2</td>\n",
       "      <td>-1.040972</td>\n",
       "      <td>1.040972</td>\n",
       "      <td>-1.892677</td>\n",
       "      <td>1.892677</td>\n",
       "    </tr>\n",
       "    <tr>\n",
       "      <th>2</th>\n",
       "      <td>3</td>\n",
       "      <td>3</td>\n",
       "      <td>46.361458</td>\n",
       "      <td>46.361458</td>\n",
       "      <td>42.533448</td>\n",
       "      <td>42.533448</td>\n",
       "    </tr>\n",
       "    <tr>\n",
       "      <th>3</th>\n",
       "      <td>3</td>\n",
       "      <td>4</td>\n",
       "      <td>4.741667</td>\n",
       "      <td>4.741667</td>\n",
       "      <td>10.776515</td>\n",
       "      <td>10.776515</td>\n",
       "    </tr>\n",
       "    <tr>\n",
       "      <th>4</th>\n",
       "      <td>3</td>\n",
       "      <td>5</td>\n",
       "      <td>-8.134722</td>\n",
       "      <td>8.134722</td>\n",
       "      <td>-16.601474</td>\n",
       "      <td>16.601474</td>\n",
       "    </tr>\n",
       "  </tbody>\n",
       "</table>\n",
       "</div>"
      ],
      "text/plain": [
       "   journey_number  segment_number    error_s  abs_error_s    error_p  \\\n",
       "0               3               1 -13.899653    13.899653  -7.765169   \n",
       "1               3               2  -1.040972     1.040972  -1.892677   \n",
       "2               3               3  46.361458    46.361458  42.533448   \n",
       "3               3               4   4.741667     4.741667  10.776515   \n",
       "4               3               5  -8.134722     8.134722 -16.601474   \n",
       "\n",
       "   abs_error_p  \n",
       "0     7.765169  \n",
       "1     1.892677  \n",
       "2    42.533448  \n",
       "3    10.776515  \n",
       "4    16.601474  "
      ]
     },
     "execution_count": 17,
     "metadata": {},
     "output_type": "execute_result"
    }
   ],
   "source": [
    "time_diffs.head(5)"
   ]
  },
  {
   "cell_type": "markdown",
   "metadata": {},
   "source": [
    "This is our combined *mean absolute percentage error* (MAPE) for all the segments in the test set:"
   ]
  },
  {
   "cell_type": "code",
   "execution_count": 18,
   "metadata": {},
   "outputs": [
    {
     "name": "stdout",
     "output_type": "stream",
     "text": [
      "combined MAPE for all segments: 23.355%\n"
     ]
    }
   ],
   "source": [
    "print('combined MAPE for all segments: {:.3f}%'.format(time_diffs.abs_error_p.mean()))"
   ]
  },
  {
   "cell_type": "markdown",
   "metadata": {},
   "source": [
    "We can also look at the MAPE in each of the segments:"
   ]
  },
  {
   "cell_type": "code",
   "execution_count": 19,
   "metadata": {},
   "outputs": [
    {
     "name": "stdout",
     "output_type": "stream",
     "text": [
      "Segment 1: \t15.420%\n",
      "Segment 2: \t26.762%\n",
      "Segment 3: \t20.219%\n",
      "Segment 4: \t38.823%\n",
      "Segment 5: \t20.196%\n",
      "Segment 6: \t20.708%\n",
      "Segment 7: \t14.602%\n",
      "Segment 8: \t35.706%\n",
      "Segment 9: \t12.725%\n",
      "Segment 10: \t25.084%\n",
      "Segment 11: \t26.661%\n"
     ]
    }
   ],
   "source": [
    "seg_mapes = time_diffs.groupby('segment_number')['abs_error_p'].mean()\n",
    "for i, mape in enumerate(seg_mapes):\n",
    "    print('Segment {}: \\t{:.3f}%'.format(i+1, mape))"
   ]
  },
  {
   "cell_type": "markdown",
   "metadata": {},
   "source": [
    "We can also look at the absolute error in seconds:"
   ]
  },
  {
   "cell_type": "code",
   "execution_count": 20,
   "metadata": {
    "scrolled": true
   },
   "outputs": [
    {
     "name": "stdout",
     "output_type": "stream",
     "text": [
      "combined error in seconds for all segments: 15.030s\n"
     ]
    }
   ],
   "source": [
    "print('combined error in seconds for all segments: {:.3f}s'.format(time_diffs.abs_error_s.mean()))"
   ]
  },
  {
   "cell_type": "markdown",
   "metadata": {},
   "source": [
    "And we can also look at the error in seconds for each segment:"
   ]
  },
  {
   "cell_type": "code",
   "execution_count": 21,
   "metadata": {},
   "outputs": [
    {
     "name": "stdout",
     "output_type": "stream",
     "text": [
      "Segment 1: \t24.9s\n",
      "Segment 2: \t11.7s\n",
      "Segment 3: \t10.8s\n",
      "Segment 4: \t12.9s\n",
      "Segment 5: \t11.5s\n",
      "Segment 6: \t11.2s\n",
      "Segment 7: \t15.2s\n",
      "Segment 8: \t12.8s\n",
      "Segment 9: \t21.4s\n",
      "Segment 10: \t16.4s\n",
      "Segment 11: \t16.6s\n"
     ]
    }
   ],
   "source": [
    "seg_err_s = time_diffs.groupby('segment_number')['abs_error_s'].mean()\n",
    "for i, err in enumerate(seg_err_s):\n",
    "    print('Segment {}: \\t{:.1f}s'.format(i+1, err))"
   ]
  },
  {
   "cell_type": "markdown",
   "metadata": {},
   "source": [
    "## Plotting the histograms of our errors"
   ]
  },
  {
   "cell_type": "markdown",
   "metadata": {},
   "source": [
    "#### Percentage errors"
   ]
  },
  {
   "cell_type": "code",
   "execution_count": 26,
   "metadata": {
    "scrolled": false
   },
   "outputs": [
    {
     "name": "stderr",
     "output_type": "stream",
     "text": [
      "/home/max/anaconda3/lib/python3.6/site-packages/scipy/stats/stats.py:1713: FutureWarning: Using a non-tuple sequence for multidimensional indexing is deprecated; use `arr[tuple(seq)]` instead of `arr[seq]`. In the future this will be interpreted as an array index, `arr[np.array(seq)]`, which will result either in an error or a different result.\n",
      "  return np.add.reduce(sorted[indexer] * weights, axis=axis) / sumval\n",
      "/home/max/anaconda3/lib/python3.6/site-packages/seaborn/distributions.py:198: RuntimeWarning: Mean of empty slice.\n",
      "  line, = ax.plot(a.mean(), 0)\n",
      "/home/max/anaconda3/lib/python3.6/site-packages/numpy/core/_methods.py:85: RuntimeWarning: invalid value encountered in double_scalars\n",
      "  ret = ret.dtype.type(ret / rcount)\n"
     ]
    },
    {
     "data": {
      "image/png": "[encoded data removed]",
      "text/plain": [
       "<Figure size 864x864 with 11 Axes>"
      ]
     },
     "metadata": {},
     "output_type": "display_data"
    }
   ],
   "source": [
    "fig, axes = plt.subplots(4, 3, figsize=(12,12))\n",
    "for i, ax in enumerate(axes.flatten()):\n",
    "    _=sns.distplot(time_diffs[time_diffs['segment_number'] == i+1].error_p, kde=False, ax=ax)\n",
    "    ax.set_title(f'Segment: {i+1}')\n",
    "    ax.set_xlabel('error (%)')\n",
    "    ax.set_xlim(-150, 150)\n",
    "fig.delaxes(ax)\n",
    "plt.tight_layout()\n",
    "plt.show()"
   ]
  },
  {
   "cell_type": "markdown",
   "metadata": {},
   "source": [
    "#### Errors in seconds"
   ]
  },
  {
   "cell_type": "code",
   "execution_count": 25,
   "metadata": {
    "scrolled": false
   },
   "outputs": [
    {
     "name": "stderr",
     "output_type": "stream",
     "text": [
      "/home/max/anaconda3/lib/python3.6/site-packages/scipy/stats/stats.py:1713: FutureWarning: Using a non-tuple sequence for multidimensional indexing is deprecated; use `arr[tuple(seq)]` instead of `arr[seq]`. In the future this will be interpreted as an array index, `arr[np.array(seq)]`, which will result either in an error or a different result.\n",
      "  return np.add.reduce(sorted[indexer] * weights, axis=axis) / sumval\n",
      "/home/max/anaconda3/lib/python3.6/site-packages/seaborn/distributions.py:198: RuntimeWarning: Mean of empty slice.\n",
      "  line, = ax.plot(a.mean(), 0)\n",
      "/home/max/anaconda3/lib/python3.6/site-packages/numpy/core/_methods.py:85: RuntimeWarning: invalid value encountered in double_scalars\n",
      "  ret = ret.dtype.type(ret / rcount)\n"
     ]
    },
    {
     "data": {
      "image/png": "[encoded data removed]",
      "text/plain": [
       "<Figure size 864x864 with 11 Axes>"
      ]
     },
     "metadata": {},
     "output_type": "display_data"
    }
   ],
   "source": [
    "fig, axes = plt.subplots(4, 3, figsize=(12,12))\n",
    "for i, ax in enumerate(axes.flatten()):\n",
    "    _=sns.distplot(time_diffs[time_diffs['segment_number'] == i+1].error_s, kde=False, ax=ax)\n",
    "    ax.set_title(f'Segment: {i+1}')\n",
    "    ax.set_xlabel('error (s)')\n",
    "fig.delaxes(ax)\n",
    "plt.tight_layout()\n",
    "plt.show()"
   ]
  }
 ],
 "metadata": {
  "kernelspec": {
   "display_name": "Python 3",
   "language": "python",
   "name": "python3"
  },
  "language_info": {
   "codemirror_mode": {
    "name": "ipython",
    "version": 3
   },
   "file_extension": ".py",
   "mimetype": "text/x-python",
   "name": "python",
   "nbconvert_exporter": "python",
   "pygments_lexer": "ipython3",
   "version": "3.6.3"
  }
 },
 "nbformat": 4,
 "nbformat_minor": 2
}
