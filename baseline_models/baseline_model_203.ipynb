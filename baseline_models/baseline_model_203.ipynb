{
 "cells": [
  {
   "cell_type": "markdown",
   "metadata": {},
   "source": [
    "## Baseline model for bus 203"
   ]
  },
  {
   "cell_type": "code",
   "execution_count": 1,
   "metadata": {
    "collapsed": true
   },
   "outputs": [],
   "source": [
    "import pandas as pd\n",
    "import numpy as np\n",
    "import matplotlib.pyplot as plt\n",
    "import seaborn as sns\n",
    "import dateutil.parser\n",
    "sns.set()"
   ]
  },
  {
   "cell_type": "code",
   "execution_count": 2,
   "metadata": {
    "collapsed": true
   },
   "outputs": [],
   "source": [
    "bus_line_file = '../bus203_all.csv'"
   ]
  },
  {
   "cell_type": "code",
   "execution_count": 3,
   "metadata": {
    "collapsed": true
   },
   "outputs": [],
   "source": [
    "# convert timestamp column to pandas timestamp\n",
    "df = pd.read_csv(bus_line_file)\n",
    "df['timestamp'] = pd.to_datetime(df['timestamp'])\n",
    "df['timestamp'] = df['timestamp'].dt.tz_localize('UTC').dt.tz_convert('Europe/Stockholm')"
   ]
  },
  {
   "cell_type": "markdown",
   "metadata": {},
   "source": [
    "### Split the data random subsets of 80% train, 20% test"
   ]
  },
  {
   "cell_type": "code",
   "execution_count": 4,
   "metadata": {},
   "outputs": [
    {
     "name": "stdout",
     "output_type": "stream",
     "text": [
      "[   1    2    3 ... 3662 3663 3664]\n"
     ]
    }
   ],
   "source": [
    "journey_ids = df['journey_number'].unique().copy()\n",
    "print(journey_ids) # journeys should be ordered"
   ]
  },
  {
   "cell_type": "code",
   "execution_count": 5,
   "metadata": {
    "scrolled": true
   },
   "outputs": [
    {
     "name": "stdout",
     "output_type": "stream",
     "text": [
      "[1628 1195  495 ... 3542 2995 1841]\n"
     ]
    }
   ],
   "source": [
    "# shuffle all the journey numbers\n",
    "np.random.shuffle(journey_ids)\n",
    "print(journey_ids) # check that journey ids are now shuffled"
   ]
  },
  {
   "cell_type": "code",
   "execution_count": 6,
   "metadata": {
    "collapsed": true
   },
   "outputs": [],
   "source": [
    "num_journeys = len(journey_ids)\n",
    "num_train = round(num_journeys * 0.8)"
   ]
  },
  {
   "cell_type": "code",
   "execution_count": 7,
   "metadata": {
    "collapsed": true,
    "scrolled": true
   },
   "outputs": [],
   "source": [
    "# take 80% of shuffled journey ids as train, the rest as test\n",
    "train_ids = journey_ids[:num_train]\n",
    "test_ids = journey_ids[num_train:]"
   ]
  },
  {
   "cell_type": "code",
   "execution_count": 8,
   "metadata": {
    "collapsed": true
   },
   "outputs": [],
   "source": [
    "# split data into test and train by the ids\n",
    "train = df[df['journey_number'].isin(train_ids)]\n",
    "test = df[df['journey_number'].isin(test_ids)]"
   ]
  },
  {
   "cell_type": "code",
   "execution_count": 9,
   "metadata": {
    "scrolled": false
   },
   "outputs": [
    {
     "name": "stdout",
     "output_type": "stream",
     "text": [
      "train data rows comprise 0.7998% of the total data\n",
      "test data rows comprise 0.2002% of the total data\n"
     ]
    }
   ],
   "source": [
    "# sanity check\n",
    "print('train data rows comprise {:.4f}% of the total data'.format(len(train.index) / len(df.index)))\n",
    "print('test data rows comprise {:.4f}% of the total data'.format(len(test.index) / len(df.index)))"
   ]
  },
  {
   "cell_type": "markdown",
   "metadata": {},
   "source": [
    "### Calculate the average segment time for each segment in the train data"
   ]
  },
  {
   "cell_type": "code",
   "execution_count": 10,
   "metadata": {
    "collapsed": true
   },
   "outputs": [],
   "source": [
    "def duration(x):\n",
    "    timedelta = x.max() - x.min()\n",
    "    return timedelta.seconds"
   ]
  },
  {
   "cell_type": "markdown",
   "metadata": {},
   "source": [
    "We need to calculate the duration of the segments in both the test and train data:"
   ]
  },
  {
   "cell_type": "code",
   "execution_count": 11,
   "metadata": {
    "scrolled": false
   },
   "outputs": [
    {
     "name": "stderr",
     "output_type": "stream",
     "text": [
      "/home/max/anaconda3/lib/python3.6/site-packages/ipykernel_launcher.py:1: SettingWithCopyWarning: \n",
      "A value is trying to be set on a copy of a slice from a DataFrame.\n",
      "Try using .loc[row_indexer,col_indexer] = value instead\n",
      "\n",
      "See the caveats in the documentation: http://pandas.pydata.org/pandas-docs/stable/indexing.html#indexing-view-versus-copy\n",
      "  \"\"\"Entry point for launching an IPython kernel.\n",
      "/home/max/anaconda3/lib/python3.6/site-packages/ipykernel_launcher.py:2: SettingWithCopyWarning: \n",
      "A value is trying to be set on a copy of a slice from a DataFrame.\n",
      "Try using .loc[row_indexer,col_indexer] = value instead\n",
      "\n",
      "See the caveats in the documentation: http://pandas.pydata.org/pandas-docs/stable/indexing.html#indexing-view-versus-copy\n",
      "  \n"
     ]
    }
   ],
   "source": [
    "train['segment_time'] = train.groupby(['journey_number', 'segment_number'])['timestamp'].transform(duration)\n",
    "test['segment_time'] = test.groupby(['journey_number', 'segment_number'])['timestamp'].transform(duration)"
   ]
  },
  {
   "cell_type": "markdown",
   "metadata": {},
   "source": [
    "The warning above is a false positive..\n"
   ]
  },
  {
   "cell_type": "code",
   "execution_count": 12,
   "metadata": {
    "scrolled": true
   },
   "outputs": [
    {
     "data": {
      "text/html": [
       "<div>\n",
       "<style scoped>\n",
       "    .dataframe tbody tr th:only-of-type {\n",
       "        vertical-align: middle;\n",
       "    }\n",
       "\n",
       "    .dataframe tbody tr th {\n",
       "        vertical-align: top;\n",
       "    }\n",
       "\n",
       "    .dataframe thead th {\n",
       "        text-align: right;\n",
       "    }\n",
       "</style>\n",
       "<table border=\"1\" class=\"dataframe\">\n",
       "  <thead>\n",
       "    <tr style=\"text-align: right;\">\n",
       "      <th></th>\n",
       "      <th>Unnamed: 0</th>\n",
       "      <th>timestamp</th>\n",
       "      <th>event</th>\n",
       "      <th>vehicle_id</th>\n",
       "      <th>line</th>\n",
       "      <th>longitude</th>\n",
       "      <th>latitude</th>\n",
       "      <th>direction</th>\n",
       "      <th>speed</th>\n",
       "      <th>station</th>\n",
       "      <th>journey_number</th>\n",
       "      <th>segment_number</th>\n",
       "      <th>segment_time</th>\n",
       "    </tr>\n",
       "  </thead>\n",
       "  <tbody>\n",
       "    <tr>\n",
       "      <th>0</th>\n",
       "      <td>0</td>\n",
       "      <td>2018-02-16 04:48:40+01:00</td>\n",
       "      <td>JourneyStartedEvent</td>\n",
       "      <td>5432</td>\n",
       "      <td>203</td>\n",
       "      <td>58.414238</td>\n",
       "      <td>15.571015</td>\n",
       "      <td>-1.0</td>\n",
       "      <td>-1.0</td>\n",
       "      <td>NaN</td>\n",
       "      <td>1</td>\n",
       "      <td>1</td>\n",
       "      <td>72</td>\n",
       "    </tr>\n",
       "  </tbody>\n",
       "</table>\n",
       "</div>"
      ],
      "text/plain": [
       "   Unnamed: 0                 timestamp                event  vehicle_id  \\\n",
       "0           0 2018-02-16 04:48:40+01:00  JourneyStartedEvent        5432   \n",
       "\n",
       "   line  longitude   latitude  direction  speed station  journey_number  \\\n",
       "0   203  58.414238  15.571015       -1.0   -1.0     NaN               1   \n",
       "\n",
       "   segment_number  segment_time  \n",
       "0               1            72  "
      ]
     },
     "execution_count": 12,
     "metadata": {},
     "output_type": "execute_result"
    }
   ],
   "source": [
    "train.head(1)"
   ]
  },
  {
   "cell_type": "code",
   "execution_count": 71,
   "metadata": {
    "collapsed": true
   },
   "outputs": [],
   "source": [
    "def interval_time(x):\n",
    "    timedelta = x['timestamp'].max() - x['timestamp'].min()\n",
    "    return timedelta.seconds"
   ]
  },
  {
   "cell_type": "code",
   "execution_count": 80,
   "metadata": {
    "collapsed": true
   },
   "outputs": [],
   "source": [
    "data = []\n",
    "for name, group in test.groupby(['journey_number', 'segment_number']):\n",
    "    seg_len = len(group.index)\n",
    "    indexes = [math.floor(seg_len * i/10) for i in range(2, 10, 2)]\n",
    "    interval_data = []\n",
    "    for idx in indexes:\n",
    "        interval_data.append(interval_time(group[idx:]))\n",
    "    data.append([name[1]] + interval_data)"
   ]
  },
  {
   "cell_type": "code",
   "execution_count": 81,
   "metadata": {
    "collapsed": true
   },
   "outputs": [],
   "source": [
    "pred_df = pd.DataFrame(columns=['sn', '20_p', '40_p', '60_p', '80_p'], data=data)"
   ]
  },
  {
   "cell_type": "code",
   "execution_count": 105,
   "metadata": {
    "scrolled": false
   },
   "outputs": [],
   "source": [
    "pred_df = pred_df.groupby('sn').median().reset_index()"
   ]
  },
  {
   "cell_type": "code",
   "execution_count": 106,
   "metadata": {},
   "outputs": [
    {
     "data": {
      "text/html": [
       "<div>\n",
       "<style scoped>\n",
       "    .dataframe tbody tr th:only-of-type {\n",
       "        vertical-align: middle;\n",
       "    }\n",
       "\n",
       "    .dataframe tbody tr th {\n",
       "        vertical-align: top;\n",
       "    }\n",
       "\n",
       "    .dataframe thead th {\n",
       "        text-align: right;\n",
       "    }\n",
       "</style>\n",
       "<table border=\"1\" class=\"dataframe\">\n",
       "  <thead>\n",
       "    <tr style=\"text-align: right;\">\n",
       "      <th></th>\n",
       "      <th>sn</th>\n",
       "      <th>20_p</th>\n",
       "      <th>40_p</th>\n",
       "      <th>60_p</th>\n",
       "      <th>80_p</th>\n",
       "    </tr>\n",
       "  </thead>\n",
       "  <tbody>\n",
       "    <tr>\n",
       "      <th>0</th>\n",
       "      <td>1</td>\n",
       "      <td>152</td>\n",
       "      <td>113</td>\n",
       "      <td>74</td>\n",
       "      <td>38</td>\n",
       "    </tr>\n",
       "    <tr>\n",
       "      <th>1</th>\n",
       "      <td>2</td>\n",
       "      <td>46</td>\n",
       "      <td>35</td>\n",
       "      <td>23</td>\n",
       "      <td>11</td>\n",
       "    </tr>\n",
       "    <tr>\n",
       "      <th>2</th>\n",
       "      <td>3</td>\n",
       "      <td>52</td>\n",
       "      <td>40</td>\n",
       "      <td>26</td>\n",
       "      <td>13</td>\n",
       "    </tr>\n",
       "    <tr>\n",
       "      <th>3</th>\n",
       "      <td>4</td>\n",
       "      <td>34</td>\n",
       "      <td>26</td>\n",
       "      <td>17</td>\n",
       "      <td>8</td>\n",
       "    </tr>\n",
       "    <tr>\n",
       "      <th>4</th>\n",
       "      <td>5</td>\n",
       "      <td>43</td>\n",
       "      <td>32</td>\n",
       "      <td>21</td>\n",
       "      <td>10</td>\n",
       "    </tr>\n",
       "    <tr>\n",
       "      <th>5</th>\n",
       "      <td>6</td>\n",
       "      <td>49</td>\n",
       "      <td>38</td>\n",
       "      <td>25</td>\n",
       "      <td>12</td>\n",
       "    </tr>\n",
       "    <tr>\n",
       "      <th>6</th>\n",
       "      <td>7</td>\n",
       "      <td>81</td>\n",
       "      <td>61</td>\n",
       "      <td>41</td>\n",
       "      <td>20</td>\n",
       "    </tr>\n",
       "    <tr>\n",
       "      <th>7</th>\n",
       "      <td>8</td>\n",
       "      <td>37</td>\n",
       "      <td>28</td>\n",
       "      <td>19</td>\n",
       "      <td>9</td>\n",
       "    </tr>\n",
       "    <tr>\n",
       "      <th>8</th>\n",
       "      <td>9</td>\n",
       "      <td>128</td>\n",
       "      <td>96</td>\n",
       "      <td>64</td>\n",
       "      <td>31</td>\n",
       "    </tr>\n",
       "    <tr>\n",
       "      <th>9</th>\n",
       "      <td>10</td>\n",
       "      <td>59</td>\n",
       "      <td>45</td>\n",
       "      <td>30</td>\n",
       "      <td>15</td>\n",
       "    </tr>\n",
       "    <tr>\n",
       "      <th>10</th>\n",
       "      <td>11</td>\n",
       "      <td>57</td>\n",
       "      <td>43</td>\n",
       "      <td>29</td>\n",
       "      <td>14</td>\n",
       "    </tr>\n",
       "  </tbody>\n",
       "</table>\n",
       "</div>"
      ],
      "text/plain": [
       "    sn  20_p  40_p  60_p  80_p\n",
       "0    1   152   113    74    38\n",
       "1    2    46    35    23    11\n",
       "2    3    52    40    26    13\n",
       "3    4    34    26    17     8\n",
       "4    5    43    32    21    10\n",
       "5    6    49    38    25    12\n",
       "6    7    81    61    41    20\n",
       "7    8    37    28    19     9\n",
       "8    9   128    96    64    31\n",
       "9   10    59    45    30    15\n",
       "10  11    57    43    29    14"
      ]
     },
     "execution_count": 106,
     "metadata": {},
     "output_type": "execute_result"
    }
   ],
   "source": [
    "pred_df"
   ]
  },
  {
   "cell_type": "code",
   "execution_count": 77,
   "metadata": {
    "collapsed": true
   },
   "outputs": [],
   "source": [
    "pickle.dump(pred_df, open('prediction_df_203.p', 'wb'))"
   ]
  },
  {
   "cell_type": "markdown",
   "metadata": {},
   "source": [
    "Now we want to get the average time it took to drive each segment. Since we have the segment time duplicated over all rows with the same journey number and segment number, we need to only take this number once to not get a skewed weighting of the average. We can group by `journey_number` and `segment_number`, and take any aggregate function (min, max, mean) since the segment time is the same for each row where the journey number and segment number are the same."
   ]
  },
  {
   "cell_type": "code",
   "execution_count": 13,
   "metadata": {
    "collapsed": true
   },
   "outputs": [],
   "source": [
    "a = train.groupby(['journey_number', 'segment_number']).min().reset_index()"
   ]
  },
  {
   "cell_type": "code",
   "execution_count": 14,
   "metadata": {
    "collapsed": true
   },
   "outputs": [],
   "source": [
    "import pickle\n",
    "pickle.dump(a, open('203_segs.p', 'wb'))"
   ]
  },
  {
   "cell_type": "code",
   "execution_count": 15,
   "metadata": {},
   "outputs": [
    {
     "data": {
      "text/plain": [
       "66.0"
      ]
     },
     "execution_count": 15,
     "metadata": {},
     "output_type": "execute_result"
    }
   ],
   "source": [
    "a['segment_time'].median()"
   ]
  },
  {
   "cell_type": "code",
   "execution_count": 16,
   "metadata": {},
   "outputs": [
    {
     "data": {
      "text/plain": [
       "83.43421717171717"
      ]
     },
     "execution_count": 16,
     "metadata": {},
     "output_type": "execute_result"
    }
   ],
   "source": [
    "a['segment_time'].mean()"
   ]
  },
  {
   "cell_type": "code",
   "execution_count": 17,
   "metadata": {
    "scrolled": false
   },
   "outputs": [
    {
     "data": {
      "text/plain": [
       "{1: 188,\n",
       " 2: 56,\n",
       " 3: 63,\n",
       " 4: 43,\n",
       " 5: 52,\n",
       " 6: 61,\n",
       " 7: 100,\n",
       " 8: 46,\n",
       " 9: 157,\n",
       " 10: 73,\n",
       " 11: 69}"
      ]
     },
     "execution_count": 17,
     "metadata": {},
     "output_type": "execute_result"
    }
   ],
   "source": [
    "averages = dict(a.groupby('segment_number')['segment_time'].median())\n",
    "averages"
   ]
  },
  {
   "cell_type": "markdown",
   "metadata": {},
   "source": [
    "The dict above holds our average segment durations, which will be used to make predictions on the test set."
   ]
  },
  {
   "cell_type": "markdown",
   "metadata": {},
   "source": [
    "### Get the errors of the predictions on segment duration vs the actual segment durations in the test set"
   ]
  },
  {
   "cell_type": "markdown",
   "metadata": {},
   "source": [
    "Now we can go through all segments in the test data for each journey and subtract the average segment time from the actual segment time. We can then calculate how big the error was, expressed as a percentage of the actual segment time. "
   ]
  },
  {
   "cell_type": "code",
   "execution_count": 42,
   "metadata": {
    "collapsed": true
   },
   "outputs": [],
   "source": [
    "import math"
   ]
  },
  {
   "cell_type": "code",
   "execution_count": 64,
   "metadata": {
    "collapsed": true
   },
   "outputs": [],
   "source": [
    "def get_prediction_error(start_time, segment_name, segment_data):\n",
    "    # min() becomes the min timestamp of this slice, \n",
    "    # while start_time is the min timestamp on the whole segment \n",
    "    timedelta = segment_data['timestamp'].min() - start_time\n",
    "    # get how much time the bus has already spent in this slice of the segment\n",
    "    time_passed = timedelta.seconds\n",
    "    # subtract that from the total time the segment takes    \n",
    "    time_left = segment_data['segment_time'].iloc[0] - time_passed\n",
    "    # subtract the spend time from our prediction as well\n",
    "    time_pred = averages[segment_name] - time_passed\n",
    "    # get the error in seconds from our prediction vs the true travel time\n",
    "    error_s = time_left - time_pred\n",
    "    # get error as a percentage of the true travel time left\n",
    "    error_p = error_s / time_left * 100\n",
    "    # get absolute values of the errors\n",
    "    abs_error_s = abs(error_s)\n",
    "    abs_error_p = abs(error_p)\n",
    "    return error_s, error_p, abs_error_s, abs_error_p"
   ]
  },
  {
   "cell_type": "code",
   "execution_count": 131,
   "metadata": {},
   "outputs": [],
   "source": [
    "i = 0\n",
    "data = []\n",
    "for name, group in test.groupby(['journey_number', 'segment_number']):\n",
    "    seg_len = len(group.index)\n",
    "    indexes = [math.floor(seg_len * i/10) for i in range(2, 10, 2)]\n",
    "    # calculate our errors for each slice of the segment\n",
    "    for idx, pred in zip(indexes, pred_df.columns[1:]):\n",
    "        timedelta = group[idx:]['timestamp'].max() - group[idx:]['timestamp'].min()\n",
    "        seg_time = timedelta.seconds\n",
    "        error_s = seg_time - pred_df[pred_df.sn == name[1]][pred].iloc[0]\n",
    "        # get error as a percentage of the ground truth segment travel time\n",
    "        error_p = error_s / seg_time * 100\n",
    "        # get the absolute values of the errors in seconds and as a percentage\n",
    "        abs_error_s = abs(error_s)\n",
    "        abs_error_p = abs(error_p)\n",
    "        data.append([name[1], pred, error_s, error_p, abs_error_s, abs_error_p])"
   ]
  },
  {
   "cell_type": "code",
   "execution_count": 132,
   "metadata": {},
   "outputs": [],
   "source": [
    "error_df = pd.DataFrame(columns=['segment', 'slice', 'error_s', 'error_p', 'abs_error_s', 'abs_error_p'], data=data)"
   ]
  },
  {
   "cell_type": "code",
   "execution_count": 133,
   "metadata": {},
   "outputs": [
    {
     "data": {
      "text/html": [
       "<div>\n",
       "<style scoped>\n",
       "    .dataframe tbody tr th:only-of-type {\n",
       "        vertical-align: middle;\n",
       "    }\n",
       "\n",
       "    .dataframe tbody tr th {\n",
       "        vertical-align: top;\n",
       "    }\n",
       "\n",
       "    .dataframe thead th {\n",
       "        text-align: right;\n",
       "    }\n",
       "</style>\n",
       "<table border=\"1\" class=\"dataframe\">\n",
       "  <thead>\n",
       "    <tr style=\"text-align: right;\">\n",
       "      <th></th>\n",
       "      <th>segment</th>\n",
       "      <th>slice</th>\n",
       "      <th>error_s</th>\n",
       "      <th>error_p</th>\n",
       "      <th>abs_error_s</th>\n",
       "      <th>abs_error_p</th>\n",
       "    </tr>\n",
       "  </thead>\n",
       "  <tbody>\n",
       "    <tr>\n",
       "      <th>0</th>\n",
       "      <td>1</td>\n",
       "      <td>20_p</td>\n",
       "      <td>-57</td>\n",
       "      <td>-0.600000</td>\n",
       "      <td>57</td>\n",
       "      <td>0.600000</td>\n",
       "    </tr>\n",
       "    <tr>\n",
       "      <th>1</th>\n",
       "      <td>1</td>\n",
       "      <td>40_p</td>\n",
       "      <td>-43</td>\n",
       "      <td>-0.614286</td>\n",
       "      <td>43</td>\n",
       "      <td>0.614286</td>\n",
       "    </tr>\n",
       "    <tr>\n",
       "      <th>2</th>\n",
       "      <td>1</td>\n",
       "      <td>60_p</td>\n",
       "      <td>-26</td>\n",
       "      <td>-0.541667</td>\n",
       "      <td>26</td>\n",
       "      <td>0.541667</td>\n",
       "    </tr>\n",
       "    <tr>\n",
       "      <th>3</th>\n",
       "      <td>1</td>\n",
       "      <td>80_p</td>\n",
       "      <td>-15</td>\n",
       "      <td>-0.652174</td>\n",
       "      <td>15</td>\n",
       "      <td>0.652174</td>\n",
       "    </tr>\n",
       "    <tr>\n",
       "      <th>4</th>\n",
       "      <td>2</td>\n",
       "      <td>20_p</td>\n",
       "      <td>-3</td>\n",
       "      <td>-0.069767</td>\n",
       "      <td>3</td>\n",
       "      <td>0.069767</td>\n",
       "    </tr>\n",
       "    <tr>\n",
       "      <th>5</th>\n",
       "      <td>2</td>\n",
       "      <td>40_p</td>\n",
       "      <td>-2</td>\n",
       "      <td>-0.060606</td>\n",
       "      <td>2</td>\n",
       "      <td>0.060606</td>\n",
       "    </tr>\n",
       "    <tr>\n",
       "      <th>6</th>\n",
       "      <td>2</td>\n",
       "      <td>60_p</td>\n",
       "      <td>-1</td>\n",
       "      <td>-0.045455</td>\n",
       "      <td>1</td>\n",
       "      <td>0.045455</td>\n",
       "    </tr>\n",
       "    <tr>\n",
       "      <th>7</th>\n",
       "      <td>2</td>\n",
       "      <td>80_p</td>\n",
       "      <td>-1</td>\n",
       "      <td>-0.100000</td>\n",
       "      <td>1</td>\n",
       "      <td>0.100000</td>\n",
       "    </tr>\n",
       "    <tr>\n",
       "      <th>8</th>\n",
       "      <td>3</td>\n",
       "      <td>20_p</td>\n",
       "      <td>-4</td>\n",
       "      <td>-0.083333</td>\n",
       "      <td>4</td>\n",
       "      <td>0.083333</td>\n",
       "    </tr>\n",
       "    <tr>\n",
       "      <th>9</th>\n",
       "      <td>3</td>\n",
       "      <td>40_p</td>\n",
       "      <td>-3</td>\n",
       "      <td>-0.081081</td>\n",
       "      <td>3</td>\n",
       "      <td>0.081081</td>\n",
       "    </tr>\n",
       "    <tr>\n",
       "      <th>10</th>\n",
       "      <td>3</td>\n",
       "      <td>60_p</td>\n",
       "      <td>-2</td>\n",
       "      <td>-0.083333</td>\n",
       "      <td>2</td>\n",
       "      <td>0.083333</td>\n",
       "    </tr>\n",
       "    <tr>\n",
       "      <th>11</th>\n",
       "      <td>3</td>\n",
       "      <td>80_p</td>\n",
       "      <td>-2</td>\n",
       "      <td>-0.181818</td>\n",
       "      <td>2</td>\n",
       "      <td>0.181818</td>\n",
       "    </tr>\n",
       "    <tr>\n",
       "      <th>12</th>\n",
       "      <td>4</td>\n",
       "      <td>20_p</td>\n",
       "      <td>-16</td>\n",
       "      <td>-0.888889</td>\n",
       "      <td>16</td>\n",
       "      <td>0.888889</td>\n",
       "    </tr>\n",
       "    <tr>\n",
       "      <th>13</th>\n",
       "      <td>4</td>\n",
       "      <td>40_p</td>\n",
       "      <td>-13</td>\n",
       "      <td>-1.000000</td>\n",
       "      <td>13</td>\n",
       "      <td>1.000000</td>\n",
       "    </tr>\n",
       "    <tr>\n",
       "      <th>14</th>\n",
       "      <td>4</td>\n",
       "      <td>60_p</td>\n",
       "      <td>-9</td>\n",
       "      <td>-1.125000</td>\n",
       "      <td>9</td>\n",
       "      <td>1.125000</td>\n",
       "    </tr>\n",
       "    <tr>\n",
       "      <th>15</th>\n",
       "      <td>4</td>\n",
       "      <td>80_p</td>\n",
       "      <td>-5</td>\n",
       "      <td>-1.666667</td>\n",
       "      <td>5</td>\n",
       "      <td>1.666667</td>\n",
       "    </tr>\n",
       "    <tr>\n",
       "      <th>16</th>\n",
       "      <td>5</td>\n",
       "      <td>20_p</td>\n",
       "      <td>-4</td>\n",
       "      <td>-0.102564</td>\n",
       "      <td>4</td>\n",
       "      <td>0.102564</td>\n",
       "    </tr>\n",
       "    <tr>\n",
       "      <th>17</th>\n",
       "      <td>5</td>\n",
       "      <td>40_p</td>\n",
       "      <td>-3</td>\n",
       "      <td>-0.103448</td>\n",
       "      <td>3</td>\n",
       "      <td>0.103448</td>\n",
       "    </tr>\n",
       "    <tr>\n",
       "      <th>18</th>\n",
       "      <td>5</td>\n",
       "      <td>60_p</td>\n",
       "      <td>-2</td>\n",
       "      <td>-0.105263</td>\n",
       "      <td>2</td>\n",
       "      <td>0.105263</td>\n",
       "    </tr>\n",
       "    <tr>\n",
       "      <th>19</th>\n",
       "      <td>5</td>\n",
       "      <td>80_p</td>\n",
       "      <td>-1</td>\n",
       "      <td>-0.111111</td>\n",
       "      <td>1</td>\n",
       "      <td>0.111111</td>\n",
       "    </tr>\n",
       "    <tr>\n",
       "      <th>20</th>\n",
       "      <td>6</td>\n",
       "      <td>20_p</td>\n",
       "      <td>3</td>\n",
       "      <td>0.057692</td>\n",
       "      <td>3</td>\n",
       "      <td>0.057692</td>\n",
       "    </tr>\n",
       "    <tr>\n",
       "      <th>21</th>\n",
       "      <td>6</td>\n",
       "      <td>40_p</td>\n",
       "      <td>2</td>\n",
       "      <td>0.050000</td>\n",
       "      <td>2</td>\n",
       "      <td>0.050000</td>\n",
       "    </tr>\n",
       "    <tr>\n",
       "      <th>22</th>\n",
       "      <td>6</td>\n",
       "      <td>60_p</td>\n",
       "      <td>2</td>\n",
       "      <td>0.074074</td>\n",
       "      <td>2</td>\n",
       "      <td>0.074074</td>\n",
       "    </tr>\n",
       "    <tr>\n",
       "      <th>23</th>\n",
       "      <td>6</td>\n",
       "      <td>80_p</td>\n",
       "      <td>1</td>\n",
       "      <td>0.076923</td>\n",
       "      <td>1</td>\n",
       "      <td>0.076923</td>\n",
       "    </tr>\n",
       "    <tr>\n",
       "      <th>24</th>\n",
       "      <td>7</td>\n",
       "      <td>20_p</td>\n",
       "      <td>-12</td>\n",
       "      <td>-0.173913</td>\n",
       "      <td>12</td>\n",
       "      <td>0.173913</td>\n",
       "    </tr>\n",
       "    <tr>\n",
       "      <th>25</th>\n",
       "      <td>7</td>\n",
       "      <td>40_p</td>\n",
       "      <td>-8</td>\n",
       "      <td>-0.150943</td>\n",
       "      <td>8</td>\n",
       "      <td>0.150943</td>\n",
       "    </tr>\n",
       "    <tr>\n",
       "      <th>26</th>\n",
       "      <td>7</td>\n",
       "      <td>60_p</td>\n",
       "      <td>-6</td>\n",
       "      <td>-0.171429</td>\n",
       "      <td>6</td>\n",
       "      <td>0.171429</td>\n",
       "    </tr>\n",
       "    <tr>\n",
       "      <th>27</th>\n",
       "      <td>7</td>\n",
       "      <td>80_p</td>\n",
       "      <td>-3</td>\n",
       "      <td>-0.176471</td>\n",
       "      <td>3</td>\n",
       "      <td>0.176471</td>\n",
       "    </tr>\n",
       "    <tr>\n",
       "      <th>28</th>\n",
       "      <td>8</td>\n",
       "      <td>20_p</td>\n",
       "      <td>-14</td>\n",
       "      <td>-0.608696</td>\n",
       "      <td>14</td>\n",
       "      <td>0.608696</td>\n",
       "    </tr>\n",
       "    <tr>\n",
       "      <th>29</th>\n",
       "      <td>8</td>\n",
       "      <td>40_p</td>\n",
       "      <td>-11</td>\n",
       "      <td>-0.647059</td>\n",
       "      <td>11</td>\n",
       "      <td>0.647059</td>\n",
       "    </tr>\n",
       "    <tr>\n",
       "      <th>...</th>\n",
       "      <td>...</td>\n",
       "      <td>...</td>\n",
       "      <td>...</td>\n",
       "      <td>...</td>\n",
       "      <td>...</td>\n",
       "      <td>...</td>\n",
       "    </tr>\n",
       "    <tr>\n",
       "      <th>31650</th>\n",
       "      <td>4</td>\n",
       "      <td>60_p</td>\n",
       "      <td>18</td>\n",
       "      <td>0.514286</td>\n",
       "      <td>18</td>\n",
       "      <td>0.514286</td>\n",
       "    </tr>\n",
       "    <tr>\n",
       "      <th>31651</th>\n",
       "      <td>4</td>\n",
       "      <td>80_p</td>\n",
       "      <td>10</td>\n",
       "      <td>0.555556</td>\n",
       "      <td>10</td>\n",
       "      <td>0.555556</td>\n",
       "    </tr>\n",
       "    <tr>\n",
       "      <th>31652</th>\n",
       "      <td>5</td>\n",
       "      <td>20_p</td>\n",
       "      <td>31</td>\n",
       "      <td>0.418919</td>\n",
       "      <td>31</td>\n",
       "      <td>0.418919</td>\n",
       "    </tr>\n",
       "    <tr>\n",
       "      <th>31653</th>\n",
       "      <td>5</td>\n",
       "      <td>40_p</td>\n",
       "      <td>30</td>\n",
       "      <td>0.483871</td>\n",
       "      <td>30</td>\n",
       "      <td>0.483871</td>\n",
       "    </tr>\n",
       "    <tr>\n",
       "      <th>31654</th>\n",
       "      <td>5</td>\n",
       "      <td>60_p</td>\n",
       "      <td>27</td>\n",
       "      <td>0.562500</td>\n",
       "      <td>27</td>\n",
       "      <td>0.562500</td>\n",
       "    </tr>\n",
       "    <tr>\n",
       "      <th>31655</th>\n",
       "      <td>5</td>\n",
       "      <td>80_p</td>\n",
       "      <td>3</td>\n",
       "      <td>0.230769</td>\n",
       "      <td>3</td>\n",
       "      <td>0.230769</td>\n",
       "    </tr>\n",
       "    <tr>\n",
       "      <th>31656</th>\n",
       "      <td>6</td>\n",
       "      <td>20_p</td>\n",
       "      <td>12</td>\n",
       "      <td>0.196721</td>\n",
       "      <td>12</td>\n",
       "      <td>0.196721</td>\n",
       "    </tr>\n",
       "    <tr>\n",
       "      <th>31657</th>\n",
       "      <td>6</td>\n",
       "      <td>40_p</td>\n",
       "      <td>9</td>\n",
       "      <td>0.191489</td>\n",
       "      <td>9</td>\n",
       "      <td>0.191489</td>\n",
       "    </tr>\n",
       "    <tr>\n",
       "      <th>31658</th>\n",
       "      <td>6</td>\n",
       "      <td>60_p</td>\n",
       "      <td>6</td>\n",
       "      <td>0.193548</td>\n",
       "      <td>6</td>\n",
       "      <td>0.193548</td>\n",
       "    </tr>\n",
       "    <tr>\n",
       "      <th>31659</th>\n",
       "      <td>6</td>\n",
       "      <td>80_p</td>\n",
       "      <td>3</td>\n",
       "      <td>0.200000</td>\n",
       "      <td>3</td>\n",
       "      <td>0.200000</td>\n",
       "    </tr>\n",
       "    <tr>\n",
       "      <th>31660</th>\n",
       "      <td>7</td>\n",
       "      <td>20_p</td>\n",
       "      <td>-3</td>\n",
       "      <td>-0.038462</td>\n",
       "      <td>3</td>\n",
       "      <td>0.038462</td>\n",
       "    </tr>\n",
       "    <tr>\n",
       "      <th>31661</th>\n",
       "      <td>7</td>\n",
       "      <td>40_p</td>\n",
       "      <td>-1</td>\n",
       "      <td>-0.016667</td>\n",
       "      <td>1</td>\n",
       "      <td>0.016667</td>\n",
       "    </tr>\n",
       "    <tr>\n",
       "      <th>31662</th>\n",
       "      <td>7</td>\n",
       "      <td>60_p</td>\n",
       "      <td>-1</td>\n",
       "      <td>-0.025000</td>\n",
       "      <td>1</td>\n",
       "      <td>0.025000</td>\n",
       "    </tr>\n",
       "    <tr>\n",
       "      <th>31663</th>\n",
       "      <td>7</td>\n",
       "      <td>80_p</td>\n",
       "      <td>0</td>\n",
       "      <td>0.000000</td>\n",
       "      <td>0</td>\n",
       "      <td>0.000000</td>\n",
       "    </tr>\n",
       "    <tr>\n",
       "      <th>31664</th>\n",
       "      <td>8</td>\n",
       "      <td>20_p</td>\n",
       "      <td>-12</td>\n",
       "      <td>-0.480000</td>\n",
       "      <td>12</td>\n",
       "      <td>0.480000</td>\n",
       "    </tr>\n",
       "    <tr>\n",
       "      <th>31665</th>\n",
       "      <td>8</td>\n",
       "      <td>40_p</td>\n",
       "      <td>-9</td>\n",
       "      <td>-0.473684</td>\n",
       "      <td>9</td>\n",
       "      <td>0.473684</td>\n",
       "    </tr>\n",
       "    <tr>\n",
       "      <th>31666</th>\n",
       "      <td>8</td>\n",
       "      <td>60_p</td>\n",
       "      <td>-7</td>\n",
       "      <td>-0.583333</td>\n",
       "      <td>7</td>\n",
       "      <td>0.583333</td>\n",
       "    </tr>\n",
       "    <tr>\n",
       "      <th>31667</th>\n",
       "      <td>8</td>\n",
       "      <td>80_p</td>\n",
       "      <td>-3</td>\n",
       "      <td>-0.500000</td>\n",
       "      <td>3</td>\n",
       "      <td>0.500000</td>\n",
       "    </tr>\n",
       "    <tr>\n",
       "      <th>31668</th>\n",
       "      <td>9</td>\n",
       "      <td>20_p</td>\n",
       "      <td>-5</td>\n",
       "      <td>-0.040650</td>\n",
       "      <td>5</td>\n",
       "      <td>0.040650</td>\n",
       "    </tr>\n",
       "    <tr>\n",
       "      <th>31669</th>\n",
       "      <td>9</td>\n",
       "      <td>40_p</td>\n",
       "      <td>-3</td>\n",
       "      <td>-0.032258</td>\n",
       "      <td>3</td>\n",
       "      <td>0.032258</td>\n",
       "    </tr>\n",
       "    <tr>\n",
       "      <th>31670</th>\n",
       "      <td>9</td>\n",
       "      <td>60_p</td>\n",
       "      <td>-3</td>\n",
       "      <td>-0.049180</td>\n",
       "      <td>3</td>\n",
       "      <td>0.049180</td>\n",
       "    </tr>\n",
       "    <tr>\n",
       "      <th>31671</th>\n",
       "      <td>9</td>\n",
       "      <td>80_p</td>\n",
       "      <td>0</td>\n",
       "      <td>0.000000</td>\n",
       "      <td>0</td>\n",
       "      <td>0.000000</td>\n",
       "    </tr>\n",
       "    <tr>\n",
       "      <th>31672</th>\n",
       "      <td>10</td>\n",
       "      <td>20_p</td>\n",
       "      <td>2</td>\n",
       "      <td>0.032787</td>\n",
       "      <td>2</td>\n",
       "      <td>0.032787</td>\n",
       "    </tr>\n",
       "    <tr>\n",
       "      <th>31673</th>\n",
       "      <td>10</td>\n",
       "      <td>40_p</td>\n",
       "      <td>2</td>\n",
       "      <td>0.042553</td>\n",
       "      <td>2</td>\n",
       "      <td>0.042553</td>\n",
       "    </tr>\n",
       "    <tr>\n",
       "      <th>31674</th>\n",
       "      <td>10</td>\n",
       "      <td>60_p</td>\n",
       "      <td>1</td>\n",
       "      <td>0.032258</td>\n",
       "      <td>1</td>\n",
       "      <td>0.032258</td>\n",
       "    </tr>\n",
       "    <tr>\n",
       "      <th>31675</th>\n",
       "      <td>10</td>\n",
       "      <td>80_p</td>\n",
       "      <td>0</td>\n",
       "      <td>0.000000</td>\n",
       "      <td>0</td>\n",
       "      <td>0.000000</td>\n",
       "    </tr>\n",
       "    <tr>\n",
       "      <th>31676</th>\n",
       "      <td>11</td>\n",
       "      <td>20_p</td>\n",
       "      <td>10</td>\n",
       "      <td>0.149254</td>\n",
       "      <td>10</td>\n",
       "      <td>0.149254</td>\n",
       "    </tr>\n",
       "    <tr>\n",
       "      <th>31677</th>\n",
       "      <td>11</td>\n",
       "      <td>40_p</td>\n",
       "      <td>8</td>\n",
       "      <td>0.156863</td>\n",
       "      <td>8</td>\n",
       "      <td>0.156863</td>\n",
       "    </tr>\n",
       "    <tr>\n",
       "      <th>31678</th>\n",
       "      <td>11</td>\n",
       "      <td>60_p</td>\n",
       "      <td>5</td>\n",
       "      <td>0.147059</td>\n",
       "      <td>5</td>\n",
       "      <td>0.147059</td>\n",
       "    </tr>\n",
       "    <tr>\n",
       "      <th>31679</th>\n",
       "      <td>11</td>\n",
       "      <td>80_p</td>\n",
       "      <td>1</td>\n",
       "      <td>0.066667</td>\n",
       "      <td>1</td>\n",
       "      <td>0.066667</td>\n",
       "    </tr>\n",
       "  </tbody>\n",
       "</table>\n",
       "<p>31680 rows × 6 columns</p>\n",
       "</div>"
      ],
      "text/plain": [
       "       segment slice  error_s   error_p  abs_error_s  abs_error_p\n",
       "0            1  20_p      -57 -0.600000           57     0.600000\n",
       "1            1  40_p      -43 -0.614286           43     0.614286\n",
       "2            1  60_p      -26 -0.541667           26     0.541667\n",
       "3            1  80_p      -15 -0.652174           15     0.652174\n",
       "4            2  20_p       -3 -0.069767            3     0.069767\n",
       "5            2  40_p       -2 -0.060606            2     0.060606\n",
       "6            2  60_p       -1 -0.045455            1     0.045455\n",
       "7            2  80_p       -1 -0.100000            1     0.100000\n",
       "8            3  20_p       -4 -0.083333            4     0.083333\n",
       "9            3  40_p       -3 -0.081081            3     0.081081\n",
       "10           3  60_p       -2 -0.083333            2     0.083333\n",
       "11           3  80_p       -2 -0.181818            2     0.181818\n",
       "12           4  20_p      -16 -0.888889           16     0.888889\n",
       "13           4  40_p      -13 -1.000000           13     1.000000\n",
       "14           4  60_p       -9 -1.125000            9     1.125000\n",
       "15           4  80_p       -5 -1.666667            5     1.666667\n",
       "16           5  20_p       -4 -0.102564            4     0.102564\n",
       "17           5  40_p       -3 -0.103448            3     0.103448\n",
       "18           5  60_p       -2 -0.105263            2     0.105263\n",
       "19           5  80_p       -1 -0.111111            1     0.111111\n",
       "20           6  20_p        3  0.057692            3     0.057692\n",
       "21           6  40_p        2  0.050000            2     0.050000\n",
       "22           6  60_p        2  0.074074            2     0.074074\n",
       "23           6  80_p        1  0.076923            1     0.076923\n",
       "24           7  20_p      -12 -0.173913           12     0.173913\n",
       "25           7  40_p       -8 -0.150943            8     0.150943\n",
       "26           7  60_p       -6 -0.171429            6     0.171429\n",
       "27           7  80_p       -3 -0.176471            3     0.176471\n",
       "28           8  20_p      -14 -0.608696           14     0.608696\n",
       "29           8  40_p      -11 -0.647059           11     0.647059\n",
       "...        ...   ...      ...       ...          ...          ...\n",
       "31650        4  60_p       18  0.514286           18     0.514286\n",
       "31651        4  80_p       10  0.555556           10     0.555556\n",
       "31652        5  20_p       31  0.418919           31     0.418919\n",
       "31653        5  40_p       30  0.483871           30     0.483871\n",
       "31654        5  60_p       27  0.562500           27     0.562500\n",
       "31655        5  80_p        3  0.230769            3     0.230769\n",
       "31656        6  20_p       12  0.196721           12     0.196721\n",
       "31657        6  40_p        9  0.191489            9     0.191489\n",
       "31658        6  60_p        6  0.193548            6     0.193548\n",
       "31659        6  80_p        3  0.200000            3     0.200000\n",
       "31660        7  20_p       -3 -0.038462            3     0.038462\n",
       "31661        7  40_p       -1 -0.016667            1     0.016667\n",
       "31662        7  60_p       -1 -0.025000            1     0.025000\n",
       "31663        7  80_p        0  0.000000            0     0.000000\n",
       "31664        8  20_p      -12 -0.480000           12     0.480000\n",
       "31665        8  40_p       -9 -0.473684            9     0.473684\n",
       "31666        8  60_p       -7 -0.583333            7     0.583333\n",
       "31667        8  80_p       -3 -0.500000            3     0.500000\n",
       "31668        9  20_p       -5 -0.040650            5     0.040650\n",
       "31669        9  40_p       -3 -0.032258            3     0.032258\n",
       "31670        9  60_p       -3 -0.049180            3     0.049180\n",
       "31671        9  80_p        0  0.000000            0     0.000000\n",
       "31672       10  20_p        2  0.032787            2     0.032787\n",
       "31673       10  40_p        2  0.042553            2     0.042553\n",
       "31674       10  60_p        1  0.032258            1     0.032258\n",
       "31675       10  80_p        0  0.000000            0     0.000000\n",
       "31676       11  20_p       10  0.149254           10     0.149254\n",
       "31677       11  40_p        8  0.156863            8     0.156863\n",
       "31678       11  60_p        5  0.147059            5     0.147059\n",
       "31679       11  80_p        1  0.066667            1     0.066667\n",
       "\n",
       "[31680 rows x 6 columns]"
      ]
     },
     "execution_count": 133,
     "metadata": {},
     "output_type": "execute_result"
    }
   ],
   "source": [
    "error_df"
   ]
  },
  {
   "cell_type": "code",
   "execution_count": 18,
   "metadata": {
    "collapsed": true,
    "scrolled": true
   },
   "outputs": [],
   "source": [
    "data = []\n",
    "for name, group in test.groupby(['journey_number', 'segment_number']):\n",
    "    # get error in seconds\n",
    "    error_s = group['segment_time'].iloc[0] - averages[name[1]]\n",
    "    # get error as a percentage of the ground truth segment travel time\n",
    "    error_p = error_s / group['segment_time'].iloc[0] * 100\n",
    "    # get the absolute values of the errors in seconds and as a percentage\n",
    "    abs_error_s = abs(error_s)\n",
    "    abs_error_p = abs(error_p)\n",
    "    data.append([name[0], name[1], error_s, abs_error_s, error_p, abs_error_p])"
   ]
  },
  {
   "cell_type": "code",
   "execution_count": 19,
   "metadata": {
    "collapsed": true
   },
   "outputs": [],
   "source": [
    "time_diffs = pd.DataFrame(columns=['journey_number', 'segment_number', 'error_s', 'abs_error_s', 'error_p', 'abs_error_p'], data=data)"
   ]
  },
  {
   "cell_type": "code",
   "execution_count": 20,
   "metadata": {},
   "outputs": [
    {
     "data": {
      "text/html": [
       "<div>\n",
       "<style scoped>\n",
       "    .dataframe tbody tr th:only-of-type {\n",
       "        vertical-align: middle;\n",
       "    }\n",
       "\n",
       "    .dataframe tbody tr th {\n",
       "        vertical-align: top;\n",
       "    }\n",
       "\n",
       "    .dataframe thead th {\n",
       "        text-align: right;\n",
       "    }\n",
       "</style>\n",
       "<table border=\"1\" class=\"dataframe\">\n",
       "  <thead>\n",
       "    <tr style=\"text-align: right;\">\n",
       "      <th></th>\n",
       "      <th>journey_number</th>\n",
       "      <th>segment_number</th>\n",
       "      <th>error_s</th>\n",
       "      <th>abs_error_s</th>\n",
       "      <th>error_p</th>\n",
       "      <th>abs_error_p</th>\n",
       "    </tr>\n",
       "  </thead>\n",
       "  <tbody>\n",
       "    <tr>\n",
       "      <th>0</th>\n",
       "      <td>8</td>\n",
       "      <td>1</td>\n",
       "      <td>-71</td>\n",
       "      <td>71</td>\n",
       "      <td>-60.683761</td>\n",
       "      <td>60.683761</td>\n",
       "    </tr>\n",
       "    <tr>\n",
       "      <th>1</th>\n",
       "      <td>8</td>\n",
       "      <td>2</td>\n",
       "      <td>-3</td>\n",
       "      <td>3</td>\n",
       "      <td>-5.660377</td>\n",
       "      <td>5.660377</td>\n",
       "    </tr>\n",
       "    <tr>\n",
       "      <th>2</th>\n",
       "      <td>8</td>\n",
       "      <td>3</td>\n",
       "      <td>-3</td>\n",
       "      <td>3</td>\n",
       "      <td>-5.000000</td>\n",
       "      <td>5.000000</td>\n",
       "    </tr>\n",
       "    <tr>\n",
       "      <th>3</th>\n",
       "      <td>8</td>\n",
       "      <td>4</td>\n",
       "      <td>-22</td>\n",
       "      <td>22</td>\n",
       "      <td>-104.761905</td>\n",
       "      <td>104.761905</td>\n",
       "    </tr>\n",
       "    <tr>\n",
       "      <th>4</th>\n",
       "      <td>8</td>\n",
       "      <td>5</td>\n",
       "      <td>-5</td>\n",
       "      <td>5</td>\n",
       "      <td>-10.638298</td>\n",
       "      <td>10.638298</td>\n",
       "    </tr>\n",
       "  </tbody>\n",
       "</table>\n",
       "</div>"
      ],
      "text/plain": [
       "   journey_number  segment_number  error_s  abs_error_s     error_p  \\\n",
       "0               8               1      -71           71  -60.683761   \n",
       "1               8               2       -3            3   -5.660377   \n",
       "2               8               3       -3            3   -5.000000   \n",
       "3               8               4      -22           22 -104.761905   \n",
       "4               8               5       -5            5  -10.638298   \n",
       "\n",
       "   abs_error_p  \n",
       "0    60.683761  \n",
       "1     5.660377  \n",
       "2     5.000000  \n",
       "3   104.761905  \n",
       "4    10.638298  "
      ]
     },
     "execution_count": 20,
     "metadata": {},
     "output_type": "execute_result"
    }
   ],
   "source": [
    "time_diffs.head(5)"
   ]
  },
  {
   "cell_type": "markdown",
   "metadata": {},
   "source": [
    "This is our combined *mean absolute percentage error* (MAPE) for all the segments in the test set:"
   ]
  },
  {
   "cell_type": "code",
   "execution_count": 21,
   "metadata": {},
   "outputs": [
    {
     "name": "stdout",
     "output_type": "stream",
     "text": [
      "combined MAPE for all segments: 23.267%\n"
     ]
    }
   ],
   "source": [
    "print('combined MAPE for all segments: {:.3f}%'.format(time_diffs.abs_error_p.mean()))"
   ]
  },
  {
   "cell_type": "markdown",
   "metadata": {},
   "source": [
    "We can also look at the MAPE in each of the segments:"
   ]
  },
  {
   "cell_type": "code",
   "execution_count": 22,
   "metadata": {},
   "outputs": [
    {
     "name": "stdout",
     "output_type": "stream",
     "text": [
      "Segment 1: \t15.054%\n",
      "Segment 2: \t25.224%\n",
      "Segment 3: \t18.894%\n",
      "Segment 4: \t43.722%\n",
      "Segment 5: \t16.703%\n",
      "Segment 6: \t20.929%\n",
      "Segment 7: \t13.935%\n",
      "Segment 8: \t38.917%\n",
      "Segment 9: \t11.107%\n",
      "Segment 10: \t24.336%\n",
      "Segment 11: \t27.117%\n"
     ]
    }
   ],
   "source": [
    "seg_mapes = time_diffs.groupby('segment_number')['abs_error_p'].mean()\n",
    "for i, mape in enumerate(seg_mapes):\n",
    "    print('Segment {}: \\t{:.3f}%'.format(i+1, mape))"
   ]
  },
  {
   "cell_type": "markdown",
   "metadata": {},
   "source": [
    "We can also look at the absolute error in seconds:"
   ]
  },
  {
   "cell_type": "code",
   "execution_count": 23,
   "metadata": {
    "scrolled": true
   },
   "outputs": [
    {
     "name": "stdout",
     "output_type": "stream",
     "text": [
      "combined error in seconds for all segments: 14.720s\n"
     ]
    }
   ],
   "source": [
    "print('combined error in seconds for all segments: {:.3f}s'.format(time_diffs.abs_error_s.mean()))"
   ]
  },
  {
   "cell_type": "markdown",
   "metadata": {},
   "source": [
    "And we can also look at the error in seconds for each segment:"
   ]
  },
  {
   "cell_type": "code",
   "execution_count": 24,
   "metadata": {},
   "outputs": [
    {
     "name": "stdout",
     "output_type": "stream",
     "text": [
      "Segment 1: \t24.8s\n",
      "Segment 2: \t11.5s\n",
      "Segment 3: \t10.4s\n",
      "Segment 4: \t13.2s\n",
      "Segment 5: \t10.6s\n",
      "Segment 6: \t11.2s\n",
      "Segment 7: \t14.9s\n",
      "Segment 8: \t12.8s\n",
      "Segment 9: \t18.8s\n",
      "Segment 10: \t16.8s\n",
      "Segment 11: \t16.7s\n"
     ]
    }
   ],
   "source": [
    "seg_err_s = time_diffs.groupby('segment_number')['abs_error_s'].mean()\n",
    "for i, err in enumerate(seg_err_s):\n",
    "    print('Segment {}: \\t{:.1f}s'.format(i+1, err))"
   ]
  },
  {
   "cell_type": "markdown",
   "metadata": {},
   "source": [
    "## Plotting the histograms of our errors"
   ]
  },
  {
   "cell_type": "markdown",
   "metadata": {},
   "source": [
    "#### Percentage errors"
   ]
  },
  {
   "cell_type": "code",
   "execution_count": 25,
   "metadata": {
    "scrolled": false
   },
   "outputs": [
    {
     "name": "stderr",
     "output_type": "stream",
     "text": [
      "/home/max/anaconda3/lib/python3.6/site-packages/scipy/stats/stats.py:1713: FutureWarning: Using a non-tuple sequence for multidimensional indexing is deprecated; use `arr[tuple(seq)]` instead of `arr[seq]`. In the future this will be interpreted as an array index, `arr[np.array(seq)]`, which will result either in an error or a different result.\n",
      "  return np.add.reduce(sorted[indexer] * weights, axis=axis) / sumval\n",
      "/home/max/anaconda3/lib/python3.6/site-packages/seaborn/distributions.py:198: RuntimeWarning: Mean of empty slice.\n",
      "  line, = ax.plot(a.mean(), 0)\n",
      "/home/max/anaconda3/lib/python3.6/site-packages/numpy/core/_methods.py:85: RuntimeWarning: invalid value encountered in double_scalars\n",
      "  ret = ret.dtype.type(ret / rcount)\n"
     ]
    },
    {
     "data": {
      "image/png": "[encoded data removed]",
      "text/plain": [
       "<Figure size 864x864 with 11 Axes>"
      ]
     },
     "metadata": {},
     "output_type": "display_data"
    }
   ],
   "source": [
    "fig, axes = plt.subplots(4, 3, figsize=(12,12))\n",
    "for i, ax in enumerate(axes.flatten()):\n",
    "    _=sns.distplot(time_diffs[time_diffs['segment_number'] == i+1].error_p, kde=False, ax=ax)\n",
    "    ax.set_title(f'Segment: {i+1}')\n",
    "    ax.set_xlabel('error (%)')\n",
    "    ax.set_xlim(-150, 150)\n",
    "fig.delaxes(ax)\n",
    "plt.tight_layout()\n",
    "plt.show()"
   ]
  },
  {
   "cell_type": "markdown",
   "metadata": {},
   "source": [
    "#### Errors in seconds"
   ]
  },
  {
   "cell_type": "code",
   "execution_count": 26,
   "metadata": {
    "scrolled": false
   },
   "outputs": [
    {
     "name": "stderr",
     "output_type": "stream",
     "text": [
      "/home/max/anaconda3/lib/python3.6/site-packages/scipy/stats/stats.py:1713: FutureWarning: Using a non-tuple sequence for multidimensional indexing is deprecated; use `arr[tuple(seq)]` instead of `arr[seq]`. In the future this will be interpreted as an array index, `arr[np.array(seq)]`, which will result either in an error or a different result.\n",
      "  return np.add.reduce(sorted[indexer] * weights, axis=axis) / sumval\n",
      "/home/max/anaconda3/lib/python3.6/site-packages/seaborn/distributions.py:198: RuntimeWarning: Mean of empty slice.\n",
      "  line, = ax.plot(a.mean(), 0)\n",
      "/home/max/anaconda3/lib/python3.6/site-packages/numpy/core/_methods.py:85: RuntimeWarning: invalid value encountered in double_scalars\n",
      "  ret = ret.dtype.type(ret / rcount)\n"
     ]
    },
    {
     "data": {
      "image/png": "[encoded data removed]",
      "text/plain": [
       "<Figure size 864x864 with 11 Axes>"
      ]
     },
     "metadata": {},
     "output_type": "display_data"
    }
   ],
   "source": [
    "fig, axes = plt.subplots(4, 3, figsize=(12,12))\n",
    "for i, ax in enumerate(axes.flatten()):\n",
    "    _=sns.distplot(time_diffs[time_diffs['segment_number'] == i+1].error_s, kde=False, ax=ax)\n",
    "    ax.set_title(f'Segment: {i+1}')\n",
    "    ax.set_xlabel('error (s)')\n",
    "fig.delaxes(ax)\n",
    "plt.tight_layout()\n",
    "plt.show()"
   ]
  }
 ],
 "metadata": {
  "kernelspec": {
   "display_name": "Python 3",
   "language": "python",
   "name": "python3"
  },
  "language_info": {
   "codemirror_mode": {
    "name": "ipython",
    "version": 3
   },
   "file_extension": ".py",
   "mimetype": "text/x-python",
   "name": "python",
   "nbconvert_exporter": "python",
   "pygments_lexer": "ipython3",
   "version": "3.6.3"
  }
 },
 "nbformat": 4,
 "nbformat_minor": 2
}
