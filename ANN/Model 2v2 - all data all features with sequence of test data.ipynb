{
 "cells": [
  {
   "cell_type": "markdown",
   "metadata": {},
   "source": [
    "Note, still in the process of experimenting with parameters"
   ]
  },
  {
   "cell_type": "markdown",
   "metadata": {},
   "source": [
    "Import packages"
   ]
  },
  {
   "cell_type": "code",
   "execution_count": 5,
   "metadata": {
    "scrolled": true
   },
   "outputs": [],
   "source": [
    "import tensorflow as tf\n",
    "from tensorflow import keras\n",
    "import numpy as np\n",
    "import matplotlib.pyplot as plt\n",
    "import pandas as pds\n",
    "import datetime as dt"
   ]
  },
  {
   "cell_type": "code",
   "execution_count": 69,
   "metadata": {},
   "outputs": [],
   "source": [
    "data = pds.read_pickle('added_t.pkl')"
   ]
  },
  {
   "cell_type": "code",
   "execution_count": 7,
   "metadata": {},
   "outputs": [
    {
     "data": {
      "text/html": [
       "<div>\n",
       "<style scoped>\n",
       "    .dataframe tbody tr th:only-of-type {\n",
       "        vertical-align: middle;\n",
       "    }\n",
       "\n",
       "    .dataframe tbody tr th {\n",
       "        vertical-align: top;\n",
       "    }\n",
       "\n",
       "    .dataframe thead th {\n",
       "        text-align: right;\n",
       "    }\n",
       "</style>\n",
       "<table border=\"1\" class=\"dataframe\">\n",
       "  <thead>\n",
       "    <tr style=\"text-align: right;\">\n",
       "      <th></th>\n",
       "      <th>Unnamed: 0</th>\n",
       "      <th>Unnamed: 0.1</th>\n",
       "      <th>timestamp</th>\n",
       "      <th>event</th>\n",
       "      <th>vehicle_id</th>\n",
       "      <th>line</th>\n",
       "      <th>longitude</th>\n",
       "      <th>latitude</th>\n",
       "      <th>direction</th>\n",
       "      <th>speed</th>\n",
       "      <th>station</th>\n",
       "      <th>journey_number</th>\n",
       "      <th>segment_number</th>\n",
       "      <th>label</th>\n",
       "      <th>t</th>\n",
       "    </tr>\n",
       "  </thead>\n",
       "  <tbody>\n",
       "    <tr>\n",
       "      <th>0</th>\n",
       "      <td>1</td>\n",
       "      <td>1</td>\n",
       "      <td>2018-02-16 04:48:40+01:00</td>\n",
       "      <td>ObservedPositionEvent</td>\n",
       "      <td>5432</td>\n",
       "      <td>0</td>\n",
       "      <td>58.414238</td>\n",
       "      <td>15.571015</td>\n",
       "      <td>147.300003</td>\n",
       "      <td>0.0</td>\n",
       "      <td>NaN</td>\n",
       "      <td>1</td>\n",
       "      <td>1</td>\n",
       "      <td>72</td>\n",
       "      <td>71.0</td>\n",
       "    </tr>\n",
       "    <tr>\n",
       "      <th>1</th>\n",
       "      <td>3</td>\n",
       "      <td>3</td>\n",
       "      <td>2018-02-16 04:48:41+01:00</td>\n",
       "      <td>ObservedPositionEvent</td>\n",
       "      <td>5432</td>\n",
       "      <td>0</td>\n",
       "      <td>58.414246</td>\n",
       "      <td>15.571012</td>\n",
       "      <td>147.300003</td>\n",
       "      <td>0.0</td>\n",
       "      <td>NaN</td>\n",
       "      <td>1</td>\n",
       "      <td>1</td>\n",
       "      <td>72</td>\n",
       "      <td>70.0</td>\n",
       "    </tr>\n",
       "    <tr>\n",
       "      <th>2</th>\n",
       "      <td>4</td>\n",
       "      <td>4</td>\n",
       "      <td>2018-02-16 04:48:42+01:00</td>\n",
       "      <td>ObservedPositionEvent</td>\n",
       "      <td>5432</td>\n",
       "      <td>0</td>\n",
       "      <td>58.414249</td>\n",
       "      <td>15.571008</td>\n",
       "      <td>147.300003</td>\n",
       "      <td>0.0</td>\n",
       "      <td>NaN</td>\n",
       "      <td>1</td>\n",
       "      <td>1</td>\n",
       "      <td>72</td>\n",
       "      <td>69.0</td>\n",
       "    </tr>\n",
       "    <tr>\n",
       "      <th>3</th>\n",
       "      <td>5</td>\n",
       "      <td>5</td>\n",
       "      <td>2018-02-16 04:48:43+01:00</td>\n",
       "      <td>ObservedPositionEvent</td>\n",
       "      <td>5432</td>\n",
       "      <td>0</td>\n",
       "      <td>58.414257</td>\n",
       "      <td>15.571004</td>\n",
       "      <td>147.300003</td>\n",
       "      <td>0.0</td>\n",
       "      <td>NaN</td>\n",
       "      <td>1</td>\n",
       "      <td>1</td>\n",
       "      <td>72</td>\n",
       "      <td>68.0</td>\n",
       "    </tr>\n",
       "    <tr>\n",
       "      <th>4</th>\n",
       "      <td>6</td>\n",
       "      <td>6</td>\n",
       "      <td>2018-02-16 04:48:44+01:00</td>\n",
       "      <td>ObservedPositionEvent</td>\n",
       "      <td>5432</td>\n",
       "      <td>0</td>\n",
       "      <td>58.414257</td>\n",
       "      <td>15.571006</td>\n",
       "      <td>147.300003</td>\n",
       "      <td>0.0</td>\n",
       "      <td>NaN</td>\n",
       "      <td>1</td>\n",
       "      <td>1</td>\n",
       "      <td>72</td>\n",
       "      <td>67.0</td>\n",
       "    </tr>\n",
       "  </tbody>\n",
       "</table>\n",
       "</div>"
      ],
      "text/plain": [
       "   Unnamed: 0  Unnamed: 0.1                 timestamp                  event  \\\n",
       "0           1             1 2018-02-16 04:48:40+01:00  ObservedPositionEvent   \n",
       "1           3             3 2018-02-16 04:48:41+01:00  ObservedPositionEvent   \n",
       "2           4             4 2018-02-16 04:48:42+01:00  ObservedPositionEvent   \n",
       "3           5             5 2018-02-16 04:48:43+01:00  ObservedPositionEvent   \n",
       "4           6             6 2018-02-16 04:48:44+01:00  ObservedPositionEvent   \n",
       "\n",
       "   vehicle_id  line  longitude   latitude   direction  speed station  \\\n",
       "0        5432     0  58.414238  15.571015  147.300003    0.0     NaN   \n",
       "1        5432     0  58.414246  15.571012  147.300003    0.0     NaN   \n",
       "2        5432     0  58.414249  15.571008  147.300003    0.0     NaN   \n",
       "3        5432     0  58.414257  15.571004  147.300003    0.0     NaN   \n",
       "4        5432     0  58.414257  15.571006  147.300003    0.0     NaN   \n",
       "\n",
       "   journey_number  segment_number  label     t  \n",
       "0               1               1     72  71.0  \n",
       "1               1               1     72  70.0  \n",
       "2               1               1     72  69.0  \n",
       "3               1               1     72  68.0  \n",
       "4               1               1     72  67.0  "
      ]
     },
     "execution_count": 7,
     "metadata": {},
     "output_type": "execute_result"
    }
   ],
   "source": [
    "data.head()"
   ]
  },
  {
   "cell_type": "markdown",
   "metadata": {},
   "source": [
    "Import data"
   ]
  },
  {
   "cell_type": "code",
   "execution_count": 9,
   "metadata": {},
   "outputs": [],
   "source": [
    "df = pds.read_csv('../../bus203_all_labelled.csv')\n",
    "\n",
    "# Ignore all other stuff than the ObservedPositionEvent\n",
    "df = df[df['event'] == \"ObservedPositionEvent\"]"
   ]
  },
  {
   "cell_type": "code",
   "execution_count": 10,
   "metadata": {},
   "outputs": [
    {
     "data": {
      "text/html": [
       "<div>\n",
       "<style scoped>\n",
       "    .dataframe tbody tr th:only-of-type {\n",
       "        vertical-align: middle;\n",
       "    }\n",
       "\n",
       "    .dataframe tbody tr th {\n",
       "        vertical-align: top;\n",
       "    }\n",
       "\n",
       "    .dataframe thead th {\n",
       "        text-align: right;\n",
       "    }\n",
       "</style>\n",
       "<table border=\"1\" class=\"dataframe\">\n",
       "  <thead>\n",
       "    <tr style=\"text-align: right;\">\n",
       "      <th></th>\n",
       "      <th>Unnamed: 0</th>\n",
       "      <th>Unnamed: 0.1</th>\n",
       "      <th>timestamp</th>\n",
       "      <th>event</th>\n",
       "      <th>vehicle_id</th>\n",
       "      <th>line</th>\n",
       "      <th>longitude</th>\n",
       "      <th>latitude</th>\n",
       "      <th>direction</th>\n",
       "      <th>speed</th>\n",
       "      <th>station</th>\n",
       "      <th>journey_number</th>\n",
       "      <th>segment_number</th>\n",
       "      <th>time_since_journey_start</th>\n",
       "      <th>label</th>\n",
       "    </tr>\n",
       "  </thead>\n",
       "  <tbody>\n",
       "    <tr>\n",
       "      <th>1</th>\n",
       "      <td>1</td>\n",
       "      <td>1</td>\n",
       "      <td>2018-02-16 04:48:40+01:00</td>\n",
       "      <td>ObservedPositionEvent</td>\n",
       "      <td>5432</td>\n",
       "      <td>0</td>\n",
       "      <td>58.414238</td>\n",
       "      <td>15.571015</td>\n",
       "      <td>147.300003</td>\n",
       "      <td>0.0</td>\n",
       "      <td>NaN</td>\n",
       "      <td>1</td>\n",
       "      <td>1</td>\n",
       "      <td>0</td>\n",
       "      <td>72</td>\n",
       "    </tr>\n",
       "    <tr>\n",
       "      <th>3</th>\n",
       "      <td>3</td>\n",
       "      <td>3</td>\n",
       "      <td>2018-02-16 04:48:41+01:00</td>\n",
       "      <td>ObservedPositionEvent</td>\n",
       "      <td>5432</td>\n",
       "      <td>0</td>\n",
       "      <td>58.414246</td>\n",
       "      <td>15.571012</td>\n",
       "      <td>147.300003</td>\n",
       "      <td>0.0</td>\n",
       "      <td>NaN</td>\n",
       "      <td>1</td>\n",
       "      <td>1</td>\n",
       "      <td>0</td>\n",
       "      <td>72</td>\n",
       "    </tr>\n",
       "    <tr>\n",
       "      <th>4</th>\n",
       "      <td>4</td>\n",
       "      <td>4</td>\n",
       "      <td>2018-02-16 04:48:42+01:00</td>\n",
       "      <td>ObservedPositionEvent</td>\n",
       "      <td>5432</td>\n",
       "      <td>0</td>\n",
       "      <td>58.414249</td>\n",
       "      <td>15.571008</td>\n",
       "      <td>147.300003</td>\n",
       "      <td>0.0</td>\n",
       "      <td>NaN</td>\n",
       "      <td>1</td>\n",
       "      <td>1</td>\n",
       "      <td>0</td>\n",
       "      <td>72</td>\n",
       "    </tr>\n",
       "    <tr>\n",
       "      <th>5</th>\n",
       "      <td>5</td>\n",
       "      <td>5</td>\n",
       "      <td>2018-02-16 04:48:43+01:00</td>\n",
       "      <td>ObservedPositionEvent</td>\n",
       "      <td>5432</td>\n",
       "      <td>0</td>\n",
       "      <td>58.414257</td>\n",
       "      <td>15.571004</td>\n",
       "      <td>147.300003</td>\n",
       "      <td>0.0</td>\n",
       "      <td>NaN</td>\n",
       "      <td>1</td>\n",
       "      <td>1</td>\n",
       "      <td>0</td>\n",
       "      <td>72</td>\n",
       "    </tr>\n",
       "    <tr>\n",
       "      <th>6</th>\n",
       "      <td>6</td>\n",
       "      <td>6</td>\n",
       "      <td>2018-02-16 04:48:44+01:00</td>\n",
       "      <td>ObservedPositionEvent</td>\n",
       "      <td>5432</td>\n",
       "      <td>0</td>\n",
       "      <td>58.414257</td>\n",
       "      <td>15.571006</td>\n",
       "      <td>147.300003</td>\n",
       "      <td>0.0</td>\n",
       "      <td>NaN</td>\n",
       "      <td>1</td>\n",
       "      <td>1</td>\n",
       "      <td>0</td>\n",
       "      <td>72</td>\n",
       "    </tr>\n",
       "  </tbody>\n",
       "</table>\n",
       "</div>"
      ],
      "text/plain": [
       "   Unnamed: 0  Unnamed: 0.1                  timestamp                  event  \\\n",
       "1           1             1  2018-02-16 04:48:40+01:00  ObservedPositionEvent   \n",
       "3           3             3  2018-02-16 04:48:41+01:00  ObservedPositionEvent   \n",
       "4           4             4  2018-02-16 04:48:42+01:00  ObservedPositionEvent   \n",
       "5           5             5  2018-02-16 04:48:43+01:00  ObservedPositionEvent   \n",
       "6           6             6  2018-02-16 04:48:44+01:00  ObservedPositionEvent   \n",
       "\n",
       "   vehicle_id  line  longitude   latitude   direction  speed station  \\\n",
       "1        5432     0  58.414238  15.571015  147.300003    0.0     NaN   \n",
       "3        5432     0  58.414246  15.571012  147.300003    0.0     NaN   \n",
       "4        5432     0  58.414249  15.571008  147.300003    0.0     NaN   \n",
       "5        5432     0  58.414257  15.571004  147.300003    0.0     NaN   \n",
       "6        5432     0  58.414257  15.571006  147.300003    0.0     NaN   \n",
       "\n",
       "   journey_number  segment_number  time_since_journey_start  label  \n",
       "1               1               1                         0     72  \n",
       "3               1               1                         0     72  \n",
       "4               1               1                         0     72  \n",
       "5               1               1                         0     72  \n",
       "6               1               1                         0     72  "
      ]
     },
     "execution_count": 10,
     "metadata": {},
     "output_type": "execute_result"
    }
   ],
   "source": [
    "df.head()"
   ]
  },
  {
   "cell_type": "markdown",
   "metadata": {},
   "source": [
    "One hot encode segments, normalize columns and create final dataset"
   ]
  },
  {
   "cell_type": "code",
   "execution_count": 70,
   "metadata": {},
   "outputs": [],
   "source": [
    "df = data"
   ]
  },
  {
   "cell_type": "code",
   "execution_count": 71,
   "metadata": {},
   "outputs": [],
   "source": [
    "# Make segments categorical\n",
    "dataset = pds.get_dummies(df['segment_number'])\n",
    "\n",
    "# Combine segments, timestamps and time from journey start\n",
    "\n",
    "# Cyclical timestamps \n",
    "dataset['hr_sin'] = np.sin(df.timestamp.dt.hour*(2.*np.pi/24))\n",
    "dataset['hr_cos'] = np.cos(df.timestamp.dt.hour*(2.*np.pi/24))\n",
    "\n",
    "# Convert to radians befor trigonometric functions\n",
    "dataset['dir_sin'] = np.sin(df.direction*(np.pi/180))\n",
    "dataset['dir_cos'] = np.cos(df.direction*(np.pi/180))\n",
    "\n",
    "dataset['speed'] = (df['speed']-df['speed'].min())/(df['speed'].max()-df['speed'].min())\n",
    "#dataset['time_since_journey_start'] = (df['time_since_journey_start']-df['time_since_journey_start'].min())/(df['time_since_journey_start'].max()-df['time_since_journey_start'].min())\n",
    "\n",
    "dataset['latitude'] = (df['latitude']-df['latitude'].min())/(df['latitude'].max()-df['latitude'].min())\n",
    "dataset['longitude'] = (df['longitude']-df['longitude'].min())/(df['longitude'].max()-df['longitude'].min())\n",
    "\n",
    "# Include journey number to select entire journeys\n",
    "dataset['journey_number'] = df['journey_number']"
   ]
  },
  {
   "cell_type": "markdown",
   "metadata": {},
   "source": [
    "Select an arbitrary number of test journeys"
   ]
  },
  {
   "cell_type": "code",
   "execution_count": 72,
   "metadata": {},
   "outputs": [],
   "source": [
    "num_test_segments = 100 \n",
    "msk = np.random.randint(1, dataset.journey_number.unique()[-1], num_test_segments)\n",
    "mask = dataset['journey_number'].isin(msk)"
   ]
  },
  {
   "cell_type": "markdown",
   "metadata": {},
   "source": [
    "Divide training and test data, 80% training data"
   ]
  },
  {
   "cell_type": "code",
   "execution_count": 73,
   "metadata": {},
   "outputs": [],
   "source": [
    "train_input = dataset[~mask]\n",
    "test_input = dataset[mask]\n",
    "\n",
    "train_labels = df['t'][~mask]\n",
    "test_labels = df['t'][mask]"
   ]
  },
  {
   "cell_type": "code",
   "execution_count": 74,
   "metadata": {},
   "outputs": [],
   "source": [
    "# Journey numbers were needed up until this point\n",
    "train_data = train_input.drop(columns=['journey_number'])\n",
    "test_data = test_input.drop(columns=['journey_number'])"
   ]
  },
  {
   "cell_type": "markdown",
   "metadata": {},
   "source": [
    "Build model"
   ]
  },
  {
   "cell_type": "code",
   "execution_count": 75,
   "metadata": {},
   "outputs": [
    {
     "name": "stdout",
     "output_type": "stream",
     "text": [
      "_________________________________________________________________\n",
      "Layer (type)                 Output Shape              Param #   \n",
      "=================================================================\n",
      "dense_20 (Dense)             (None, 18)                342       \n",
      "_________________________________________________________________\n",
      "dense_21 (Dense)             (None, 18)                342       \n",
      "_________________________________________________________________\n",
      "dense_22 (Dense)             (None, 18)                342       \n",
      "_________________________________________________________________\n",
      "dense_23 (Dense)             (None, 18)                342       \n",
      "_________________________________________________________________\n",
      "dense_24 (Dense)             (None, 3)                 57        \n",
      "_________________________________________________________________\n",
      "dense_25 (Dense)             (None, 1)                 4         \n",
      "=================================================================\n",
      "Total params: 1,429\n",
      "Trainable params: 1,429\n",
      "Non-trainable params: 0\n",
      "_________________________________________________________________\n",
      "None\n"
     ]
    }
   ],
   "source": [
    "model = keras.Sequential([\n",
    "\tkeras.layers.Dense(len(train_data.columns), activation=tf.nn.sigmoid, input_shape=(train_data.shape[1],)),\n",
    "    keras.layers.Dense(len(train_data.columns)),\n",
    "    keras.layers.Dense(len(train_data.columns)),\n",
    "    keras.layers.Dense(len(train_data.columns)),\n",
    "    keras.layers.Dense(3),\n",
    "\tkeras.layers.Dense(1)\n",
    "\t])\n",
    "\n",
    "#optimizer = tf.train.RMSPropOptimizer(0.001)\n",
    "optimizer = keras.optimizers.Adadelta()\n",
    "model.compile(loss='mae', optimizer = optimizer, metrics=['mae'])\n",
    "print(model.summary())"
   ]
  },
  {
   "cell_type": "markdown",
   "metadata": {},
   "source": [
    "Fit model"
   ]
  },
  {
   "cell_type": "code",
   "execution_count": 76,
   "metadata": {},
   "outputs": [
    {
     "name": "stdout",
     "output_type": "stream",
     "text": [
      "Train on 2900630 samples, validate on 322293 samples\n",
      "Epoch 1/5\n",
      "2900630/2900630 [==============================] - 180s 62us/step - loss: 13.4424 - mean_absolute_error: 13.4424 - val_loss: 12.7131 - val_mean_absolute_error: 12.7131\n",
      "Epoch 2/5\n",
      "2900630/2900630 [==============================] - 180s 62us/step - loss: 12.0930 - mean_absolute_error: 12.0930 - val_loss: 11.9775 - val_mean_absolute_error: 11.9775\n",
      "Epoch 3/5\n",
      "2900630/2900630 [==============================] - 161s 56us/step - loss: 11.8691 - mean_absolute_error: 11.8691 - val_loss: 11.8966 - val_mean_absolute_error: 11.8966\n",
      "Epoch 4/5\n",
      "2900630/2900630 [==============================] - 161s 55us/step - loss: 11.7619 - mean_absolute_error: 11.7619 - val_loss: 12.0856 - val_mean_absolute_error: 12.0856\n",
      "Epoch 5/5\n",
      "2900630/2900630 [==============================] - 166s 57us/step - loss: 11.6964 - mean_absolute_error: 11.6964 - val_loss: 11.9777 - val_mean_absolute_error: 11.9777\n"
     ]
    },
    {
     "data": {
      "text/plain": [
       "<tensorflow.python.keras.callbacks.History at 0x7f3cbde03da0>"
      ]
     },
     "execution_count": 76,
     "metadata": {},
     "output_type": "execute_result"
    }
   ],
   "source": [
    "EPOCHS=5\n",
    "# Initial_epoch can be set to resume training after preciously run epochs\n",
    "model.fit(train_data.values, train_labels.values, epochs = EPOCHS, validation_split=0.1, initial_epoch=0)"
   ]
  },
  {
   "cell_type": "markdown",
   "metadata": {},
   "source": [
    "Evaluate model"
   ]
  },
  {
   "cell_type": "code",
   "execution_count": 77,
   "metadata": {},
   "outputs": [
    {
     "name": "stdout",
     "output_type": "stream",
     "text": [
      "89077/89077 [==============================] - 2s 18us/step\n"
     ]
    },
    {
     "data": {
      "text/plain": [
       "[11.278602218223638, 11.278602218223638]"
      ]
     },
     "execution_count": 77,
     "metadata": {},
     "output_type": "execute_result"
    }
   ],
   "source": [
    "model.evaluate(test_data.values, test_labels.values)"
   ]
  },
  {
   "cell_type": "markdown",
   "metadata": {},
   "source": [
    "Roughly the same as the second \"base\" model."
   ]
  },
  {
   "cell_type": "markdown",
   "metadata": {},
   "source": [
    "An arbitrary number from `msk` is chosen, i.e. a journey, to a comparison with original data."
   ]
  },
  {
   "cell_type": "code",
   "execution_count": 78,
   "metadata": {},
   "outputs": [
    {
     "name": "stdout",
     "output_type": "stream",
     "text": [
      "830/830 [==============================] - 0s 585us/step\n"
     ]
    }
   ],
   "source": [
    "selected_journey = np.random.choice(msk)\n",
    "to_test = test_input[test_input['journey_number'] == selected_journey]\n",
    "model_to_predict = to_test.drop(columns=['journey_number'])\n",
    "predictions = model.predict(model_to_predict.values, batch_size=1, verbose=1)"
   ]
  },
  {
   "cell_type": "code",
   "execution_count": 79,
   "metadata": {},
   "outputs": [],
   "source": [
    "journey_ = test_input.index[test_input['journey_number'] == selected_journey]\n",
    "j_labels = test_labels.loc[journey_]\n",
    "j_labels = j_labels.reset_index().drop(columns=['index'])"
   ]
  },
  {
   "cell_type": "markdown",
   "metadata": {},
   "source": [
    "Green line is the predicted time, red is the actual time. Note that the predicted time is the time it takes to drive an entire segment.\n"
   ]
  },
  {
   "cell_type": "code",
   "execution_count": 80,
   "metadata": {},
   "outputs": [
    {
     "data": {
      "image/png": "[encoded data removed]",
      "text/plain": [
       "<Figure size 432x288 with 1 Axes>"
      ]
     },
     "metadata": {
      "needs_background": "light"
     },
     "output_type": "display_data"
    }
   ],
   "source": [
    "plt.plot(predictions, color='green', linewidth=2, markersize=12)\n",
    "plt.plot(j_labels, color='red', linewidth=2, markersize=12)\n",
    "plt.show()"
   ]
  },
  {
   "cell_type": "markdown",
   "metadata": {},
   "source": [
    "Note that the plot above contains all 11 segments. The prediction is behaving a little bit different now as it seem to give different predictions for different places within each segment."
   ]
  },
  {
   "cell_type": "markdown",
   "metadata": {},
   "source": [
    "Below is a final scatterplot from the entire test data set."
   ]
  },
  {
   "cell_type": "code",
   "execution_count": 81,
   "metadata": {
    "scrolled": true
   },
   "outputs": [
    {
     "data": {
      "image/png": "[encoded data removed]",
      "text/plain": [
       "<Figure size 432x288 with 1 Axes>"
      ]
     },
     "metadata": {
      "needs_background": "light"
     },
     "output_type": "display_data"
    }
   ],
   "source": [
    "test_predictions = model.predict(test_data.values)\n",
    "plt.scatter(test_labels.values, test_predictions)\n",
    "plt.show()"
   ]
  }
 ],
 "metadata": {
  "kernelspec": {
   "display_name": "Py venv",
   "language": "python",
   "name": "envname"
  },
  "language_info": {
   "codemirror_mode": {
    "name": "ipython",
    "version": 3
   },
   "file_extension": ".py",
   "mimetype": "text/x-python",
   "name": "python",
   "nbconvert_exporter": "python",
   "pygments_lexer": "ipython3",
   "version": "3.6.6"
  }
 },
 "nbformat": 4,
 "nbformat_minor": 2
}
