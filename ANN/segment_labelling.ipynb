{
 "cells": [
  {
   "cell_type": "markdown",
   "metadata": {},
   "source": [
    "Import packages"
   ]
  },
  {
   "cell_type": "code",
   "execution_count": 1,
   "metadata": {
    "scrolled": true
   },
   "outputs": [],
   "source": [
    "import pandas as pds\n",
    "import datetime as dt"
   ]
  },
  {
   "cell_type": "markdown",
   "metadata": {},
   "source": [
    "Import data"
   ]
  },
  {
   "cell_type": "code",
   "execution_count": 2,
   "metadata": {},
   "outputs": [],
   "source": [
    "all_data = pds.read_csv('../../bus203_all.csv')\n",
    "df = all_data"
   ]
  },
  {
   "cell_type": "markdown",
   "metadata": {},
   "source": [
    "Extract labels"
   ]
  },
  {
   "cell_type": "code",
   "execution_count": 3,
   "metadata": {},
   "outputs": [
    {
     "name": "stderr",
     "output_type": "stream",
     "text": [
      "/home/elias/anaconda3/lib/python3.6/site-packages/ipykernel_launcher.py:1: SettingWithCopyWarning: \n",
      "A value is trying to be set on a copy of a slice from a DataFrame.\n",
      "Try using .loc[row_indexer,col_indexer] = value instead\n",
      "\n",
      "See the caveats in the documentation: http://pandas.pydata.org/pandas-docs/stable/indexing.html#indexing-view-versus-copy\n",
      "  \"\"\"Entry point for launching an IPython kernel.\n"
     ]
    }
   ],
   "source": [
    "df['label'] = -1\n",
    "time_start = df.iloc[0]['timestamp'].split(\"T\")[-1].split(\".\")[0].split(':')\n",
    "time_start = dt.datetime(2018, 1,1,int(time_start[0]),int(time_start[1]), int(time_start[2]))\n",
    "segment = df.iloc[0]['segment_number']\n",
    "start_index = 0\n",
    "\n",
    "for index, row in df.iterrows():\n",
    "    if df.loc[index, 'segment_number'] != segment or index == len(df.index)-1:\n",
    "        time_end = df.iloc[index-1]['timestamp'].split(\"T\")[-1].split(\".\")[0].split(':')\n",
    "        time_end = dt.datetime(2018, 1,1,int(time_end[0]),int(time_end[1]), int(time_end[2]))\n",
    "        # Total time for segment\n",
    "        timediff = (time_end-time_start).seconds\n",
    "        \n",
    "        # Update labels for the observations in the segment\n",
    "        for i in range(start_index, index):\n",
    "            df.at[i, 'label'] = timediff\n",
    "            \n",
    "        # Don't miss the last observation\n",
    "        if index == len(df.index)-1:\n",
    "            df.at[index, 'label'] = timediff\n",
    "        \n",
    "        # Update initial values for the next segment\n",
    "        time_start = df.iloc[index]['timestamp'].split(\"T\")[-1].split(\".\")[0].split(':')\n",
    "        time_start = dt.datetime(2018, 1,1,int(time_start[0]),int(time_start[1]), int(time_start[2]))\n",
    "        segment = df.at[index, 'segment_number']\n",
    "        start_index = index\n",
    "        \n",
    "df.to_csv(\"bus203_all_labelled.csv\")"
   ]
  }
 ],
 "metadata": {
  "kernelspec": {
   "display_name": "Python 3",
   "language": "python",
   "name": "python3"
  },
  "language_info": {
   "codemirror_mode": {
    "name": "ipython",
    "version": 3
   },
   "file_extension": ".py",
   "mimetype": "text/x-python",
   "name": "python",
   "nbconvert_exporter": "python",
   "pygments_lexer": "ipython3",
   "version": "3.6.5"
  }
 },
 "nbformat": 4,
 "nbformat_minor": 2
}
