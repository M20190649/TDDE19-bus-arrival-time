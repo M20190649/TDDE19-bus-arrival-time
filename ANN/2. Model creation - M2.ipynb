{
 "cells": [
  {
   "cell_type": "markdown",
   "metadata": {},
   "source": [
    "# Model creation and data split-up\n",
    "\n",
    "This notebook will:\n",
    "* Split data ito test and train data\n",
    "* Train the model\n",
    "* Save the model"
   ]
  },
  {
   "cell_type": "markdown",
   "metadata": {},
   "source": [
    "Import packages"
   ]
  },
  {
   "cell_type": "code",
   "execution_count": 1,
   "metadata": {
    "scrolled": true
   },
   "outputs": [],
   "source": [
    "import tensorflow as tf\n",
    "from tensorflow import keras\n",
    "import numpy as np\n",
    "import pandas as pds"
   ]
  },
  {
   "cell_type": "markdown",
   "metadata": {},
   "source": [
    "Import data"
   ]
  },
  {
   "cell_type": "code",
   "execution_count": 2,
   "metadata": {},
   "outputs": [
    {
     "data": {
      "text/html": [
       "<div>\n",
       "<style scoped>\n",
       "    .dataframe tbody tr th:only-of-type {\n",
       "        vertical-align: middle;\n",
       "    }\n",
       "\n",
       "    .dataframe tbody tr th {\n",
       "        vertical-align: top;\n",
       "    }\n",
       "\n",
       "    .dataframe thead th {\n",
       "        text-align: right;\n",
       "    }\n",
       "</style>\n",
       "<table border=\"1\" class=\"dataframe\">\n",
       "  <thead>\n",
       "    <tr style=\"text-align: right;\">\n",
       "      <th></th>\n",
       "      <th>timestamp</th>\n",
       "      <th>lon</th>\n",
       "      <th>lat</th>\n",
       "      <th>direction</th>\n",
       "      <th>speed</th>\n",
       "      <th>journey</th>\n",
       "      <th>seg</th>\n",
       "      <th>time_left</th>\n",
       "      <th>segment_time</th>\n",
       "      <th>tsjs</th>\n",
       "    </tr>\n",
       "  </thead>\n",
       "  <tbody>\n",
       "    <tr>\n",
       "      <th>0</th>\n",
       "      <td>2018-02-16 04:48:40+01:00</td>\n",
       "      <td>58.414238</td>\n",
       "      <td>15.571015</td>\n",
       "      <td>147.300003</td>\n",
       "      <td>0.0</td>\n",
       "      <td>1</td>\n",
       "      <td>1</td>\n",
       "      <td>71.0</td>\n",
       "      <td>71.0</td>\n",
       "      <td>0.0</td>\n",
       "    </tr>\n",
       "    <tr>\n",
       "      <th>1</th>\n",
       "      <td>2018-02-16 04:48:41+01:00</td>\n",
       "      <td>58.414246</td>\n",
       "      <td>15.571012</td>\n",
       "      <td>147.300003</td>\n",
       "      <td>0.0</td>\n",
       "      <td>1</td>\n",
       "      <td>1</td>\n",
       "      <td>70.0</td>\n",
       "      <td>71.0</td>\n",
       "      <td>0.0</td>\n",
       "    </tr>\n",
       "    <tr>\n",
       "      <th>2</th>\n",
       "      <td>2018-02-16 04:48:42+01:00</td>\n",
       "      <td>58.414249</td>\n",
       "      <td>15.571008</td>\n",
       "      <td>147.300003</td>\n",
       "      <td>0.0</td>\n",
       "      <td>1</td>\n",
       "      <td>1</td>\n",
       "      <td>69.0</td>\n",
       "      <td>71.0</td>\n",
       "      <td>0.0</td>\n",
       "    </tr>\n",
       "    <tr>\n",
       "      <th>3</th>\n",
       "      <td>2018-02-16 04:48:43+01:00</td>\n",
       "      <td>58.414257</td>\n",
       "      <td>15.571004</td>\n",
       "      <td>147.300003</td>\n",
       "      <td>0.0</td>\n",
       "      <td>1</td>\n",
       "      <td>1</td>\n",
       "      <td>68.0</td>\n",
       "      <td>71.0</td>\n",
       "      <td>0.0</td>\n",
       "    </tr>\n",
       "    <tr>\n",
       "      <th>4</th>\n",
       "      <td>2018-02-16 04:48:44+01:00</td>\n",
       "      <td>58.414257</td>\n",
       "      <td>15.571006</td>\n",
       "      <td>147.300003</td>\n",
       "      <td>0.0</td>\n",
       "      <td>1</td>\n",
       "      <td>1</td>\n",
       "      <td>67.0</td>\n",
       "      <td>71.0</td>\n",
       "      <td>0.0</td>\n",
       "    </tr>\n",
       "  </tbody>\n",
       "</table>\n",
       "</div>"
      ],
      "text/plain": [
       "                  timestamp        lon        lat   direction  speed  journey  \\\n",
       "0 2018-02-16 04:48:40+01:00  58.414238  15.571015  147.300003    0.0        1   \n",
       "1 2018-02-16 04:48:41+01:00  58.414246  15.571012  147.300003    0.0        1   \n",
       "2 2018-02-16 04:48:42+01:00  58.414249  15.571008  147.300003    0.0        1   \n",
       "3 2018-02-16 04:48:43+01:00  58.414257  15.571004  147.300003    0.0        1   \n",
       "4 2018-02-16 04:48:44+01:00  58.414257  15.571006  147.300003    0.0        1   \n",
       "\n",
       "   seg  time_left  segment_time  tsjs  \n",
       "0    1       71.0          71.0   0.0  \n",
       "1    1       70.0          71.0   0.0  \n",
       "2    1       69.0          71.0   0.0  \n",
       "3    1       68.0          71.0   0.0  \n",
       "4    1       67.0          71.0   0.0  "
      ]
     },
     "execution_count": 2,
     "metadata": {},
     "output_type": "execute_result"
    }
   ],
   "source": [
    "df = pds.read_pickle('ANN_dataset.pkl')\n",
    "df.head()"
   ]
  },
  {
   "cell_type": "markdown",
   "metadata": {},
   "source": [
    "Note that `time_left` is the label in this model "
   ]
  },
  {
   "cell_type": "code",
   "execution_count": 3,
   "metadata": {},
   "outputs": [],
   "source": [
    "label_string = 'time_left'"
   ]
  },
  {
   "cell_type": "markdown",
   "metadata": {},
   "source": [
    "One hot encode segments, normalize columns and create final dataset"
   ]
  },
  {
   "cell_type": "code",
   "execution_count": 4,
   "metadata": {},
   "outputs": [
    {
     "data": {
      "text/html": [
       "<div>\n",
       "<style scoped>\n",
       "    .dataframe tbody tr th:only-of-type {\n",
       "        vertical-align: middle;\n",
       "    }\n",
       "\n",
       "    .dataframe tbody tr th {\n",
       "        vertical-align: top;\n",
       "    }\n",
       "\n",
       "    .dataframe thead th {\n",
       "        text-align: right;\n",
       "    }\n",
       "</style>\n",
       "<table border=\"1\" class=\"dataframe\">\n",
       "  <thead>\n",
       "    <tr style=\"text-align: right;\">\n",
       "      <th></th>\n",
       "      <th>1</th>\n",
       "      <th>2</th>\n",
       "      <th>3</th>\n",
       "      <th>4</th>\n",
       "      <th>5</th>\n",
       "      <th>6</th>\n",
       "      <th>7</th>\n",
       "      <th>8</th>\n",
       "      <th>9</th>\n",
       "      <th>10</th>\n",
       "      <th>11</th>\n",
       "      <th>hr_sin</th>\n",
       "      <th>hr_cos</th>\n",
       "      <th>dir_sin</th>\n",
       "      <th>dir_cos</th>\n",
       "      <th>speed</th>\n",
       "      <th>tsjs</th>\n",
       "      <th>lat</th>\n",
       "      <th>lon</th>\n",
       "      <th>journey</th>\n",
       "    </tr>\n",
       "  </thead>\n",
       "  <tbody>\n",
       "    <tr>\n",
       "      <th>0</th>\n",
       "      <td>1</td>\n",
       "      <td>0</td>\n",
       "      <td>0</td>\n",
       "      <td>0</td>\n",
       "      <td>0</td>\n",
       "      <td>0</td>\n",
       "      <td>0</td>\n",
       "      <td>0</td>\n",
       "      <td>0</td>\n",
       "      <td>0</td>\n",
       "      <td>0</td>\n",
       "      <td>0.866025</td>\n",
       "      <td>0.5</td>\n",
       "      <td>0.54024</td>\n",
       "      <td>-0.841511</td>\n",
       "      <td>0.0</td>\n",
       "      <td>0.0</td>\n",
       "      <td>0.326317</td>\n",
       "      <td>0.924521</td>\n",
       "      <td>1</td>\n",
       "    </tr>\n",
       "    <tr>\n",
       "      <th>1</th>\n",
       "      <td>1</td>\n",
       "      <td>0</td>\n",
       "      <td>0</td>\n",
       "      <td>0</td>\n",
       "      <td>0</td>\n",
       "      <td>0</td>\n",
       "      <td>0</td>\n",
       "      <td>0</td>\n",
       "      <td>0</td>\n",
       "      <td>0</td>\n",
       "      <td>0</td>\n",
       "      <td>0.866025</td>\n",
       "      <td>0.5</td>\n",
       "      <td>0.54024</td>\n",
       "      <td>-0.841511</td>\n",
       "      <td>0.0</td>\n",
       "      <td>0.0</td>\n",
       "      <td>0.326237</td>\n",
       "      <td>0.925287</td>\n",
       "      <td>1</td>\n",
       "    </tr>\n",
       "    <tr>\n",
       "      <th>2</th>\n",
       "      <td>1</td>\n",
       "      <td>0</td>\n",
       "      <td>0</td>\n",
       "      <td>0</td>\n",
       "      <td>0</td>\n",
       "      <td>0</td>\n",
       "      <td>0</td>\n",
       "      <td>0</td>\n",
       "      <td>0</td>\n",
       "      <td>0</td>\n",
       "      <td>0</td>\n",
       "      <td>0.866025</td>\n",
       "      <td>0.5</td>\n",
       "      <td>0.54024</td>\n",
       "      <td>-0.841511</td>\n",
       "      <td>0.0</td>\n",
       "      <td>0.0</td>\n",
       "      <td>0.326156</td>\n",
       "      <td>0.925670</td>\n",
       "      <td>1</td>\n",
       "    </tr>\n",
       "    <tr>\n",
       "      <th>3</th>\n",
       "      <td>1</td>\n",
       "      <td>0</td>\n",
       "      <td>0</td>\n",
       "      <td>0</td>\n",
       "      <td>0</td>\n",
       "      <td>0</td>\n",
       "      <td>0</td>\n",
       "      <td>0</td>\n",
       "      <td>0</td>\n",
       "      <td>0</td>\n",
       "      <td>0</td>\n",
       "      <td>0.866025</td>\n",
       "      <td>0.5</td>\n",
       "      <td>0.54024</td>\n",
       "      <td>-0.841511</td>\n",
       "      <td>0.0</td>\n",
       "      <td>0.0</td>\n",
       "      <td>0.326076</td>\n",
       "      <td>0.926437</td>\n",
       "      <td>1</td>\n",
       "    </tr>\n",
       "    <tr>\n",
       "      <th>4</th>\n",
       "      <td>1</td>\n",
       "      <td>0</td>\n",
       "      <td>0</td>\n",
       "      <td>0</td>\n",
       "      <td>0</td>\n",
       "      <td>0</td>\n",
       "      <td>0</td>\n",
       "      <td>0</td>\n",
       "      <td>0</td>\n",
       "      <td>0</td>\n",
       "      <td>0</td>\n",
       "      <td>0.866025</td>\n",
       "      <td>0.5</td>\n",
       "      <td>0.54024</td>\n",
       "      <td>-0.841511</td>\n",
       "      <td>0.0</td>\n",
       "      <td>0.0</td>\n",
       "      <td>0.326116</td>\n",
       "      <td>0.926437</td>\n",
       "      <td>1</td>\n",
       "    </tr>\n",
       "  </tbody>\n",
       "</table>\n",
       "</div>"
      ],
      "text/plain": [
       "   1  2  3  4  5  6  7  8  9  10  11    hr_sin  hr_cos  dir_sin   dir_cos  \\\n",
       "0  1  0  0  0  0  0  0  0  0   0   0  0.866025     0.5  0.54024 -0.841511   \n",
       "1  1  0  0  0  0  0  0  0  0   0   0  0.866025     0.5  0.54024 -0.841511   \n",
       "2  1  0  0  0  0  0  0  0  0   0   0  0.866025     0.5  0.54024 -0.841511   \n",
       "3  1  0  0  0  0  0  0  0  0   0   0  0.866025     0.5  0.54024 -0.841511   \n",
       "4  1  0  0  0  0  0  0  0  0   0   0  0.866025     0.5  0.54024 -0.841511   \n",
       "\n",
       "   speed  tsjs       lat       lon  journey  \n",
       "0    0.0   0.0  0.326317  0.924521        1  \n",
       "1    0.0   0.0  0.326237  0.925287        1  \n",
       "2    0.0   0.0  0.326156  0.925670        1  \n",
       "3    0.0   0.0  0.326076  0.926437        1  \n",
       "4    0.0   0.0  0.326116  0.926437        1  "
      ]
     },
     "execution_count": 4,
     "metadata": {},
     "output_type": "execute_result"
    }
   ],
   "source": [
    "# Make segments categorical\n",
    "dataset = pds.get_dummies(df['seg'])\n",
    "\n",
    "# Combine segments, timestamps and time from journey start\n",
    "\n",
    "# Cyclical timestamps \n",
    "dataset['hr_sin'] = np.sin(df.timestamp.dt.hour*(2.*np.pi/24))\n",
    "dataset['hr_cos'] = np.cos(df.timestamp.dt.hour*(2.*np.pi/24))\n",
    "\n",
    "# Convert to radians befor trigonometric functions\n",
    "dataset['dir_sin'] = np.sin(df.direction*(np.pi/180))\n",
    "dataset['dir_cos'] = np.cos(df.direction*(np.pi/180))\n",
    "\n",
    "dataset['speed'] = (df['speed']-df['speed'].min())/(df['speed'].max()-df['speed'].min())\n",
    "dataset['tsjs'] = (df['tsjs']-df['tsjs'].min())/(df['tsjs'].max()-df['tsjs'].min())\n",
    "\n",
    "dataset['lat'] = (df['lat']-df['lat'].min())/(df['lat'].max()-df['lat'].min())\n",
    "dataset['lon'] = (df['lon']-df['lon'].min())/(df['lon'].max()-df['lon'].min())\n",
    "\n",
    "# Include journey number to select entire journeys\n",
    "dataset['journey'] = df['journey']\n",
    "\n",
    "dataset.head()"
   ]
  },
  {
   "cell_type": "markdown",
   "metadata": {},
   "source": [
    "Select ~20% test journeys"
   ]
  },
  {
   "cell_type": "code",
   "execution_count": 5,
   "metadata": {},
   "outputs": [],
   "source": [
    "divider = 0.2\n",
    "num_journeys = dataset.journey.unique()[-1]\n",
    "num_test_segments = np.int_(np.round(num_journeys*divider))\n",
    "msk = np.random.randint(1, num_journeys, num_test_segments)\n",
    "mask = dataset['journey'].isin(msk)"
   ]
  },
  {
   "cell_type": "markdown",
   "metadata": {},
   "source": [
    "Divide training and test data, where data is a sequence from a journey"
   ]
  },
  {
   "cell_type": "code",
   "execution_count": 6,
   "metadata": {},
   "outputs": [],
   "source": [
    "train_input = dataset[~mask]\n",
    "test_input = dataset[mask]\n",
    "\n",
    "train_labels = df[label_string][~mask]\n",
    "test_labels = df[label_string][mask]\n",
    "\n",
    "test_idxs = test_input.index"
   ]
  },
  {
   "cell_type": "code",
   "execution_count": 7,
   "metadata": {},
   "outputs": [],
   "source": [
    "# Journey numbers were needed up until this point\n",
    "train_data = train_input.drop(columns=['journey'])\n",
    "test_data = test_input.drop(columns=['journey'])"
   ]
  },
  {
   "cell_type": "markdown",
   "metadata": {},
   "source": [
    "Build model"
   ]
  },
  {
   "cell_type": "code",
   "execution_count": 8,
   "metadata": {},
   "outputs": [
    {
     "name": "stdout",
     "output_type": "stream",
     "text": [
      "_________________________________________________________________\n",
      "Layer (type)                 Output Shape              Param #   \n",
      "=================================================================\n",
      "dense (Dense)                (None, 38)                760       \n",
      "_________________________________________________________________\n",
      "dense_1 (Dense)              (None, 19)                741       \n",
      "_________________________________________________________________\n",
      "dense_2 (Dense)              (None, 19)                380       \n",
      "_________________________________________________________________\n",
      "dense_3 (Dense)              (None, 1)                 20        \n",
      "=================================================================\n",
      "Total params: 1,901\n",
      "Trainable params: 1,901\n",
      "Non-trainable params: 0\n",
      "_________________________________________________________________\n",
      "None\n"
     ]
    }
   ],
   "source": [
    "model = keras.Sequential([\n",
    "\tkeras.layers.Dense(2*len(train_data.columns), activation=tf.nn.relu, input_shape=(train_data.shape[1],)),\n",
    "    keras.layers.Dense(1*len(train_data.columns), activation=tf.nn.tanh),\n",
    "    keras.layers.Dense(1*len(train_data.columns)),\n",
    "\tkeras.layers.Dense(1, activation=tf.nn.relu)\n",
    "\t])\n",
    "\n",
    "optimizer = keras.optimizers.Adadelta()\n",
    "model.compile(loss='mae', optimizer = optimizer, metrics=['mae'])\n",
    "print(model.summary())"
   ]
  },
  {
   "cell_type": "markdown",
   "metadata": {},
   "source": [
    "Fit model, 10% of the training data is used as validation set"
   ]
  },
  {
   "cell_type": "code",
   "execution_count": 18,
   "metadata": {
    "scrolled": true
   },
   "outputs": [
    {
     "name": "stdout",
     "output_type": "stream",
     "text": [
      "Train on 2436993 samples, validate on 270778 samples\n",
      "Epoch 21/50\n",
      "2436993/2436993 [==============================] - 42s 17us/step - loss: 10.9808 - mean_absolute_error: 10.9808 - val_loss: 11.1527 - val_mean_absolute_error: 11.1527\n",
      "Epoch 22/50\n",
      "2436993/2436993 [==============================] - 44s 18us/step - loss: 10.9743 - mean_absolute_error: 10.9743 - val_loss: 11.0892 - val_mean_absolute_error: 11.0892\n",
      "Epoch 23/50\n",
      "2436993/2436993 [==============================] - 44s 18us/step - loss: 10.9686 - mean_absolute_error: 10.9686 - val_loss: 11.3810 - val_mean_absolute_error: 11.3810\n",
      "Epoch 24/50\n",
      "2436993/2436993 [==============================] - 43s 18us/step - loss: 10.9646 - mean_absolute_error: 10.9646 - val_loss: 11.4005 - val_mean_absolute_error: 11.4005\n",
      "Epoch 25/50\n",
      "2436993/2436993 [==============================] - 44s 18us/step - loss: 10.9590 - mean_absolute_error: 10.9590 - val_loss: 11.2336 - val_mean_absolute_error: 11.2336\n",
      "Epoch 26/50\n",
      "2436993/2436993 [==============================] - 43s 18us/step - loss: 10.9543 - mean_absolute_error: 10.9543 - val_loss: 11.1762 - val_mean_absolute_error: 11.1762\n",
      "Epoch 27/50\n",
      "2436993/2436993 [==============================] - 43s 18us/step - loss: 10.9496 - mean_absolute_error: 10.9496 - val_loss: 11.2677 - val_mean_absolute_error: 11.2677\n",
      "Epoch 28/50\n",
      "2436993/2436993 [==============================] - 43s 18us/step - loss: 10.9467 - mean_absolute_error: 10.9467 - val_loss: 11.0475 - val_mean_absolute_error: 11.0475\n",
      "Epoch 29/50\n",
      "2436993/2436993 [==============================] - 45s 18us/step - loss: 10.9426 - mean_absolute_error: 10.9426 - val_loss: 11.3032 - val_mean_absolute_error: 11.3032\n",
      "Epoch 30/50\n",
      "2436993/2436993 [==============================] - 40s 17us/step - loss: 10.9399 - mean_absolute_error: 10.9399 - val_loss: 11.1801 - val_mean_absolute_error: 11.1801\n",
      "Epoch 31/50\n",
      "2436993/2436993 [==============================] - 40s 17us/step - loss: 10.9355 - mean_absolute_error: 10.9355 - val_loss: 11.3785 - val_mean_absolute_error: 11.3785\n",
      "Epoch 32/50\n",
      "2436993/2436993 [==============================] - 40s 17us/step - loss: 10.9343 - mean_absolute_error: 10.9343 - val_loss: 11.2301 - val_mean_absolute_error: 11.2301\n",
      "Epoch 33/50\n",
      "2436993/2436993 [==============================] - 41s 17us/step - loss: 10.9318 - mean_absolute_error: 10.9318 - val_loss: 10.9638 - val_mean_absolute_error: 10.9638\n",
      "Epoch 34/50\n",
      "2436993/2436993 [==============================] - 41s 17us/step - loss: 10.9305 - mean_absolute_error: 10.9305 - val_loss: 11.1208 - val_mean_absolute_error: 11.1208\n",
      "Epoch 35/50\n",
      "2436993/2436993 [==============================] - 41s 17us/step - loss: 10.9286 - mean_absolute_error: 10.9286 - val_loss: 11.4934 - val_mean_absolute_error: 11.4934\n",
      "Epoch 36/50\n",
      "2436993/2436993 [==============================] - 45s 18us/step - loss: 10.9254 - mean_absolute_error: 10.9254 - val_loss: 11.0908 - val_mean_absolute_error: 11.0908\n",
      "Epoch 37/50\n",
      "2436993/2436993 [==============================] - 37s 15us/step - loss: 10.9241 - mean_absolute_error: 10.9241 - val_loss: 11.1143 - val_mean_absolute_error: 11.1143\n",
      "Epoch 38/50\n",
      "2436993/2436993 [==============================] - 37s 15us/step - loss: 10.9214 - mean_absolute_error: 10.9214 - val_loss: 10.9931 - val_mean_absolute_error: 10.9931\n",
      "Epoch 39/50\n",
      "2436993/2436993 [==============================] - 37s 15us/step - loss: 10.9198 - mean_absolute_error: 10.9198 - val_loss: 10.9675 - val_mean_absolute_error: 10.9675\n",
      "Epoch 40/50\n",
      "2436993/2436993 [==============================] - 37s 15us/step - loss: 10.9180 - mean_absolute_error: 10.9180 - val_loss: 11.0289 - val_mean_absolute_error: 11.0289\n",
      "Epoch 41/50\n",
      "2436993/2436993 [==============================] - 37s 15us/step - loss: 10.9163 - mean_absolute_error: 10.9163 - val_loss: 11.1964 - val_mean_absolute_error: 11.1964\n",
      "Epoch 42/50\n",
      "2436993/2436993 [==============================] - 37s 15us/step - loss: 10.9149 - mean_absolute_error: 10.9149 - val_loss: 10.9861 - val_mean_absolute_error: 10.9861\n",
      "Epoch 43/50\n",
      "2436993/2436993 [==============================] - 37s 15us/step - loss: 10.9135 - mean_absolute_error: 10.9135 - val_loss: 11.0392 - val_mean_absolute_error: 11.0392\n",
      "Epoch 44/50\n",
      "2436993/2436993 [==============================] - 39s 16us/step - loss: 10.9118 - mean_absolute_error: 10.9118 - val_loss: 11.0490 - val_mean_absolute_error: 11.0490\n",
      "Epoch 45/50\n",
      "2436993/2436993 [==============================] - 39s 16us/step - loss: 10.9086 - mean_absolute_error: 10.9086 - val_loss: 11.1067 - val_mean_absolute_error: 11.1067\n",
      "Epoch 46/50\n",
      "2436993/2436993 [==============================] - 38s 16us/step - loss: 10.9094 - mean_absolute_error: 10.9094 - val_loss: 11.0606 - val_mean_absolute_error: 11.0606\n",
      "Epoch 47/50\n",
      "2436993/2436993 [==============================] - 38s 16us/step - loss: 10.9065 - mean_absolute_error: 10.9065 - val_loss: 11.0470 - val_mean_absolute_error: 11.0470\n",
      "Epoch 48/50\n",
      "2436993/2436993 [==============================] - 37s 15us/step - loss: 10.9040 - mean_absolute_error: 10.9040 - val_loss: 11.0120 - val_mean_absolute_error: 11.0120\n",
      "Epoch 49/50\n",
      "2436993/2436993 [==============================] - 38s 16us/step - loss: 10.9042 - mean_absolute_error: 10.9042 - val_loss: 11.0209 - val_mean_absolute_error: 11.0209\n",
      "Epoch 50/50\n",
      "2436993/2436993 [==============================] - 38s 16us/step - loss: 10.9011 - mean_absolute_error: 10.9011 - val_loss: 10.9679 - val_mean_absolute_error: 10.9679\n"
     ]
    }
   ],
   "source": [
    "EPOCHS=50\n",
    "result = model.fit(train_data.values, \n",
    "                   train_labels.values, \n",
    "                   epochs = EPOCHS, \n",
    "                   validation_split=0.1, \n",
    "                   initial_epoch=20,\n",
    "                   batch_size=64\n",
    "                  )"
   ]
  },
  {
   "cell_type": "markdown",
   "metadata": {},
   "source": [
    "Evaluate model on test data"
   ]
  },
  {
   "cell_type": "code",
   "execution_count": 19,
   "metadata": {},
   "outputs": [
    {
     "name": "stdout",
     "output_type": "stream",
     "text": [
      "604229/604229 [==============================] - 6s 11us/step\n"
     ]
    },
    {
     "data": {
      "text/plain": [
       "[10.937924736404279, 10.937924736404279]"
      ]
     },
     "execution_count": 19,
     "metadata": {},
     "output_type": "execute_result"
    }
   ],
   "source": [
    "model.evaluate(test_data.values, test_labels.values)"
   ]
  },
  {
   "cell_type": "markdown",
   "metadata": {},
   "source": [
    "Prepare data for the evaluation step"
   ]
  },
  {
   "cell_type": "code",
   "execution_count": 11,
   "metadata": {},
   "outputs": [],
   "source": [
    "predictions = model.predict(test_data.values)"
   ]
  },
  {
   "cell_type": "markdown",
   "metadata": {},
   "source": [
    "### Create dataset for evaluation"
   ]
  },
  {
   "cell_type": "code",
   "execution_count": 12,
   "metadata": {},
   "outputs": [],
   "source": [
    "segment = df['seg'].loc[test_idxs].reset_index().drop(columns=['index'])"
   ]
  },
  {
   "cell_type": "code",
   "execution_count": 13,
   "metadata": {},
   "outputs": [
    {
     "data": {
      "text/html": [
       "<div>\n",
       "<style scoped>\n",
       "    .dataframe tbody tr th:only-of-type {\n",
       "        vertical-align: middle;\n",
       "    }\n",
       "\n",
       "    .dataframe tbody tr th {\n",
       "        vertical-align: top;\n",
       "    }\n",
       "\n",
       "    .dataframe thead th {\n",
       "        text-align: right;\n",
       "    }\n",
       "</style>\n",
       "<table border=\"1\" class=\"dataframe\">\n",
       "  <thead>\n",
       "    <tr style=\"text-align: right;\">\n",
       "      <th></th>\n",
       "      <th>seg</th>\n",
       "      <th>journey</th>\n",
       "      <th>speed</th>\n",
       "      <th>pred</th>\n",
       "      <th>label</th>\n",
       "    </tr>\n",
       "  </thead>\n",
       "  <tbody>\n",
       "    <tr>\n",
       "      <th>0</th>\n",
       "      <td>1</td>\n",
       "      <td>4</td>\n",
       "      <td>0.0</td>\n",
       "      <td>122.613525</td>\n",
       "      <td>187.0</td>\n",
       "    </tr>\n",
       "    <tr>\n",
       "      <th>1</th>\n",
       "      <td>1</td>\n",
       "      <td>4</td>\n",
       "      <td>0.0</td>\n",
       "      <td>122.613525</td>\n",
       "      <td>186.0</td>\n",
       "    </tr>\n",
       "    <tr>\n",
       "      <th>2</th>\n",
       "      <td>1</td>\n",
       "      <td>4</td>\n",
       "      <td>0.0</td>\n",
       "      <td>122.613525</td>\n",
       "      <td>185.0</td>\n",
       "    </tr>\n",
       "    <tr>\n",
       "      <th>3</th>\n",
       "      <td>1</td>\n",
       "      <td>4</td>\n",
       "      <td>0.0</td>\n",
       "      <td>122.613525</td>\n",
       "      <td>184.0</td>\n",
       "    </tr>\n",
       "    <tr>\n",
       "      <th>4</th>\n",
       "      <td>1</td>\n",
       "      <td>4</td>\n",
       "      <td>0.0</td>\n",
       "      <td>122.613525</td>\n",
       "      <td>183.0</td>\n",
       "    </tr>\n",
       "  </tbody>\n",
       "</table>\n",
       "</div>"
      ],
      "text/plain": [
       "   seg  journey  speed        pred  label\n",
       "0    1        4    0.0  122.613525  187.0\n",
       "1    1        4    0.0  122.613525  186.0\n",
       "2    1        4    0.0  122.613525  185.0\n",
       "3    1        4    0.0  122.613525  184.0\n",
       "4    1        4    0.0  122.613525  183.0"
      ]
     },
     "execution_count": 13,
     "metadata": {},
     "output_type": "execute_result"
    }
   ],
   "source": [
    "output = pds.DataFrame()\n",
    "output['seg'] = segment['seg']\n",
    "output['journey'] = test_input['journey'].values\n",
    "output['speed'] = test_data.speed.values\n",
    "output['pred'] = predictions\n",
    "output['label'] = test_labels.values\n",
    "output.head()"
   ]
  },
  {
   "cell_type": "code",
   "execution_count": 14,
   "metadata": {},
   "outputs": [],
   "source": [
    "# Same name for all files\n",
    "model_name = 'ANN_M2'\n",
    "\n",
    "# serialize model to YAML\n",
    "model_yaml = model.to_yaml()\n",
    "with open(model_name + '.yaml', 'w') as yaml_file:\n",
    "    yaml_file.write(model_yaml)\n",
    "\n",
    "# Serialize weights to HDF5\n",
    "model.save_weights(model_name + '.h5')"
   ]
  },
  {
   "cell_type": "code",
   "execution_count": 15,
   "metadata": {},
   "outputs": [],
   "source": [
    "output.to_pickle(model_name + '.pkl')"
   ]
  },
  {
   "cell_type": "markdown",
   "metadata": {},
   "source": [
    "Done! Get ready for evaluation"
   ]
  }
 ],
 "metadata": {
  "kernelspec": {
   "display_name": "Python 3",
   "language": "python",
   "name": "python3"
  },
  "language_info": {
   "codemirror_mode": {
    "name": "ipython",
    "version": 3
   },
   "file_extension": ".py",
   "mimetype": "text/x-python",
   "name": "python",
   "nbconvert_exporter": "python",
   "pygments_lexer": "ipython3",
   "version": "3.6.7"
  }
 },
 "nbformat": 4,
 "nbformat_minor": 2
}
