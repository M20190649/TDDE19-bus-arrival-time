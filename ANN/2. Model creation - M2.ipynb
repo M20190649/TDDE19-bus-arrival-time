{
 "cells": [
  {
   "cell_type": "markdown",
   "metadata": {},
   "source": [
    "# Model creation and data split-up\n",
    "\n",
    "This notebook will:\n",
    "* Split data ito test and train data\n",
    "* Train the model\n",
    "* Save the model"
   ]
  },
  {
   "cell_type": "markdown",
   "metadata": {},
   "source": [
    "Import packages"
   ]
  },
  {
   "cell_type": "code",
   "execution_count": 1,
   "metadata": {
    "scrolled": true
   },
   "outputs": [],
   "source": [
    "import tensorflow as tf\n",
    "from tensorflow import keras\n",
    "import numpy as np\n",
    "import pandas as pds"
   ]
  },
  {
   "cell_type": "markdown",
   "metadata": {},
   "source": [
    "Import data"
   ]
  },
  {
   "cell_type": "code",
   "execution_count": 2,
   "metadata": {},
   "outputs": [
    {
     "data": {
      "text/html": [
       "<div>\n",
       "<style scoped>\n",
       "    .dataframe tbody tr th:only-of-type {\n",
       "        vertical-align: middle;\n",
       "    }\n",
       "\n",
       "    .dataframe tbody tr th {\n",
       "        vertical-align: top;\n",
       "    }\n",
       "\n",
       "    .dataframe thead th {\n",
       "        text-align: right;\n",
       "    }\n",
       "</style>\n",
       "<table border=\"1\" class=\"dataframe\">\n",
       "  <thead>\n",
       "    <tr style=\"text-align: right;\">\n",
       "      <th></th>\n",
       "      <th></th>\n",
       "      <th>timestamp</th>\n",
       "      <th>lon</th>\n",
       "      <th>lat</th>\n",
       "      <th>direction</th>\n",
       "      <th>speed</th>\n",
       "      <th>journey</th>\n",
       "      <th>seg</th>\n",
       "      <th>time_left</th>\n",
       "      <th>segment_time</th>\n",
       "      <th>tsjs</th>\n",
       "      <th>lat_one</th>\n",
       "      <th>lon_one</th>\n",
       "      <th>lat_two</th>\n",
       "      <th>lon_two</th>\n",
       "      <th>lat_three</th>\n",
       "      <th>lon_three</th>\n",
       "      <th>speed_one</th>\n",
       "      <th>speed_two</th>\n",
       "      <th>speed_three</th>\n",
       "    </tr>\n",
       "  </thead>\n",
       "  <tbody>\n",
       "    <tr>\n",
       "      <th rowspan=\"5\" valign=\"top\">train</th>\n",
       "      <th>0</th>\n",
       "      <td>2018-02-16 04:48:40+01:00</td>\n",
       "      <td>58.414238</td>\n",
       "      <td>15.571015</td>\n",
       "      <td>147.300003</td>\n",
       "      <td>0.0</td>\n",
       "      <td>1</td>\n",
       "      <td>1</td>\n",
       "      <td>71.0</td>\n",
       "      <td>71.0</td>\n",
       "      <td>0.0</td>\n",
       "      <td>15.571015</td>\n",
       "      <td>58.414238</td>\n",
       "      <td>15.571015</td>\n",
       "      <td>58.414238</td>\n",
       "      <td>15.571015</td>\n",
       "      <td>58.414238</td>\n",
       "      <td>15.571015</td>\n",
       "      <td>15.571015</td>\n",
       "      <td>15.571015</td>\n",
       "    </tr>\n",
       "    <tr>\n",
       "      <th>1</th>\n",
       "      <td>2018-02-16 04:48:41+01:00</td>\n",
       "      <td>58.414246</td>\n",
       "      <td>15.571012</td>\n",
       "      <td>147.300003</td>\n",
       "      <td>0.0</td>\n",
       "      <td>1</td>\n",
       "      <td>1</td>\n",
       "      <td>70.0</td>\n",
       "      <td>71.0</td>\n",
       "      <td>0.0</td>\n",
       "      <td>15.571015</td>\n",
       "      <td>58.414238</td>\n",
       "      <td>15.571015</td>\n",
       "      <td>58.414238</td>\n",
       "      <td>15.571015</td>\n",
       "      <td>58.414238</td>\n",
       "      <td>15.571015</td>\n",
       "      <td>15.571015</td>\n",
       "      <td>15.571015</td>\n",
       "    </tr>\n",
       "    <tr>\n",
       "      <th>2</th>\n",
       "      <td>2018-02-16 04:48:42+01:00</td>\n",
       "      <td>58.414249</td>\n",
       "      <td>15.571008</td>\n",
       "      <td>147.300003</td>\n",
       "      <td>0.0</td>\n",
       "      <td>1</td>\n",
       "      <td>1</td>\n",
       "      <td>69.0</td>\n",
       "      <td>71.0</td>\n",
       "      <td>0.0</td>\n",
       "      <td>15.571012</td>\n",
       "      <td>58.414246</td>\n",
       "      <td>15.571015</td>\n",
       "      <td>58.414238</td>\n",
       "      <td>15.571015</td>\n",
       "      <td>58.414238</td>\n",
       "      <td>15.571012</td>\n",
       "      <td>15.571015</td>\n",
       "      <td>15.571015</td>\n",
       "    </tr>\n",
       "    <tr>\n",
       "      <th>3</th>\n",
       "      <td>2018-02-16 04:48:43+01:00</td>\n",
       "      <td>58.414257</td>\n",
       "      <td>15.571004</td>\n",
       "      <td>147.300003</td>\n",
       "      <td>0.0</td>\n",
       "      <td>1</td>\n",
       "      <td>1</td>\n",
       "      <td>68.0</td>\n",
       "      <td>71.0</td>\n",
       "      <td>0.0</td>\n",
       "      <td>15.571008</td>\n",
       "      <td>58.414249</td>\n",
       "      <td>15.571012</td>\n",
       "      <td>58.414246</td>\n",
       "      <td>15.571015</td>\n",
       "      <td>58.414238</td>\n",
       "      <td>15.571008</td>\n",
       "      <td>15.571012</td>\n",
       "      <td>15.571015</td>\n",
       "    </tr>\n",
       "    <tr>\n",
       "      <th>4</th>\n",
       "      <td>2018-02-16 04:48:44+01:00</td>\n",
       "      <td>58.414257</td>\n",
       "      <td>15.571006</td>\n",
       "      <td>147.300003</td>\n",
       "      <td>0.0</td>\n",
       "      <td>1</td>\n",
       "      <td>1</td>\n",
       "      <td>67.0</td>\n",
       "      <td>71.0</td>\n",
       "      <td>0.0</td>\n",
       "      <td>15.571004</td>\n",
       "      <td>58.414257</td>\n",
       "      <td>15.571008</td>\n",
       "      <td>58.414249</td>\n",
       "      <td>15.571012</td>\n",
       "      <td>58.414246</td>\n",
       "      <td>15.571004</td>\n",
       "      <td>15.571008</td>\n",
       "      <td>15.571012</td>\n",
       "    </tr>\n",
       "  </tbody>\n",
       "</table>\n",
       "</div>"
      ],
      "text/plain": [
       "                        timestamp        lon        lat   direction  speed  \\\n",
       "train 0 2018-02-16 04:48:40+01:00  58.414238  15.571015  147.300003    0.0   \n",
       "      1 2018-02-16 04:48:41+01:00  58.414246  15.571012  147.300003    0.0   \n",
       "      2 2018-02-16 04:48:42+01:00  58.414249  15.571008  147.300003    0.0   \n",
       "      3 2018-02-16 04:48:43+01:00  58.414257  15.571004  147.300003    0.0   \n",
       "      4 2018-02-16 04:48:44+01:00  58.414257  15.571006  147.300003    0.0   \n",
       "\n",
       "         journey  seg  time_left  segment_time  tsjs    lat_one    lon_one  \\\n",
       "train 0        1    1       71.0          71.0   0.0  15.571015  58.414238   \n",
       "      1        1    1       70.0          71.0   0.0  15.571015  58.414238   \n",
       "      2        1    1       69.0          71.0   0.0  15.571012  58.414246   \n",
       "      3        1    1       68.0          71.0   0.0  15.571008  58.414249   \n",
       "      4        1    1       67.0          71.0   0.0  15.571004  58.414257   \n",
       "\n",
       "           lat_two    lon_two  lat_three  lon_three  speed_one  speed_two  \\\n",
       "train 0  15.571015  58.414238  15.571015  58.414238  15.571015  15.571015   \n",
       "      1  15.571015  58.414238  15.571015  58.414238  15.571015  15.571015   \n",
       "      2  15.571015  58.414238  15.571015  58.414238  15.571012  15.571015   \n",
       "      3  15.571012  58.414246  15.571015  58.414238  15.571008  15.571012   \n",
       "      4  15.571008  58.414249  15.571012  58.414246  15.571004  15.571008   \n",
       "\n",
       "         speed_three  \n",
       "train 0    15.571015  \n",
       "      1    15.571015  \n",
       "      2    15.571015  \n",
       "      3    15.571015  \n",
       "      4    15.571012  "
      ]
     },
     "execution_count": 2,
     "metadata": {},
     "output_type": "execute_result"
    }
   ],
   "source": [
    "df_tr = pds.read_pickle('ANN_data_train_203.pkl')\n",
    "df_te = pds.read_pickle('ANN_data_test_203.pkl')\n",
    "df = pds.concat([df_tr, df_te], keys=['train', 'test'])\n",
    "df.head()"
   ]
  },
  {
   "cell_type": "code",
   "execution_count": 3,
   "metadata": {},
   "outputs": [],
   "source": [
    "#df = pds.read_pickle('ANN_dataset.pkl')\n",
    "#df.head()"
   ]
  },
  {
   "cell_type": "markdown",
   "metadata": {},
   "source": [
    "Note that `time_left` is the label in this model "
   ]
  },
  {
   "cell_type": "code",
   "execution_count": 4,
   "metadata": {},
   "outputs": [],
   "source": [
    "label_string = 'time_left'"
   ]
  },
  {
   "cell_type": "markdown",
   "metadata": {},
   "source": [
    "One hot encode segments, normalize columns and create final dataset"
   ]
  },
  {
   "cell_type": "code",
   "execution_count": 5,
   "metadata": {},
   "outputs": [
    {
     "data": {
      "text/html": [
       "<div>\n",
       "<style scoped>\n",
       "    .dataframe tbody tr th:only-of-type {\n",
       "        vertical-align: middle;\n",
       "    }\n",
       "\n",
       "    .dataframe tbody tr th {\n",
       "        vertical-align: top;\n",
       "    }\n",
       "\n",
       "    .dataframe thead th {\n",
       "        text-align: right;\n",
       "    }\n",
       "</style>\n",
       "<table border=\"1\" class=\"dataframe\">\n",
       "  <thead>\n",
       "    <tr style=\"text-align: right;\">\n",
       "      <th></th>\n",
       "      <th></th>\n",
       "      <th>1</th>\n",
       "      <th>2</th>\n",
       "      <th>3</th>\n",
       "      <th>4</th>\n",
       "      <th>5</th>\n",
       "      <th>6</th>\n",
       "      <th>7</th>\n",
       "      <th>8</th>\n",
       "      <th>9</th>\n",
       "      <th>10</th>\n",
       "      <th>11</th>\n",
       "      <th>hr_sin</th>\n",
       "      <th>hr_cos</th>\n",
       "      <th>dir_sin</th>\n",
       "      <th>dir_cos</th>\n",
       "      <th>speed</th>\n",
       "      <th>tsjs</th>\n",
       "      <th>lat</th>\n",
       "      <th>lon</th>\n",
       "      <th>journey</th>\n",
       "    </tr>\n",
       "  </thead>\n",
       "  <tbody>\n",
       "    <tr>\n",
       "      <th rowspan=\"5\" valign=\"top\">train</th>\n",
       "      <th>0</th>\n",
       "      <td>1</td>\n",
       "      <td>0</td>\n",
       "      <td>0</td>\n",
       "      <td>0</td>\n",
       "      <td>0</td>\n",
       "      <td>0</td>\n",
       "      <td>0</td>\n",
       "      <td>0</td>\n",
       "      <td>0</td>\n",
       "      <td>0</td>\n",
       "      <td>0</td>\n",
       "      <td>0.866025</td>\n",
       "      <td>0.5</td>\n",
       "      <td>0.54024</td>\n",
       "      <td>-0.841511</td>\n",
       "      <td>0.0</td>\n",
       "      <td>0.0</td>\n",
       "      <td>0.326317</td>\n",
       "      <td>0.924521</td>\n",
       "      <td>1</td>\n",
       "    </tr>\n",
       "    <tr>\n",
       "      <th>1</th>\n",
       "      <td>1</td>\n",
       "      <td>0</td>\n",
       "      <td>0</td>\n",
       "      <td>0</td>\n",
       "      <td>0</td>\n",
       "      <td>0</td>\n",
       "      <td>0</td>\n",
       "      <td>0</td>\n",
       "      <td>0</td>\n",
       "      <td>0</td>\n",
       "      <td>0</td>\n",
       "      <td>0.866025</td>\n",
       "      <td>0.5</td>\n",
       "      <td>0.54024</td>\n",
       "      <td>-0.841511</td>\n",
       "      <td>0.0</td>\n",
       "      <td>0.0</td>\n",
       "      <td>0.326237</td>\n",
       "      <td>0.925287</td>\n",
       "      <td>1</td>\n",
       "    </tr>\n",
       "    <tr>\n",
       "      <th>2</th>\n",
       "      <td>1</td>\n",
       "      <td>0</td>\n",
       "      <td>0</td>\n",
       "      <td>0</td>\n",
       "      <td>0</td>\n",
       "      <td>0</td>\n",
       "      <td>0</td>\n",
       "      <td>0</td>\n",
       "      <td>0</td>\n",
       "      <td>0</td>\n",
       "      <td>0</td>\n",
       "      <td>0.866025</td>\n",
       "      <td>0.5</td>\n",
       "      <td>0.54024</td>\n",
       "      <td>-0.841511</td>\n",
       "      <td>0.0</td>\n",
       "      <td>0.0</td>\n",
       "      <td>0.326156</td>\n",
       "      <td>0.925670</td>\n",
       "      <td>1</td>\n",
       "    </tr>\n",
       "    <tr>\n",
       "      <th>3</th>\n",
       "      <td>1</td>\n",
       "      <td>0</td>\n",
       "      <td>0</td>\n",
       "      <td>0</td>\n",
       "      <td>0</td>\n",
       "      <td>0</td>\n",
       "      <td>0</td>\n",
       "      <td>0</td>\n",
       "      <td>0</td>\n",
       "      <td>0</td>\n",
       "      <td>0</td>\n",
       "      <td>0.866025</td>\n",
       "      <td>0.5</td>\n",
       "      <td>0.54024</td>\n",
       "      <td>-0.841511</td>\n",
       "      <td>0.0</td>\n",
       "      <td>0.0</td>\n",
       "      <td>0.326076</td>\n",
       "      <td>0.926437</td>\n",
       "      <td>1</td>\n",
       "    </tr>\n",
       "    <tr>\n",
       "      <th>4</th>\n",
       "      <td>1</td>\n",
       "      <td>0</td>\n",
       "      <td>0</td>\n",
       "      <td>0</td>\n",
       "      <td>0</td>\n",
       "      <td>0</td>\n",
       "      <td>0</td>\n",
       "      <td>0</td>\n",
       "      <td>0</td>\n",
       "      <td>0</td>\n",
       "      <td>0</td>\n",
       "      <td>0.866025</td>\n",
       "      <td>0.5</td>\n",
       "      <td>0.54024</td>\n",
       "      <td>-0.841511</td>\n",
       "      <td>0.0</td>\n",
       "      <td>0.0</td>\n",
       "      <td>0.326116</td>\n",
       "      <td>0.926437</td>\n",
       "      <td>1</td>\n",
       "    </tr>\n",
       "  </tbody>\n",
       "</table>\n",
       "</div>"
      ],
      "text/plain": [
       "         1  2  3  4  5  6  7  8  9  10  11    hr_sin  hr_cos  dir_sin  \\\n",
       "train 0  1  0  0  0  0  0  0  0  0   0   0  0.866025     0.5  0.54024   \n",
       "      1  1  0  0  0  0  0  0  0  0   0   0  0.866025     0.5  0.54024   \n",
       "      2  1  0  0  0  0  0  0  0  0   0   0  0.866025     0.5  0.54024   \n",
       "      3  1  0  0  0  0  0  0  0  0   0   0  0.866025     0.5  0.54024   \n",
       "      4  1  0  0  0  0  0  0  0  0   0   0  0.866025     0.5  0.54024   \n",
       "\n",
       "          dir_cos  speed  tsjs       lat       lon  journey  \n",
       "train 0 -0.841511    0.0   0.0  0.326317  0.924521        1  \n",
       "      1 -0.841511    0.0   0.0  0.326237  0.925287        1  \n",
       "      2 -0.841511    0.0   0.0  0.326156  0.925670        1  \n",
       "      3 -0.841511    0.0   0.0  0.326076  0.926437        1  \n",
       "      4 -0.841511    0.0   0.0  0.326116  0.926437        1  "
      ]
     },
     "execution_count": 5,
     "metadata": {},
     "output_type": "execute_result"
    }
   ],
   "source": [
    "# Make segments categorical\n",
    "dataset = pds.get_dummies(df['seg'])\n",
    "\n",
    "# Combine segments, timestamps and time from journey start\n",
    "\n",
    "# Cyclical timestamps \n",
    "dataset['hr_sin'] = np.sin(df.timestamp.dt.hour*(2.*np.pi/24))\n",
    "dataset['hr_cos'] = np.cos(df.timestamp.dt.hour*(2.*np.pi/24))\n",
    "\n",
    "# Convert to radians befor trigonometric functions\n",
    "dataset['dir_sin'] = np.sin(df.direction*(np.pi/180))\n",
    "dataset['dir_cos'] = np.cos(df.direction*(np.pi/180))\n",
    "\n",
    "dataset['speed'] = df['speed']\n",
    "dataset['tsjs'] = (df['tsjs']-df['tsjs'].min())/(df['tsjs'].max()-df['tsjs'].min())\n",
    "\n",
    "dataset['lat'] = df['lat']\n",
    "dataset['lon'] = df['lon']\n",
    "\n",
    "# Include journey number to select entire journeys\n",
    "dataset['journey'] = df['journey']\n",
    "\n",
    "dataset.head()"
   ]
  },
  {
   "cell_type": "markdown",
   "metadata": {},
   "source": [
    "Select ~20% test journeys"
   ]
  },
  {
   "cell_type": "markdown",
   "metadata": {},
   "source": [
    "divider = 0.2\n",
    "num_journeys = dataset.journey.unique()[-1]\n",
    "num_test_segments = np.int_(np.round(num_journeys*divider))\n",
    "msk = np.random.randint(1, num_journeys, num_test_segments)\n",
    "mask = dataset['journey'].isin(msk)"
   ]
  },
  {
   "cell_type": "markdown",
   "metadata": {},
   "source": [
    "Divide training and test data, where data is a sequence from a journey"
   ]
  },
  {
   "cell_type": "markdown",
   "metadata": {},
   "source": [
    "train_input = dataset[~mask]\n",
    "test_input = dataset[mask]\n",
    "\n",
    "train_labels = df[label_string][~mask]\n",
    "test_labels = df[label_string][mask]\n",
    "\n",
    "test_idxs = test_input.index"
   ]
  },
  {
   "cell_type": "code",
   "execution_count": 6,
   "metadata": {},
   "outputs": [],
   "source": [
    "train_input = dataset.loc['train']\n",
    "test_input = dataset.loc['test']\n",
    "\n",
    "train_labels = df.loc['train'][label_string]\n",
    "test_labels = df.loc['test'][label_string]\n",
    "\n",
    "test_idxs = test_labels.index"
   ]
  },
  {
   "cell_type": "code",
   "execution_count": 7,
   "metadata": {},
   "outputs": [],
   "source": [
    "# Journey numbers were needed up until this point\n",
    "train_data = train_input.drop(columns=['journey'])\n",
    "test_data = test_input.drop(columns=['journey'])"
   ]
  },
  {
   "cell_type": "markdown",
   "metadata": {},
   "source": [
    "Build model"
   ]
  },
  {
   "cell_type": "code",
   "execution_count": 8,
   "metadata": {},
   "outputs": [
    {
     "name": "stdout",
     "output_type": "stream",
     "text": [
      "_________________________________________________________________\n",
      "Layer (type)                 Output Shape              Param #   \n",
      "=================================================================\n",
      "dense (Dense)                (None, 38)                760       \n",
      "_________________________________________________________________\n",
      "dense_1 (Dense)              (None, 19)                741       \n",
      "_________________________________________________________________\n",
      "dense_2 (Dense)              (None, 19)                380       \n",
      "_________________________________________________________________\n",
      "dense_3 (Dense)              (None, 1)                 20        \n",
      "=================================================================\n",
      "Total params: 1,901\n",
      "Trainable params: 1,901\n",
      "Non-trainable params: 0\n",
      "_________________________________________________________________\n",
      "None\n"
     ]
    }
   ],
   "source": [
    "model = keras.Sequential([\n",
    "\tkeras.layers.Dense(2*len(train_data.columns), activation=tf.nn.relu, input_shape=(train_data.shape[1],)),\n",
    "    keras.layers.Dense(1*len(train_data.columns), activation=tf.nn.tanh),\n",
    "    keras.layers.Dense(1*len(train_data.columns)),\n",
    "\tkeras.layers.Dense(1, activation=tf.nn.relu)\n",
    "\t])\n",
    "\n",
    "optimizer = keras.optimizers.Adadelta()\n",
    "model.compile(loss='mae', optimizer = optimizer, metrics=['mae'])\n",
    "print(model.summary())"
   ]
  },
  {
   "cell_type": "markdown",
   "metadata": {},
   "source": [
    "Fit model, 10% of the training data is used as validation set"
   ]
  },
  {
   "cell_type": "code",
   "execution_count": 9,
   "metadata": {
    "scrolled": true
   },
   "outputs": [
    {
     "name": "stdout",
     "output_type": "stream",
     "text": [
      "Train on 2384639 samples, validate on 264960 samples\n",
      "Epoch 1/30\n",
      "2384639/2384639 [==============================] - 66s 28us/step - loss: 11.8537 - mean_absolute_error: 11.8537 - val_loss: 11.6650 - val_mean_absolute_error: 11.6650\n",
      "Epoch 2/30\n",
      "2384639/2384639 [==============================] - 65s 27us/step - loss: 11.3341 - mean_absolute_error: 11.3341 - val_loss: 11.5469 - val_mean_absolute_error: 11.5469\n",
      "Epoch 3/30\n",
      "2384639/2384639 [==============================] - 65s 27us/step - loss: 11.2044 - mean_absolute_error: 11.2044 - val_loss: 11.5184 - val_mean_absolute_error: 11.5184\n",
      "Epoch 4/30\n",
      "2384639/2384639 [==============================] - 67s 28us/step - loss: 11.1260 - mean_absolute_error: 11.1260 - val_loss: 11.3376 - val_mean_absolute_error: 11.3376\n",
      "Epoch 5/30\n",
      "2384639/2384639 [==============================] - 66s 28us/step - loss: 11.0775 - mean_absolute_error: 11.0775 - val_loss: 11.3539 - val_mean_absolute_error: 11.3539\n",
      "Epoch 6/30\n",
      "2384639/2384639 [==============================] - 65s 27us/step - loss: 11.0418 - mean_absolute_error: 11.0418 - val_loss: 11.3489 - val_mean_absolute_error: 11.3489\n",
      "Epoch 7/30\n",
      "2384639/2384639 [==============================] - 66s 28us/step - loss: 11.0138 - mean_absolute_error: 11.0138 - val_loss: 11.2102 - val_mean_absolute_error: 11.2102\n",
      "Epoch 8/30\n",
      "2384639/2384639 [==============================] - 65s 27us/step - loss: 10.9883 - mean_absolute_error: 10.9883 - val_loss: 11.2040 - val_mean_absolute_error: 11.2040\n",
      "Epoch 9/30\n",
      "2384639/2384639 [==============================] - 65s 27us/step - loss: 10.9704 - mean_absolute_error: 10.9704 - val_loss: 11.2291 - val_mean_absolute_error: 11.2291\n",
      "Epoch 10/30\n",
      "2384639/2384639 [==============================] - 65s 27us/step - loss: 10.9564 - mean_absolute_error: 10.9564 - val_loss: 11.2213 - val_mean_absolute_error: 11.2213\n",
      "Epoch 11/30\n",
      "2384639/2384639 [==============================] - 64s 27us/step - loss: 10.9439 - mean_absolute_error: 10.9439 - val_loss: 11.2230 - val_mean_absolute_error: 11.2230\n",
      "Epoch 12/30\n",
      "2384639/2384639 [==============================] - 65s 27us/step - loss: 10.9320 - mean_absolute_error: 10.9320 - val_loss: 11.2500 - val_mean_absolute_error: 11.2500\n",
      "Epoch 13/30\n",
      "2384639/2384639 [==============================] - 65s 27us/step - loss: 10.9242 - mean_absolute_error: 10.9242 - val_loss: 11.2158 - val_mean_absolute_error: 11.2158\n",
      "Epoch 14/30\n",
      "2384639/2384639 [==============================] - 67s 28us/step - loss: 10.9153 - mean_absolute_error: 10.9153 - val_loss: 11.1974 - val_mean_absolute_error: 11.1974\n",
      "Epoch 15/30\n",
      "2384639/2384639 [==============================] - 65s 27us/step - loss: 10.9095 - mean_absolute_error: 10.9095 - val_loss: 11.1566 - val_mean_absolute_error: 11.1566\n",
      "Epoch 16/30\n",
      "2384639/2384639 [==============================] - 63s 27us/step - loss: 10.9001 - mean_absolute_error: 10.9001 - val_loss: 11.2375 - val_mean_absolute_error: 11.2375\n",
      "Epoch 17/30\n",
      "2384639/2384639 [==============================] - 64s 27us/step - loss: 10.8934 - mean_absolute_error: 10.8934 - val_loss: 11.2391 - val_mean_absolute_error: 11.2391\n",
      "Epoch 18/30\n",
      "2384639/2384639 [==============================] - 63s 26us/step - loss: 10.8873 - mean_absolute_error: 10.8873 - val_loss: 11.0911 - val_mean_absolute_error: 11.0911\n",
      "Epoch 19/30\n",
      "2384639/2384639 [==============================] - 64s 27us/step - loss: 10.8813 - mean_absolute_error: 10.8813 - val_loss: 11.1672 - val_mean_absolute_error: 11.1672\n",
      "Epoch 20/30\n",
      "2384639/2384639 [==============================] - 63s 27us/step - loss: 10.8785 - mean_absolute_error: 10.8785 - val_loss: 11.1660 - val_mean_absolute_error: 11.1660\n",
      "Epoch 21/30\n",
      "2384639/2384639 [==============================] - 64s 27us/step - loss: 10.8750 - mean_absolute_error: 10.8750 - val_loss: 11.1731 - val_mean_absolute_error: 11.1731\n",
      "Epoch 22/30\n",
      "2384639/2384639 [==============================] - 64s 27us/step - loss: 10.8700 - mean_absolute_error: 10.8700 - val_loss: 11.1747 - val_mean_absolute_error: 11.1747\n",
      "Epoch 23/30\n",
      "2384639/2384639 [==============================] - 64s 27us/step - loss: 10.8678 - mean_absolute_error: 10.8678 - val_loss: 11.1168 - val_mean_absolute_error: 11.1168\n",
      "Epoch 24/30\n",
      "2384639/2384639 [==============================] - 63s 26us/step - loss: 10.8634 - mean_absolute_error: 10.8634 - val_loss: 11.2135 - val_mean_absolute_error: 11.2135\n",
      "Epoch 25/30\n",
      "2384639/2384639 [==============================] - 66s 28us/step - loss: 10.8597 - mean_absolute_error: 10.8597 - val_loss: 11.1517 - val_mean_absolute_error: 11.1517\n",
      "Epoch 26/30\n",
      "2384639/2384639 [==============================] - 79s 33us/step - loss: 10.8590 - mean_absolute_error: 10.8590 - val_loss: 11.1822 - val_mean_absolute_error: 11.1822\n",
      "Epoch 27/30\n",
      "2384639/2384639 [==============================] - 80s 34us/step - loss: 10.8557 - mean_absolute_error: 10.8557 - val_loss: 11.0953 - val_mean_absolute_error: 11.0953\n",
      "Epoch 28/30\n",
      "2384639/2384639 [==============================] - 79s 33us/step - loss: 10.8542 - mean_absolute_error: 10.8542 - val_loss: 11.1228 - val_mean_absolute_error: 11.1228\n",
      "Epoch 29/30\n",
      "2384639/2384639 [==============================] - 79s 33us/step - loss: 10.8508 - mean_absolute_error: 10.8508 - val_loss: 11.0988 - val_mean_absolute_error: 11.0988\n",
      "Epoch 30/30\n",
      "2384639/2384639 [==============================] - 73s 30us/step - loss: 10.8498 - mean_absolute_error: 10.8498 - val_loss: 11.1970 - val_mean_absolute_error: 11.1970\n"
     ]
    }
   ],
   "source": [
    "EPOCHS=30\n",
    "result = model.fit(train_data.values, \n",
    "                   train_labels.values, \n",
    "                   epochs = EPOCHS, \n",
    "                   validation_split=0.1, \n",
    "                   initial_epoch=0,\n",
    "                   batch_size=32\n",
    "                  )"
   ]
  },
  {
   "cell_type": "markdown",
   "metadata": {},
   "source": [
    "Evaluate model on test data"
   ]
  },
  {
   "cell_type": "code",
   "execution_count": 10,
   "metadata": {},
   "outputs": [
    {
     "name": "stdout",
     "output_type": "stream",
     "text": [
      "662401/662401 [==============================] - 7s 11us/step\n"
     ]
    },
    {
     "data": {
      "text/plain": [
       "[11.296171688582119, 11.296171688582119]"
      ]
     },
     "execution_count": 10,
     "metadata": {},
     "output_type": "execute_result"
    }
   ],
   "source": [
    "model.evaluate(test_data.values, test_labels.values)"
   ]
  },
  {
   "cell_type": "markdown",
   "metadata": {},
   "source": [
    "Prepare data for the evaluation step"
   ]
  },
  {
   "cell_type": "code",
   "execution_count": 11,
   "metadata": {},
   "outputs": [],
   "source": [
    "predictions = model.predict(test_data.values)"
   ]
  },
  {
   "cell_type": "markdown",
   "metadata": {},
   "source": [
    "### Create dataset for evaluation"
   ]
  },
  {
   "cell_type": "code",
   "execution_count": 15,
   "metadata": {},
   "outputs": [],
   "source": [
    "segment = df['seg'].loc['test'].reset_index(drop=True)"
   ]
  },
  {
   "cell_type": "code",
   "execution_count": 16,
   "metadata": {},
   "outputs": [
    {
     "data": {
      "text/html": [
       "<div>\n",
       "<style scoped>\n",
       "    .dataframe tbody tr th:only-of-type {\n",
       "        vertical-align: middle;\n",
       "    }\n",
       "\n",
       "    .dataframe tbody tr th {\n",
       "        vertical-align: top;\n",
       "    }\n",
       "\n",
       "    .dataframe thead th {\n",
       "        text-align: right;\n",
       "    }\n",
       "</style>\n",
       "<table border=\"1\" class=\"dataframe\">\n",
       "  <thead>\n",
       "    <tr style=\"text-align: right;\">\n",
       "      <th></th>\n",
       "      <th>seg</th>\n",
       "      <th>journey</th>\n",
       "      <th>speed</th>\n",
       "      <th>pred</th>\n",
       "      <th>label</th>\n",
       "    </tr>\n",
       "  </thead>\n",
       "  <tbody>\n",
       "    <tr>\n",
       "      <th>0</th>\n",
       "      <td>1</td>\n",
       "      <td>14</td>\n",
       "      <td>0.0</td>\n",
       "      <td>127.854393</td>\n",
       "      <td>209.0</td>\n",
       "    </tr>\n",
       "    <tr>\n",
       "      <th>1</th>\n",
       "      <td>1</td>\n",
       "      <td>14</td>\n",
       "      <td>0.0</td>\n",
       "      <td>127.854393</td>\n",
       "      <td>208.0</td>\n",
       "    </tr>\n",
       "    <tr>\n",
       "      <th>2</th>\n",
       "      <td>1</td>\n",
       "      <td>14</td>\n",
       "      <td>0.0</td>\n",
       "      <td>127.854393</td>\n",
       "      <td>207.0</td>\n",
       "    </tr>\n",
       "    <tr>\n",
       "      <th>3</th>\n",
       "      <td>1</td>\n",
       "      <td>14</td>\n",
       "      <td>0.0</td>\n",
       "      <td>127.854393</td>\n",
       "      <td>206.0</td>\n",
       "    </tr>\n",
       "    <tr>\n",
       "      <th>4</th>\n",
       "      <td>1</td>\n",
       "      <td>14</td>\n",
       "      <td>0.0</td>\n",
       "      <td>127.854393</td>\n",
       "      <td>205.0</td>\n",
       "    </tr>\n",
       "  </tbody>\n",
       "</table>\n",
       "</div>"
      ],
      "text/plain": [
       "   seg  journey  speed        pred  label\n",
       "0    1       14    0.0  127.854393  209.0\n",
       "1    1       14    0.0  127.854393  208.0\n",
       "2    1       14    0.0  127.854393  207.0\n",
       "3    1       14    0.0  127.854393  206.0\n",
       "4    1       14    0.0  127.854393  205.0"
      ]
     },
     "execution_count": 16,
     "metadata": {},
     "output_type": "execute_result"
    }
   ],
   "source": [
    "output = pds.DataFrame()\n",
    "output['seg'] = segment\n",
    "output['journey'] = test_input['journey'].values\n",
    "output['speed'] = test_data.speed.values\n",
    "output['pred'] = predictions\n",
    "output['label'] = test_labels.values\n",
    "output.head()"
   ]
  },
  {
   "cell_type": "code",
   "execution_count": 17,
   "metadata": {},
   "outputs": [],
   "source": [
    "# Same name for all files\n",
    "model_name = 'ANN_M2'\n",
    "\n",
    "# serialize model to YAML\n",
    "model_yaml = model.to_yaml()\n",
    "with open(model_name + '.yaml', 'w') as yaml_file:\n",
    "    yaml_file.write(model_yaml)\n",
    "\n",
    "# Serialize weights to HDF5\n",
    "model.save_weights(model_name + '.h5')"
   ]
  },
  {
   "cell_type": "code",
   "execution_count": 18,
   "metadata": {},
   "outputs": [],
   "source": [
    "output.to_pickle(model_name + '.pkl')"
   ]
  },
  {
   "cell_type": "markdown",
   "metadata": {},
   "source": [
    "Done! Get ready for evaluation"
   ]
  }
 ],
 "metadata": {
  "kernelspec": {
   "display_name": "Python 3",
   "language": "python",
   "name": "python3"
  },
  "language_info": {
   "codemirror_mode": {
    "name": "ipython",
    "version": 3
   },
   "file_extension": ".py",
   "mimetype": "text/x-python",
   "name": "python",
   "nbconvert_exporter": "python",
   "pygments_lexer": "ipython3",
   "version": "3.6.7"
  }
 },
 "nbformat": 4,
 "nbformat_minor": 2
}
