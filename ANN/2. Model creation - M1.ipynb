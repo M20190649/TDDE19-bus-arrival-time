{
 "cells": [
  {
   "cell_type": "markdown",
   "metadata": {},
   "source": [
    "# Model creation and data split-up\n",
    "\n",
    "This notebook will:\n",
    "* Split data ito test and train data\n",
    "* Train the model\n",
    "* Save the model"
   ]
  },
  {
   "cell_type": "markdown",
   "metadata": {},
   "source": [
    "Import packages"
   ]
  },
  {
   "cell_type": "code",
   "execution_count": 1,
   "metadata": {
    "scrolled": true
   },
   "outputs": [],
   "source": [
    "import tensorflow as tf\n",
    "from tensorflow import keras\n",
    "import numpy as np\n",
    "import pandas as pds"
   ]
  },
  {
   "cell_type": "markdown",
   "metadata": {},
   "source": [
    "Import data"
   ]
  },
  {
   "cell_type": "code",
   "execution_count": 2,
   "metadata": {},
   "outputs": [
    {
     "data": {
      "text/html": [
       "<div>\n",
       "<style scoped>\n",
       "    .dataframe tbody tr th:only-of-type {\n",
       "        vertical-align: middle;\n",
       "    }\n",
       "\n",
       "    .dataframe tbody tr th {\n",
       "        vertical-align: top;\n",
       "    }\n",
       "\n",
       "    .dataframe thead th {\n",
       "        text-align: right;\n",
       "    }\n",
       "</style>\n",
       "<table border=\"1\" class=\"dataframe\">\n",
       "  <thead>\n",
       "    <tr style=\"text-align: right;\">\n",
       "      <th></th>\n",
       "      <th></th>\n",
       "      <th>timestamp</th>\n",
       "      <th>lon</th>\n",
       "      <th>lat</th>\n",
       "      <th>direction</th>\n",
       "      <th>speed</th>\n",
       "      <th>journey</th>\n",
       "      <th>seg</th>\n",
       "      <th>time_left</th>\n",
       "      <th>segment_time</th>\n",
       "      <th>tsjs</th>\n",
       "      <th>lat_one</th>\n",
       "      <th>lon_one</th>\n",
       "      <th>lat_two</th>\n",
       "      <th>lon_two</th>\n",
       "      <th>lat_three</th>\n",
       "      <th>lon_three</th>\n",
       "      <th>speed_one</th>\n",
       "      <th>speed_two</th>\n",
       "      <th>speed_three</th>\n",
       "    </tr>\n",
       "  </thead>\n",
       "  <tbody>\n",
       "    <tr>\n",
       "      <th rowspan=\"5\" valign=\"top\">train</th>\n",
       "      <th>0</th>\n",
       "      <td>2018-02-16 04:48:40+01:00</td>\n",
       "      <td>58.414238</td>\n",
       "      <td>15.571015</td>\n",
       "      <td>147.300003</td>\n",
       "      <td>0.0</td>\n",
       "      <td>1</td>\n",
       "      <td>1</td>\n",
       "      <td>71.0</td>\n",
       "      <td>71.0</td>\n",
       "      <td>0.0</td>\n",
       "      <td>15.571015</td>\n",
       "      <td>58.414238</td>\n",
       "      <td>15.571015</td>\n",
       "      <td>58.414238</td>\n",
       "      <td>15.571015</td>\n",
       "      <td>58.414238</td>\n",
       "      <td>15.571015</td>\n",
       "      <td>15.571015</td>\n",
       "      <td>15.571015</td>\n",
       "    </tr>\n",
       "    <tr>\n",
       "      <th>1</th>\n",
       "      <td>2018-02-16 04:48:41+01:00</td>\n",
       "      <td>58.414246</td>\n",
       "      <td>15.571012</td>\n",
       "      <td>147.300003</td>\n",
       "      <td>0.0</td>\n",
       "      <td>1</td>\n",
       "      <td>1</td>\n",
       "      <td>70.0</td>\n",
       "      <td>71.0</td>\n",
       "      <td>0.0</td>\n",
       "      <td>15.571015</td>\n",
       "      <td>58.414238</td>\n",
       "      <td>15.571015</td>\n",
       "      <td>58.414238</td>\n",
       "      <td>15.571015</td>\n",
       "      <td>58.414238</td>\n",
       "      <td>15.571015</td>\n",
       "      <td>15.571015</td>\n",
       "      <td>15.571015</td>\n",
       "    </tr>\n",
       "    <tr>\n",
       "      <th>2</th>\n",
       "      <td>2018-02-16 04:48:42+01:00</td>\n",
       "      <td>58.414249</td>\n",
       "      <td>15.571008</td>\n",
       "      <td>147.300003</td>\n",
       "      <td>0.0</td>\n",
       "      <td>1</td>\n",
       "      <td>1</td>\n",
       "      <td>69.0</td>\n",
       "      <td>71.0</td>\n",
       "      <td>0.0</td>\n",
       "      <td>15.571012</td>\n",
       "      <td>58.414246</td>\n",
       "      <td>15.571015</td>\n",
       "      <td>58.414238</td>\n",
       "      <td>15.571015</td>\n",
       "      <td>58.414238</td>\n",
       "      <td>15.571012</td>\n",
       "      <td>15.571015</td>\n",
       "      <td>15.571015</td>\n",
       "    </tr>\n",
       "    <tr>\n",
       "      <th>3</th>\n",
       "      <td>2018-02-16 04:48:43+01:00</td>\n",
       "      <td>58.414257</td>\n",
       "      <td>15.571004</td>\n",
       "      <td>147.300003</td>\n",
       "      <td>0.0</td>\n",
       "      <td>1</td>\n",
       "      <td>1</td>\n",
       "      <td>68.0</td>\n",
       "      <td>71.0</td>\n",
       "      <td>0.0</td>\n",
       "      <td>15.571008</td>\n",
       "      <td>58.414249</td>\n",
       "      <td>15.571012</td>\n",
       "      <td>58.414246</td>\n",
       "      <td>15.571015</td>\n",
       "      <td>58.414238</td>\n",
       "      <td>15.571008</td>\n",
       "      <td>15.571012</td>\n",
       "      <td>15.571015</td>\n",
       "    </tr>\n",
       "    <tr>\n",
       "      <th>4</th>\n",
       "      <td>2018-02-16 04:48:44+01:00</td>\n",
       "      <td>58.414257</td>\n",
       "      <td>15.571006</td>\n",
       "      <td>147.300003</td>\n",
       "      <td>0.0</td>\n",
       "      <td>1</td>\n",
       "      <td>1</td>\n",
       "      <td>67.0</td>\n",
       "      <td>71.0</td>\n",
       "      <td>0.0</td>\n",
       "      <td>15.571004</td>\n",
       "      <td>58.414257</td>\n",
       "      <td>15.571008</td>\n",
       "      <td>58.414249</td>\n",
       "      <td>15.571012</td>\n",
       "      <td>58.414246</td>\n",
       "      <td>15.571004</td>\n",
       "      <td>15.571008</td>\n",
       "      <td>15.571012</td>\n",
       "    </tr>\n",
       "  </tbody>\n",
       "</table>\n",
       "</div>"
      ],
      "text/plain": [
       "                        timestamp        lon        lat   direction  speed  \\\n",
       "train 0 2018-02-16 04:48:40+01:00  58.414238  15.571015  147.300003    0.0   \n",
       "      1 2018-02-16 04:48:41+01:00  58.414246  15.571012  147.300003    0.0   \n",
       "      2 2018-02-16 04:48:42+01:00  58.414249  15.571008  147.300003    0.0   \n",
       "      3 2018-02-16 04:48:43+01:00  58.414257  15.571004  147.300003    0.0   \n",
       "      4 2018-02-16 04:48:44+01:00  58.414257  15.571006  147.300003    0.0   \n",
       "\n",
       "         journey  seg  time_left  segment_time  tsjs    lat_one    lon_one  \\\n",
       "train 0        1    1       71.0          71.0   0.0  15.571015  58.414238   \n",
       "      1        1    1       70.0          71.0   0.0  15.571015  58.414238   \n",
       "      2        1    1       69.0          71.0   0.0  15.571012  58.414246   \n",
       "      3        1    1       68.0          71.0   0.0  15.571008  58.414249   \n",
       "      4        1    1       67.0          71.0   0.0  15.571004  58.414257   \n",
       "\n",
       "           lat_two    lon_two  lat_three  lon_three  speed_one  speed_two  \\\n",
       "train 0  15.571015  58.414238  15.571015  58.414238  15.571015  15.571015   \n",
       "      1  15.571015  58.414238  15.571015  58.414238  15.571015  15.571015   \n",
       "      2  15.571015  58.414238  15.571015  58.414238  15.571012  15.571015   \n",
       "      3  15.571012  58.414246  15.571015  58.414238  15.571008  15.571012   \n",
       "      4  15.571008  58.414249  15.571012  58.414246  15.571004  15.571008   \n",
       "\n",
       "         speed_three  \n",
       "train 0    15.571015  \n",
       "      1    15.571015  \n",
       "      2    15.571015  \n",
       "      3    15.571015  \n",
       "      4    15.571012  "
      ]
     },
     "execution_count": 2,
     "metadata": {},
     "output_type": "execute_result"
    }
   ],
   "source": [
    "df_tr = pds.read_pickle('ANN_data_train_203.pkl')\n",
    "df_te = pds.read_pickle('ANN_data_test_203.pkl')\n",
    "df = pds.concat([df_tr, df_te], keys=['train', 'test'])\n",
    "df.head()"
   ]
  },
  {
   "cell_type": "code",
   "execution_count": 3,
   "metadata": {
    "scrolled": true
   },
   "outputs": [],
   "source": [
    "#df = pds.read_pickle('ANN_dataset.pkl')\n",
    "#df.head()"
   ]
  },
  {
   "cell_type": "markdown",
   "metadata": {},
   "source": [
    "Note that `segment_time` is the label in this model "
   ]
  },
  {
   "cell_type": "code",
   "execution_count": 4,
   "metadata": {},
   "outputs": [],
   "source": [
    "label_string = 'segment_time'"
   ]
  },
  {
   "cell_type": "markdown",
   "metadata": {},
   "source": [
    "One hot encode segments, normalize columns and create final dataset"
   ]
  },
  {
   "cell_type": "code",
   "execution_count": 5,
   "metadata": {},
   "outputs": [
    {
     "data": {
      "text/html": [
       "<div>\n",
       "<style scoped>\n",
       "    .dataframe tbody tr th:only-of-type {\n",
       "        vertical-align: middle;\n",
       "    }\n",
       "\n",
       "    .dataframe tbody tr th {\n",
       "        vertical-align: top;\n",
       "    }\n",
       "\n",
       "    .dataframe thead th {\n",
       "        text-align: right;\n",
       "    }\n",
       "</style>\n",
       "<table border=\"1\" class=\"dataframe\">\n",
       "  <thead>\n",
       "    <tr style=\"text-align: right;\">\n",
       "      <th></th>\n",
       "      <th></th>\n",
       "      <th>1</th>\n",
       "      <th>2</th>\n",
       "      <th>3</th>\n",
       "      <th>4</th>\n",
       "      <th>5</th>\n",
       "      <th>6</th>\n",
       "      <th>7</th>\n",
       "      <th>8</th>\n",
       "      <th>9</th>\n",
       "      <th>10</th>\n",
       "      <th>11</th>\n",
       "      <th>hr_sin</th>\n",
       "      <th>hr_cos</th>\n",
       "      <th>tsjs</th>\n",
       "      <th>journey</th>\n",
       "    </tr>\n",
       "  </thead>\n",
       "  <tbody>\n",
       "    <tr>\n",
       "      <th rowspan=\"5\" valign=\"top\">train</th>\n",
       "      <th>0</th>\n",
       "      <td>1</td>\n",
       "      <td>0</td>\n",
       "      <td>0</td>\n",
       "      <td>0</td>\n",
       "      <td>0</td>\n",
       "      <td>0</td>\n",
       "      <td>0</td>\n",
       "      <td>0</td>\n",
       "      <td>0</td>\n",
       "      <td>0</td>\n",
       "      <td>0</td>\n",
       "      <td>0.866025</td>\n",
       "      <td>0.5</td>\n",
       "      <td>0.0</td>\n",
       "      <td>1</td>\n",
       "    </tr>\n",
       "    <tr>\n",
       "      <th>1</th>\n",
       "      <td>1</td>\n",
       "      <td>0</td>\n",
       "      <td>0</td>\n",
       "      <td>0</td>\n",
       "      <td>0</td>\n",
       "      <td>0</td>\n",
       "      <td>0</td>\n",
       "      <td>0</td>\n",
       "      <td>0</td>\n",
       "      <td>0</td>\n",
       "      <td>0</td>\n",
       "      <td>0.866025</td>\n",
       "      <td>0.5</td>\n",
       "      <td>0.0</td>\n",
       "      <td>1</td>\n",
       "    </tr>\n",
       "    <tr>\n",
       "      <th>2</th>\n",
       "      <td>1</td>\n",
       "      <td>0</td>\n",
       "      <td>0</td>\n",
       "      <td>0</td>\n",
       "      <td>0</td>\n",
       "      <td>0</td>\n",
       "      <td>0</td>\n",
       "      <td>0</td>\n",
       "      <td>0</td>\n",
       "      <td>0</td>\n",
       "      <td>0</td>\n",
       "      <td>0.866025</td>\n",
       "      <td>0.5</td>\n",
       "      <td>0.0</td>\n",
       "      <td>1</td>\n",
       "    </tr>\n",
       "    <tr>\n",
       "      <th>3</th>\n",
       "      <td>1</td>\n",
       "      <td>0</td>\n",
       "      <td>0</td>\n",
       "      <td>0</td>\n",
       "      <td>0</td>\n",
       "      <td>0</td>\n",
       "      <td>0</td>\n",
       "      <td>0</td>\n",
       "      <td>0</td>\n",
       "      <td>0</td>\n",
       "      <td>0</td>\n",
       "      <td>0.866025</td>\n",
       "      <td>0.5</td>\n",
       "      <td>0.0</td>\n",
       "      <td>1</td>\n",
       "    </tr>\n",
       "    <tr>\n",
       "      <th>4</th>\n",
       "      <td>1</td>\n",
       "      <td>0</td>\n",
       "      <td>0</td>\n",
       "      <td>0</td>\n",
       "      <td>0</td>\n",
       "      <td>0</td>\n",
       "      <td>0</td>\n",
       "      <td>0</td>\n",
       "      <td>0</td>\n",
       "      <td>0</td>\n",
       "      <td>0</td>\n",
       "      <td>0.866025</td>\n",
       "      <td>0.5</td>\n",
       "      <td>0.0</td>\n",
       "      <td>1</td>\n",
       "    </tr>\n",
       "  </tbody>\n",
       "</table>\n",
       "</div>"
      ],
      "text/plain": [
       "         1  2  3  4  5  6  7  8  9  10  11    hr_sin  hr_cos  tsjs  journey\n",
       "train 0  1  0  0  0  0  0  0  0  0   0   0  0.866025     0.5   0.0        1\n",
       "      1  1  0  0  0  0  0  0  0  0   0   0  0.866025     0.5   0.0        1\n",
       "      2  1  0  0  0  0  0  0  0  0   0   0  0.866025     0.5   0.0        1\n",
       "      3  1  0  0  0  0  0  0  0  0   0   0  0.866025     0.5   0.0        1\n",
       "      4  1  0  0  0  0  0  0  0  0   0   0  0.866025     0.5   0.0        1"
      ]
     },
     "execution_count": 5,
     "metadata": {},
     "output_type": "execute_result"
    }
   ],
   "source": [
    "# Make segments categorical\n",
    "dataset = pds.get_dummies(df['seg'])\n",
    "\n",
    "# Combine segments, timestamps and time from journey start\n",
    "\n",
    "# Cyclical timestamps \n",
    "dataset['hr_sin'] = np.sin(df.timestamp.dt.hour*(2.*np.pi/24))\n",
    "dataset['hr_cos'] = np.cos(df.timestamp.dt.hour*(2.*np.pi/24))\n",
    "\n",
    "dataset['tsjs'] = (df['tsjs']-df['tsjs'].min())/(df['tsjs'].max()-df['tsjs'].min())\n",
    "\n",
    "# Include journey number to select entire journeys\n",
    "dataset['journey'] = df['journey']\n",
    "dataset.head()"
   ]
  },
  {
   "cell_type": "markdown",
   "metadata": {},
   "source": [
    "Select ~20% test journeys"
   ]
  },
  {
   "cell_type": "markdown",
   "metadata": {},
   "source": [
    "divider = 0.2\n",
    "num_journeys = dataset.journey.unique()[-1]\n",
    "num_test_segments = np.int_(np.round(num_journeys*divider))\n",
    "msk = np.random.randint(1, num_journeys, num_test_segments)\n",
    "mask = dataset['journey'].isin(msk)"
   ]
  },
  {
   "cell_type": "markdown",
   "metadata": {},
   "source": [
    "Divide training and test data, where data is a sequence from a journey"
   ]
  },
  {
   "cell_type": "markdown",
   "metadata": {},
   "source": [
    "train_input = dataset[~mask]\n",
    "test_input = dataset[mask]\n",
    "\n",
    "train_labels = df[label_string][~mask]\n",
    "test_labels = df[label_string][mask]\n",
    "\n",
    "test_idxs = test_input.index"
   ]
  },
  {
   "cell_type": "code",
   "execution_count": 6,
   "metadata": {},
   "outputs": [],
   "source": [
    "train_input = dataset.loc['train']\n",
    "test_input = dataset.loc['test']\n",
    "\n",
    "train_labels = df.loc['train'][label_string]\n",
    "test_labels = df.loc['test'][label_string]\n",
    "\n",
    "test_idxs = test_labels.index"
   ]
  },
  {
   "cell_type": "code",
   "execution_count": 7,
   "metadata": {},
   "outputs": [],
   "source": [
    "# Journey are not needed up until this point\n",
    "train_data = train_input.drop(columns=['journey'])\n",
    "test_data = test_input.drop(columns=['journey'])"
   ]
  },
  {
   "cell_type": "markdown",
   "metadata": {},
   "source": [
    "Build model"
   ]
  },
  {
   "cell_type": "code",
   "execution_count": 8,
   "metadata": {},
   "outputs": [
    {
     "name": "stdout",
     "output_type": "stream",
     "text": [
      "_________________________________________________________________\n",
      "Layer (type)                 Output Shape              Param #   \n",
      "=================================================================\n",
      "dense (Dense)                (None, 28)                420       \n",
      "_________________________________________________________________\n",
      "dense_1 (Dense)              (None, 14)                406       \n",
      "_________________________________________________________________\n",
      "dense_2 (Dense)              (None, 14)                210       \n",
      "_________________________________________________________________\n",
      "dense_3 (Dense)              (None, 1)                 15        \n",
      "=================================================================\n",
      "Total params: 1,051\n",
      "Trainable params: 1,051\n",
      "Non-trainable params: 0\n",
      "_________________________________________________________________\n",
      "None\n"
     ]
    }
   ],
   "source": [
    "model = keras.Sequential([\n",
    "\tkeras.layers.Dense(2*len(train_data.columns), activation=tf.nn.relu, input_shape=(train_data.shape[1],)),\n",
    "    keras.layers.Dense(1*len(train_data.columns), activation=tf.nn.tanh),\n",
    "    keras.layers.Dense(1*len(train_data.columns)),\n",
    "\tkeras.layers.Dense(1, activation=tf.nn.relu)\n",
    "\t])\n",
    "\n",
    "optimizer = keras.optimizers.Adadelta()\n",
    "model.compile(loss='mae', optimizer = optimizer, metrics=['mae'])\n",
    "print(model.summary())"
   ]
  },
  {
   "cell_type": "markdown",
   "metadata": {},
   "source": [
    "Fit model, 10% of all training data is used as validation data"
   ]
  },
  {
   "cell_type": "code",
   "execution_count": 9,
   "metadata": {
    "scrolled": true
   },
   "outputs": [
    {
     "name": "stdout",
     "output_type": "stream",
     "text": [
      "Train on 2384639 samples, validate on 264960 samples\n",
      "Epoch 1/30\n",
      "2384639/2384639 [==============================] - 66s 28us/step - loss: 17.3696 - mean_absolute_error: 17.3696 - val_loss: 17.3402 - val_mean_absolute_error: 17.3402\n",
      "Epoch 2/30\n",
      "2384639/2384639 [==============================] - 64s 27us/step - loss: 17.2176 - mean_absolute_error: 17.2176 - val_loss: 17.3430 - val_mean_absolute_error: 17.3430\n",
      "Epoch 3/30\n",
      "2384639/2384639 [==============================] - 64s 27us/step - loss: 17.1736 - mean_absolute_error: 17.1736 - val_loss: 17.3869 - val_mean_absolute_error: 17.3869\n",
      "Epoch 4/30\n",
      "2384639/2384639 [==============================] - 65s 27us/step - loss: 17.1461 - mean_absolute_error: 17.1461 - val_loss: 17.2856 - val_mean_absolute_error: 17.2856\n",
      "Epoch 5/30\n",
      "2384639/2384639 [==============================] - 65s 27us/step - loss: 17.1213 - mean_absolute_error: 17.1213 - val_loss: 17.2909 - val_mean_absolute_error: 17.2909\n",
      "Epoch 6/30\n",
      "2384639/2384639 [==============================] - 64s 27us/step - loss: 17.1013 - mean_absolute_error: 17.1013 - val_loss: 17.3231 - val_mean_absolute_error: 17.3231\n",
      "Epoch 7/30\n",
      "2384639/2384639 [==============================] - 65s 27us/step - loss: 17.0849 - mean_absolute_error: 17.0849 - val_loss: 17.3005 - val_mean_absolute_error: 17.3005\n",
      "Epoch 8/30\n",
      "2384639/2384639 [==============================] - 65s 27us/step - loss: 17.0703 - mean_absolute_error: 17.0703 - val_loss: 17.2562 - val_mean_absolute_error: 17.2562\n",
      "Epoch 9/30\n",
      "2384639/2384639 [==============================] - 64s 27us/step - loss: 17.0599 - mean_absolute_error: 17.0599 - val_loss: 17.1996 - val_mean_absolute_error: 17.1996\n",
      "Epoch 10/30\n",
      "2384639/2384639 [==============================] - 64s 27us/step - loss: 17.0469 - mean_absolute_error: 17.0469 - val_loss: 17.3667 - val_mean_absolute_error: 17.3667\n",
      "Epoch 11/30\n",
      "2384639/2384639 [==============================] - 64s 27us/step - loss: 17.0374 - mean_absolute_error: 17.0374 - val_loss: 17.1586 - val_mean_absolute_error: 17.1586\n",
      "Epoch 12/30\n",
      "2384639/2384639 [==============================] - 63s 27us/step - loss: 17.0291 - mean_absolute_error: 17.0291 - val_loss: 17.2835 - val_mean_absolute_error: 17.2835\n",
      "Epoch 13/30\n",
      "2384639/2384639 [==============================] - 64s 27us/step - loss: 17.0200 - mean_absolute_error: 17.0200 - val_loss: 17.2435 - val_mean_absolute_error: 17.2435\n",
      "Epoch 14/30\n",
      "2384639/2384639 [==============================] - 66s 28us/step - loss: 17.0118 - mean_absolute_error: 17.0118 - val_loss: 17.3142 - val_mean_absolute_error: 17.3142\n",
      "Epoch 15/30\n",
      "2384639/2384639 [==============================] - 65s 27us/step - loss: 17.0040 - mean_absolute_error: 17.0040 - val_loss: 17.2836 - val_mean_absolute_error: 17.2836\n",
      "Epoch 16/30\n",
      "2384639/2384639 [==============================] - 63s 26us/step - loss: 16.9998 - mean_absolute_error: 16.9998 - val_loss: 17.2584 - val_mean_absolute_error: 17.2584\n",
      "Epoch 17/30\n",
      "2384639/2384639 [==============================] - 63s 27us/step - loss: 16.9962 - mean_absolute_error: 16.9962 - val_loss: 17.2454 - val_mean_absolute_error: 17.2454\n",
      "Epoch 18/30\n",
      "2384639/2384639 [==============================] - 63s 26us/step - loss: 16.9901 - mean_absolute_error: 16.9901 - val_loss: 17.1783 - val_mean_absolute_error: 17.1783\n",
      "Epoch 19/30\n",
      "2384639/2384639 [==============================] - 63s 26us/step - loss: 16.9849 - mean_absolute_error: 16.9849 - val_loss: 17.2504 - val_mean_absolute_error: 17.2504\n",
      "Epoch 20/30\n",
      "2384639/2384639 [==============================] - 63s 26us/step - loss: 16.9820 - mean_absolute_error: 16.9820 - val_loss: 17.2626 - val_mean_absolute_error: 17.2626\n",
      "Epoch 21/30\n",
      "2384639/2384639 [==============================] - 63s 26us/step - loss: 16.9770 - mean_absolute_error: 16.9770 - val_loss: 17.3072 - val_mean_absolute_error: 17.3072\n",
      "Epoch 22/30\n",
      "2384639/2384639 [==============================] - 63s 26us/step - loss: 16.9709 - mean_absolute_error: 16.9709 - val_loss: 17.2328 - val_mean_absolute_error: 17.2328\n",
      "Epoch 23/30\n",
      "2384639/2384639 [==============================] - 64s 27us/step - loss: 16.9661 - mean_absolute_error: 16.9661 - val_loss: 17.1688 - val_mean_absolute_error: 17.1688\n",
      "Epoch 24/30\n",
      "2384639/2384639 [==============================] - 63s 26us/step - loss: 16.9627 - mean_absolute_error: 16.9627 - val_loss: 17.2865 - val_mean_absolute_error: 17.2865\n",
      "Epoch 25/30\n",
      "2384639/2384639 [==============================] - 62s 26us/step - loss: 16.9580 - mean_absolute_error: 16.9580 - val_loss: 17.2408 - val_mean_absolute_error: 17.2408\n",
      "Epoch 26/30\n",
      "2384639/2384639 [==============================] - 74s 31us/step - loss: 16.9534 - mean_absolute_error: 16.9534 - val_loss: 17.2242 - val_mean_absolute_error: 17.2242\n",
      "Epoch 27/30\n",
      "2384639/2384639 [==============================] - 76s 32us/step - loss: 16.9492 - mean_absolute_error: 16.9492 - val_loss: 17.3206 - val_mean_absolute_error: 17.3206\n",
      "Epoch 28/30\n",
      "2384639/2384639 [==============================] - 78s 33us/step - loss: 16.9466 - mean_absolute_error: 16.9466 - val_loss: 17.2575 - val_mean_absolute_error: 17.2575\n",
      "Epoch 29/30\n",
      "2384639/2384639 [==============================] - 78s 33us/step - loss: 16.9427 - mean_absolute_error: 16.9427 - val_loss: 17.2716 - val_mean_absolute_error: 17.2716\n",
      "Epoch 30/30\n",
      "2384639/2384639 [==============================] - 78s 33us/step - loss: 16.9400 - mean_absolute_error: 16.9400 - val_loss: 17.2840 - val_mean_absolute_error: 17.2840\n"
     ]
    },
    {
     "data": {
      "text/plain": [
       "<tensorflow.python.keras.callbacks.History at 0x1d913032fd0>"
      ]
     },
     "execution_count": 9,
     "metadata": {},
     "output_type": "execute_result"
    }
   ],
   "source": [
    "EPOCHS=30\n",
    "model.fit(train_data.values, \n",
    "          train_labels.values, \n",
    "          epochs = EPOCHS, \n",
    "          validation_split=0.1,\n",
    "          batch_size=32,\n",
    "          initial_epoch=0\n",
    "         )"
   ]
  },
  {
   "cell_type": "markdown",
   "metadata": {},
   "source": [
    "Evaluate model on all test data"
   ]
  },
  {
   "cell_type": "code",
   "execution_count": 10,
   "metadata": {},
   "outputs": [
    {
     "name": "stdout",
     "output_type": "stream",
     "text": [
      "662401/662401 [==============================] - 9s 13us/step\n"
     ]
    },
    {
     "data": {
      "text/plain": [
       "[18.325820083639588, 18.325820083639588]"
      ]
     },
     "execution_count": 10,
     "metadata": {},
     "output_type": "execute_result"
    }
   ],
   "source": [
    "model.evaluate(test_data.values, test_labels.values)"
   ]
  },
  {
   "cell_type": "code",
   "execution_count": 11,
   "metadata": {},
   "outputs": [],
   "source": [
    "predictions = model.predict(test_data.values)"
   ]
  },
  {
   "cell_type": "markdown",
   "metadata": {},
   "source": [
    "### Create dataset for evaluation\n",
    "\n",
    "This dataset is evaluated in a special way. The time spent from the start of the segment is also needed to predict ETA. `tsss` = time since segment start"
   ]
  },
  {
   "cell_type": "code",
   "execution_count": 14,
   "metadata": {},
   "outputs": [],
   "source": [
    "tsss = (test_labels - df['time_left'].loc['test']).reset_index(drop=True)"
   ]
  },
  {
   "cell_type": "code",
   "execution_count": 15,
   "metadata": {},
   "outputs": [
    {
     "data": {
      "text/plain": [
       "0    189.124207\n",
       "1    188.124207\n",
       "2    187.124207\n",
       "3    186.124207\n",
       "4    185.124207\n",
       "dtype: float64"
      ]
     },
     "execution_count": 15,
     "metadata": {},
     "output_type": "execute_result"
    }
   ],
   "source": [
    "pred = predictions.flatten() - tsss\n",
    "pred.names = 'pred'\n",
    "pred.head()"
   ]
  },
  {
   "cell_type": "code",
   "execution_count": 16,
   "metadata": {},
   "outputs": [
    {
     "data": {
      "text/plain": [
       "0    209.0\n",
       "1    208.0\n",
       "2    207.0\n",
       "3    206.0\n",
       "4    205.0\n",
       "Name: segment_time, dtype: float64"
      ]
     },
     "execution_count": 16,
     "metadata": {},
     "output_type": "execute_result"
    }
   ],
   "source": [
    "labels = test_labels.reset_index(drop=True) - tsss.values\n",
    "labels.head()"
   ]
  },
  {
   "cell_type": "code",
   "execution_count": 22,
   "metadata": {},
   "outputs": [
    {
     "data": {
      "text/plain": [
       "0    0.0\n",
       "1    0.0\n",
       "2    0.0\n",
       "3    0.0\n",
       "4    0.0\n",
       "Name: speed, dtype: float64"
      ]
     },
     "execution_count": 22,
     "metadata": {},
     "output_type": "execute_result"
    }
   ],
   "source": [
    "speed = (df['speed']-df['speed'].min())/(df['speed'].max()-df['speed'].min())\n",
    "speed = speed.loc['test'].reset_index(drop=True)\n",
    "speed.head()"
   ]
  },
  {
   "cell_type": "code",
   "execution_count": 23,
   "metadata": {},
   "outputs": [
    {
     "data": {
      "text/plain": [
       "0    1\n",
       "1    1\n",
       "2    1\n",
       "3    1\n",
       "4    1\n",
       "Name: seg, dtype: int64"
      ]
     },
     "execution_count": 23,
     "metadata": {},
     "output_type": "execute_result"
    }
   ],
   "source": [
    "segment = df['seg'].loc['test'].reset_index(drop=True)\n",
    "segment.head()"
   ]
  },
  {
   "cell_type": "markdown",
   "metadata": {},
   "source": [
    "Prepare data for the evaluation step"
   ]
  },
  {
   "cell_type": "code",
   "execution_count": 24,
   "metadata": {},
   "outputs": [
    {
     "data": {
      "text/html": [
       "<div>\n",
       "<style scoped>\n",
       "    .dataframe tbody tr th:only-of-type {\n",
       "        vertical-align: middle;\n",
       "    }\n",
       "\n",
       "    .dataframe tbody tr th {\n",
       "        vertical-align: top;\n",
       "    }\n",
       "\n",
       "    .dataframe thead th {\n",
       "        text-align: right;\n",
       "    }\n",
       "</style>\n",
       "<table border=\"1\" class=\"dataframe\">\n",
       "  <thead>\n",
       "    <tr style=\"text-align: right;\">\n",
       "      <th></th>\n",
       "      <th>seg</th>\n",
       "      <th>journey</th>\n",
       "      <th>speed</th>\n",
       "      <th>pred</th>\n",
       "      <th>label</th>\n",
       "    </tr>\n",
       "  </thead>\n",
       "  <tbody>\n",
       "    <tr>\n",
       "      <th>0</th>\n",
       "      <td>1</td>\n",
       "      <td>14</td>\n",
       "      <td>0.0</td>\n",
       "      <td>189.124207</td>\n",
       "      <td>209.0</td>\n",
       "    </tr>\n",
       "    <tr>\n",
       "      <th>1</th>\n",
       "      <td>1</td>\n",
       "      <td>14</td>\n",
       "      <td>0.0</td>\n",
       "      <td>188.124207</td>\n",
       "      <td>208.0</td>\n",
       "    </tr>\n",
       "    <tr>\n",
       "      <th>2</th>\n",
       "      <td>1</td>\n",
       "      <td>14</td>\n",
       "      <td>0.0</td>\n",
       "      <td>187.124207</td>\n",
       "      <td>207.0</td>\n",
       "    </tr>\n",
       "    <tr>\n",
       "      <th>3</th>\n",
       "      <td>1</td>\n",
       "      <td>14</td>\n",
       "      <td>0.0</td>\n",
       "      <td>186.124207</td>\n",
       "      <td>206.0</td>\n",
       "    </tr>\n",
       "    <tr>\n",
       "      <th>4</th>\n",
       "      <td>1</td>\n",
       "      <td>14</td>\n",
       "      <td>0.0</td>\n",
       "      <td>185.124207</td>\n",
       "      <td>205.0</td>\n",
       "    </tr>\n",
       "  </tbody>\n",
       "</table>\n",
       "</div>"
      ],
      "text/plain": [
       "   seg  journey  speed        pred  label\n",
       "0    1       14    0.0  189.124207  209.0\n",
       "1    1       14    0.0  188.124207  208.0\n",
       "2    1       14    0.0  187.124207  207.0\n",
       "3    1       14    0.0  186.124207  206.0\n",
       "4    1       14    0.0  185.124207  205.0"
      ]
     },
     "execution_count": 24,
     "metadata": {},
     "output_type": "execute_result"
    }
   ],
   "source": [
    "output = pds.DataFrame()\n",
    "output['seg'] = segment\n",
    "output['journey'] = test_input['journey'].values\n",
    "output['speed'] = speed.values\n",
    "output['pred'] = pred.values\n",
    "output['label'] = labels\n",
    "output.head()"
   ]
  },
  {
   "cell_type": "code",
   "execution_count": 25,
   "metadata": {},
   "outputs": [],
   "source": [
    "# Same name for all files\n",
    "model_name = 'ANN_M1'\n",
    "\n",
    "# Serialize model to YAML\n",
    "model_yaml = model.to_yaml()\n",
    "with open(model_name + '.yaml', \"w\") as yaml_file:\n",
    "    yaml_file.write(model_yaml)\n",
    "\n",
    "# Serialize weights to HDF5\n",
    "model.save_weights(model_name + '.h5')"
   ]
  },
  {
   "cell_type": "code",
   "execution_count": 26,
   "metadata": {},
   "outputs": [],
   "source": [
    "output.to_pickle(model_name + '.pkl')"
   ]
  },
  {
   "cell_type": "markdown",
   "metadata": {},
   "source": [
    "Done! Get ready for evaluation"
   ]
  }
 ],
 "metadata": {
  "kernelspec": {
   "display_name": "Python 3",
   "language": "python",
   "name": "python3"
  },
  "language_info": {
   "codemirror_mode": {
    "name": "ipython",
    "version": 3
   },
   "file_extension": ".py",
   "mimetype": "text/x-python",
   "name": "python",
   "nbconvert_exporter": "python",
   "pygments_lexer": "ipython3",
   "version": "3.6.7"
  }
 },
 "nbformat": 4,
 "nbformat_minor": 2
}
