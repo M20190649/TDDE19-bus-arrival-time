{
 "cells": [
  {
   "cell_type": "markdown",
   "metadata": {},
   "source": [
    "# Model creation and data split-up\n",
    "\n",
    "This notebook will:\n",
    "* Split data ito test and train data\n",
    "* Train the model\n",
    "* Save the model"
   ]
  },
  {
   "cell_type": "markdown",
   "metadata": {},
   "source": [
    "Import packages"
   ]
  },
  {
   "cell_type": "code",
   "execution_count": 1,
   "metadata": {
    "scrolled": true
   },
   "outputs": [],
   "source": [
    "import tensorflow as tf\n",
    "from tensorflow import keras\n",
    "import numpy as np\n",
    "import pandas as pds"
   ]
  },
  {
   "cell_type": "markdown",
   "metadata": {},
   "source": [
    "Import data"
   ]
  },
  {
   "cell_type": "code",
   "execution_count": 2,
   "metadata": {},
   "outputs": [
    {
     "data": {
      "text/html": [
       "<div>\n",
       "<style scoped>\n",
       "    .dataframe tbody tr th:only-of-type {\n",
       "        vertical-align: middle;\n",
       "    }\n",
       "\n",
       "    .dataframe tbody tr th {\n",
       "        vertical-align: top;\n",
       "    }\n",
       "\n",
       "    .dataframe thead th {\n",
       "        text-align: right;\n",
       "    }\n",
       "</style>\n",
       "<table border=\"1\" class=\"dataframe\">\n",
       "  <thead>\n",
       "    <tr style=\"text-align: right;\">\n",
       "      <th></th>\n",
       "      <th>timestamp</th>\n",
       "      <th>lon</th>\n",
       "      <th>lat</th>\n",
       "      <th>direction</th>\n",
       "      <th>speed</th>\n",
       "      <th>journey</th>\n",
       "      <th>seg</th>\n",
       "      <th>time_left</th>\n",
       "      <th>segment_time</th>\n",
       "      <th>tsjs</th>\n",
       "    </tr>\n",
       "  </thead>\n",
       "  <tbody>\n",
       "    <tr>\n",
       "      <th>0</th>\n",
       "      <td>2018-02-16 04:48:40+01:00</td>\n",
       "      <td>58.414238</td>\n",
       "      <td>15.571015</td>\n",
       "      <td>147.300003</td>\n",
       "      <td>0.0</td>\n",
       "      <td>1</td>\n",
       "      <td>1</td>\n",
       "      <td>71.0</td>\n",
       "      <td>71.0</td>\n",
       "      <td>0.0</td>\n",
       "    </tr>\n",
       "    <tr>\n",
       "      <th>1</th>\n",
       "      <td>2018-02-16 04:48:41+01:00</td>\n",
       "      <td>58.414246</td>\n",
       "      <td>15.571012</td>\n",
       "      <td>147.300003</td>\n",
       "      <td>0.0</td>\n",
       "      <td>1</td>\n",
       "      <td>1</td>\n",
       "      <td>70.0</td>\n",
       "      <td>71.0</td>\n",
       "      <td>0.0</td>\n",
       "    </tr>\n",
       "    <tr>\n",
       "      <th>2</th>\n",
       "      <td>2018-02-16 04:48:42+01:00</td>\n",
       "      <td>58.414249</td>\n",
       "      <td>15.571008</td>\n",
       "      <td>147.300003</td>\n",
       "      <td>0.0</td>\n",
       "      <td>1</td>\n",
       "      <td>1</td>\n",
       "      <td>69.0</td>\n",
       "      <td>71.0</td>\n",
       "      <td>0.0</td>\n",
       "    </tr>\n",
       "    <tr>\n",
       "      <th>3</th>\n",
       "      <td>2018-02-16 04:48:43+01:00</td>\n",
       "      <td>58.414257</td>\n",
       "      <td>15.571004</td>\n",
       "      <td>147.300003</td>\n",
       "      <td>0.0</td>\n",
       "      <td>1</td>\n",
       "      <td>1</td>\n",
       "      <td>68.0</td>\n",
       "      <td>71.0</td>\n",
       "      <td>0.0</td>\n",
       "    </tr>\n",
       "    <tr>\n",
       "      <th>4</th>\n",
       "      <td>2018-02-16 04:48:44+01:00</td>\n",
       "      <td>58.414257</td>\n",
       "      <td>15.571006</td>\n",
       "      <td>147.300003</td>\n",
       "      <td>0.0</td>\n",
       "      <td>1</td>\n",
       "      <td>1</td>\n",
       "      <td>67.0</td>\n",
       "      <td>71.0</td>\n",
       "      <td>0.0</td>\n",
       "    </tr>\n",
       "  </tbody>\n",
       "</table>\n",
       "</div>"
      ],
      "text/plain": [
       "                  timestamp        lon        lat   direction  speed  journey  \\\n",
       "0 2018-02-16 04:48:40+01:00  58.414238  15.571015  147.300003    0.0        1   \n",
       "1 2018-02-16 04:48:41+01:00  58.414246  15.571012  147.300003    0.0        1   \n",
       "2 2018-02-16 04:48:42+01:00  58.414249  15.571008  147.300003    0.0        1   \n",
       "3 2018-02-16 04:48:43+01:00  58.414257  15.571004  147.300003    0.0        1   \n",
       "4 2018-02-16 04:48:44+01:00  58.414257  15.571006  147.300003    0.0        1   \n",
       "\n",
       "   seg  time_left  segment_time  tsjs  \n",
       "0    1       71.0          71.0   0.0  \n",
       "1    1       70.0          71.0   0.0  \n",
       "2    1       69.0          71.0   0.0  \n",
       "3    1       68.0          71.0   0.0  \n",
       "4    1       67.0          71.0   0.0  "
      ]
     },
     "execution_count": 2,
     "metadata": {},
     "output_type": "execute_result"
    }
   ],
   "source": [
    "df = pds.read_pickle('ANN_dataset.pkl')\n",
    "df.head()"
   ]
  },
  {
   "cell_type": "markdown",
   "metadata": {},
   "source": [
    "Note that `segment_time` is the label in this model "
   ]
  },
  {
   "cell_type": "code",
   "execution_count": 3,
   "metadata": {},
   "outputs": [],
   "source": [
    "label_string = 'segment_time'"
   ]
  },
  {
   "cell_type": "markdown",
   "metadata": {},
   "source": [
    "One hot encode segments, normalize columns and create final dataset"
   ]
  },
  {
   "cell_type": "code",
   "execution_count": 4,
   "metadata": {},
   "outputs": [
    {
     "data": {
      "text/html": [
       "<div>\n",
       "<style scoped>\n",
       "    .dataframe tbody tr th:only-of-type {\n",
       "        vertical-align: middle;\n",
       "    }\n",
       "\n",
       "    .dataframe tbody tr th {\n",
       "        vertical-align: top;\n",
       "    }\n",
       "\n",
       "    .dataframe thead th {\n",
       "        text-align: right;\n",
       "    }\n",
       "</style>\n",
       "<table border=\"1\" class=\"dataframe\">\n",
       "  <thead>\n",
       "    <tr style=\"text-align: right;\">\n",
       "      <th></th>\n",
       "      <th>1</th>\n",
       "      <th>2</th>\n",
       "      <th>3</th>\n",
       "      <th>4</th>\n",
       "      <th>5</th>\n",
       "      <th>6</th>\n",
       "      <th>7</th>\n",
       "      <th>8</th>\n",
       "      <th>9</th>\n",
       "      <th>10</th>\n",
       "      <th>11</th>\n",
       "      <th>hr_sin</th>\n",
       "      <th>hr_cos</th>\n",
       "      <th>tsjs</th>\n",
       "      <th>journey</th>\n",
       "    </tr>\n",
       "  </thead>\n",
       "  <tbody>\n",
       "    <tr>\n",
       "      <th>0</th>\n",
       "      <td>1</td>\n",
       "      <td>0</td>\n",
       "      <td>0</td>\n",
       "      <td>0</td>\n",
       "      <td>0</td>\n",
       "      <td>0</td>\n",
       "      <td>0</td>\n",
       "      <td>0</td>\n",
       "      <td>0</td>\n",
       "      <td>0</td>\n",
       "      <td>0</td>\n",
       "      <td>0.866025</td>\n",
       "      <td>0.5</td>\n",
       "      <td>0.0</td>\n",
       "      <td>1</td>\n",
       "    </tr>\n",
       "    <tr>\n",
       "      <th>1</th>\n",
       "      <td>1</td>\n",
       "      <td>0</td>\n",
       "      <td>0</td>\n",
       "      <td>0</td>\n",
       "      <td>0</td>\n",
       "      <td>0</td>\n",
       "      <td>0</td>\n",
       "      <td>0</td>\n",
       "      <td>0</td>\n",
       "      <td>0</td>\n",
       "      <td>0</td>\n",
       "      <td>0.866025</td>\n",
       "      <td>0.5</td>\n",
       "      <td>0.0</td>\n",
       "      <td>1</td>\n",
       "    </tr>\n",
       "    <tr>\n",
       "      <th>2</th>\n",
       "      <td>1</td>\n",
       "      <td>0</td>\n",
       "      <td>0</td>\n",
       "      <td>0</td>\n",
       "      <td>0</td>\n",
       "      <td>0</td>\n",
       "      <td>0</td>\n",
       "      <td>0</td>\n",
       "      <td>0</td>\n",
       "      <td>0</td>\n",
       "      <td>0</td>\n",
       "      <td>0.866025</td>\n",
       "      <td>0.5</td>\n",
       "      <td>0.0</td>\n",
       "      <td>1</td>\n",
       "    </tr>\n",
       "    <tr>\n",
       "      <th>3</th>\n",
       "      <td>1</td>\n",
       "      <td>0</td>\n",
       "      <td>0</td>\n",
       "      <td>0</td>\n",
       "      <td>0</td>\n",
       "      <td>0</td>\n",
       "      <td>0</td>\n",
       "      <td>0</td>\n",
       "      <td>0</td>\n",
       "      <td>0</td>\n",
       "      <td>0</td>\n",
       "      <td>0.866025</td>\n",
       "      <td>0.5</td>\n",
       "      <td>0.0</td>\n",
       "      <td>1</td>\n",
       "    </tr>\n",
       "    <tr>\n",
       "      <th>4</th>\n",
       "      <td>1</td>\n",
       "      <td>0</td>\n",
       "      <td>0</td>\n",
       "      <td>0</td>\n",
       "      <td>0</td>\n",
       "      <td>0</td>\n",
       "      <td>0</td>\n",
       "      <td>0</td>\n",
       "      <td>0</td>\n",
       "      <td>0</td>\n",
       "      <td>0</td>\n",
       "      <td>0.866025</td>\n",
       "      <td>0.5</td>\n",
       "      <td>0.0</td>\n",
       "      <td>1</td>\n",
       "    </tr>\n",
       "  </tbody>\n",
       "</table>\n",
       "</div>"
      ],
      "text/plain": [
       "   1  2  3  4  5  6  7  8  9  10  11    hr_sin  hr_cos  tsjs  journey\n",
       "0  1  0  0  0  0  0  0  0  0   0   0  0.866025     0.5   0.0        1\n",
       "1  1  0  0  0  0  0  0  0  0   0   0  0.866025     0.5   0.0        1\n",
       "2  1  0  0  0  0  0  0  0  0   0   0  0.866025     0.5   0.0        1\n",
       "3  1  0  0  0  0  0  0  0  0   0   0  0.866025     0.5   0.0        1\n",
       "4  1  0  0  0  0  0  0  0  0   0   0  0.866025     0.5   0.0        1"
      ]
     },
     "execution_count": 4,
     "metadata": {},
     "output_type": "execute_result"
    }
   ],
   "source": [
    "# Make segments categorical\n",
    "dataset = pds.get_dummies(df['seg'])\n",
    "\n",
    "# Combine segments, timestamps and time from journey start\n",
    "\n",
    "# Cyclical timestamps \n",
    "dataset['hr_sin'] = np.sin(df.timestamp.dt.hour*(2.*np.pi/24))\n",
    "dataset['hr_cos'] = np.cos(df.timestamp.dt.hour*(2.*np.pi/24))\n",
    "\n",
    "dataset['tsjs'] = (df['tsjs']-df['tsjs'].min())/(df['tsjs'].max()-df['tsjs'].min())\n",
    "\n",
    "# Include journey number to select entire journeys\n",
    "dataset['journey'] = df['journey']\n",
    "dataset.head()"
   ]
  },
  {
   "cell_type": "markdown",
   "metadata": {},
   "source": [
    "Select ~20% test journeys"
   ]
  },
  {
   "cell_type": "code",
   "execution_count": 5,
   "metadata": {},
   "outputs": [],
   "source": [
    "divider = 0.2\n",
    "num_journeys = dataset.journey.unique()[-1]\n",
    "num_test_segments = np.int_(np.round(num_journeys*divider))\n",
    "msk = np.random.randint(1, num_journeys, num_test_segments)\n",
    "mask = dataset['journey'].isin(msk)"
   ]
  },
  {
   "cell_type": "markdown",
   "metadata": {},
   "source": [
    "Divide training and test data, where data is a sequence from a journey"
   ]
  },
  {
   "cell_type": "code",
   "execution_count": 6,
   "metadata": {},
   "outputs": [],
   "source": [
    "train_input = dataset[~mask]\n",
    "test_input = dataset[mask]\n",
    "\n",
    "train_labels = df[label_string][~mask]\n",
    "test_labels = df[label_string][mask]"
   ]
  },
  {
   "cell_type": "code",
   "execution_count": 7,
   "metadata": {},
   "outputs": [],
   "source": [
    "# Journey numbers were needed up until this point\n",
    "train_data = train_input.drop(columns=['journey'])\n",
    "test_data = test_input.drop(columns=['journey'])"
   ]
  },
  {
   "cell_type": "markdown",
   "metadata": {},
   "source": [
    "Build model"
   ]
  },
  {
   "cell_type": "code",
   "execution_count": 8,
   "metadata": {},
   "outputs": [
    {
     "name": "stdout",
     "output_type": "stream",
     "text": [
      "_________________________________________________________________\n",
      "Layer (type)                 Output Shape              Param #   \n",
      "=================================================================\n",
      "dense (Dense)                (None, 28)                420       \n",
      "_________________________________________________________________\n",
      "dense_1 (Dense)              (None, 14)                406       \n",
      "_________________________________________________________________\n",
      "dense_2 (Dense)              (None, 1)                 15        \n",
      "=================================================================\n",
      "Total params: 841\n",
      "Trainable params: 841\n",
      "Non-trainable params: 0\n",
      "_________________________________________________________________\n",
      "None\n"
     ]
    }
   ],
   "source": [
    "model = keras.Sequential([\n",
    "\tkeras.layers.Dense(2*len(train_data.columns), activation=tf.nn.tanh, input_shape=(train_data.shape[1],)),\n",
    "    keras.layers.Dense(len(train_data.columns), activation=tf.nn.relu),\n",
    "\tkeras.layers.Dense(1, activation=tf.nn.relu)\n",
    "\t])\n",
    "\n",
    "optimizer = keras.optimizers.Adadelta()\n",
    "model.compile(loss='mae', optimizer = optimizer, metrics=['mae'])\n",
    "print(model.summary())"
   ]
  },
  {
   "cell_type": "markdown",
   "metadata": {},
   "source": [
    "Fit model, 10% of all training data is used as validation data"
   ]
  },
  {
   "cell_type": "code",
   "execution_count": 9,
   "metadata": {},
   "outputs": [
    {
     "name": "stdout",
     "output_type": "stream",
     "text": [
      "Train on 2433164 samples, validate on 270352 samples\n",
      "Epoch 1/5\n",
      "2433164/2433164 [==============================] - 57s 23us/step - loss: 17.5803 - mean_absolute_error: 17.5803 - val_loss: 17.8480 - val_mean_absolute_error: 17.8480\n",
      "Epoch 2/5\n",
      "2433164/2433164 [==============================] - 61s 25us/step - loss: 17.3768 - mean_absolute_error: 17.3768 - val_loss: 17.7433 - val_mean_absolute_error: 17.7433\n",
      "Epoch 3/5\n",
      "2433164/2433164 [==============================] - 62s 25us/step - loss: 17.3274 - mean_absolute_error: 17.3274 - val_loss: 17.8794 - val_mean_absolute_error: 17.8794\n",
      "Epoch 4/5\n",
      "2433164/2433164 [==============================] - 61s 25us/step - loss: 17.3028 - mean_absolute_error: 17.3028 - val_loss: 17.7824 - val_mean_absolute_error: 17.7824\n",
      "Epoch 5/5\n",
      "2433164/2433164 [==============================] - 60s 25us/step - loss: 17.2854 - mean_absolute_error: 17.2854 - val_loss: 17.9249 - val_mean_absolute_error: 17.9249\n"
     ]
    },
    {
     "data": {
      "text/plain": [
       "<tensorflow.python.keras.callbacks.History at 0x1d2c1b731d0>"
      ]
     },
     "execution_count": 9,
     "metadata": {},
     "output_type": "execute_result"
    }
   ],
   "source": [
    "EPOCHS=5\n",
    "model.fit(train_data.values, train_labels.values, epochs = EPOCHS, validation_split=0.1, initial_epoch=0)"
   ]
  },
  {
   "cell_type": "markdown",
   "metadata": {},
   "source": [
    "Evaluate model on all test data"
   ]
  },
  {
   "cell_type": "code",
   "execution_count": 10,
   "metadata": {},
   "outputs": [
    {
     "name": "stdout",
     "output_type": "stream",
     "text": [
      "608484/608484 [==============================] - 6s 10us/step\n"
     ]
    },
    {
     "data": {
      "text/plain": [
       "[17.803824904618228, 17.803824904618228]"
      ]
     },
     "execution_count": 10,
     "metadata": {},
     "output_type": "execute_result"
    }
   ],
   "source": [
    "model.evaluate(test_data.values, test_labels.values)"
   ]
  },
  {
   "cell_type": "markdown",
   "metadata": {},
   "source": [
    "Prepare data for the evaluation step"
   ]
  },
  {
   "cell_type": "code",
   "execution_count": 11,
   "metadata": {},
   "outputs": [],
   "source": [
    "# Same name for all files\n",
    "model_name = 'ANN_M1'\n",
    "\n",
    "# Serialize model to YAML\n",
    "model_yaml = model.to_yaml()\n",
    "with open(model_name + '.yaml', \"w\") as yaml_file:\n",
    "    yaml_file.write(model_yaml)\n",
    "\n",
    "# Serialize weights to HDF5\n",
    "model.save_weights(model_name + '.h5')"
   ]
  },
  {
   "cell_type": "code",
   "execution_count": 12,
   "metadata": {},
   "outputs": [
    {
     "data": {
      "text/html": [
       "<div>\n",
       "<style scoped>\n",
       "    .dataframe tbody tr th:only-of-type {\n",
       "        vertical-align: middle;\n",
       "    }\n",
       "\n",
       "    .dataframe tbody tr th {\n",
       "        vertical-align: top;\n",
       "    }\n",
       "\n",
       "    .dataframe thead th {\n",
       "        text-align: right;\n",
       "    }\n",
       "</style>\n",
       "<table border=\"1\" class=\"dataframe\">\n",
       "  <thead>\n",
       "    <tr style=\"text-align: right;\">\n",
       "      <th></th>\n",
       "      <th>1</th>\n",
       "      <th>2</th>\n",
       "      <th>3</th>\n",
       "      <th>4</th>\n",
       "      <th>5</th>\n",
       "      <th>6</th>\n",
       "      <th>7</th>\n",
       "      <th>8</th>\n",
       "      <th>9</th>\n",
       "      <th>10</th>\n",
       "      <th>11</th>\n",
       "      <th>hr_sin</th>\n",
       "      <th>hr_cos</th>\n",
       "      <th>tsjs</th>\n",
       "      <th>journey</th>\n",
       "      <th>segment_time</th>\n",
       "    </tr>\n",
       "  </thead>\n",
       "  <tbody>\n",
       "    <tr>\n",
       "      <th>20089</th>\n",
       "      <td>1</td>\n",
       "      <td>0</td>\n",
       "      <td>0</td>\n",
       "      <td>0</td>\n",
       "      <td>0</td>\n",
       "      <td>0</td>\n",
       "      <td>0</td>\n",
       "      <td>0</td>\n",
       "      <td>0</td>\n",
       "      <td>0</td>\n",
       "      <td>0</td>\n",
       "      <td>0.5</td>\n",
       "      <td>-0.866025</td>\n",
       "      <td>0.0</td>\n",
       "      <td>23</td>\n",
       "      <td>225.0</td>\n",
       "    </tr>\n",
       "    <tr>\n",
       "      <th>20090</th>\n",
       "      <td>1</td>\n",
       "      <td>0</td>\n",
       "      <td>0</td>\n",
       "      <td>0</td>\n",
       "      <td>0</td>\n",
       "      <td>0</td>\n",
       "      <td>0</td>\n",
       "      <td>0</td>\n",
       "      <td>0</td>\n",
       "      <td>0</td>\n",
       "      <td>0</td>\n",
       "      <td>0.5</td>\n",
       "      <td>-0.866025</td>\n",
       "      <td>0.0</td>\n",
       "      <td>23</td>\n",
       "      <td>225.0</td>\n",
       "    </tr>\n",
       "    <tr>\n",
       "      <th>20091</th>\n",
       "      <td>1</td>\n",
       "      <td>0</td>\n",
       "      <td>0</td>\n",
       "      <td>0</td>\n",
       "      <td>0</td>\n",
       "      <td>0</td>\n",
       "      <td>0</td>\n",
       "      <td>0</td>\n",
       "      <td>0</td>\n",
       "      <td>0</td>\n",
       "      <td>0</td>\n",
       "      <td>0.5</td>\n",
       "      <td>-0.866025</td>\n",
       "      <td>0.0</td>\n",
       "      <td>23</td>\n",
       "      <td>225.0</td>\n",
       "    </tr>\n",
       "    <tr>\n",
       "      <th>20092</th>\n",
       "      <td>1</td>\n",
       "      <td>0</td>\n",
       "      <td>0</td>\n",
       "      <td>0</td>\n",
       "      <td>0</td>\n",
       "      <td>0</td>\n",
       "      <td>0</td>\n",
       "      <td>0</td>\n",
       "      <td>0</td>\n",
       "      <td>0</td>\n",
       "      <td>0</td>\n",
       "      <td>0.5</td>\n",
       "      <td>-0.866025</td>\n",
       "      <td>0.0</td>\n",
       "      <td>23</td>\n",
       "      <td>225.0</td>\n",
       "    </tr>\n",
       "    <tr>\n",
       "      <th>20093</th>\n",
       "      <td>1</td>\n",
       "      <td>0</td>\n",
       "      <td>0</td>\n",
       "      <td>0</td>\n",
       "      <td>0</td>\n",
       "      <td>0</td>\n",
       "      <td>0</td>\n",
       "      <td>0</td>\n",
       "      <td>0</td>\n",
       "      <td>0</td>\n",
       "      <td>0</td>\n",
       "      <td>0.5</td>\n",
       "      <td>-0.866025</td>\n",
       "      <td>0.0</td>\n",
       "      <td>23</td>\n",
       "      <td>225.0</td>\n",
       "    </tr>\n",
       "  </tbody>\n",
       "</table>\n",
       "</div>"
      ],
      "text/plain": [
       "       1  2  3  4  5  6  7  8  9  10  11  hr_sin    hr_cos  tsjs  journey  \\\n",
       "20089  1  0  0  0  0  0  0  0  0   0   0     0.5 -0.866025   0.0       23   \n",
       "20090  1  0  0  0  0  0  0  0  0   0   0     0.5 -0.866025   0.0       23   \n",
       "20091  1  0  0  0  0  0  0  0  0   0   0     0.5 -0.866025   0.0       23   \n",
       "20092  1  0  0  0  0  0  0  0  0   0   0     0.5 -0.866025   0.0       23   \n",
       "20093  1  0  0  0  0  0  0  0  0   0   0     0.5 -0.866025   0.0       23   \n",
       "\n",
       "       segment_time  \n",
       "20089         225.0  \n",
       "20090         225.0  \n",
       "20091         225.0  \n",
       "20092         225.0  \n",
       "20093         225.0  "
      ]
     },
     "execution_count": 12,
     "metadata": {},
     "output_type": "execute_result"
    }
   ],
   "source": [
    "output = pds.concat([test_input, test_labels], axis=1)\n",
    "output.head()"
   ]
  },
  {
   "cell_type": "code",
   "execution_count": 13,
   "metadata": {},
   "outputs": [],
   "source": [
    "output.to_pickle(model_name + '.pkl')"
   ]
  },
  {
   "cell_type": "markdown",
   "metadata": {},
   "source": [
    "Done! Get ready for evaluation"
   ]
  }
 ],
 "metadata": {
  "kernelspec": {
   "display_name": "Python 3",
   "language": "python",
   "name": "python3"
  },
  "language_info": {
   "codemirror_mode": {
    "name": "ipython",
    "version": 3
   },
   "file_extension": ".py",
   "mimetype": "text/x-python",
   "name": "python",
   "nbconvert_exporter": "python",
   "pygments_lexer": "ipython3",
   "version": "3.6.7"
  }
 },
 "nbformat": 4,
 "nbformat_minor": 2
}
