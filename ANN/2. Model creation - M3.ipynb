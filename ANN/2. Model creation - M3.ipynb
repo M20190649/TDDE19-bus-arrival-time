{
 "cells": [
  {
   "cell_type": "markdown",
   "metadata": {},
   "source": [
    "# Model creation and data split-up\n",
    "\n",
    "This notebook will:\n",
    "* Split data ito test and train data\n",
    "* Train the model\n",
    "* Save the model"
   ]
  },
  {
   "cell_type": "markdown",
   "metadata": {},
   "source": [
    "Import packages"
   ]
  },
  {
   "cell_type": "code",
   "execution_count": 1,
   "metadata": {
    "scrolled": true
   },
   "outputs": [],
   "source": [
    "import tensorflow as tf\n",
    "from tensorflow import keras\n",
    "import numpy as np\n",
    "import pandas as pds"
   ]
  },
  {
   "cell_type": "markdown",
   "metadata": {},
   "source": [
    "Import data"
   ]
  },
  {
   "cell_type": "code",
   "execution_count": 2,
   "metadata": {},
   "outputs": [
    {
     "data": {
      "text/html": [
       "<div>\n",
       "<style scoped>\n",
       "    .dataframe tbody tr th:only-of-type {\n",
       "        vertical-align: middle;\n",
       "    }\n",
       "\n",
       "    .dataframe tbody tr th {\n",
       "        vertical-align: top;\n",
       "    }\n",
       "\n",
       "    .dataframe thead th {\n",
       "        text-align: right;\n",
       "    }\n",
       "</style>\n",
       "<table border=\"1\" class=\"dataframe\">\n",
       "  <thead>\n",
       "    <tr style=\"text-align: right;\">\n",
       "      <th></th>\n",
       "      <th>timestamp</th>\n",
       "      <th>lon</th>\n",
       "      <th>lat</th>\n",
       "      <th>direction</th>\n",
       "      <th>speed</th>\n",
       "      <th>journey</th>\n",
       "      <th>seg</th>\n",
       "      <th>time_left</th>\n",
       "      <th>segment_time</th>\n",
       "      <th>tsjs</th>\n",
       "    </tr>\n",
       "  </thead>\n",
       "  <tbody>\n",
       "    <tr>\n",
       "      <th>0</th>\n",
       "      <td>2018-02-16 04:48:40+01:00</td>\n",
       "      <td>58.414238</td>\n",
       "      <td>15.571015</td>\n",
       "      <td>147.300003</td>\n",
       "      <td>0.0</td>\n",
       "      <td>1</td>\n",
       "      <td>1</td>\n",
       "      <td>71.0</td>\n",
       "      <td>71.0</td>\n",
       "      <td>0.0</td>\n",
       "    </tr>\n",
       "    <tr>\n",
       "      <th>1</th>\n",
       "      <td>2018-02-16 04:48:41+01:00</td>\n",
       "      <td>58.414246</td>\n",
       "      <td>15.571012</td>\n",
       "      <td>147.300003</td>\n",
       "      <td>0.0</td>\n",
       "      <td>1</td>\n",
       "      <td>1</td>\n",
       "      <td>70.0</td>\n",
       "      <td>71.0</td>\n",
       "      <td>0.0</td>\n",
       "    </tr>\n",
       "    <tr>\n",
       "      <th>2</th>\n",
       "      <td>2018-02-16 04:48:42+01:00</td>\n",
       "      <td>58.414249</td>\n",
       "      <td>15.571008</td>\n",
       "      <td>147.300003</td>\n",
       "      <td>0.0</td>\n",
       "      <td>1</td>\n",
       "      <td>1</td>\n",
       "      <td>69.0</td>\n",
       "      <td>71.0</td>\n",
       "      <td>0.0</td>\n",
       "    </tr>\n",
       "    <tr>\n",
       "      <th>3</th>\n",
       "      <td>2018-02-16 04:48:43+01:00</td>\n",
       "      <td>58.414257</td>\n",
       "      <td>15.571004</td>\n",
       "      <td>147.300003</td>\n",
       "      <td>0.0</td>\n",
       "      <td>1</td>\n",
       "      <td>1</td>\n",
       "      <td>68.0</td>\n",
       "      <td>71.0</td>\n",
       "      <td>0.0</td>\n",
       "    </tr>\n",
       "    <tr>\n",
       "      <th>4</th>\n",
       "      <td>2018-02-16 04:48:44+01:00</td>\n",
       "      <td>58.414257</td>\n",
       "      <td>15.571006</td>\n",
       "      <td>147.300003</td>\n",
       "      <td>0.0</td>\n",
       "      <td>1</td>\n",
       "      <td>1</td>\n",
       "      <td>67.0</td>\n",
       "      <td>71.0</td>\n",
       "      <td>0.0</td>\n",
       "    </tr>\n",
       "  </tbody>\n",
       "</table>\n",
       "</div>"
      ],
      "text/plain": [
       "                  timestamp        lon        lat   direction  speed  journey  \\\n",
       "0 2018-02-16 04:48:40+01:00  58.414238  15.571015  147.300003    0.0        1   \n",
       "1 2018-02-16 04:48:41+01:00  58.414246  15.571012  147.300003    0.0        1   \n",
       "2 2018-02-16 04:48:42+01:00  58.414249  15.571008  147.300003    0.0        1   \n",
       "3 2018-02-16 04:48:43+01:00  58.414257  15.571004  147.300003    0.0        1   \n",
       "4 2018-02-16 04:48:44+01:00  58.414257  15.571006  147.300003    0.0        1   \n",
       "\n",
       "   seg  time_left  segment_time  tsjs  \n",
       "0    1       71.0          71.0   0.0  \n",
       "1    1       70.0          71.0   0.0  \n",
       "2    1       69.0          71.0   0.0  \n",
       "3    1       68.0          71.0   0.0  \n",
       "4    1       67.0          71.0   0.0  "
      ]
     },
     "execution_count": 2,
     "metadata": {},
     "output_type": "execute_result"
    }
   ],
   "source": [
    "df = pds.read_pickle('ANN_dataset.pkl')\n",
    "df.head()"
   ]
  },
  {
   "cell_type": "markdown",
   "metadata": {},
   "source": [
    "Note that `time_left` is the label in this model "
   ]
  },
  {
   "cell_type": "code",
   "execution_count": 3,
   "metadata": {},
   "outputs": [],
   "source": [
    "label_string = 'time_left'"
   ]
  },
  {
   "cell_type": "markdown",
   "metadata": {},
   "source": [
    "One hot encode segments, normalize columns and create final dataset"
   ]
  },
  {
   "cell_type": "code",
   "execution_count": 4,
   "metadata": {},
   "outputs": [
    {
     "data": {
      "text/html": [
       "<div>\n",
       "<style scoped>\n",
       "    .dataframe tbody tr th:only-of-type {\n",
       "        vertical-align: middle;\n",
       "    }\n",
       "\n",
       "    .dataframe tbody tr th {\n",
       "        vertical-align: top;\n",
       "    }\n",
       "\n",
       "    .dataframe thead th {\n",
       "        text-align: right;\n",
       "    }\n",
       "</style>\n",
       "<table border=\"1\" class=\"dataframe\">\n",
       "  <thead>\n",
       "    <tr style=\"text-align: right;\">\n",
       "      <th></th>\n",
       "      <th>1</th>\n",
       "      <th>2</th>\n",
       "      <th>3</th>\n",
       "      <th>4</th>\n",
       "      <th>5</th>\n",
       "      <th>6</th>\n",
       "      <th>7</th>\n",
       "      <th>8</th>\n",
       "      <th>9</th>\n",
       "      <th>10</th>\n",
       "      <th>11</th>\n",
       "      <th>hr_sin</th>\n",
       "      <th>hr_cos</th>\n",
       "      <th>dir_sin</th>\n",
       "      <th>dir_cos</th>\n",
       "      <th>speed</th>\n",
       "      <th>tsjs</th>\n",
       "      <th>lat</th>\n",
       "      <th>lon</th>\n",
       "      <th>journey</th>\n",
       "    </tr>\n",
       "  </thead>\n",
       "  <tbody>\n",
       "    <tr>\n",
       "      <th>0</th>\n",
       "      <td>1</td>\n",
       "      <td>0</td>\n",
       "      <td>0</td>\n",
       "      <td>0</td>\n",
       "      <td>0</td>\n",
       "      <td>0</td>\n",
       "      <td>0</td>\n",
       "      <td>0</td>\n",
       "      <td>0</td>\n",
       "      <td>0</td>\n",
       "      <td>0</td>\n",
       "      <td>0.866025</td>\n",
       "      <td>0.5</td>\n",
       "      <td>0.54024</td>\n",
       "      <td>-0.841511</td>\n",
       "      <td>0.0</td>\n",
       "      <td>0.0</td>\n",
       "      <td>0.326317</td>\n",
       "      <td>0.924521</td>\n",
       "      <td>1</td>\n",
       "    </tr>\n",
       "    <tr>\n",
       "      <th>1</th>\n",
       "      <td>1</td>\n",
       "      <td>0</td>\n",
       "      <td>0</td>\n",
       "      <td>0</td>\n",
       "      <td>0</td>\n",
       "      <td>0</td>\n",
       "      <td>0</td>\n",
       "      <td>0</td>\n",
       "      <td>0</td>\n",
       "      <td>0</td>\n",
       "      <td>0</td>\n",
       "      <td>0.866025</td>\n",
       "      <td>0.5</td>\n",
       "      <td>0.54024</td>\n",
       "      <td>-0.841511</td>\n",
       "      <td>0.0</td>\n",
       "      <td>0.0</td>\n",
       "      <td>0.326237</td>\n",
       "      <td>0.925287</td>\n",
       "      <td>1</td>\n",
       "    </tr>\n",
       "    <tr>\n",
       "      <th>2</th>\n",
       "      <td>1</td>\n",
       "      <td>0</td>\n",
       "      <td>0</td>\n",
       "      <td>0</td>\n",
       "      <td>0</td>\n",
       "      <td>0</td>\n",
       "      <td>0</td>\n",
       "      <td>0</td>\n",
       "      <td>0</td>\n",
       "      <td>0</td>\n",
       "      <td>0</td>\n",
       "      <td>0.866025</td>\n",
       "      <td>0.5</td>\n",
       "      <td>0.54024</td>\n",
       "      <td>-0.841511</td>\n",
       "      <td>0.0</td>\n",
       "      <td>0.0</td>\n",
       "      <td>0.326156</td>\n",
       "      <td>0.925670</td>\n",
       "      <td>1</td>\n",
       "    </tr>\n",
       "    <tr>\n",
       "      <th>3</th>\n",
       "      <td>1</td>\n",
       "      <td>0</td>\n",
       "      <td>0</td>\n",
       "      <td>0</td>\n",
       "      <td>0</td>\n",
       "      <td>0</td>\n",
       "      <td>0</td>\n",
       "      <td>0</td>\n",
       "      <td>0</td>\n",
       "      <td>0</td>\n",
       "      <td>0</td>\n",
       "      <td>0.866025</td>\n",
       "      <td>0.5</td>\n",
       "      <td>0.54024</td>\n",
       "      <td>-0.841511</td>\n",
       "      <td>0.0</td>\n",
       "      <td>0.0</td>\n",
       "      <td>0.326076</td>\n",
       "      <td>0.926437</td>\n",
       "      <td>1</td>\n",
       "    </tr>\n",
       "    <tr>\n",
       "      <th>4</th>\n",
       "      <td>1</td>\n",
       "      <td>0</td>\n",
       "      <td>0</td>\n",
       "      <td>0</td>\n",
       "      <td>0</td>\n",
       "      <td>0</td>\n",
       "      <td>0</td>\n",
       "      <td>0</td>\n",
       "      <td>0</td>\n",
       "      <td>0</td>\n",
       "      <td>0</td>\n",
       "      <td>0.866025</td>\n",
       "      <td>0.5</td>\n",
       "      <td>0.54024</td>\n",
       "      <td>-0.841511</td>\n",
       "      <td>0.0</td>\n",
       "      <td>0.0</td>\n",
       "      <td>0.326116</td>\n",
       "      <td>0.926437</td>\n",
       "      <td>1</td>\n",
       "    </tr>\n",
       "  </tbody>\n",
       "</table>\n",
       "</div>"
      ],
      "text/plain": [
       "   1  2  3  4  5  6  7  8  9  10  11    hr_sin  hr_cos  dir_sin   dir_cos  \\\n",
       "0  1  0  0  0  0  0  0  0  0   0   0  0.866025     0.5  0.54024 -0.841511   \n",
       "1  1  0  0  0  0  0  0  0  0   0   0  0.866025     0.5  0.54024 -0.841511   \n",
       "2  1  0  0  0  0  0  0  0  0   0   0  0.866025     0.5  0.54024 -0.841511   \n",
       "3  1  0  0  0  0  0  0  0  0   0   0  0.866025     0.5  0.54024 -0.841511   \n",
       "4  1  0  0  0  0  0  0  0  0   0   0  0.866025     0.5  0.54024 -0.841511   \n",
       "\n",
       "   speed  tsjs       lat       lon  journey  \n",
       "0    0.0   0.0  0.326317  0.924521        1  \n",
       "1    0.0   0.0  0.326237  0.925287        1  \n",
       "2    0.0   0.0  0.326156  0.925670        1  \n",
       "3    0.0   0.0  0.326076  0.926437        1  \n",
       "4    0.0   0.0  0.326116  0.926437        1  "
      ]
     },
     "execution_count": 4,
     "metadata": {},
     "output_type": "execute_result"
    }
   ],
   "source": [
    "# Make segments categorical\n",
    "dataset = pds.get_dummies(df['seg'])\n",
    "\n",
    "# Combine segments, timestamps and time from journey start\n",
    "\n",
    "# Cyclical timestamps \n",
    "dataset['hr_sin'] = np.sin(df.timestamp.dt.hour*(2.*np.pi/24))\n",
    "dataset['hr_cos'] = np.cos(df.timestamp.dt.hour*(2.*np.pi/24))\n",
    "\n",
    "# Convert to radians befor trigonometric functions\n",
    "dataset['dir_sin'] = np.sin(df.direction*(np.pi/180))\n",
    "dataset['dir_cos'] = np.cos(df.direction*(np.pi/180))\n",
    "\n",
    "dataset['speed'] = (df['speed']-df['speed'].min())/(df['speed'].max()-df['speed'].min())\n",
    "dataset['tsjs'] = (df['tsjs']-df['tsjs'].min())/(df['tsjs'].max()-df['tsjs'].min())\n",
    "\n",
    "dataset['lat'] = (df['lat']-df['lat'].min())/(df['lat'].max()-df['lat'].min())\n",
    "dataset['lon'] = (df['lon']-df['lon'].min())/(df['lon'].max()-df['lon'].min())\n",
    "\n",
    "# Include journey number to select entire journeys\n",
    "dataset['journey'] = df['journey']\n",
    "\n",
    "dataset.head()"
   ]
  },
  {
   "cell_type": "markdown",
   "metadata": {},
   "source": [
    "Add columns for the three latest positions for each sample. Replace the first sample from each journey with itself."
   ]
  },
  {
   "cell_type": "code",
   "execution_count": 5,
   "metadata": {},
   "outputs": [],
   "source": [
    "history_speed = pds.DataFrame(0, index=np.arange(len(dataset)), columns=['speed_one', 'speed_two', 'speed_three'])\n",
    "history_pos = pds.DataFrame(0, index=np.arange(len(dataset)), columns=['lat_one', 'lon_one', 'lat_two', 'lon_two', 'lat_three', 'lon_three'])"
   ]
  },
  {
   "cell_type": "code",
   "execution_count": 6,
   "metadata": {
    "scrolled": true
   },
   "outputs": [
    {
     "name": "stderr",
     "output_type": "stream",
     "text": [
      "c:\\users\\jacke\\appdata\\local\\programs\\python\\python36\\lib\\site-packages\\pandas\\core\\indexing.py:189: SettingWithCopyWarning: \n",
      "A value is trying to be set on a copy of a slice from a DataFrame\n",
      "\n",
      "See the caveats in the documentation: http://pandas.pydata.org/pandas-docs/stable/indexing.html#indexing-view-versus-copy\n",
      "  self._setitem_with_indexer(indexer, value)\n"
     ]
    }
   ],
   "source": [
    "for i, a in dataset.groupby('journey'):\n",
    "    idxs = a.index\n",
    "\n",
    "    history_pos.lat_one.iloc[idxs] = a.lat.shift(1)\n",
    "    history_pos.lat_one.iloc[idxs[0]] = history_pos.lat_one.iloc[1]\n",
    "\n",
    "    history_pos.lon_one.iloc[idxs] = a.lon.shift(1)\n",
    "    history_pos.lon_one.iloc[idxs[0]] = history_pos.lon_one.iloc[1]\n",
    "\n",
    "    history_pos.lat_two.iloc[idxs] = a.lat.shift(2)\n",
    "    history_pos.lat_two.iloc[idxs[0]] = history_pos.lat_two.iloc[2]\n",
    "    history_pos.lat_two.iloc[idxs[1]] = history_pos.lat_two.iloc[2]\n",
    "\n",
    "    history_pos.lon_two.iloc[idxs] = a.lon.shift(2)\n",
    "    history_pos.lon_two.iloc[idxs[0]] = history_pos.lon_two.iloc[2]\n",
    "    history_pos.lon_two.iloc[idxs[1]] = history_pos.lon_two.iloc[2]\n",
    "\n",
    "    history_pos.lat_three.iloc[idxs] = a.lat.shift(3)\n",
    "    history_pos.lat_three.iloc[idxs[0]] = history_pos.lat_three.iloc[3]\n",
    "    history_pos.lat_three.iloc[idxs[1]] = history_pos.lat_three.iloc[3]\n",
    "    history_pos.lat_three.iloc[idxs[2]] = history_pos.lat_three.iloc[3]\n",
    "\n",
    "    history_pos.lon_three.iloc[idxs] = a.lon.shift(3)\n",
    "    history_pos.lon_three.iloc[idxs[0]] = history_pos.lon_three.iloc[3]\n",
    "    history_pos.lon_three.iloc[idxs[1]] = history_pos.lon_three.iloc[3]\n",
    "    history_pos.lon_three.iloc[idxs[2]] = history_pos.lon_three.iloc[3]"
   ]
  },
  {
   "cell_type": "code",
   "execution_count": 7,
   "metadata": {},
   "outputs": [],
   "source": [
    "for i, a in dataset.groupby('journey'):\n",
    "    idxs = a.index\n",
    "\n",
    "    history_speed.speed_one.iloc[idxs] = a.lat.shift(1)\n",
    "    history_speed.speed_one.iloc[idxs[0]] = history_speed.speed_one.iloc[1]\n",
    "\n",
    "    history_speed.speed_two.iloc[idxs] = a.lat.shift(2)\n",
    "    history_speed.speed_two.iloc[idxs[0]] = history_speed.speed_two.iloc[2]\n",
    "    history_speed.speed_two.iloc[idxs[1]] = history_speed.speed_two.iloc[2]\n",
    "\n",
    "    history_speed.speed_three.iloc[idxs] = a.lat.shift(3)\n",
    "    history_speed.speed_three.iloc[idxs[0]] = history_speed.speed_three.iloc[3]\n",
    "    history_speed.speed_three.iloc[idxs[1]] = history_speed.speed_three.iloc[3]\n",
    "    history_speed.speed_three.iloc[idxs[2]] = history_speed.speed_three.iloc[3]"
   ]
  },
  {
   "cell_type": "markdown",
   "metadata": {},
   "source": [
    "Make sure there are no NaN:s produced by the shifting"
   ]
  },
  {
   "cell_type": "code",
   "execution_count": 8,
   "metadata": {},
   "outputs": [
    {
     "data": {
      "text/plain": [
       "lat_one      0\n",
       "lon_one      0\n",
       "lat_two      0\n",
       "lon_two      0\n",
       "lat_three    0\n",
       "lon_three    0\n",
       "dtype: int64"
      ]
     },
     "execution_count": 8,
     "metadata": {},
     "output_type": "execute_result"
    }
   ],
   "source": [
    "history_pos.isna().sum()"
   ]
  },
  {
   "cell_type": "code",
   "execution_count": 9,
   "metadata": {},
   "outputs": [
    {
     "data": {
      "text/plain": [
       "speed_one      0\n",
       "speed_two      0\n",
       "speed_three    0\n",
       "dtype: int64"
      ]
     },
     "execution_count": 9,
     "metadata": {},
     "output_type": "execute_result"
    }
   ],
   "source": [
    "history_speed.isna().sum()"
   ]
  },
  {
   "cell_type": "markdown",
   "metadata": {},
   "source": [
    "The two cells above should contain only zeros, otherwise, model training will fail!"
   ]
  },
  {
   "cell_type": "code",
   "execution_count": 10,
   "metadata": {},
   "outputs": [
    {
     "data": {
      "text/html": [
       "<div>\n",
       "<style scoped>\n",
       "    .dataframe tbody tr th:only-of-type {\n",
       "        vertical-align: middle;\n",
       "    }\n",
       "\n",
       "    .dataframe tbody tr th {\n",
       "        vertical-align: top;\n",
       "    }\n",
       "\n",
       "    .dataframe thead th {\n",
       "        text-align: right;\n",
       "    }\n",
       "</style>\n",
       "<table border=\"1\" class=\"dataframe\">\n",
       "  <thead>\n",
       "    <tr style=\"text-align: right;\">\n",
       "      <th></th>\n",
       "      <th>lat_one</th>\n",
       "      <th>lon_one</th>\n",
       "      <th>lat_two</th>\n",
       "      <th>lon_two</th>\n",
       "      <th>lat_three</th>\n",
       "      <th>lon_three</th>\n",
       "    </tr>\n",
       "  </thead>\n",
       "  <tbody>\n",
       "    <tr>\n",
       "      <th>0</th>\n",
       "      <td>0.326317</td>\n",
       "      <td>0.924521</td>\n",
       "      <td>0.326317</td>\n",
       "      <td>0.924521</td>\n",
       "      <td>0.326317</td>\n",
       "      <td>0.924521</td>\n",
       "    </tr>\n",
       "    <tr>\n",
       "      <th>1</th>\n",
       "      <td>0.326317</td>\n",
       "      <td>0.924521</td>\n",
       "      <td>0.326317</td>\n",
       "      <td>0.924521</td>\n",
       "      <td>0.326317</td>\n",
       "      <td>0.924521</td>\n",
       "    </tr>\n",
       "    <tr>\n",
       "      <th>2</th>\n",
       "      <td>0.326237</td>\n",
       "      <td>0.925287</td>\n",
       "      <td>0.326317</td>\n",
       "      <td>0.924521</td>\n",
       "      <td>0.326317</td>\n",
       "      <td>0.924521</td>\n",
       "    </tr>\n",
       "    <tr>\n",
       "      <th>3</th>\n",
       "      <td>0.326156</td>\n",
       "      <td>0.925670</td>\n",
       "      <td>0.326237</td>\n",
       "      <td>0.925287</td>\n",
       "      <td>0.326317</td>\n",
       "      <td>0.924521</td>\n",
       "    </tr>\n",
       "    <tr>\n",
       "      <th>4</th>\n",
       "      <td>0.326076</td>\n",
       "      <td>0.926437</td>\n",
       "      <td>0.326156</td>\n",
       "      <td>0.925670</td>\n",
       "      <td>0.326237</td>\n",
       "      <td>0.925287</td>\n",
       "    </tr>\n",
       "  </tbody>\n",
       "</table>\n",
       "</div>"
      ],
      "text/plain": [
       "    lat_one   lon_one   lat_two   lon_two  lat_three  lon_three\n",
       "0  0.326317  0.924521  0.326317  0.924521   0.326317   0.924521\n",
       "1  0.326317  0.924521  0.326317  0.924521   0.326317   0.924521\n",
       "2  0.326237  0.925287  0.326317  0.924521   0.326317   0.924521\n",
       "3  0.326156  0.925670  0.326237  0.925287   0.326317   0.924521\n",
       "4  0.326076  0.926437  0.326156  0.925670   0.326237   0.925287"
      ]
     },
     "execution_count": 10,
     "metadata": {},
     "output_type": "execute_result"
    }
   ],
   "source": [
    "history_pos.head()"
   ]
  },
  {
   "cell_type": "code",
   "execution_count": 11,
   "metadata": {},
   "outputs": [
    {
     "data": {
      "text/html": [
       "<div>\n",
       "<style scoped>\n",
       "    .dataframe tbody tr th:only-of-type {\n",
       "        vertical-align: middle;\n",
       "    }\n",
       "\n",
       "    .dataframe tbody tr th {\n",
       "        vertical-align: top;\n",
       "    }\n",
       "\n",
       "    .dataframe thead th {\n",
       "        text-align: right;\n",
       "    }\n",
       "</style>\n",
       "<table border=\"1\" class=\"dataframe\">\n",
       "  <thead>\n",
       "    <tr style=\"text-align: right;\">\n",
       "      <th></th>\n",
       "      <th>speed_one</th>\n",
       "      <th>speed_two</th>\n",
       "      <th>speed_three</th>\n",
       "    </tr>\n",
       "  </thead>\n",
       "  <tbody>\n",
       "    <tr>\n",
       "      <th>0</th>\n",
       "      <td>0.326317</td>\n",
       "      <td>0.326317</td>\n",
       "      <td>0.326317</td>\n",
       "    </tr>\n",
       "    <tr>\n",
       "      <th>1</th>\n",
       "      <td>0.326317</td>\n",
       "      <td>0.326317</td>\n",
       "      <td>0.326317</td>\n",
       "    </tr>\n",
       "    <tr>\n",
       "      <th>2</th>\n",
       "      <td>0.326237</td>\n",
       "      <td>0.326317</td>\n",
       "      <td>0.326317</td>\n",
       "    </tr>\n",
       "    <tr>\n",
       "      <th>3</th>\n",
       "      <td>0.326156</td>\n",
       "      <td>0.326237</td>\n",
       "      <td>0.326317</td>\n",
       "    </tr>\n",
       "    <tr>\n",
       "      <th>4</th>\n",
       "      <td>0.326076</td>\n",
       "      <td>0.326156</td>\n",
       "      <td>0.326237</td>\n",
       "    </tr>\n",
       "  </tbody>\n",
       "</table>\n",
       "</div>"
      ],
      "text/plain": [
       "   speed_one  speed_two  speed_three\n",
       "0   0.326317   0.326317     0.326317\n",
       "1   0.326317   0.326317     0.326317\n",
       "2   0.326237   0.326317     0.326317\n",
       "3   0.326156   0.326237     0.326317\n",
       "4   0.326076   0.326156     0.326237"
      ]
     },
     "execution_count": 11,
     "metadata": {},
     "output_type": "execute_result"
    }
   ],
   "source": [
    "history_speed.head()"
   ]
  },
  {
   "cell_type": "markdown",
   "metadata": {},
   "source": [
    "Looking good! Add to dataset"
   ]
  },
  {
   "cell_type": "code",
   "execution_count": 14,
   "metadata": {},
   "outputs": [
    {
     "data": {
      "text/html": [
       "<div>\n",
       "<style scoped>\n",
       "    .dataframe tbody tr th:only-of-type {\n",
       "        vertical-align: middle;\n",
       "    }\n",
       "\n",
       "    .dataframe tbody tr th {\n",
       "        vertical-align: top;\n",
       "    }\n",
       "\n",
       "    .dataframe thead th {\n",
       "        text-align: right;\n",
       "    }\n",
       "</style>\n",
       "<table border=\"1\" class=\"dataframe\">\n",
       "  <thead>\n",
       "    <tr style=\"text-align: right;\">\n",
       "      <th></th>\n",
       "      <th>1</th>\n",
       "      <th>2</th>\n",
       "      <th>3</th>\n",
       "      <th>4</th>\n",
       "      <th>5</th>\n",
       "      <th>6</th>\n",
       "      <th>7</th>\n",
       "      <th>8</th>\n",
       "      <th>9</th>\n",
       "      <th>10</th>\n",
       "      <th>...</th>\n",
       "      <th>speed_three</th>\n",
       "      <th>lat_one</th>\n",
       "      <th>lon_one</th>\n",
       "      <th>lat_two</th>\n",
       "      <th>lon_two</th>\n",
       "      <th>lat_three</th>\n",
       "      <th>lon_three</th>\n",
       "      <th>speed_one</th>\n",
       "      <th>speed_two</th>\n",
       "      <th>speed_three</th>\n",
       "    </tr>\n",
       "  </thead>\n",
       "  <tbody>\n",
       "    <tr>\n",
       "      <th>0</th>\n",
       "      <td>1</td>\n",
       "      <td>0</td>\n",
       "      <td>0</td>\n",
       "      <td>0</td>\n",
       "      <td>0</td>\n",
       "      <td>0</td>\n",
       "      <td>0</td>\n",
       "      <td>0</td>\n",
       "      <td>0</td>\n",
       "      <td>0</td>\n",
       "      <td>...</td>\n",
       "      <td>0.326317</td>\n",
       "      <td>0.326317</td>\n",
       "      <td>0.924521</td>\n",
       "      <td>0.326317</td>\n",
       "      <td>0.924521</td>\n",
       "      <td>0.326317</td>\n",
       "      <td>0.924521</td>\n",
       "      <td>0.326317</td>\n",
       "      <td>0.326317</td>\n",
       "      <td>0.326317</td>\n",
       "    </tr>\n",
       "    <tr>\n",
       "      <th>1</th>\n",
       "      <td>1</td>\n",
       "      <td>0</td>\n",
       "      <td>0</td>\n",
       "      <td>0</td>\n",
       "      <td>0</td>\n",
       "      <td>0</td>\n",
       "      <td>0</td>\n",
       "      <td>0</td>\n",
       "      <td>0</td>\n",
       "      <td>0</td>\n",
       "      <td>...</td>\n",
       "      <td>0.326317</td>\n",
       "      <td>0.326317</td>\n",
       "      <td>0.924521</td>\n",
       "      <td>0.326317</td>\n",
       "      <td>0.924521</td>\n",
       "      <td>0.326317</td>\n",
       "      <td>0.924521</td>\n",
       "      <td>0.326317</td>\n",
       "      <td>0.326317</td>\n",
       "      <td>0.326317</td>\n",
       "    </tr>\n",
       "    <tr>\n",
       "      <th>2</th>\n",
       "      <td>1</td>\n",
       "      <td>0</td>\n",
       "      <td>0</td>\n",
       "      <td>0</td>\n",
       "      <td>0</td>\n",
       "      <td>0</td>\n",
       "      <td>0</td>\n",
       "      <td>0</td>\n",
       "      <td>0</td>\n",
       "      <td>0</td>\n",
       "      <td>...</td>\n",
       "      <td>0.326317</td>\n",
       "      <td>0.326237</td>\n",
       "      <td>0.925287</td>\n",
       "      <td>0.326317</td>\n",
       "      <td>0.924521</td>\n",
       "      <td>0.326317</td>\n",
       "      <td>0.924521</td>\n",
       "      <td>0.326237</td>\n",
       "      <td>0.326317</td>\n",
       "      <td>0.326317</td>\n",
       "    </tr>\n",
       "    <tr>\n",
       "      <th>3</th>\n",
       "      <td>1</td>\n",
       "      <td>0</td>\n",
       "      <td>0</td>\n",
       "      <td>0</td>\n",
       "      <td>0</td>\n",
       "      <td>0</td>\n",
       "      <td>0</td>\n",
       "      <td>0</td>\n",
       "      <td>0</td>\n",
       "      <td>0</td>\n",
       "      <td>...</td>\n",
       "      <td>0.326317</td>\n",
       "      <td>0.326156</td>\n",
       "      <td>0.925670</td>\n",
       "      <td>0.326237</td>\n",
       "      <td>0.925287</td>\n",
       "      <td>0.326317</td>\n",
       "      <td>0.924521</td>\n",
       "      <td>0.326156</td>\n",
       "      <td>0.326237</td>\n",
       "      <td>0.326317</td>\n",
       "    </tr>\n",
       "    <tr>\n",
       "      <th>4</th>\n",
       "      <td>1</td>\n",
       "      <td>0</td>\n",
       "      <td>0</td>\n",
       "      <td>0</td>\n",
       "      <td>0</td>\n",
       "      <td>0</td>\n",
       "      <td>0</td>\n",
       "      <td>0</td>\n",
       "      <td>0</td>\n",
       "      <td>0</td>\n",
       "      <td>...</td>\n",
       "      <td>0.326237</td>\n",
       "      <td>0.326076</td>\n",
       "      <td>0.926437</td>\n",
       "      <td>0.326156</td>\n",
       "      <td>0.925670</td>\n",
       "      <td>0.326237</td>\n",
       "      <td>0.925287</td>\n",
       "      <td>0.326076</td>\n",
       "      <td>0.326156</td>\n",
       "      <td>0.326237</td>\n",
       "    </tr>\n",
       "  </tbody>\n",
       "</table>\n",
       "<p>5 rows × 38 columns</p>\n",
       "</div>"
      ],
      "text/plain": [
       "   1  2  3  4  5  6  7  8  9  10     ...       speed_three   lat_one  \\\n",
       "0  1  0  0  0  0  0  0  0  0   0     ...          0.326317  0.326317   \n",
       "1  1  0  0  0  0  0  0  0  0   0     ...          0.326317  0.326317   \n",
       "2  1  0  0  0  0  0  0  0  0   0     ...          0.326317  0.326237   \n",
       "3  1  0  0  0  0  0  0  0  0   0     ...          0.326317  0.326156   \n",
       "4  1  0  0  0  0  0  0  0  0   0     ...          0.326237  0.326076   \n",
       "\n",
       "    lon_one   lat_two   lon_two  lat_three  lon_three  speed_one  speed_two  \\\n",
       "0  0.924521  0.326317  0.924521   0.326317   0.924521   0.326317   0.326317   \n",
       "1  0.924521  0.326317  0.924521   0.326317   0.924521   0.326317   0.326317   \n",
       "2  0.925287  0.326317  0.924521   0.326317   0.924521   0.326237   0.326317   \n",
       "3  0.925670  0.326237  0.925287   0.326317   0.924521   0.326156   0.326237   \n",
       "4  0.926437  0.326156  0.925670   0.326237   0.925287   0.326076   0.326156   \n",
       "\n",
       "   speed_three  \n",
       "0     0.326317  \n",
       "1     0.326317  \n",
       "2     0.326317  \n",
       "3     0.326317  \n",
       "4     0.326237  \n",
       "\n",
       "[5 rows x 38 columns]"
      ]
     },
     "execution_count": 14,
     "metadata": {},
     "output_type": "execute_result"
    }
   ],
   "source": [
    "new_data = pds.concat([history_pos, history_speed], axis=1)\n",
    "dataset = pds.concat([dataset, new_data], axis=1)\n",
    "dataset.head()"
   ]
  },
  {
   "cell_type": "markdown",
   "metadata": {},
   "source": [
    "The column names can also be listed as:"
   ]
  },
  {
   "cell_type": "code",
   "execution_count": 15,
   "metadata": {
    "scrolled": true
   },
   "outputs": [
    {
     "data": {
      "text/plain": [
       "[1,\n",
       " 2,\n",
       " 3,\n",
       " 4,\n",
       " 5,\n",
       " 6,\n",
       " 7,\n",
       " 8,\n",
       " 9,\n",
       " 10,\n",
       " 11,\n",
       " 'hr_sin',\n",
       " 'hr_cos',\n",
       " 'dir_sin',\n",
       " 'dir_cos',\n",
       " 'speed',\n",
       " 'tsjs',\n",
       " 'lat',\n",
       " 'lon',\n",
       " 'journey',\n",
       " 'lat_one',\n",
       " 'lon_one',\n",
       " 'lat_two',\n",
       " 'lon_two',\n",
       " 'lat_three',\n",
       " 'lon_three',\n",
       " 'speed_one',\n",
       " 'speed_two',\n",
       " 'speed_three',\n",
       " 'lat_one',\n",
       " 'lon_one',\n",
       " 'lat_two',\n",
       " 'lon_two',\n",
       " 'lat_three',\n",
       " 'lon_three',\n",
       " 'speed_one',\n",
       " 'speed_two',\n",
       " 'speed_three']"
      ]
     },
     "execution_count": 15,
     "metadata": {},
     "output_type": "execute_result"
    }
   ],
   "source": [
    "list(dataset)"
   ]
  },
  {
   "cell_type": "markdown",
   "metadata": {},
   "source": [
    "Select an arbitrary number of test journeys"
   ]
  },
  {
   "cell_type": "code",
   "execution_count": 42,
   "metadata": {},
   "outputs": [],
   "source": [
    "divider = 0.2\n",
    "num_journeys = dataset.journey.unique()[-1]\n",
    "num_test_segments = np.int_(np.round(num_journeys*divider))\n",
    "msk = np.random.randint(1, num_journeys, num_test_segments)\n",
    "mask = dataset['journey'].isin(msk)"
   ]
  },
  {
   "cell_type": "markdown",
   "metadata": {},
   "source": [
    "Divide training and test data, where data is a sequence from a journey"
   ]
  },
  {
   "cell_type": "code",
   "execution_count": 43,
   "metadata": {},
   "outputs": [],
   "source": [
    "train_input = dataset[~mask]\n",
    "test_input = dataset[mask]\n",
    "\n",
    "train_labels = df[label_string][~mask]\n",
    "test_labels = df[label_string][mask]\n",
    "\n",
    "test_idxs = test_input.index"
   ]
  },
  {
   "cell_type": "code",
   "execution_count": 44,
   "metadata": {},
   "outputs": [],
   "source": [
    "# Journey numbers were needed up until this point\n",
    "train_data = train_input.drop(columns=['journey'])\n",
    "test_data = test_input.drop(columns=['journey'])"
   ]
  },
  {
   "cell_type": "markdown",
   "metadata": {},
   "source": [
    "Build model"
   ]
  },
  {
   "cell_type": "code",
   "execution_count": 45,
   "metadata": {},
   "outputs": [
    {
     "name": "stdout",
     "output_type": "stream",
     "text": [
      "_________________________________________________________________\n",
      "Layer (type)                 Output Shape              Param #   \n",
      "=================================================================\n",
      "dense_11 (Dense)             (None, 74)                2812      \n",
      "_________________________________________________________________\n",
      "dense_12 (Dense)             (None, 37)                2775      \n",
      "_________________________________________________________________\n",
      "dense_13 (Dense)             (None, 37)                1406      \n",
      "_________________________________________________________________\n",
      "dense_14 (Dense)             (None, 1)                 38        \n",
      "=================================================================\n",
      "Total params: 7,031\n",
      "Trainable params: 7,031\n",
      "Non-trainable params: 0\n",
      "_________________________________________________________________\n",
      "None\n"
     ]
    }
   ],
   "source": [
    "model = keras.Sequential([\n",
    "\tkeras.layers.Dense(2*len(train_data.columns), activation=tf.nn.relu, input_shape=(train_data.shape[1],)),\n",
    "    keras.layers.Dense(1*len(train_data.columns), activation=tf.nn.tanh),\n",
    "    keras.layers.Dense(1*len(train_data.columns)),\n",
    "\tkeras.layers.Dense(1, activation=tf.nn.relu)\n",
    "\t])\n",
    "\n",
    "optimizer = keras.optimizers.Adadelta()\n",
    "model.compile(loss='mae', optimizer = optimizer, metrics=['mae'])\n",
    "print(model.summary())"
   ]
  },
  {
   "cell_type": "markdown",
   "metadata": {},
   "source": [
    "Fit model, 10% of the training data is used as validation set"
   ]
  },
  {
   "cell_type": "code",
   "execution_count": 56,
   "metadata": {
    "scrolled": true
   },
   "outputs": [
    {
     "name": "stdout",
     "output_type": "stream",
     "text": [
      "Train on 2433693 samples, validate on 270411 samples\n",
      "Epoch 21/50\n",
      "2433693/2433693 [==============================] - 55s 22us/step - loss: 10.9243 - mean_absolute_error: 10.9243 - val_loss: 11.2340 - val_mean_absolute_error: 11.2340\n",
      "Epoch 22/50\n",
      "2433693/2433693 [==============================] - 55s 23us/step - loss: 10.9191 - mean_absolute_error: 10.9191 - val_loss: 11.3741 - val_mean_absolute_error: 11.3741\n",
      "Epoch 23/50\n",
      "2433693/2433693 [==============================] - 54s 22us/step - loss: 10.9165 - mean_absolute_error: 10.9165 - val_loss: 11.2302 - val_mean_absolute_error: 11.2302\n",
      "Epoch 24/50\n",
      "2433693/2433693 [==============================] - 55s 22us/step - loss: 10.9127 - mean_absolute_error: 10.9127 - val_loss: 11.3103 - val_mean_absolute_error: 11.3103\n",
      "Epoch 25/50\n",
      "2433693/2433693 [==============================] - 54s 22us/step - loss: 10.9088 - mean_absolute_error: 10.9088 - val_loss: 11.2486 - val_mean_absolute_error: 11.2486\n",
      "Epoch 26/50\n",
      "2433693/2433693 [==============================] - 54s 22us/step - loss: 10.9064 - mean_absolute_error: 10.9064 - val_loss: 11.2093 - val_mean_absolute_error: 11.2093\n",
      "Epoch 27/50\n",
      "2433693/2433693 [==============================] - 55s 23us/step - loss: 10.9034 - mean_absolute_error: 10.9034 - val_loss: 11.2294 - val_mean_absolute_error: 11.2294\n",
      "Epoch 28/50\n",
      "2433693/2433693 [==============================] - 51s 21us/step - loss: 10.8993 - mean_absolute_error: 10.8993 - val_loss: 11.2456 - val_mean_absolute_error: 11.2456\n",
      "Epoch 29/50\n",
      "2433693/2433693 [==============================] - 50s 21us/step - loss: 10.8984 - mean_absolute_error: 10.8984 - val_loss: 11.3059 - val_mean_absolute_error: 11.3059\n",
      "Epoch 30/50\n",
      "2433693/2433693 [==============================] - 51s 21us/step - loss: 10.8962 - mean_absolute_error: 10.8962 - val_loss: 11.3353 - val_mean_absolute_error: 11.3353\n",
      "Epoch 31/50\n",
      "2433693/2433693 [==============================] - 51s 21us/step - loss: 10.8944 - mean_absolute_error: 10.8944 - val_loss: 11.2152 - val_mean_absolute_error: 11.2152\n",
      "Epoch 32/50\n",
      "2433693/2433693 [==============================] - 51s 21us/step - loss: 10.8914 - mean_absolute_error: 10.8914 - val_loss: 11.2074 - val_mean_absolute_error: 11.2074\n",
      "Epoch 33/50\n",
      "2433693/2433693 [==============================] - 53s 22us/step - loss: 10.8893 - mean_absolute_error: 10.8893 - val_loss: 11.3241 - val_mean_absolute_error: 11.3241\n",
      "Epoch 34/50\n",
      "2433693/2433693 [==============================] - 45s 19us/step - loss: 10.8883 - mean_absolute_error: 10.8883 - val_loss: 11.2374 - val_mean_absolute_error: 11.2374\n",
      "Epoch 35/50\n",
      "2433693/2433693 [==============================] - 46s 19us/step - loss: 10.8862 - mean_absolute_error: 10.8862 - val_loss: 11.2813 - val_mean_absolute_error: 11.2813\n",
      "Epoch 36/50\n",
      "2433693/2433693 [==============================] - 45s 19us/step - loss: 10.8833 - mean_absolute_error: 10.8833 - val_loss: 11.2174 - val_mean_absolute_error: 11.2174\n",
      "Epoch 37/50\n",
      "2433693/2433693 [==============================] - 46s 19us/step - loss: 10.8815 - mean_absolute_error: 10.8815 - val_loss: 11.2415 - val_mean_absolute_error: 11.2415\n",
      "Epoch 38/50\n",
      "2433693/2433693 [==============================] - 45s 19us/step - loss: 10.8784 - mean_absolute_error: 10.8784 - val_loss: 11.2104 - val_mean_absolute_error: 11.2104\n",
      "Epoch 39/50\n",
      "2433693/2433693 [==============================] - 48s 20us/step - loss: 10.8788 - mean_absolute_error: 10.8788 - val_loss: 11.2106 - val_mean_absolute_error: 11.2106\n",
      "Epoch 40/50\n",
      "2433693/2433693 [==============================] - 48s 20us/step - loss: 10.8768 - mean_absolute_error: 10.8768 - val_loss: 11.2919 - val_mean_absolute_error: 11.2919\n",
      "Epoch 41/50\n",
      "2433693/2433693 [==============================] - 47s 19us/step - loss: 10.8751 - mean_absolute_error: 10.8751 - val_loss: 11.2825 - val_mean_absolute_error: 11.2825\n",
      "Epoch 42/50\n",
      "2433693/2433693 [==============================] - 47s 19us/step - loss: 10.8744 - mean_absolute_error: 10.8744 - val_loss: 11.2883 - val_mean_absolute_error: 11.2883\n",
      "Epoch 43/50\n",
      "2433693/2433693 [==============================] - 47s 19us/step - loss: 10.8711 - mean_absolute_error: 10.8711 - val_loss: 11.2176 - val_mean_absolute_error: 11.2176\n",
      "Epoch 44/50\n",
      "2433693/2433693 [==============================] - 47s 19us/step - loss: 10.8704 - mean_absolute_error: 10.8704 - val_loss: 11.1539 - val_mean_absolute_error: 11.1539\n",
      "Epoch 45/50\n",
      "2433693/2433693 [==============================] - 40s 16us/step - loss: 10.8698 - mean_absolute_error: 10.8698 - val_loss: 11.2817 - val_mean_absolute_error: 11.2817\n",
      "Epoch 46/50\n",
      "2433693/2433693 [==============================] - 40s 16us/step - loss: 10.8683 - mean_absolute_error: 10.8683 - val_loss: 11.1811 - val_mean_absolute_error: 11.1811\n",
      "Epoch 47/50\n",
      "2433693/2433693 [==============================] - 40s 16us/step - loss: 10.8667 - mean_absolute_error: 10.8667 - val_loss: 11.1947 - val_mean_absolute_error: 11.1947\n",
      "Epoch 48/50\n",
      "2433693/2433693 [==============================] - 39s 16us/step - loss: 10.8671 - mean_absolute_error: 10.8671 - val_loss: 11.1875 - val_mean_absolute_error: 11.1875\n",
      "Epoch 49/50\n",
      "2433693/2433693 [==============================] - 39s 16us/step - loss: 10.8656 - mean_absolute_error: 10.8656 - val_loss: 11.2333 - val_mean_absolute_error: 11.2333\n",
      "Epoch 50/50\n",
      "2433693/2433693 [==============================] - 39s 16us/step - loss: 10.8626 - mean_absolute_error: 10.8626 - val_loss: 11.2067 - val_mean_absolute_error: 11.2067\n"
     ]
    }
   ],
   "source": [
    "EPOCHS=50\n",
    "result = model.fit(train_data.values, \n",
    "                   train_labels.values, \n",
    "                   epochs = EPOCHS, \n",
    "                   validation_split=0.1, \n",
    "                   initial_epoch=20,\n",
    "                   batch_size=64\n",
    "                  )"
   ]
  },
  {
   "cell_type": "markdown",
   "metadata": {},
   "source": [
    "Evaluate model on test data"
   ]
  },
  {
   "cell_type": "code",
   "execution_count": 57,
   "metadata": {},
   "outputs": [
    {
     "name": "stdout",
     "output_type": "stream",
     "text": [
      "607896/607896 [==============================] - 6s 10us/step\n"
     ]
    },
    {
     "data": {
      "text/plain": [
       "[10.664837318646985, 10.664837318646985]"
      ]
     },
     "execution_count": 57,
     "metadata": {},
     "output_type": "execute_result"
    }
   ],
   "source": [
    "model.evaluate(test_data.values, test_labels.values)"
   ]
  },
  {
   "cell_type": "markdown",
   "metadata": {},
   "source": [
    "Prepare data for evaluation step"
   ]
  },
  {
   "cell_type": "code",
   "execution_count": 58,
   "metadata": {},
   "outputs": [],
   "source": [
    "predictions = model.predict(test_data.values)"
   ]
  },
  {
   "cell_type": "markdown",
   "metadata": {},
   "source": [
    "### Create dataset for evaluation"
   ]
  },
  {
   "cell_type": "code",
   "execution_count": 59,
   "metadata": {},
   "outputs": [],
   "source": [
    "segment = df['seg'].loc[test_idxs].reset_index().drop(columns=['index'])"
   ]
  },
  {
   "cell_type": "code",
   "execution_count": 60,
   "metadata": {},
   "outputs": [
    {
     "data": {
      "text/html": [
       "<div>\n",
       "<style scoped>\n",
       "    .dataframe tbody tr th:only-of-type {\n",
       "        vertical-align: middle;\n",
       "    }\n",
       "\n",
       "    .dataframe tbody tr th {\n",
       "        vertical-align: top;\n",
       "    }\n",
       "\n",
       "    .dataframe thead th {\n",
       "        text-align: right;\n",
       "    }\n",
       "</style>\n",
       "<table border=\"1\" class=\"dataframe\">\n",
       "  <thead>\n",
       "    <tr style=\"text-align: right;\">\n",
       "      <th></th>\n",
       "      <th>seg</th>\n",
       "      <th>journey</th>\n",
       "      <th>speed</th>\n",
       "      <th>pred</th>\n",
       "      <th>label</th>\n",
       "    </tr>\n",
       "  </thead>\n",
       "  <tbody>\n",
       "    <tr>\n",
       "      <th>0</th>\n",
       "      <td>1</td>\n",
       "      <td>1</td>\n",
       "      <td>0.0</td>\n",
       "      <td>113.023987</td>\n",
       "      <td>71.0</td>\n",
       "    </tr>\n",
       "    <tr>\n",
       "      <th>1</th>\n",
       "      <td>1</td>\n",
       "      <td>1</td>\n",
       "      <td>0.0</td>\n",
       "      <td>113.024933</td>\n",
       "      <td>70.0</td>\n",
       "    </tr>\n",
       "    <tr>\n",
       "      <th>2</th>\n",
       "      <td>1</td>\n",
       "      <td>1</td>\n",
       "      <td>0.0</td>\n",
       "      <td>113.028336</td>\n",
       "      <td>69.0</td>\n",
       "    </tr>\n",
       "    <tr>\n",
       "      <th>3</th>\n",
       "      <td>1</td>\n",
       "      <td>1</td>\n",
       "      <td>0.0</td>\n",
       "      <td>113.035133</td>\n",
       "      <td>68.0</td>\n",
       "    </tr>\n",
       "    <tr>\n",
       "      <th>4</th>\n",
       "      <td>1</td>\n",
       "      <td>1</td>\n",
       "      <td>0.0</td>\n",
       "      <td>113.048347</td>\n",
       "      <td>67.0</td>\n",
       "    </tr>\n",
       "  </tbody>\n",
       "</table>\n",
       "</div>"
      ],
      "text/plain": [
       "   seg  journey  speed        pred  label\n",
       "0    1        1    0.0  113.023987   71.0\n",
       "1    1        1    0.0  113.024933   70.0\n",
       "2    1        1    0.0  113.028336   69.0\n",
       "3    1        1    0.0  113.035133   68.0\n",
       "4    1        1    0.0  113.048347   67.0"
      ]
     },
     "execution_count": 60,
     "metadata": {},
     "output_type": "execute_result"
    }
   ],
   "source": [
    "output = pds.DataFrame()\n",
    "output['seg'] = segment['seg']\n",
    "output['journey'] = test_input['journey'].values\n",
    "output['speed'] = test_data.speed.values\n",
    "output['pred'] = predictions\n",
    "output['label'] = test_labels.values\n",
    "output.head()"
   ]
  },
  {
   "cell_type": "code",
   "execution_count": 61,
   "metadata": {},
   "outputs": [],
   "source": [
    "# Same name for all files\n",
    "model_name = 'ANN_M3'\n",
    "\n",
    "# serialize model to YAML\n",
    "model_yaml = model.to_yaml()\n",
    "with open(model_name + '.yaml', 'w') as yaml_file:\n",
    "    yaml_file.write(model_yaml)\n",
    "\n",
    "# Serialize weights to HDF5\n",
    "model.save_weights(model_name + '.h5')"
   ]
  },
  {
   "cell_type": "code",
   "execution_count": 62,
   "metadata": {},
   "outputs": [],
   "source": [
    "output.to_pickle(model_name + '.pkl')"
   ]
  },
  {
   "cell_type": "markdown",
   "metadata": {},
   "source": [
    "Done! Get ready for evaluation"
   ]
  }
 ],
 "metadata": {
  "kernelspec": {
   "display_name": "Python 3",
   "language": "python",
   "name": "python3"
  },
  "language_info": {
   "codemirror_mode": {
    "name": "ipython",
    "version": 3
   },
   "file_extension": ".py",
   "mimetype": "text/x-python",
   "name": "python",
   "nbconvert_exporter": "python",
   "pygments_lexer": "ipython3",
   "version": "3.6.7"
  }
 },
 "nbformat": 4,
 "nbformat_minor": 2
}
