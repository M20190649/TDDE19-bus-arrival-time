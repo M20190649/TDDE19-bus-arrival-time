{
 "cells": [
  {
   "cell_type": "markdown",
   "metadata": {},
   "source": [
    "# Model creation and data split-up\n",
    "\n",
    "This notebook will:\n",
    "* Split data ito test and train data\n",
    "* Train the model\n",
    "* Save the model"
   ]
  },
  {
   "cell_type": "markdown",
   "metadata": {},
   "source": [
    "Import packages"
   ]
  },
  {
   "cell_type": "code",
   "execution_count": 16,
   "metadata": {
    "scrolled": true
   },
   "outputs": [],
   "source": [
    "import tensorflow as tf\n",
    "from tensorflow import keras\n",
    "import numpy as np\n",
    "import pandas as pds\n",
    "from sklearn import preprocessing as pp"
   ]
  },
  {
   "cell_type": "markdown",
   "metadata": {},
   "source": [
    "Import data"
   ]
  },
  {
   "cell_type": "code",
   "execution_count": 2,
   "metadata": {},
   "outputs": [
    {
     "data": {
      "text/html": [
       "<div>\n",
       "<style scoped>\n",
       "    .dataframe tbody tr th:only-of-type {\n",
       "        vertical-align: middle;\n",
       "    }\n",
       "\n",
       "    .dataframe tbody tr th {\n",
       "        vertical-align: top;\n",
       "    }\n",
       "\n",
       "    .dataframe thead th {\n",
       "        text-align: right;\n",
       "    }\n",
       "</style>\n",
       "<table border=\"1\" class=\"dataframe\">\n",
       "  <thead>\n",
       "    <tr style=\"text-align: right;\">\n",
       "      <th></th>\n",
       "      <th></th>\n",
       "      <th>timestamp</th>\n",
       "      <th>lon</th>\n",
       "      <th>lat</th>\n",
       "      <th>direction</th>\n",
       "      <th>speed</th>\n",
       "      <th>journey</th>\n",
       "      <th>seg</th>\n",
       "      <th>time_left</th>\n",
       "      <th>segment_time</th>\n",
       "      <th>tsjs</th>\n",
       "      <th>lat_one</th>\n",
       "      <th>lon_one</th>\n",
       "      <th>lat_two</th>\n",
       "      <th>lon_two</th>\n",
       "      <th>lat_three</th>\n",
       "      <th>lon_three</th>\n",
       "      <th>speed_one</th>\n",
       "      <th>speed_two</th>\n",
       "      <th>speed_three</th>\n",
       "    </tr>\n",
       "  </thead>\n",
       "  <tbody>\n",
       "    <tr>\n",
       "      <th rowspan=\"5\" valign=\"top\">train</th>\n",
       "      <th>0</th>\n",
       "      <td>2018-02-16 04:48:40+01:00</td>\n",
       "      <td>58.414238</td>\n",
       "      <td>15.571015</td>\n",
       "      <td>147.300003</td>\n",
       "      <td>0.0</td>\n",
       "      <td>1</td>\n",
       "      <td>1</td>\n",
       "      <td>71.0</td>\n",
       "      <td>71.0</td>\n",
       "      <td>0.0</td>\n",
       "      <td>15.571015</td>\n",
       "      <td>58.414238</td>\n",
       "      <td>15.571015</td>\n",
       "      <td>58.414238</td>\n",
       "      <td>15.571015</td>\n",
       "      <td>58.414238</td>\n",
       "      <td>15.571015</td>\n",
       "      <td>15.571015</td>\n",
       "      <td>15.571015</td>\n",
       "    </tr>\n",
       "    <tr>\n",
       "      <th>1</th>\n",
       "      <td>2018-02-16 04:48:41+01:00</td>\n",
       "      <td>58.414246</td>\n",
       "      <td>15.571012</td>\n",
       "      <td>147.300003</td>\n",
       "      <td>0.0</td>\n",
       "      <td>1</td>\n",
       "      <td>1</td>\n",
       "      <td>70.0</td>\n",
       "      <td>71.0</td>\n",
       "      <td>0.0</td>\n",
       "      <td>15.571015</td>\n",
       "      <td>58.414238</td>\n",
       "      <td>15.571015</td>\n",
       "      <td>58.414238</td>\n",
       "      <td>15.571015</td>\n",
       "      <td>58.414238</td>\n",
       "      <td>15.571015</td>\n",
       "      <td>15.571015</td>\n",
       "      <td>15.571015</td>\n",
       "    </tr>\n",
       "    <tr>\n",
       "      <th>2</th>\n",
       "      <td>2018-02-16 04:48:42+01:00</td>\n",
       "      <td>58.414249</td>\n",
       "      <td>15.571008</td>\n",
       "      <td>147.300003</td>\n",
       "      <td>0.0</td>\n",
       "      <td>1</td>\n",
       "      <td>1</td>\n",
       "      <td>69.0</td>\n",
       "      <td>71.0</td>\n",
       "      <td>0.0</td>\n",
       "      <td>15.571012</td>\n",
       "      <td>58.414246</td>\n",
       "      <td>15.571015</td>\n",
       "      <td>58.414238</td>\n",
       "      <td>15.571015</td>\n",
       "      <td>58.414238</td>\n",
       "      <td>15.571012</td>\n",
       "      <td>15.571015</td>\n",
       "      <td>15.571015</td>\n",
       "    </tr>\n",
       "    <tr>\n",
       "      <th>3</th>\n",
       "      <td>2018-02-16 04:48:43+01:00</td>\n",
       "      <td>58.414257</td>\n",
       "      <td>15.571004</td>\n",
       "      <td>147.300003</td>\n",
       "      <td>0.0</td>\n",
       "      <td>1</td>\n",
       "      <td>1</td>\n",
       "      <td>68.0</td>\n",
       "      <td>71.0</td>\n",
       "      <td>0.0</td>\n",
       "      <td>15.571008</td>\n",
       "      <td>58.414249</td>\n",
       "      <td>15.571012</td>\n",
       "      <td>58.414246</td>\n",
       "      <td>15.571015</td>\n",
       "      <td>58.414238</td>\n",
       "      <td>15.571008</td>\n",
       "      <td>15.571012</td>\n",
       "      <td>15.571015</td>\n",
       "    </tr>\n",
       "    <tr>\n",
       "      <th>4</th>\n",
       "      <td>2018-02-16 04:48:44+01:00</td>\n",
       "      <td>58.414257</td>\n",
       "      <td>15.571006</td>\n",
       "      <td>147.300003</td>\n",
       "      <td>0.0</td>\n",
       "      <td>1</td>\n",
       "      <td>1</td>\n",
       "      <td>67.0</td>\n",
       "      <td>71.0</td>\n",
       "      <td>0.0</td>\n",
       "      <td>15.571004</td>\n",
       "      <td>58.414257</td>\n",
       "      <td>15.571008</td>\n",
       "      <td>58.414249</td>\n",
       "      <td>15.571012</td>\n",
       "      <td>58.414246</td>\n",
       "      <td>15.571004</td>\n",
       "      <td>15.571008</td>\n",
       "      <td>15.571012</td>\n",
       "    </tr>\n",
       "  </tbody>\n",
       "</table>\n",
       "</div>"
      ],
      "text/plain": [
       "                        timestamp        lon        lat   direction  speed  \\\n",
       "train 0 2018-02-16 04:48:40+01:00  58.414238  15.571015  147.300003    0.0   \n",
       "      1 2018-02-16 04:48:41+01:00  58.414246  15.571012  147.300003    0.0   \n",
       "      2 2018-02-16 04:48:42+01:00  58.414249  15.571008  147.300003    0.0   \n",
       "      3 2018-02-16 04:48:43+01:00  58.414257  15.571004  147.300003    0.0   \n",
       "      4 2018-02-16 04:48:44+01:00  58.414257  15.571006  147.300003    0.0   \n",
       "\n",
       "         journey  seg  time_left  segment_time  tsjs    lat_one    lon_one  \\\n",
       "train 0        1    1       71.0          71.0   0.0  15.571015  58.414238   \n",
       "      1        1    1       70.0          71.0   0.0  15.571015  58.414238   \n",
       "      2        1    1       69.0          71.0   0.0  15.571012  58.414246   \n",
       "      3        1    1       68.0          71.0   0.0  15.571008  58.414249   \n",
       "      4        1    1       67.0          71.0   0.0  15.571004  58.414257   \n",
       "\n",
       "           lat_two    lon_two  lat_three  lon_three  speed_one  speed_two  \\\n",
       "train 0  15.571015  58.414238  15.571015  58.414238  15.571015  15.571015   \n",
       "      1  15.571015  58.414238  15.571015  58.414238  15.571015  15.571015   \n",
       "      2  15.571015  58.414238  15.571015  58.414238  15.571012  15.571015   \n",
       "      3  15.571012  58.414246  15.571015  58.414238  15.571008  15.571012   \n",
       "      4  15.571008  58.414249  15.571012  58.414246  15.571004  15.571008   \n",
       "\n",
       "         speed_three  \n",
       "train 0    15.571015  \n",
       "      1    15.571015  \n",
       "      2    15.571015  \n",
       "      3    15.571015  \n",
       "      4    15.571012  "
      ]
     },
     "execution_count": 2,
     "metadata": {},
     "output_type": "execute_result"
    }
   ],
   "source": [
    "df_tr = pds.read_pickle('ANN_data_train.pkl')\n",
    "df_te = pds.read_pickle('ANN_data_test.pkl')\n",
    "df = pds.concat([df_tr, df_te], keys=['train', 'test'])\n",
    "df.head()"
   ]
  },
  {
   "cell_type": "code",
   "execution_count": 3,
   "metadata": {},
   "outputs": [],
   "source": [
    "#df = pds.read_pickle('ANN_dataset.pkl')\n",
    "#df.head()"
   ]
  },
  {
   "cell_type": "markdown",
   "metadata": {},
   "source": [
    "Note that `time_left` is the label in this model "
   ]
  },
  {
   "cell_type": "code",
   "execution_count": 4,
   "metadata": {},
   "outputs": [],
   "source": [
    "label_string = 'time_left'"
   ]
  },
  {
   "cell_type": "markdown",
   "metadata": {},
   "source": [
    "One hot encode segments, normalize columns and create final dataset"
   ]
  },
  {
   "cell_type": "code",
   "execution_count": 26,
   "metadata": {},
   "outputs": [
    {
     "data": {
      "text/html": [
       "<div>\n",
       "<style scoped>\n",
       "    .dataframe tbody tr th:only-of-type {\n",
       "        vertical-align: middle;\n",
       "    }\n",
       "\n",
       "    .dataframe tbody tr th {\n",
       "        vertical-align: top;\n",
       "    }\n",
       "\n",
       "    .dataframe thead th {\n",
       "        text-align: right;\n",
       "    }\n",
       "</style>\n",
       "<table border=\"1\" class=\"dataframe\">\n",
       "  <thead>\n",
       "    <tr style=\"text-align: right;\">\n",
       "      <th></th>\n",
       "      <th></th>\n",
       "      <th>1</th>\n",
       "      <th>2</th>\n",
       "      <th>3</th>\n",
       "      <th>4</th>\n",
       "      <th>5</th>\n",
       "      <th>6</th>\n",
       "      <th>7</th>\n",
       "      <th>8</th>\n",
       "      <th>9</th>\n",
       "      <th>10</th>\n",
       "      <th>...</th>\n",
       "      <th>lat_one</th>\n",
       "      <th>lon_one</th>\n",
       "      <th>lat_two</th>\n",
       "      <th>lon_two</th>\n",
       "      <th>lat_three</th>\n",
       "      <th>lon_three</th>\n",
       "      <th>speed_one</th>\n",
       "      <th>speed_two</th>\n",
       "      <th>speed_three</th>\n",
       "      <th>journey</th>\n",
       "    </tr>\n",
       "  </thead>\n",
       "  <tbody>\n",
       "    <tr>\n",
       "      <th rowspan=\"5\" valign=\"top\">train</th>\n",
       "      <th>0</th>\n",
       "      <td>1</td>\n",
       "      <td>0</td>\n",
       "      <td>0</td>\n",
       "      <td>0</td>\n",
       "      <td>0</td>\n",
       "      <td>0</td>\n",
       "      <td>0</td>\n",
       "      <td>0</td>\n",
       "      <td>0</td>\n",
       "      <td>0</td>\n",
       "      <td>...</td>\n",
       "      <td>0.326606</td>\n",
       "      <td>0.924521</td>\n",
       "      <td>0.327034</td>\n",
       "      <td>0.924521</td>\n",
       "      <td>0.327489</td>\n",
       "      <td>0.924521</td>\n",
       "      <td>0.326606</td>\n",
       "      <td>0.327034</td>\n",
       "      <td>0.327489</td>\n",
       "      <td>1</td>\n",
       "    </tr>\n",
       "    <tr>\n",
       "      <th>1</th>\n",
       "      <td>1</td>\n",
       "      <td>0</td>\n",
       "      <td>0</td>\n",
       "      <td>0</td>\n",
       "      <td>0</td>\n",
       "      <td>0</td>\n",
       "      <td>0</td>\n",
       "      <td>0</td>\n",
       "      <td>0</td>\n",
       "      <td>0</td>\n",
       "      <td>...</td>\n",
       "      <td>0.326606</td>\n",
       "      <td>0.924521</td>\n",
       "      <td>0.327034</td>\n",
       "      <td>0.924521</td>\n",
       "      <td>0.327489</td>\n",
       "      <td>0.924521</td>\n",
       "      <td>0.326606</td>\n",
       "      <td>0.327034</td>\n",
       "      <td>0.327489</td>\n",
       "      <td>1</td>\n",
       "    </tr>\n",
       "    <tr>\n",
       "      <th>2</th>\n",
       "      <td>1</td>\n",
       "      <td>0</td>\n",
       "      <td>0</td>\n",
       "      <td>0</td>\n",
       "      <td>0</td>\n",
       "      <td>0</td>\n",
       "      <td>0</td>\n",
       "      <td>0</td>\n",
       "      <td>0</td>\n",
       "      <td>0</td>\n",
       "      <td>...</td>\n",
       "      <td>0.326526</td>\n",
       "      <td>0.925287</td>\n",
       "      <td>0.327034</td>\n",
       "      <td>0.924521</td>\n",
       "      <td>0.327489</td>\n",
       "      <td>0.924521</td>\n",
       "      <td>0.326526</td>\n",
       "      <td>0.327034</td>\n",
       "      <td>0.327489</td>\n",
       "      <td>1</td>\n",
       "    </tr>\n",
       "    <tr>\n",
       "      <th>3</th>\n",
       "      <td>1</td>\n",
       "      <td>0</td>\n",
       "      <td>0</td>\n",
       "      <td>0</td>\n",
       "      <td>0</td>\n",
       "      <td>0</td>\n",
       "      <td>0</td>\n",
       "      <td>0</td>\n",
       "      <td>0</td>\n",
       "      <td>0</td>\n",
       "      <td>...</td>\n",
       "      <td>0.326445</td>\n",
       "      <td>0.925670</td>\n",
       "      <td>0.326953</td>\n",
       "      <td>0.925287</td>\n",
       "      <td>0.327489</td>\n",
       "      <td>0.924521</td>\n",
       "      <td>0.326445</td>\n",
       "      <td>0.326953</td>\n",
       "      <td>0.327489</td>\n",
       "      <td>1</td>\n",
       "    </tr>\n",
       "    <tr>\n",
       "      <th>4</th>\n",
       "      <td>1</td>\n",
       "      <td>0</td>\n",
       "      <td>0</td>\n",
       "      <td>0</td>\n",
       "      <td>0</td>\n",
       "      <td>0</td>\n",
       "      <td>0</td>\n",
       "      <td>0</td>\n",
       "      <td>0</td>\n",
       "      <td>0</td>\n",
       "      <td>...</td>\n",
       "      <td>0.326365</td>\n",
       "      <td>0.926437</td>\n",
       "      <td>0.326873</td>\n",
       "      <td>0.925670</td>\n",
       "      <td>0.327408</td>\n",
       "      <td>0.925287</td>\n",
       "      <td>0.326365</td>\n",
       "      <td>0.326873</td>\n",
       "      <td>0.327408</td>\n",
       "      <td>1</td>\n",
       "    </tr>\n",
       "  </tbody>\n",
       "</table>\n",
       "<p>5 rows × 29 columns</p>\n",
       "</div>"
      ],
      "text/plain": [
       "         1  2  3  4  5  6  7  8  9  10   ...      lat_one   lon_one   lat_two  \\\n",
       "train 0  1  0  0  0  0  0  0  0  0   0   ...     0.326606  0.924521  0.327034   \n",
       "      1  1  0  0  0  0  0  0  0  0   0   ...     0.326606  0.924521  0.327034   \n",
       "      2  1  0  0  0  0  0  0  0  0   0   ...     0.326526  0.925287  0.327034   \n",
       "      3  1  0  0  0  0  0  0  0  0   0   ...     0.326445  0.925670  0.326953   \n",
       "      4  1  0  0  0  0  0  0  0  0   0   ...     0.326365  0.926437  0.326873   \n",
       "\n",
       "          lon_two  lat_three  lon_three  speed_one  speed_two  speed_three  \\\n",
       "train 0  0.924521   0.327489   0.924521   0.326606   0.327034     0.327489   \n",
       "      1  0.924521   0.327489   0.924521   0.326606   0.327034     0.327489   \n",
       "      2  0.924521   0.327489   0.924521   0.326526   0.327034     0.327489   \n",
       "      3  0.925287   0.327489   0.924521   0.326445   0.326953     0.327489   \n",
       "      4  0.925670   0.327408   0.925287   0.326365   0.326873     0.327408   \n",
       "\n",
       "         journey  \n",
       "train 0        1  \n",
       "      1        1  \n",
       "      2        1  \n",
       "      3        1  \n",
       "      4        1  \n",
       "\n",
       "[5 rows x 29 columns]"
      ]
     },
     "execution_count": 26,
     "metadata": {},
     "output_type": "execute_result"
    }
   ],
   "source": [
    "# Make segments categorical\n",
    "dataset = pds.get_dummies(df['seg'])\n",
    "\n",
    "# Combine segments, timestamps and time from journey start\n",
    "mm = pp.MinMaxScaler()\n",
    "\n",
    "# Cyclical timestamps \n",
    "dataset['hr_sin'] = np.sin(df.timestamp.dt.hour*(2.*np.pi/24))\n",
    "dataset['hr_cos'] = np.cos(df.timestamp.dt.hour*(2.*np.pi/24))\n",
    "\n",
    "# Convert to radians befor trigonometric functions\n",
    "dataset['dir_sin'] = np.sin(df.direction*(np.pi/180))\n",
    "dataset['dir_cos'] = np.cos(df.direction*(np.pi/180))\n",
    "\n",
    "dataset['speed'] = (df['speed']-df['speed'].min())/(df['speed'].max()-df['speed'].min())\n",
    "dataset['tsjs'] = (df['tsjs']-df['tsjs'].min())/(df['tsjs'].max()-df['tsjs'].min())\n",
    "\n",
    "dataset['lat'] = (df['lat']-df['lat'].min())/(df['lat'].max()-df['lat'].min())\n",
    "dataset['lon'] = (df['lon']-df['lon'].min())/(df['lon'].max()-df['lon'].min())\n",
    "\n",
    "dataset['lat_one'] = mm.fit_transform(df.lat_one.values.reshape(-1,1))\n",
    "dataset['lon_one'] = mm.fit_transform(df.lon_one.values.reshape(-1,1))\n",
    "\n",
    "dataset['lat_two'] = mm.fit_transform(df.lat_two.values.reshape(-1,1))\n",
    "dataset['lon_two'] = mm.fit_transform(df.lon_two.values.reshape(-1,1))\n",
    "\n",
    "dataset['lat_three'] = mm.fit_transform(df.lat_three.values.reshape(-1,1))\n",
    "dataset['lon_three'] = mm.fit_transform(df.lon_three.values.reshape(-1,1))\n",
    "\n",
    "dataset['speed_one'] = mm.fit_transform(df.speed_one.values.reshape(-1,1))\n",
    "dataset['speed_two'] = mm.fit_transform(df.speed_two.values.reshape(-1,1))\n",
    "dataset['speed_three'] = mm.fit_transform(df.speed_three.values.reshape(-1,1))\n",
    "\n",
    "# Include journey number to select entire journeys\n",
    "dataset['journey'] = df['journey']\n",
    "\n",
    "dataset.head()"
   ]
  },
  {
   "cell_type": "markdown",
   "metadata": {},
   "source": [
    "Select an arbitrary number of test journeys"
   ]
  },
  {
   "cell_type": "markdown",
   "metadata": {},
   "source": [
    "divider = 0.2\n",
    "num_journeys = dataset.journey.unique()[-1]\n",
    "num_test_segments = np.int_(np.round(num_journeys*divider))\n",
    "msk = np.random.randint(1, num_journeys, num_test_segments)\n",
    "mask = dataset['journey'].isin(msk)"
   ]
  },
  {
   "cell_type": "markdown",
   "metadata": {},
   "source": [
    "Divide training and test data, where data is a sequence from a journey"
   ]
  },
  {
   "cell_type": "markdown",
   "metadata": {},
   "source": [
    "train_input = dataset[~mask]\n",
    "test_input = dataset[mask]\n",
    "\n",
    "train_labels = df[label_string][~mask]\n",
    "test_labels = df[label_string][mask]\n",
    "\n",
    "test_idxs = test_input.index"
   ]
  },
  {
   "cell_type": "code",
   "execution_count": 27,
   "metadata": {},
   "outputs": [],
   "source": [
    "train_input = dataset.loc['train']\n",
    "test_input = dataset.loc['test']\n",
    "\n",
    "train_labels = df.loc['train'][label_string]\n",
    "test_labels = df.loc['test'][label_string]\n",
    "\n",
    "test_idxs = test_labels.index"
   ]
  },
  {
   "cell_type": "code",
   "execution_count": 28,
   "metadata": {},
   "outputs": [],
   "source": [
    "# Journey numbers were needed up until this point\n",
    "train_data = train_input.drop(columns=['journey'])\n",
    "test_data = test_input.drop(columns=['journey'])"
   ]
  },
  {
   "cell_type": "markdown",
   "metadata": {},
   "source": [
    "Build model"
   ]
  },
  {
   "cell_type": "code",
   "execution_count": 29,
   "metadata": {},
   "outputs": [
    {
     "name": "stdout",
     "output_type": "stream",
     "text": [
      "_________________________________________________________________\n",
      "Layer (type)                 Output Shape              Param #   \n",
      "=================================================================\n",
      "dense_4 (Dense)              (None, 56)                1624      \n",
      "_________________________________________________________________\n",
      "dense_5 (Dense)              (None, 28)                1596      \n",
      "_________________________________________________________________\n",
      "dense_6 (Dense)              (None, 28)                812       \n",
      "_________________________________________________________________\n",
      "dense_7 (Dense)              (None, 1)                 29        \n",
      "=================================================================\n",
      "Total params: 4,061\n",
      "Trainable params: 4,061\n",
      "Non-trainable params: 0\n",
      "_________________________________________________________________\n",
      "None\n"
     ]
    }
   ],
   "source": [
    "model = keras.Sequential([\n",
    "\tkeras.layers.Dense(2*len(train_data.columns), activation=tf.nn.relu, input_shape=(train_data.shape[1],)),\n",
    "    keras.layers.Dense(1*len(train_data.columns), activation=tf.nn.tanh),\n",
    "    keras.layers.Dense(1*len(train_data.columns)),\n",
    "\tkeras.layers.Dense(1, activation=tf.nn.relu)\n",
    "\t])\n",
    "\n",
    "optimizer = keras.optimizers.Adadelta()\n",
    "model.compile(loss='mae', optimizer = optimizer, metrics=['mae'])\n",
    "print(model.summary())"
   ]
  },
  {
   "cell_type": "markdown",
   "metadata": {},
   "source": [
    "Fit model, 10% of the training data is used as validation set"
   ]
  },
  {
   "cell_type": "code",
   "execution_count": 30,
   "metadata": {
    "scrolled": true
   },
   "outputs": [
    {
     "name": "stdout",
     "output_type": "stream",
     "text": [
      "Train on 2384639 samples, validate on 264960 samples\n",
      "Epoch 1/30\n",
      "2384639/2384639 [==============================] - 82s 35us/step - loss: 11.7243 - mean_absolute_error: 11.7243 - val_loss: 11.7063 - val_mean_absolute_error: 11.7063\n",
      "Epoch 2/30\n",
      "2384639/2384639 [==============================] - 83s 35us/step - loss: 11.2282 - mean_absolute_error: 11.2282 - val_loss: 11.4114 - val_mean_absolute_error: 11.4114\n",
      "Epoch 3/30\n",
      "2384639/2384639 [==============================] - 81s 34us/step - loss: 11.0885 - mean_absolute_error: 11.0885 - val_loss: 11.3372 - val_mean_absolute_error: 11.3372\n",
      "Epoch 4/30\n",
      "2384639/2384639 [==============================] - 83s 35us/step - loss: 11.0194 - mean_absolute_error: 11.0194 - val_loss: 11.3215 - val_mean_absolute_error: 11.3215\n",
      "Epoch 5/30\n",
      "2384639/2384639 [==============================] - 76s 32us/step - loss: 10.9761 - mean_absolute_error: 10.9761 - val_loss: 11.2565 - val_mean_absolute_error: 11.2565\n",
      "Epoch 6/30\n",
      "2384639/2384639 [==============================] - 63s 26us/step - loss: 10.9449 - mean_absolute_error: 10.9449 - val_loss: 11.3255 - val_mean_absolute_error: 11.3255\n",
      "Epoch 7/30\n",
      "2384639/2384639 [==============================] - 61s 26us/step - loss: 10.9215 - mean_absolute_error: 10.9215 - val_loss: 11.1554 - val_mean_absolute_error: 11.1554\n",
      "Epoch 8/30\n",
      "2384639/2384639 [==============================] - 61s 26us/step - loss: 10.9026 - mean_absolute_error: 10.9026 - val_loss: 11.2366 - val_mean_absolute_error: 11.2366\n",
      "Epoch 9/30\n",
      "2384639/2384639 [==============================] - 61s 26us/step - loss: 10.8874 - mean_absolute_error: 10.8874 - val_loss: 11.1700 - val_mean_absolute_error: 11.1700\n",
      "Epoch 10/30\n",
      "2384639/2384639 [==============================] - 61s 26us/step - loss: 10.8750 - mean_absolute_error: 10.8750 - val_loss: 11.1720 - val_mean_absolute_error: 11.1720\n",
      "Epoch 11/30\n",
      "2384639/2384639 [==============================] - 62s 26us/step - loss: 10.8661 - mean_absolute_error: 10.8661 - val_loss: 11.1228 - val_mean_absolute_error: 11.1228\n",
      "Epoch 12/30\n",
      "2384639/2384639 [==============================] - 61s 26us/step - loss: 10.8576 - mean_absolute_error: 10.8576 - val_loss: 11.1501 - val_mean_absolute_error: 11.1501\n",
      "Epoch 13/30\n",
      "2384639/2384639 [==============================] - 62s 26us/step - loss: 10.8488 - mean_absolute_error: 10.8488 - val_loss: 11.1876 - val_mean_absolute_error: 11.1876\n",
      "Epoch 14/30\n",
      "2384639/2384639 [==============================] - 61s 26us/step - loss: 10.8410 - mean_absolute_error: 10.8410 - val_loss: 11.1305 - val_mean_absolute_error: 11.1305\n",
      "Epoch 15/30\n",
      "2384639/2384639 [==============================] - 61s 26us/step - loss: 10.8357 - mean_absolute_error: 10.8357 - val_loss: 11.0554 - val_mean_absolute_error: 11.0554\n",
      "Epoch 16/30\n",
      "2384639/2384639 [==============================] - 61s 26us/step - loss: 10.8286 - mean_absolute_error: 10.8286 - val_loss: 11.1457 - val_mean_absolute_error: 11.1457\n",
      "Epoch 17/30\n",
      "2384639/2384639 [==============================] - 61s 26us/step - loss: 10.8219 - mean_absolute_error: 10.8219 - val_loss: 11.0578 - val_mean_absolute_error: 11.0578\n",
      "Epoch 18/30\n",
      "2384639/2384639 [==============================] - 61s 25us/step - loss: 10.8166 - mean_absolute_error: 10.8166 - val_loss: 11.0795 - val_mean_absolute_error: 11.0795\n",
      "Epoch 19/30\n",
      "2384639/2384639 [==============================] - 61s 26us/step - loss: 10.8113 - mean_absolute_error: 10.8113 - val_loss: 11.0685 - val_mean_absolute_error: 11.0685\n",
      "Epoch 20/30\n",
      "2384639/2384639 [==============================] - 61s 26us/step - loss: 10.8065 - mean_absolute_error: 10.8065 - val_loss: 11.0324 - val_mean_absolute_error: 11.0324\n",
      "Epoch 21/30\n",
      "2384639/2384639 [==============================] - 61s 26us/step - loss: 10.8029 - mean_absolute_error: 10.8029 - val_loss: 11.0635 - val_mean_absolute_error: 11.0635\n",
      "Epoch 22/30\n",
      "2384639/2384639 [==============================] - 61s 25us/step - loss: 10.7986 - mean_absolute_error: 10.7986 - val_loss: 11.0471 - val_mean_absolute_error: 11.0471\n",
      "Epoch 23/30\n",
      "2384639/2384639 [==============================] - 60s 25us/step - loss: 10.7963 - mean_absolute_error: 10.7963 - val_loss: 11.0921 - val_mean_absolute_error: 11.0921\n",
      "Epoch 24/30\n",
      "2384639/2384639 [==============================] - 61s 25us/step - loss: 10.7932 - mean_absolute_error: 10.7932 - val_loss: 11.1156 - val_mean_absolute_error: 11.1156\n",
      "Epoch 25/30\n",
      "2384639/2384639 [==============================] - 61s 25us/step - loss: 10.7925 - mean_absolute_error: 10.7925 - val_loss: 11.0896 - val_mean_absolute_error: 11.0896\n",
      "Epoch 26/30\n",
      "2384639/2384639 [==============================] - 60s 25us/step - loss: 10.7885 - mean_absolute_error: 10.7885 - val_loss: 11.0582 - val_mean_absolute_error: 11.0582\n",
      "Epoch 27/30\n",
      "2384639/2384639 [==============================] - 60s 25us/step - loss: 10.7857 - mean_absolute_error: 10.7857 - val_loss: 11.1023 - val_mean_absolute_error: 11.1023\n",
      "Epoch 28/30\n",
      "2384639/2384639 [==============================] - 61s 25us/step - loss: 10.7844 - mean_absolute_error: 10.7844 - val_loss: 11.0738 - val_mean_absolute_error: 11.0738\n",
      "Epoch 29/30\n",
      "2384639/2384639 [==============================] - 61s 25us/step - loss: 10.7831 - mean_absolute_error: 10.7831 - val_loss: 11.1053 - val_mean_absolute_error: 11.1053\n",
      "Epoch 30/30\n",
      "2384639/2384639 [==============================] - 61s 26us/step - loss: 10.7808 - mean_absolute_error: 10.7808 - val_loss: 11.1603 - val_mean_absolute_error: 11.1603\n"
     ]
    }
   ],
   "source": [
    "EPOCHS=30\n",
    "result = model.fit(train_data.values, \n",
    "                   train_labels.values, \n",
    "                   epochs = EPOCHS, \n",
    "                   validation_split=0.1, \n",
    "                   initial_epoch=0,\n",
    "                   batch_size=32\n",
    "                  )"
   ]
  },
  {
   "cell_type": "markdown",
   "metadata": {},
   "source": [
    "Evaluate model on test data"
   ]
  },
  {
   "cell_type": "code",
   "execution_count": 31,
   "metadata": {},
   "outputs": [
    {
     "name": "stdout",
     "output_type": "stream",
     "text": [
      "662401/662401 [==============================] - 6s 9us/step\n"
     ]
    },
    {
     "data": {
      "text/plain": [
       "[11.294563378343492, 11.294563378343492]"
      ]
     },
     "execution_count": 31,
     "metadata": {},
     "output_type": "execute_result"
    }
   ],
   "source": [
    "model.evaluate(test_data.values, test_labels.values)"
   ]
  },
  {
   "cell_type": "markdown",
   "metadata": {},
   "source": [
    "Prepare data for evaluation step"
   ]
  },
  {
   "cell_type": "code",
   "execution_count": 32,
   "metadata": {},
   "outputs": [],
   "source": [
    "predictions = model.predict(test_data.values)"
   ]
  },
  {
   "cell_type": "markdown",
   "metadata": {},
   "source": [
    "### Create dataset for evaluation"
   ]
  },
  {
   "cell_type": "code",
   "execution_count": 37,
   "metadata": {},
   "outputs": [],
   "source": [
    "segment = df['seg'].loc['test'].reset_index(drop=True)"
   ]
  },
  {
   "cell_type": "code",
   "execution_count": 40,
   "metadata": {},
   "outputs": [
    {
     "data": {
      "text/html": [
       "<div>\n",
       "<style scoped>\n",
       "    .dataframe tbody tr th:only-of-type {\n",
       "        vertical-align: middle;\n",
       "    }\n",
       "\n",
       "    .dataframe tbody tr th {\n",
       "        vertical-align: top;\n",
       "    }\n",
       "\n",
       "    .dataframe thead th {\n",
       "        text-align: right;\n",
       "    }\n",
       "</style>\n",
       "<table border=\"1\" class=\"dataframe\">\n",
       "  <thead>\n",
       "    <tr style=\"text-align: right;\">\n",
       "      <th></th>\n",
       "      <th>seg</th>\n",
       "      <th>journey</th>\n",
       "      <th>speed</th>\n",
       "      <th>pred</th>\n",
       "      <th>label</th>\n",
       "    </tr>\n",
       "  </thead>\n",
       "  <tbody>\n",
       "    <tr>\n",
       "      <th>0</th>\n",
       "      <td>1</td>\n",
       "      <td>14</td>\n",
       "      <td>0.0</td>\n",
       "      <td>127.827164</td>\n",
       "      <td>209.0</td>\n",
       "    </tr>\n",
       "    <tr>\n",
       "      <th>1</th>\n",
       "      <td>1</td>\n",
       "      <td>14</td>\n",
       "      <td>0.0</td>\n",
       "      <td>127.827164</td>\n",
       "      <td>208.0</td>\n",
       "    </tr>\n",
       "    <tr>\n",
       "      <th>2</th>\n",
       "      <td>1</td>\n",
       "      <td>14</td>\n",
       "      <td>0.0</td>\n",
       "      <td>127.827164</td>\n",
       "      <td>207.0</td>\n",
       "    </tr>\n",
       "    <tr>\n",
       "      <th>3</th>\n",
       "      <td>1</td>\n",
       "      <td>14</td>\n",
       "      <td>0.0</td>\n",
       "      <td>127.827164</td>\n",
       "      <td>206.0</td>\n",
       "    </tr>\n",
       "    <tr>\n",
       "      <th>4</th>\n",
       "      <td>1</td>\n",
       "      <td>14</td>\n",
       "      <td>0.0</td>\n",
       "      <td>127.827164</td>\n",
       "      <td>205.0</td>\n",
       "    </tr>\n",
       "  </tbody>\n",
       "</table>\n",
       "</div>"
      ],
      "text/plain": [
       "   seg  journey  speed        pred  label\n",
       "0    1       14    0.0  127.827164  209.0\n",
       "1    1       14    0.0  127.827164  208.0\n",
       "2    1       14    0.0  127.827164  207.0\n",
       "3    1       14    0.0  127.827164  206.0\n",
       "4    1       14    0.0  127.827164  205.0"
      ]
     },
     "execution_count": 40,
     "metadata": {},
     "output_type": "execute_result"
    }
   ],
   "source": [
    "output = pds.DataFrame()\n",
    "output['seg'] = segment\n",
    "output['journey'] = test_input['journey'].values\n",
    "output['speed'] = test_data.speed.values\n",
    "output['pred'] = predictions\n",
    "output['label'] = test_labels.values\n",
    "output.head()"
   ]
  },
  {
   "cell_type": "code",
   "execution_count": 41,
   "metadata": {},
   "outputs": [],
   "source": [
    "# Same name for all files\n",
    "model_name = 'ANN_M3'\n",
    "\n",
    "# serialize model to YAML\n",
    "model_yaml = model.to_yaml()\n",
    "with open(model_name + '.yaml', 'w') as yaml_file:\n",
    "    yaml_file.write(model_yaml)\n",
    "\n",
    "# Serialize weights to HDF5\n",
    "model.save_weights(model_name + '.h5')"
   ]
  },
  {
   "cell_type": "code",
   "execution_count": 42,
   "metadata": {},
   "outputs": [],
   "source": [
    "output.to_pickle(model_name + '.pkl')"
   ]
  },
  {
   "cell_type": "markdown",
   "metadata": {},
   "source": [
    "Done! Get ready for evaluation"
   ]
  }
 ],
 "metadata": {
  "kernelspec": {
   "display_name": "Python 3",
   "language": "python",
   "name": "python3"
  },
  "language_info": {
   "codemirror_mode": {
    "name": "ipython",
    "version": 3
   },
   "file_extension": ".py",
   "mimetype": "text/x-python",
   "name": "python",
   "nbconvert_exporter": "python",
   "pygments_lexer": "ipython3",
   "version": "3.6.7"
  }
 },
 "nbformat": 4,
 "nbformat_minor": 2
}
