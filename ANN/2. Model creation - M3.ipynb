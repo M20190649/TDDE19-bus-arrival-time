{
 "cells": [
  {
   "cell_type": "markdown",
   "metadata": {},
   "source": [
    "# Model creation and data split-up\n",
    "\n",
    "This notebook will:\n",
    "* Split data ito test and train data\n",
    "* Train the model\n",
    "* Save the model"
   ]
  },
  {
   "cell_type": "markdown",
   "metadata": {},
   "source": [
    "Import packages"
   ]
  },
  {
   "cell_type": "code",
   "execution_count": 1,
   "metadata": {
    "scrolled": true
   },
   "outputs": [],
   "source": [
    "import tensorflow as tf\n",
    "from tensorflow import keras\n",
    "import numpy as np\n",
    "import pandas as pds"
   ]
  },
  {
   "cell_type": "markdown",
   "metadata": {},
   "source": [
    "Import data"
   ]
  },
  {
   "cell_type": "code",
   "execution_count": 2,
   "metadata": {},
   "outputs": [
    {
     "data": {
      "text/html": [
       "<div>\n",
       "<style scoped>\n",
       "    .dataframe tbody tr th:only-of-type {\n",
       "        vertical-align: middle;\n",
       "    }\n",
       "\n",
       "    .dataframe tbody tr th {\n",
       "        vertical-align: top;\n",
       "    }\n",
       "\n",
       "    .dataframe thead th {\n",
       "        text-align: right;\n",
       "    }\n",
       "</style>\n",
       "<table border=\"1\" class=\"dataframe\">\n",
       "  <thead>\n",
       "    <tr style=\"text-align: right;\">\n",
       "      <th></th>\n",
       "      <th>timestamp</th>\n",
       "      <th>lon</th>\n",
       "      <th>lat</th>\n",
       "      <th>direction</th>\n",
       "      <th>speed</th>\n",
       "      <th>journey</th>\n",
       "      <th>seg</th>\n",
       "      <th>time_left</th>\n",
       "      <th>segment_time</th>\n",
       "      <th>tsjs</th>\n",
       "    </tr>\n",
       "  </thead>\n",
       "  <tbody>\n",
       "    <tr>\n",
       "      <th>0</th>\n",
       "      <td>2018-02-16 04:48:40+01:00</td>\n",
       "      <td>58.414238</td>\n",
       "      <td>15.571015</td>\n",
       "      <td>147.300003</td>\n",
       "      <td>0.0</td>\n",
       "      <td>1</td>\n",
       "      <td>1</td>\n",
       "      <td>71.0</td>\n",
       "      <td>71.0</td>\n",
       "      <td>0.0</td>\n",
       "    </tr>\n",
       "    <tr>\n",
       "      <th>1</th>\n",
       "      <td>2018-02-16 04:48:41+01:00</td>\n",
       "      <td>58.414246</td>\n",
       "      <td>15.571012</td>\n",
       "      <td>147.300003</td>\n",
       "      <td>0.0</td>\n",
       "      <td>1</td>\n",
       "      <td>1</td>\n",
       "      <td>70.0</td>\n",
       "      <td>71.0</td>\n",
       "      <td>0.0</td>\n",
       "    </tr>\n",
       "    <tr>\n",
       "      <th>2</th>\n",
       "      <td>2018-02-16 04:48:42+01:00</td>\n",
       "      <td>58.414249</td>\n",
       "      <td>15.571008</td>\n",
       "      <td>147.300003</td>\n",
       "      <td>0.0</td>\n",
       "      <td>1</td>\n",
       "      <td>1</td>\n",
       "      <td>69.0</td>\n",
       "      <td>71.0</td>\n",
       "      <td>0.0</td>\n",
       "    </tr>\n",
       "    <tr>\n",
       "      <th>3</th>\n",
       "      <td>2018-02-16 04:48:43+01:00</td>\n",
       "      <td>58.414257</td>\n",
       "      <td>15.571004</td>\n",
       "      <td>147.300003</td>\n",
       "      <td>0.0</td>\n",
       "      <td>1</td>\n",
       "      <td>1</td>\n",
       "      <td>68.0</td>\n",
       "      <td>71.0</td>\n",
       "      <td>0.0</td>\n",
       "    </tr>\n",
       "    <tr>\n",
       "      <th>4</th>\n",
       "      <td>2018-02-16 04:48:44+01:00</td>\n",
       "      <td>58.414257</td>\n",
       "      <td>15.571006</td>\n",
       "      <td>147.300003</td>\n",
       "      <td>0.0</td>\n",
       "      <td>1</td>\n",
       "      <td>1</td>\n",
       "      <td>67.0</td>\n",
       "      <td>71.0</td>\n",
       "      <td>0.0</td>\n",
       "    </tr>\n",
       "  </tbody>\n",
       "</table>\n",
       "</div>"
      ],
      "text/plain": [
       "                  timestamp        lon        lat   direction  speed  journey  \\\n",
       "0 2018-02-16 04:48:40+01:00  58.414238  15.571015  147.300003    0.0        1   \n",
       "1 2018-02-16 04:48:41+01:00  58.414246  15.571012  147.300003    0.0        1   \n",
       "2 2018-02-16 04:48:42+01:00  58.414249  15.571008  147.300003    0.0        1   \n",
       "3 2018-02-16 04:48:43+01:00  58.414257  15.571004  147.300003    0.0        1   \n",
       "4 2018-02-16 04:48:44+01:00  58.414257  15.571006  147.300003    0.0        1   \n",
       "\n",
       "   seg  time_left  segment_time  tsjs  \n",
       "0    1       71.0          71.0   0.0  \n",
       "1    1       70.0          71.0   0.0  \n",
       "2    1       69.0          71.0   0.0  \n",
       "3    1       68.0          71.0   0.0  \n",
       "4    1       67.0          71.0   0.0  "
      ]
     },
     "execution_count": 2,
     "metadata": {},
     "output_type": "execute_result"
    }
   ],
   "source": [
    "df = pds.read_pickle('ANN_dataset.pkl')\n",
    "df.head()"
   ]
  },
  {
   "cell_type": "markdown",
   "metadata": {},
   "source": [
    "Note that `time_left` is the label in this model "
   ]
  },
  {
   "cell_type": "code",
   "execution_count": 3,
   "metadata": {},
   "outputs": [],
   "source": [
    "label_string = 'time_left'"
   ]
  },
  {
   "cell_type": "markdown",
   "metadata": {},
   "source": [
    "One hot encode segments, normalize columns and create final dataset"
   ]
  },
  {
   "cell_type": "code",
   "execution_count": 4,
   "metadata": {},
   "outputs": [
    {
     "data": {
      "text/html": [
       "<div>\n",
       "<style scoped>\n",
       "    .dataframe tbody tr th:only-of-type {\n",
       "        vertical-align: middle;\n",
       "    }\n",
       "\n",
       "    .dataframe tbody tr th {\n",
       "        vertical-align: top;\n",
       "    }\n",
       "\n",
       "    .dataframe thead th {\n",
       "        text-align: right;\n",
       "    }\n",
       "</style>\n",
       "<table border=\"1\" class=\"dataframe\">\n",
       "  <thead>\n",
       "    <tr style=\"text-align: right;\">\n",
       "      <th></th>\n",
       "      <th>1</th>\n",
       "      <th>2</th>\n",
       "      <th>3</th>\n",
       "      <th>4</th>\n",
       "      <th>5</th>\n",
       "      <th>6</th>\n",
       "      <th>7</th>\n",
       "      <th>8</th>\n",
       "      <th>9</th>\n",
       "      <th>10</th>\n",
       "      <th>11</th>\n",
       "      <th>hr_sin</th>\n",
       "      <th>hr_cos</th>\n",
       "      <th>dir_sin</th>\n",
       "      <th>dir_cos</th>\n",
       "      <th>speed</th>\n",
       "      <th>tsjs</th>\n",
       "      <th>lat</th>\n",
       "      <th>lon</th>\n",
       "      <th>journey</th>\n",
       "    </tr>\n",
       "  </thead>\n",
       "  <tbody>\n",
       "    <tr>\n",
       "      <th>0</th>\n",
       "      <td>1</td>\n",
       "      <td>0</td>\n",
       "      <td>0</td>\n",
       "      <td>0</td>\n",
       "      <td>0</td>\n",
       "      <td>0</td>\n",
       "      <td>0</td>\n",
       "      <td>0</td>\n",
       "      <td>0</td>\n",
       "      <td>0</td>\n",
       "      <td>0</td>\n",
       "      <td>0.866025</td>\n",
       "      <td>0.5</td>\n",
       "      <td>0.54024</td>\n",
       "      <td>-0.841511</td>\n",
       "      <td>0.0</td>\n",
       "      <td>0.0</td>\n",
       "      <td>0.326317</td>\n",
       "      <td>0.924521</td>\n",
       "      <td>1</td>\n",
       "    </tr>\n",
       "    <tr>\n",
       "      <th>1</th>\n",
       "      <td>1</td>\n",
       "      <td>0</td>\n",
       "      <td>0</td>\n",
       "      <td>0</td>\n",
       "      <td>0</td>\n",
       "      <td>0</td>\n",
       "      <td>0</td>\n",
       "      <td>0</td>\n",
       "      <td>0</td>\n",
       "      <td>0</td>\n",
       "      <td>0</td>\n",
       "      <td>0.866025</td>\n",
       "      <td>0.5</td>\n",
       "      <td>0.54024</td>\n",
       "      <td>-0.841511</td>\n",
       "      <td>0.0</td>\n",
       "      <td>0.0</td>\n",
       "      <td>0.326237</td>\n",
       "      <td>0.925287</td>\n",
       "      <td>1</td>\n",
       "    </tr>\n",
       "    <tr>\n",
       "      <th>2</th>\n",
       "      <td>1</td>\n",
       "      <td>0</td>\n",
       "      <td>0</td>\n",
       "      <td>0</td>\n",
       "      <td>0</td>\n",
       "      <td>0</td>\n",
       "      <td>0</td>\n",
       "      <td>0</td>\n",
       "      <td>0</td>\n",
       "      <td>0</td>\n",
       "      <td>0</td>\n",
       "      <td>0.866025</td>\n",
       "      <td>0.5</td>\n",
       "      <td>0.54024</td>\n",
       "      <td>-0.841511</td>\n",
       "      <td>0.0</td>\n",
       "      <td>0.0</td>\n",
       "      <td>0.326156</td>\n",
       "      <td>0.925670</td>\n",
       "      <td>1</td>\n",
       "    </tr>\n",
       "    <tr>\n",
       "      <th>3</th>\n",
       "      <td>1</td>\n",
       "      <td>0</td>\n",
       "      <td>0</td>\n",
       "      <td>0</td>\n",
       "      <td>0</td>\n",
       "      <td>0</td>\n",
       "      <td>0</td>\n",
       "      <td>0</td>\n",
       "      <td>0</td>\n",
       "      <td>0</td>\n",
       "      <td>0</td>\n",
       "      <td>0.866025</td>\n",
       "      <td>0.5</td>\n",
       "      <td>0.54024</td>\n",
       "      <td>-0.841511</td>\n",
       "      <td>0.0</td>\n",
       "      <td>0.0</td>\n",
       "      <td>0.326076</td>\n",
       "      <td>0.926437</td>\n",
       "      <td>1</td>\n",
       "    </tr>\n",
       "    <tr>\n",
       "      <th>4</th>\n",
       "      <td>1</td>\n",
       "      <td>0</td>\n",
       "      <td>0</td>\n",
       "      <td>0</td>\n",
       "      <td>0</td>\n",
       "      <td>0</td>\n",
       "      <td>0</td>\n",
       "      <td>0</td>\n",
       "      <td>0</td>\n",
       "      <td>0</td>\n",
       "      <td>0</td>\n",
       "      <td>0.866025</td>\n",
       "      <td>0.5</td>\n",
       "      <td>0.54024</td>\n",
       "      <td>-0.841511</td>\n",
       "      <td>0.0</td>\n",
       "      <td>0.0</td>\n",
       "      <td>0.326116</td>\n",
       "      <td>0.926437</td>\n",
       "      <td>1</td>\n",
       "    </tr>\n",
       "  </tbody>\n",
       "</table>\n",
       "</div>"
      ],
      "text/plain": [
       "   1  2  3  4  5  6  7  8  9  10  11    hr_sin  hr_cos  dir_sin   dir_cos  \\\n",
       "0  1  0  0  0  0  0  0  0  0   0   0  0.866025     0.5  0.54024 -0.841511   \n",
       "1  1  0  0  0  0  0  0  0  0   0   0  0.866025     0.5  0.54024 -0.841511   \n",
       "2  1  0  0  0  0  0  0  0  0   0   0  0.866025     0.5  0.54024 -0.841511   \n",
       "3  1  0  0  0  0  0  0  0  0   0   0  0.866025     0.5  0.54024 -0.841511   \n",
       "4  1  0  0  0  0  0  0  0  0   0   0  0.866025     0.5  0.54024 -0.841511   \n",
       "\n",
       "   speed  tsjs       lat       lon  journey  \n",
       "0    0.0   0.0  0.326317  0.924521        1  \n",
       "1    0.0   0.0  0.326237  0.925287        1  \n",
       "2    0.0   0.0  0.326156  0.925670        1  \n",
       "3    0.0   0.0  0.326076  0.926437        1  \n",
       "4    0.0   0.0  0.326116  0.926437        1  "
      ]
     },
     "execution_count": 4,
     "metadata": {},
     "output_type": "execute_result"
    }
   ],
   "source": [
    "# Make segments categorical\n",
    "dataset = pds.get_dummies(df['seg'])\n",
    "\n",
    "# Combine segments, timestamps and time from journey start\n",
    "\n",
    "# Cyclical timestamps \n",
    "dataset['hr_sin'] = np.sin(df.timestamp.dt.hour*(2.*np.pi/24))\n",
    "dataset['hr_cos'] = np.cos(df.timestamp.dt.hour*(2.*np.pi/24))\n",
    "\n",
    "# Convert to radians befor trigonometric functions\n",
    "dataset['dir_sin'] = np.sin(df.direction*(np.pi/180))\n",
    "dataset['dir_cos'] = np.cos(df.direction*(np.pi/180))\n",
    "\n",
    "dataset['speed'] = (df['speed']-df['speed'].min())/(df['speed'].max()-df['speed'].min())\n",
    "dataset['tsjs'] = (df['tsjs']-df['tsjs'].min())/(df['tsjs'].max()-df['tsjs'].min())\n",
    "\n",
    "dataset['lat'] = (df['lat']-df['lat'].min())/(df['lat'].max()-df['lat'].min())\n",
    "dataset['lon'] = (df['lon']-df['lon'].min())/(df['lon'].max()-df['lon'].min())\n",
    "\n",
    "# Include journey number to select entire journeys\n",
    "dataset['journey'] = df['journey']\n",
    "\n",
    "dataset.head()"
   ]
  },
  {
   "cell_type": "markdown",
   "metadata": {},
   "source": [
    "Add columns for the three latest positions for each sample. Replace the first sample from each journey with itself."
   ]
  },
  {
   "cell_type": "code",
   "execution_count": 5,
   "metadata": {},
   "outputs": [],
   "source": [
    "history_speed = pds.DataFrame(0, index=np.arange(len(dataset)), columns=['speed_one', 'speed_two', 'speed_three'])\n",
    "history_pos = pds.DataFrame(0, index=np.arange(len(dataset)), columns=['lat_one', 'lon_one', 'lat_two', 'lon_two', 'lat_three', 'lon_three'])"
   ]
  },
  {
   "cell_type": "code",
   "execution_count": 6,
   "metadata": {
    "scrolled": true
   },
   "outputs": [
    {
     "name": "stderr",
     "output_type": "stream",
     "text": [
      "c:\\users\\jacke\\appdata\\local\\programs\\python\\python36\\lib\\site-packages\\pandas\\core\\indexing.py:189: SettingWithCopyWarning: \n",
      "A value is trying to be set on a copy of a slice from a DataFrame\n",
      "\n",
      "See the caveats in the documentation: http://pandas.pydata.org/pandas-docs/stable/indexing.html#indexing-view-versus-copy\n",
      "  self._setitem_with_indexer(indexer, value)\n"
     ]
    }
   ],
   "source": [
    "for i, a in dataset.groupby('journey'):\n",
    "    idxs = a.index\n",
    "\n",
    "    history_pos.lat_one.iloc[idxs] = a.lat.shift(1)\n",
    "    history_pos.lat_one.iloc[idxs[0]] = history_pos.lat_one.iloc[1]\n",
    "\n",
    "    history_pos.lon_one.iloc[idxs] = a.lon.shift(1)\n",
    "    history_pos.lon_one.iloc[idxs[0]] = history_pos.lon_one.iloc[1]\n",
    "\n",
    "    history_pos.lat_two.iloc[idxs] = a.lat.shift(2)\n",
    "    history_pos.lat_two.iloc[idxs[0]] = history_pos.lat_two.iloc[2]\n",
    "    history_pos.lat_two.iloc[idxs[1]] = history_pos.lat_two.iloc[2]\n",
    "\n",
    "    history_pos.lon_two.iloc[idxs] = a.lon.shift(2)\n",
    "    history_pos.lon_two.iloc[idxs[0]] = history_pos.lon_two.iloc[2]\n",
    "    history_pos.lon_two.iloc[idxs[1]] = history_pos.lon_two.iloc[2]\n",
    "\n",
    "    history_pos.lat_three.iloc[idxs] = a.lat.shift(3)\n",
    "    history_pos.lat_three.iloc[idxs[0]] = history_pos.lat_three.iloc[3]\n",
    "    history_pos.lat_three.iloc[idxs[1]] = history_pos.lat_three.iloc[3]\n",
    "    history_pos.lat_three.iloc[idxs[2]] = history_pos.lat_three.iloc[3]\n",
    "\n",
    "    history_pos.lon_three.iloc[idxs] = a.lon.shift(3)\n",
    "    history_pos.lon_three.iloc[idxs[0]] = history_pos.lon_three.iloc[3]\n",
    "    history_pos.lon_three.iloc[idxs[1]] = history_pos.lon_three.iloc[3]\n",
    "    history_pos.lon_three.iloc[idxs[2]] = history_pos.lon_three.iloc[3]"
   ]
  },
  {
   "cell_type": "code",
   "execution_count": 7,
   "metadata": {},
   "outputs": [],
   "source": [
    "for i, a in dataset.groupby('journey'):\n",
    "    idxs = a.index\n",
    "\n",
    "    history_speed.speed_one.iloc[idxs] = a.lat.shift(1)\n",
    "    history_speed.speed_one.iloc[idxs[0]] = history_speed.speed_one.iloc[1]\n",
    "\n",
    "    history_speed.speed_two.iloc[idxs] = a.lat.shift(2)\n",
    "    history_speed.speed_two.iloc[idxs[0]] = history_speed.speed_two.iloc[2]\n",
    "    history_speed.speed_two.iloc[idxs[1]] = history_speed.speed_two.iloc[2]\n",
    "\n",
    "    history_speed.speed_three.iloc[idxs] = a.lat.shift(3)\n",
    "    history_speed.speed_three.iloc[idxs[0]] = history_speed.speed_three.iloc[3]\n",
    "    history_speed.speed_three.iloc[idxs[1]] = history_speed.speed_three.iloc[3]\n",
    "    history_speed.speed_three.iloc[idxs[2]] = history_speed.speed_three.iloc[3]"
   ]
  },
  {
   "cell_type": "markdown",
   "metadata": {},
   "source": [
    "Make sure there are no NaN:s produced by the shifting"
   ]
  },
  {
   "cell_type": "code",
   "execution_count": 8,
   "metadata": {},
   "outputs": [
    {
     "data": {
      "text/plain": [
       "lat_one      0\n",
       "lon_one      0\n",
       "lat_two      0\n",
       "lon_two      0\n",
       "lat_three    0\n",
       "lon_three    0\n",
       "dtype: int64"
      ]
     },
     "execution_count": 8,
     "metadata": {},
     "output_type": "execute_result"
    }
   ],
   "source": [
    "history_pos.isna().sum()"
   ]
  },
  {
   "cell_type": "code",
   "execution_count": 9,
   "metadata": {},
   "outputs": [
    {
     "data": {
      "text/plain": [
       "speed_one      0\n",
       "speed_two      0\n",
       "speed_three    0\n",
       "dtype: int64"
      ]
     },
     "execution_count": 9,
     "metadata": {},
     "output_type": "execute_result"
    }
   ],
   "source": [
    "history_speed.isna().sum()"
   ]
  },
  {
   "cell_type": "markdown",
   "metadata": {},
   "source": [
    "The two cells above should contain only zeros, otherwise, model training will fail!"
   ]
  },
  {
   "cell_type": "code",
   "execution_count": 10,
   "metadata": {},
   "outputs": [
    {
     "data": {
      "text/html": [
       "<div>\n",
       "<style scoped>\n",
       "    .dataframe tbody tr th:only-of-type {\n",
       "        vertical-align: middle;\n",
       "    }\n",
       "\n",
       "    .dataframe tbody tr th {\n",
       "        vertical-align: top;\n",
       "    }\n",
       "\n",
       "    .dataframe thead th {\n",
       "        text-align: right;\n",
       "    }\n",
       "</style>\n",
       "<table border=\"1\" class=\"dataframe\">\n",
       "  <thead>\n",
       "    <tr style=\"text-align: right;\">\n",
       "      <th></th>\n",
       "      <th>lat_one</th>\n",
       "      <th>lon_one</th>\n",
       "      <th>lat_two</th>\n",
       "      <th>lon_two</th>\n",
       "      <th>lat_three</th>\n",
       "      <th>lon_three</th>\n",
       "    </tr>\n",
       "  </thead>\n",
       "  <tbody>\n",
       "    <tr>\n",
       "      <th>0</th>\n",
       "      <td>0.326317</td>\n",
       "      <td>0.924521</td>\n",
       "      <td>0.326317</td>\n",
       "      <td>0.924521</td>\n",
       "      <td>0.326317</td>\n",
       "      <td>0.924521</td>\n",
       "    </tr>\n",
       "    <tr>\n",
       "      <th>1</th>\n",
       "      <td>0.326317</td>\n",
       "      <td>0.924521</td>\n",
       "      <td>0.326317</td>\n",
       "      <td>0.924521</td>\n",
       "      <td>0.326317</td>\n",
       "      <td>0.924521</td>\n",
       "    </tr>\n",
       "    <tr>\n",
       "      <th>2</th>\n",
       "      <td>0.326237</td>\n",
       "      <td>0.925287</td>\n",
       "      <td>0.326317</td>\n",
       "      <td>0.924521</td>\n",
       "      <td>0.326317</td>\n",
       "      <td>0.924521</td>\n",
       "    </tr>\n",
       "    <tr>\n",
       "      <th>3</th>\n",
       "      <td>0.326156</td>\n",
       "      <td>0.925670</td>\n",
       "      <td>0.326237</td>\n",
       "      <td>0.925287</td>\n",
       "      <td>0.326317</td>\n",
       "      <td>0.924521</td>\n",
       "    </tr>\n",
       "    <tr>\n",
       "      <th>4</th>\n",
       "      <td>0.326076</td>\n",
       "      <td>0.926437</td>\n",
       "      <td>0.326156</td>\n",
       "      <td>0.925670</td>\n",
       "      <td>0.326237</td>\n",
       "      <td>0.925287</td>\n",
       "    </tr>\n",
       "  </tbody>\n",
       "</table>\n",
       "</div>"
      ],
      "text/plain": [
       "    lat_one   lon_one   lat_two   lon_two  lat_three  lon_three\n",
       "0  0.326317  0.924521  0.326317  0.924521   0.326317   0.924521\n",
       "1  0.326317  0.924521  0.326317  0.924521   0.326317   0.924521\n",
       "2  0.326237  0.925287  0.326317  0.924521   0.326317   0.924521\n",
       "3  0.326156  0.925670  0.326237  0.925287   0.326317   0.924521\n",
       "4  0.326076  0.926437  0.326156  0.925670   0.326237   0.925287"
      ]
     },
     "execution_count": 10,
     "metadata": {},
     "output_type": "execute_result"
    }
   ],
   "source": [
    "history_pos.head()"
   ]
  },
  {
   "cell_type": "code",
   "execution_count": 11,
   "metadata": {},
   "outputs": [
    {
     "data": {
      "text/html": [
       "<div>\n",
       "<style scoped>\n",
       "    .dataframe tbody tr th:only-of-type {\n",
       "        vertical-align: middle;\n",
       "    }\n",
       "\n",
       "    .dataframe tbody tr th {\n",
       "        vertical-align: top;\n",
       "    }\n",
       "\n",
       "    .dataframe thead th {\n",
       "        text-align: right;\n",
       "    }\n",
       "</style>\n",
       "<table border=\"1\" class=\"dataframe\">\n",
       "  <thead>\n",
       "    <tr style=\"text-align: right;\">\n",
       "      <th></th>\n",
       "      <th>speed_one</th>\n",
       "      <th>speed_two</th>\n",
       "      <th>speed_three</th>\n",
       "    </tr>\n",
       "  </thead>\n",
       "  <tbody>\n",
       "    <tr>\n",
       "      <th>0</th>\n",
       "      <td>0.326317</td>\n",
       "      <td>0.326317</td>\n",
       "      <td>0.326317</td>\n",
       "    </tr>\n",
       "    <tr>\n",
       "      <th>1</th>\n",
       "      <td>0.326317</td>\n",
       "      <td>0.326317</td>\n",
       "      <td>0.326317</td>\n",
       "    </tr>\n",
       "    <tr>\n",
       "      <th>2</th>\n",
       "      <td>0.326237</td>\n",
       "      <td>0.326317</td>\n",
       "      <td>0.326317</td>\n",
       "    </tr>\n",
       "    <tr>\n",
       "      <th>3</th>\n",
       "      <td>0.326156</td>\n",
       "      <td>0.326237</td>\n",
       "      <td>0.326317</td>\n",
       "    </tr>\n",
       "    <tr>\n",
       "      <th>4</th>\n",
       "      <td>0.326076</td>\n",
       "      <td>0.326156</td>\n",
       "      <td>0.326237</td>\n",
       "    </tr>\n",
       "  </tbody>\n",
       "</table>\n",
       "</div>"
      ],
      "text/plain": [
       "   speed_one  speed_two  speed_three\n",
       "0   0.326317   0.326317     0.326317\n",
       "1   0.326317   0.326317     0.326317\n",
       "2   0.326237   0.326317     0.326317\n",
       "3   0.326156   0.326237     0.326317\n",
       "4   0.326076   0.326156     0.326237"
      ]
     },
     "execution_count": 11,
     "metadata": {},
     "output_type": "execute_result"
    }
   ],
   "source": [
    "history_speed.head()"
   ]
  },
  {
   "cell_type": "markdown",
   "metadata": {},
   "source": [
    "Looking good! Add to dataset"
   ]
  },
  {
   "cell_type": "code",
   "execution_count": 14,
   "metadata": {},
   "outputs": [
    {
     "data": {
      "text/html": [
       "<div>\n",
       "<style scoped>\n",
       "    .dataframe tbody tr th:only-of-type {\n",
       "        vertical-align: middle;\n",
       "    }\n",
       "\n",
       "    .dataframe tbody tr th {\n",
       "        vertical-align: top;\n",
       "    }\n",
       "\n",
       "    .dataframe thead th {\n",
       "        text-align: right;\n",
       "    }\n",
       "</style>\n",
       "<table border=\"1\" class=\"dataframe\">\n",
       "  <thead>\n",
       "    <tr style=\"text-align: right;\">\n",
       "      <th></th>\n",
       "      <th>1</th>\n",
       "      <th>2</th>\n",
       "      <th>3</th>\n",
       "      <th>4</th>\n",
       "      <th>5</th>\n",
       "      <th>6</th>\n",
       "      <th>7</th>\n",
       "      <th>8</th>\n",
       "      <th>9</th>\n",
       "      <th>10</th>\n",
       "      <th>...</th>\n",
       "      <th>speed_three</th>\n",
       "      <th>lat_one</th>\n",
       "      <th>lon_one</th>\n",
       "      <th>lat_two</th>\n",
       "      <th>lon_two</th>\n",
       "      <th>lat_three</th>\n",
       "      <th>lon_three</th>\n",
       "      <th>speed_one</th>\n",
       "      <th>speed_two</th>\n",
       "      <th>speed_three</th>\n",
       "    </tr>\n",
       "  </thead>\n",
       "  <tbody>\n",
       "    <tr>\n",
       "      <th>0</th>\n",
       "      <td>1</td>\n",
       "      <td>0</td>\n",
       "      <td>0</td>\n",
       "      <td>0</td>\n",
       "      <td>0</td>\n",
       "      <td>0</td>\n",
       "      <td>0</td>\n",
       "      <td>0</td>\n",
       "      <td>0</td>\n",
       "      <td>0</td>\n",
       "      <td>...</td>\n",
       "      <td>0.326317</td>\n",
       "      <td>0.326317</td>\n",
       "      <td>0.924521</td>\n",
       "      <td>0.326317</td>\n",
       "      <td>0.924521</td>\n",
       "      <td>0.326317</td>\n",
       "      <td>0.924521</td>\n",
       "      <td>0.326317</td>\n",
       "      <td>0.326317</td>\n",
       "      <td>0.326317</td>\n",
       "    </tr>\n",
       "    <tr>\n",
       "      <th>1</th>\n",
       "      <td>1</td>\n",
       "      <td>0</td>\n",
       "      <td>0</td>\n",
       "      <td>0</td>\n",
       "      <td>0</td>\n",
       "      <td>0</td>\n",
       "      <td>0</td>\n",
       "      <td>0</td>\n",
       "      <td>0</td>\n",
       "      <td>0</td>\n",
       "      <td>...</td>\n",
       "      <td>0.326317</td>\n",
       "      <td>0.326317</td>\n",
       "      <td>0.924521</td>\n",
       "      <td>0.326317</td>\n",
       "      <td>0.924521</td>\n",
       "      <td>0.326317</td>\n",
       "      <td>0.924521</td>\n",
       "      <td>0.326317</td>\n",
       "      <td>0.326317</td>\n",
       "      <td>0.326317</td>\n",
       "    </tr>\n",
       "    <tr>\n",
       "      <th>2</th>\n",
       "      <td>1</td>\n",
       "      <td>0</td>\n",
       "      <td>0</td>\n",
       "      <td>0</td>\n",
       "      <td>0</td>\n",
       "      <td>0</td>\n",
       "      <td>0</td>\n",
       "      <td>0</td>\n",
       "      <td>0</td>\n",
       "      <td>0</td>\n",
       "      <td>...</td>\n",
       "      <td>0.326317</td>\n",
       "      <td>0.326237</td>\n",
       "      <td>0.925287</td>\n",
       "      <td>0.326317</td>\n",
       "      <td>0.924521</td>\n",
       "      <td>0.326317</td>\n",
       "      <td>0.924521</td>\n",
       "      <td>0.326237</td>\n",
       "      <td>0.326317</td>\n",
       "      <td>0.326317</td>\n",
       "    </tr>\n",
       "    <tr>\n",
       "      <th>3</th>\n",
       "      <td>1</td>\n",
       "      <td>0</td>\n",
       "      <td>0</td>\n",
       "      <td>0</td>\n",
       "      <td>0</td>\n",
       "      <td>0</td>\n",
       "      <td>0</td>\n",
       "      <td>0</td>\n",
       "      <td>0</td>\n",
       "      <td>0</td>\n",
       "      <td>...</td>\n",
       "      <td>0.326317</td>\n",
       "      <td>0.326156</td>\n",
       "      <td>0.925670</td>\n",
       "      <td>0.326237</td>\n",
       "      <td>0.925287</td>\n",
       "      <td>0.326317</td>\n",
       "      <td>0.924521</td>\n",
       "      <td>0.326156</td>\n",
       "      <td>0.326237</td>\n",
       "      <td>0.326317</td>\n",
       "    </tr>\n",
       "    <tr>\n",
       "      <th>4</th>\n",
       "      <td>1</td>\n",
       "      <td>0</td>\n",
       "      <td>0</td>\n",
       "      <td>0</td>\n",
       "      <td>0</td>\n",
       "      <td>0</td>\n",
       "      <td>0</td>\n",
       "      <td>0</td>\n",
       "      <td>0</td>\n",
       "      <td>0</td>\n",
       "      <td>...</td>\n",
       "      <td>0.326237</td>\n",
       "      <td>0.326076</td>\n",
       "      <td>0.926437</td>\n",
       "      <td>0.326156</td>\n",
       "      <td>0.925670</td>\n",
       "      <td>0.326237</td>\n",
       "      <td>0.925287</td>\n",
       "      <td>0.326076</td>\n",
       "      <td>0.326156</td>\n",
       "      <td>0.326237</td>\n",
       "    </tr>\n",
       "  </tbody>\n",
       "</table>\n",
       "<p>5 rows × 38 columns</p>\n",
       "</div>"
      ],
      "text/plain": [
       "   1  2  3  4  5  6  7  8  9  10     ...       speed_three   lat_one  \\\n",
       "0  1  0  0  0  0  0  0  0  0   0     ...          0.326317  0.326317   \n",
       "1  1  0  0  0  0  0  0  0  0   0     ...          0.326317  0.326317   \n",
       "2  1  0  0  0  0  0  0  0  0   0     ...          0.326317  0.326237   \n",
       "3  1  0  0  0  0  0  0  0  0   0     ...          0.326317  0.326156   \n",
       "4  1  0  0  0  0  0  0  0  0   0     ...          0.326237  0.326076   \n",
       "\n",
       "    lon_one   lat_two   lon_two  lat_three  lon_three  speed_one  speed_two  \\\n",
       "0  0.924521  0.326317  0.924521   0.326317   0.924521   0.326317   0.326317   \n",
       "1  0.924521  0.326317  0.924521   0.326317   0.924521   0.326317   0.326317   \n",
       "2  0.925287  0.326317  0.924521   0.326317   0.924521   0.326237   0.326317   \n",
       "3  0.925670  0.326237  0.925287   0.326317   0.924521   0.326156   0.326237   \n",
       "4  0.926437  0.326156  0.925670   0.326237   0.925287   0.326076   0.326156   \n",
       "\n",
       "   speed_three  \n",
       "0     0.326317  \n",
       "1     0.326317  \n",
       "2     0.326317  \n",
       "3     0.326317  \n",
       "4     0.326237  \n",
       "\n",
       "[5 rows x 38 columns]"
      ]
     },
     "execution_count": 14,
     "metadata": {},
     "output_type": "execute_result"
    }
   ],
   "source": [
    "new_data = pds.concat([history_pos, history_speed], axis=1)\n",
    "dataset = pds.concat([dataset, new_data], axis=1)\n",
    "dataset.head()"
   ]
  },
  {
   "cell_type": "markdown",
   "metadata": {},
   "source": [
    "The column names can also be listed as:"
   ]
  },
  {
   "cell_type": "code",
   "execution_count": 15,
   "metadata": {
    "scrolled": true
   },
   "outputs": [
    {
     "data": {
      "text/plain": [
       "[1,\n",
       " 2,\n",
       " 3,\n",
       " 4,\n",
       " 5,\n",
       " 6,\n",
       " 7,\n",
       " 8,\n",
       " 9,\n",
       " 10,\n",
       " 11,\n",
       " 'hr_sin',\n",
       " 'hr_cos',\n",
       " 'dir_sin',\n",
       " 'dir_cos',\n",
       " 'speed',\n",
       " 'tsjs',\n",
       " 'lat',\n",
       " 'lon',\n",
       " 'journey',\n",
       " 'lat_one',\n",
       " 'lon_one',\n",
       " 'lat_two',\n",
       " 'lon_two',\n",
       " 'lat_three',\n",
       " 'lon_three',\n",
       " 'speed_one',\n",
       " 'speed_two',\n",
       " 'speed_three',\n",
       " 'lat_one',\n",
       " 'lon_one',\n",
       " 'lat_two',\n",
       " 'lon_two',\n",
       " 'lat_three',\n",
       " 'lon_three',\n",
       " 'speed_one',\n",
       " 'speed_two',\n",
       " 'speed_three']"
      ]
     },
     "execution_count": 15,
     "metadata": {},
     "output_type": "execute_result"
    }
   ],
   "source": [
    "list(dataset)"
   ]
  },
  {
   "cell_type": "markdown",
   "metadata": {},
   "source": [
    "Select an arbitrary number of test journeys"
   ]
  },
  {
   "cell_type": "code",
   "execution_count": 16,
   "metadata": {},
   "outputs": [],
   "source": [
    "divider = 0.2\n",
    "num_journeys = dataset.journey.unique()[-1]\n",
    "num_test_segments = np.int_(np.round(num_journeys*divider))\n",
    "msk = np.random.randint(1, num_journeys, num_test_segments)\n",
    "mask = dataset['journey'].isin(msk)"
   ]
  },
  {
   "cell_type": "markdown",
   "metadata": {},
   "source": [
    "Divide training and test data, where data is a sequence from a journey"
   ]
  },
  {
   "cell_type": "code",
   "execution_count": 32,
   "metadata": {},
   "outputs": [],
   "source": [
    "train_input = dataset[~mask]\n",
    "test_input = dataset[mask]\n",
    "\n",
    "train_labels = df[label_string][~mask]\n",
    "test_labels = df[label_string][mask]\n",
    "\n",
    "test_idxs = test_input.index"
   ]
  },
  {
   "cell_type": "code",
   "execution_count": 18,
   "metadata": {},
   "outputs": [],
   "source": [
    "# Journey numbers were needed up until this point\n",
    "train_data = train_input.drop(columns=['journey'])\n",
    "test_data = test_input.drop(columns=['journey'])"
   ]
  },
  {
   "cell_type": "markdown",
   "metadata": {},
   "source": [
    "Build model"
   ]
  },
  {
   "cell_type": "code",
   "execution_count": 25,
   "metadata": {},
   "outputs": [
    {
     "name": "stdout",
     "output_type": "stream",
     "text": [
      "_________________________________________________________________\n",
      "Layer (type)                 Output Shape              Param #   \n",
      "=================================================================\n",
      "dense_7 (Dense)              (None, 74)                2812      \n",
      "_________________________________________________________________\n",
      "dense_8 (Dense)              (None, 74)                5550      \n",
      "_________________________________________________________________\n",
      "dense_9 (Dense)              (None, 37)                2775      \n",
      "_________________________________________________________________\n",
      "dense_10 (Dense)             (None, 1)                 38        \n",
      "=================================================================\n",
      "Total params: 11,175\n",
      "Trainable params: 11,175\n",
      "Non-trainable params: 0\n",
      "_________________________________________________________________\n",
      "None\n"
     ]
    }
   ],
   "source": [
    "model = keras.Sequential([\n",
    "\tkeras.layers.Dense(2*len(train_data.columns), input_shape=(train_data.shape[1],)),\n",
    "    keras.layers.Dense(2*len(train_data.columns), activation=tf.nn.tanh),\n",
    "    keras.layers.Dense(1*len(train_data.columns)),\n",
    "\tkeras.layers.Dense(1, activation=tf.nn.relu)\n",
    "\t])\n",
    "\n",
    "optimizer = keras.optimizers.Adadelta()\n",
    "model.compile(loss='mae', optimizer = optimizer, metrics=['mae'])\n",
    "print(model.summary())"
   ]
  },
  {
   "cell_type": "markdown",
   "metadata": {},
   "source": [
    "Fit model, 10% of the training data is used as validation set"
   ]
  },
  {
   "cell_type": "code",
   "execution_count": 26,
   "metadata": {
    "scrolled": true
   },
   "outputs": [
    {
     "name": "stdout",
     "output_type": "stream",
     "text": [
      "Train on 2432621 samples, validate on 270292 samples\n",
      "Epoch 1/20\n",
      "2432621/2432621 [==============================] - 44s 18us/step - loss: 12.1242 - mean_absolute_error: 12.1242 - val_loss: 11.6906 - val_mean_absolute_error: 11.6906\n",
      "Epoch 2/20\n",
      "2432621/2432621 [==============================] - 42s 17us/step - loss: 11.4982 - mean_absolute_error: 11.4982 - val_loss: 11.6618 - val_mean_absolute_error: 11.6618\n",
      "Epoch 3/20\n",
      "2432621/2432621 [==============================] - 43s 18us/step - loss: 11.3858 - mean_absolute_error: 11.3858 - val_loss: 11.5596 - val_mean_absolute_error: 11.5596\n",
      "Epoch 4/20\n",
      "2432621/2432621 [==============================] - 42s 17us/step - loss: 11.3226 - mean_absolute_error: 11.3226 - val_loss: 11.9403 - val_mean_absolute_error: 11.9403\n",
      "Epoch 5/20\n",
      "2432621/2432621 [==============================] - 43s 18us/step - loss: 11.2801 - mean_absolute_error: 11.2801 - val_loss: 11.6090 - val_mean_absolute_error: 11.6090\n",
      "Epoch 6/20\n",
      "2432621/2432621 [==============================] - 40s 16us/step - loss: 11.2570 - mean_absolute_error: 11.2570 - val_loss: 11.6054 - val_mean_absolute_error: 11.6054\n",
      "Epoch 7/20\n",
      "2432621/2432621 [==============================] - 42s 17us/step - loss: 11.2408 - mean_absolute_error: 11.2408 - val_loss: 11.6064 - val_mean_absolute_error: 11.6064\n",
      "Epoch 8/20\n",
      "2432621/2432621 [==============================] - 42s 17us/step - loss: 11.2307 - mean_absolute_error: 11.2307 - val_loss: 11.5146 - val_mean_absolute_error: 11.5146\n",
      "Epoch 9/20\n",
      "2432621/2432621 [==============================] - 42s 17us/step - loss: 11.2193 - mean_absolute_error: 11.2193 - val_loss: 11.4477 - val_mean_absolute_error: 11.4477\n",
      "Epoch 10/20\n",
      "2432621/2432621 [==============================] - 42s 17us/step - loss: 11.2171 - mean_absolute_error: 11.2171 - val_loss: 11.5112 - val_mean_absolute_error: 11.5112\n",
      "Epoch 11/20\n",
      "2432621/2432621 [==============================] - 41s 17us/step - loss: 11.2128 - mean_absolute_error: 11.2128 - val_loss: 11.8083 - val_mean_absolute_error: 11.8083\n",
      "Epoch 12/20\n",
      "2432621/2432621 [==============================] - 42s 17us/step - loss: 11.2051 - mean_absolute_error: 11.2051 - val_loss: 11.5888 - val_mean_absolute_error: 11.5888\n",
      "Epoch 13/20\n",
      "2432621/2432621 [==============================] - 42s 17us/step - loss: 11.2024 - mean_absolute_error: 11.2024 - val_loss: 11.6266 - val_mean_absolute_error: 11.6266\n",
      "Epoch 14/20\n",
      "2432621/2432621 [==============================] - 41s 17us/step - loss: 11.2034 - mean_absolute_error: 11.2034 - val_loss: 11.4370 - val_mean_absolute_error: 11.4370\n",
      "Epoch 15/20\n",
      "2432621/2432621 [==============================] - 42s 17us/step - loss: 11.2000 - mean_absolute_error: 11.2000 - val_loss: 11.4753 - val_mean_absolute_error: 11.4753\n",
      "Epoch 16/20\n",
      "2432621/2432621 [==============================] - 42s 17us/step - loss: 11.1960 - mean_absolute_error: 11.1960 - val_loss: 11.4081 - val_mean_absolute_error: 11.4081\n",
      "Epoch 17/20\n",
      "2432621/2432621 [==============================] - 42s 17us/step - loss: 11.1977 - mean_absolute_error: 11.1977 - val_loss: 11.4303 - val_mean_absolute_error: 11.4303\n",
      "Epoch 18/20\n",
      "2432621/2432621 [==============================] - 41s 17us/step - loss: 11.1903 - mean_absolute_error: 11.1903 - val_loss: 11.6099 - val_mean_absolute_error: 11.6099\n",
      "Epoch 19/20\n",
      "2432621/2432621 [==============================] - 41s 17us/step - loss: 11.1901 - mean_absolute_error: 11.1901 - val_loss: 11.5544 - val_mean_absolute_error: 11.5544\n",
      "Epoch 20/20\n",
      "2432621/2432621 [==============================] - 42s 17us/step - loss: 11.1979 - mean_absolute_error: 11.1979 - val_loss: 11.4055 - val_mean_absolute_error: 11.4055\n"
     ]
    }
   ],
   "source": [
    "EPOCHS=20\n",
    "result = model.fit(train_data.values, \n",
    "                   train_labels.values, \n",
    "                   epochs = EPOCHS, \n",
    "                   validation_split=0.1, \n",
    "                   initial_epoch=0,\n",
    "                   batch_size=64\n",
    "                  )"
   ]
  },
  {
   "cell_type": "markdown",
   "metadata": {},
   "source": [
    "Evaluate model on test data"
   ]
  },
  {
   "cell_type": "code",
   "execution_count": 27,
   "metadata": {},
   "outputs": [
    {
     "name": "stdout",
     "output_type": "stream",
     "text": [
      "609087/609087 [==============================] - 7s 11us/step\n"
     ]
    },
    {
     "data": {
      "text/plain": [
       "[11.088943287898411, 11.088943287898411]"
      ]
     },
     "execution_count": 27,
     "metadata": {},
     "output_type": "execute_result"
    }
   ],
   "source": [
    "model.evaluate(test_data.values, test_labels.values)"
   ]
  },
  {
   "cell_type": "markdown",
   "metadata": {},
   "source": [
    "Prepare data for evaluation step"
   ]
  },
  {
   "cell_type": "code",
   "execution_count": 29,
   "metadata": {},
   "outputs": [],
   "source": [
    "predictions = model.predict(test_data.values)"
   ]
  },
  {
   "cell_type": "markdown",
   "metadata": {},
   "source": [
    "### Create dataset for evaluation"
   ]
  },
  {
   "cell_type": "code",
   "execution_count": 38,
   "metadata": {},
   "outputs": [],
   "source": [
    "segment = df['seg'].loc[test_idxs].reset_index().drop(columns=['index'])"
   ]
  },
  {
   "cell_type": "code",
   "execution_count": 39,
   "metadata": {},
   "outputs": [
    {
     "data": {
      "text/html": [
       "<div>\n",
       "<style scoped>\n",
       "    .dataframe tbody tr th:only-of-type {\n",
       "        vertical-align: middle;\n",
       "    }\n",
       "\n",
       "    .dataframe tbody tr th {\n",
       "        vertical-align: top;\n",
       "    }\n",
       "\n",
       "    .dataframe thead th {\n",
       "        text-align: right;\n",
       "    }\n",
       "</style>\n",
       "<table border=\"1\" class=\"dataframe\">\n",
       "  <thead>\n",
       "    <tr style=\"text-align: right;\">\n",
       "      <th></th>\n",
       "      <th>seg</th>\n",
       "      <th>journey</th>\n",
       "      <th>speed</th>\n",
       "      <th>pred</th>\n",
       "      <th>label</th>\n",
       "    </tr>\n",
       "  </thead>\n",
       "  <tbody>\n",
       "    <tr>\n",
       "      <th>0</th>\n",
       "      <td>1</td>\n",
       "      <td>5</td>\n",
       "      <td>0.0</td>\n",
       "      <td>127.258392</td>\n",
       "      <td>193.0</td>\n",
       "    </tr>\n",
       "    <tr>\n",
       "      <th>1</th>\n",
       "      <td>1</td>\n",
       "      <td>5</td>\n",
       "      <td>0.0</td>\n",
       "      <td>127.299850</td>\n",
       "      <td>192.0</td>\n",
       "    </tr>\n",
       "    <tr>\n",
       "      <th>2</th>\n",
       "      <td>1</td>\n",
       "      <td>5</td>\n",
       "      <td>0.0</td>\n",
       "      <td>127.319183</td>\n",
       "      <td>191.0</td>\n",
       "    </tr>\n",
       "    <tr>\n",
       "      <th>3</th>\n",
       "      <td>1</td>\n",
       "      <td>5</td>\n",
       "      <td>0.0</td>\n",
       "      <td>127.328079</td>\n",
       "      <td>190.0</td>\n",
       "    </tr>\n",
       "    <tr>\n",
       "      <th>4</th>\n",
       "      <td>1</td>\n",
       "      <td>5</td>\n",
       "      <td>0.0</td>\n",
       "      <td>127.330658</td>\n",
       "      <td>189.0</td>\n",
       "    </tr>\n",
       "  </tbody>\n",
       "</table>\n",
       "</div>"
      ],
      "text/plain": [
       "   seg  journey  speed        pred  label\n",
       "0    1        5    0.0  127.258392  193.0\n",
       "1    1        5    0.0  127.299850  192.0\n",
       "2    1        5    0.0  127.319183  191.0\n",
       "3    1        5    0.0  127.328079  190.0\n",
       "4    1        5    0.0  127.330658  189.0"
      ]
     },
     "execution_count": 39,
     "metadata": {},
     "output_type": "execute_result"
    }
   ],
   "source": [
    "output = pds.DataFrame()\n",
    "output['seg'] = segment['seg']\n",
    "output['journey'] = test_input['journey'].values\n",
    "output['speed'] = test_data.speed.values\n",
    "output['pred'] = predictions\n",
    "output['label'] = test_labels.values\n",
    "output.head()"
   ]
  },
  {
   "cell_type": "code",
   "execution_count": 40,
   "metadata": {},
   "outputs": [],
   "source": [
    "# Same name for all files\n",
    "model_name = 'ANN_M3'\n",
    "\n",
    "# serialize model to YAML\n",
    "model_yaml = model.to_yaml()\n",
    "with open(model_name + '.yaml', 'w') as yaml_file:\n",
    "    yaml_file.write(model_yaml)\n",
    "\n",
    "# Serialize weights to HDF5\n",
    "model.save_weights(model_name + '.h5')"
   ]
  },
  {
   "cell_type": "code",
   "execution_count": 41,
   "metadata": {},
   "outputs": [],
   "source": [
    "output.to_pickle(model_name + '.pkl')"
   ]
  },
  {
   "cell_type": "markdown",
   "metadata": {},
   "source": [
    "Done! Get ready for evaluation"
   ]
  }
 ],
 "metadata": {
  "kernelspec": {
   "display_name": "Python 3",
   "language": "python",
   "name": "python3"
  },
  "language_info": {
   "codemirror_mode": {
    "name": "ipython",
    "version": 3
   },
   "file_extension": ".py",
   "mimetype": "text/x-python",
   "name": "python",
   "nbconvert_exporter": "python",
   "pygments_lexer": "ipython3",
   "version": "3.6.7"
  }
 },
 "nbformat": 4,
 "nbformat_minor": 2
}
