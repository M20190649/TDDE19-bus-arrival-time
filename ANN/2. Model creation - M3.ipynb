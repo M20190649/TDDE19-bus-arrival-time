{
 "cells": [
  {
   "cell_type": "markdown",
   "metadata": {},
   "source": [
    "# Model creation and data split-up\n",
    "\n",
    "This notebook will:\n",
    "* Split data ito test and train data\n",
    "* Train the model\n",
    "* Save the model"
   ]
  },
  {
   "cell_type": "markdown",
   "metadata": {},
   "source": [
    "Import packages"
   ]
  },
  {
   "cell_type": "code",
   "execution_count": 1,
   "metadata": {
    "scrolled": true
   },
   "outputs": [],
   "source": [
    "import tensorflow as tf\n",
    "from tensorflow import keras\n",
    "import numpy as np\n",
    "import pandas as pds\n",
    "from sklearn import preprocessing as pp"
   ]
  },
  {
   "cell_type": "markdown",
   "metadata": {},
   "source": [
    "Import data"
   ]
  },
  {
   "cell_type": "code",
   "execution_count": 2,
   "metadata": {},
   "outputs": [
    {
     "data": {
      "text/html": [
       "<div>\n",
       "<style scoped>\n",
       "    .dataframe tbody tr th:only-of-type {\n",
       "        vertical-align: middle;\n",
       "    }\n",
       "\n",
       "    .dataframe tbody tr th {\n",
       "        vertical-align: top;\n",
       "    }\n",
       "\n",
       "    .dataframe thead th {\n",
       "        text-align: right;\n",
       "    }\n",
       "</style>\n",
       "<table border=\"1\" class=\"dataframe\">\n",
       "  <thead>\n",
       "    <tr style=\"text-align: right;\">\n",
       "      <th></th>\n",
       "      <th></th>\n",
       "      <th>direction</th>\n",
       "      <th>journey</th>\n",
       "      <th>lat</th>\n",
       "      <th>lon</th>\n",
       "      <th>seg</th>\n",
       "      <th>speed</th>\n",
       "      <th>timestamp</th>\n",
       "      <th>time_left</th>\n",
       "      <th>segment_time</th>\n",
       "      <th>tsjs</th>\n",
       "      <th>lat_one</th>\n",
       "      <th>lon_one</th>\n",
       "      <th>lat_two</th>\n",
       "      <th>lon_two</th>\n",
       "      <th>lat_three</th>\n",
       "      <th>lon_three</th>\n",
       "      <th>speed_one</th>\n",
       "      <th>speed_two</th>\n",
       "      <th>speed_three</th>\n",
       "    </tr>\n",
       "  </thead>\n",
       "  <tbody>\n",
       "    <tr>\n",
       "      <th rowspan=\"5\" valign=\"top\">train</th>\n",
       "      <th>0</th>\n",
       "      <td>129.852944</td>\n",
       "      <td>1</td>\n",
       "      <td>15.571012</td>\n",
       "      <td>58.414258</td>\n",
       "      <td>1</td>\n",
       "      <td>0.00</td>\n",
       "      <td>2018-02-16 04:48:46+01:00</td>\n",
       "      <td>65.0</td>\n",
       "      <td>65.0</td>\n",
       "      <td>0.0</td>\n",
       "      <td>15.571012</td>\n",
       "      <td>58.414258</td>\n",
       "      <td>15.571012</td>\n",
       "      <td>58.414258</td>\n",
       "      <td>15.571012</td>\n",
       "      <td>58.414258</td>\n",
       "      <td>15.571012</td>\n",
       "      <td>15.571012</td>\n",
       "      <td>15.571012</td>\n",
       "    </tr>\n",
       "    <tr>\n",
       "      <th>1</th>\n",
       "      <td>142.963046</td>\n",
       "      <td>1</td>\n",
       "      <td>15.571246</td>\n",
       "      <td>58.414280</td>\n",
       "      <td>1</td>\n",
       "      <td>3.08</td>\n",
       "      <td>2018-02-16 04:49:05+01:00</td>\n",
       "      <td>46.0</td>\n",
       "      <td>65.0</td>\n",
       "      <td>0.0</td>\n",
       "      <td>15.571012</td>\n",
       "      <td>58.414258</td>\n",
       "      <td>15.571012</td>\n",
       "      <td>58.414258</td>\n",
       "      <td>15.571012</td>\n",
       "      <td>58.414258</td>\n",
       "      <td>15.571012</td>\n",
       "      <td>15.571012</td>\n",
       "      <td>15.571012</td>\n",
       "    </tr>\n",
       "    <tr>\n",
       "      <th>2</th>\n",
       "      <td>287.399994</td>\n",
       "      <td>1</td>\n",
       "      <td>15.571079</td>\n",
       "      <td>58.414436</td>\n",
       "      <td>1</td>\n",
       "      <td>4.37</td>\n",
       "      <td>2018-02-16 04:49:17+01:00</td>\n",
       "      <td>34.0</td>\n",
       "      <td>65.0</td>\n",
       "      <td>0.0</td>\n",
       "      <td>15.571246</td>\n",
       "      <td>58.414280</td>\n",
       "      <td>15.571012</td>\n",
       "      <td>58.414258</td>\n",
       "      <td>15.571012</td>\n",
       "      <td>58.414258</td>\n",
       "      <td>15.571246</td>\n",
       "      <td>15.571012</td>\n",
       "      <td>15.571012</td>\n",
       "    </tr>\n",
       "    <tr>\n",
       "      <th>3</th>\n",
       "      <td>289.790009</td>\n",
       "      <td>1</td>\n",
       "      <td>15.570891</td>\n",
       "      <td>58.414459</td>\n",
       "      <td>1</td>\n",
       "      <td>6.73</td>\n",
       "      <td>2018-02-16 04:49:18+01:00</td>\n",
       "      <td>33.0</td>\n",
       "      <td>65.0</td>\n",
       "      <td>0.0</td>\n",
       "      <td>15.571079</td>\n",
       "      <td>58.414436</td>\n",
       "      <td>15.571246</td>\n",
       "      <td>58.414280</td>\n",
       "      <td>15.571012</td>\n",
       "      <td>58.414258</td>\n",
       "      <td>15.571079</td>\n",
       "      <td>15.571246</td>\n",
       "      <td>15.571012</td>\n",
       "    </tr>\n",
       "    <tr>\n",
       "      <th>4</th>\n",
       "      <td>288.200012</td>\n",
       "      <td>1</td>\n",
       "      <td>15.570773</td>\n",
       "      <td>58.414478</td>\n",
       "      <td>1</td>\n",
       "      <td>7.30</td>\n",
       "      <td>2018-02-16 04:49:19+01:00</td>\n",
       "      <td>32.0</td>\n",
       "      <td>65.0</td>\n",
       "      <td>0.0</td>\n",
       "      <td>15.570891</td>\n",
       "      <td>58.414459</td>\n",
       "      <td>15.571079</td>\n",
       "      <td>58.414436</td>\n",
       "      <td>15.571246</td>\n",
       "      <td>58.414280</td>\n",
       "      <td>15.570891</td>\n",
       "      <td>15.571079</td>\n",
       "      <td>15.571246</td>\n",
       "    </tr>\n",
       "  </tbody>\n",
       "</table>\n",
       "</div>"
      ],
      "text/plain": [
       "          direction  journey        lat        lon  seg  speed  \\\n",
       "train 0  129.852944        1  15.571012  58.414258    1   0.00   \n",
       "      1  142.963046        1  15.571246  58.414280    1   3.08   \n",
       "      2  287.399994        1  15.571079  58.414436    1   4.37   \n",
       "      3  289.790009        1  15.570891  58.414459    1   6.73   \n",
       "      4  288.200012        1  15.570773  58.414478    1   7.30   \n",
       "\n",
       "                        timestamp  time_left  segment_time  tsjs    lat_one  \\\n",
       "train 0 2018-02-16 04:48:46+01:00       65.0          65.0   0.0  15.571012   \n",
       "      1 2018-02-16 04:49:05+01:00       46.0          65.0   0.0  15.571012   \n",
       "      2 2018-02-16 04:49:17+01:00       34.0          65.0   0.0  15.571246   \n",
       "      3 2018-02-16 04:49:18+01:00       33.0          65.0   0.0  15.571079   \n",
       "      4 2018-02-16 04:49:19+01:00       32.0          65.0   0.0  15.570891   \n",
       "\n",
       "           lon_one    lat_two    lon_two  lat_three  lon_three  speed_one  \\\n",
       "train 0  58.414258  15.571012  58.414258  15.571012  58.414258  15.571012   \n",
       "      1  58.414258  15.571012  58.414258  15.571012  58.414258  15.571012   \n",
       "      2  58.414280  15.571012  58.414258  15.571012  58.414258  15.571246   \n",
       "      3  58.414436  15.571246  58.414280  15.571012  58.414258  15.571079   \n",
       "      4  58.414459  15.571079  58.414436  15.571246  58.414280  15.570891   \n",
       "\n",
       "         speed_two  speed_three  \n",
       "train 0  15.571012    15.571012  \n",
       "      1  15.571012    15.571012  \n",
       "      2  15.571012    15.571012  \n",
       "      3  15.571246    15.571012  \n",
       "      4  15.571079    15.571246  "
      ]
     },
     "execution_count": 2,
     "metadata": {},
     "output_type": "execute_result"
    }
   ],
   "source": [
    "df_tr = pds.read_pickle('ANN_train_203_downsampled.pkl')\n",
    "df_te = pds.read_pickle('ANN_test_203_downsampled.pkl')\n",
    "df = pds.concat([df_tr, df_te], keys=['train', 'test'])\n",
    "df.head()"
   ]
  },
  {
   "cell_type": "code",
   "execution_count": 3,
   "metadata": {},
   "outputs": [],
   "source": [
    "#df = pds.read_pickle('ANN_dataset.pkl')\n",
    "#df.head()"
   ]
  },
  {
   "cell_type": "markdown",
   "metadata": {},
   "source": [
    "Note that `time_left` is the label in this model "
   ]
  },
  {
   "cell_type": "code",
   "execution_count": 4,
   "metadata": {},
   "outputs": [],
   "source": [
    "label_string = 'time_left'"
   ]
  },
  {
   "cell_type": "markdown",
   "metadata": {},
   "source": [
    "One hot encode segments, normalize columns and create final dataset"
   ]
  },
  {
   "cell_type": "code",
   "execution_count": 5,
   "metadata": {},
   "outputs": [
    {
     "data": {
      "text/html": [
       "<div>\n",
       "<style scoped>\n",
       "    .dataframe tbody tr th:only-of-type {\n",
       "        vertical-align: middle;\n",
       "    }\n",
       "\n",
       "    .dataframe tbody tr th {\n",
       "        vertical-align: top;\n",
       "    }\n",
       "\n",
       "    .dataframe thead th {\n",
       "        text-align: right;\n",
       "    }\n",
       "</style>\n",
       "<table border=\"1\" class=\"dataframe\">\n",
       "  <thead>\n",
       "    <tr style=\"text-align: right;\">\n",
       "      <th></th>\n",
       "      <th></th>\n",
       "      <th>1</th>\n",
       "      <th>2</th>\n",
       "      <th>3</th>\n",
       "      <th>4</th>\n",
       "      <th>5</th>\n",
       "      <th>6</th>\n",
       "      <th>7</th>\n",
       "      <th>8</th>\n",
       "      <th>9</th>\n",
       "      <th>10</th>\n",
       "      <th>...</th>\n",
       "      <th>lat_one</th>\n",
       "      <th>lon_one</th>\n",
       "      <th>lat_two</th>\n",
       "      <th>lon_two</th>\n",
       "      <th>lat_three</th>\n",
       "      <th>lon_three</th>\n",
       "      <th>speed_one</th>\n",
       "      <th>speed_two</th>\n",
       "      <th>speed_three</th>\n",
       "      <th>journey</th>\n",
       "    </tr>\n",
       "  </thead>\n",
       "  <tbody>\n",
       "    <tr>\n",
       "      <th rowspan=\"5\" valign=\"top\">train</th>\n",
       "      <th>0</th>\n",
       "      <td>1</td>\n",
       "      <td>0</td>\n",
       "      <td>0</td>\n",
       "      <td>0</td>\n",
       "      <td>0</td>\n",
       "      <td>0</td>\n",
       "      <td>0</td>\n",
       "      <td>0</td>\n",
       "      <td>0</td>\n",
       "      <td>0</td>\n",
       "      <td>...</td>\n",
       "      <td>0.327986</td>\n",
       "      <td>0.926504</td>\n",
       "      <td>0.328617</td>\n",
       "      <td>0.926504</td>\n",
       "      <td>0.329531</td>\n",
       "      <td>0.926504</td>\n",
       "      <td>0.327986</td>\n",
       "      <td>0.328617</td>\n",
       "      <td>0.329531</td>\n",
       "      <td>1</td>\n",
       "    </tr>\n",
       "    <tr>\n",
       "      <th>1</th>\n",
       "      <td>1</td>\n",
       "      <td>0</td>\n",
       "      <td>0</td>\n",
       "      <td>0</td>\n",
       "      <td>0</td>\n",
       "      <td>0</td>\n",
       "      <td>0</td>\n",
       "      <td>0</td>\n",
       "      <td>0</td>\n",
       "      <td>0</td>\n",
       "      <td>...</td>\n",
       "      <td>0.327986</td>\n",
       "      <td>0.926504</td>\n",
       "      <td>0.328617</td>\n",
       "      <td>0.926504</td>\n",
       "      <td>0.329531</td>\n",
       "      <td>0.926504</td>\n",
       "      <td>0.327986</td>\n",
       "      <td>0.328617</td>\n",
       "      <td>0.329531</td>\n",
       "      <td>1</td>\n",
       "    </tr>\n",
       "    <tr>\n",
       "      <th>2</th>\n",
       "      <td>1</td>\n",
       "      <td>0</td>\n",
       "      <td>0</td>\n",
       "      <td>0</td>\n",
       "      <td>0</td>\n",
       "      <td>0</td>\n",
       "      <td>0</td>\n",
       "      <td>0</td>\n",
       "      <td>0</td>\n",
       "      <td>0</td>\n",
       "      <td>...</td>\n",
       "      <td>0.332938</td>\n",
       "      <td>0.928719</td>\n",
       "      <td>0.328617</td>\n",
       "      <td>0.926504</td>\n",
       "      <td>0.329531</td>\n",
       "      <td>0.926504</td>\n",
       "      <td>0.332938</td>\n",
       "      <td>0.328617</td>\n",
       "      <td>0.329531</td>\n",
       "      <td>1</td>\n",
       "    </tr>\n",
       "    <tr>\n",
       "      <th>3</th>\n",
       "      <td>1</td>\n",
       "      <td>0</td>\n",
       "      <td>0</td>\n",
       "      <td>0</td>\n",
       "      <td>0</td>\n",
       "      <td>0</td>\n",
       "      <td>0</td>\n",
       "      <td>0</td>\n",
       "      <td>0</td>\n",
       "      <td>0</td>\n",
       "      <td>...</td>\n",
       "      <td>0.329406</td>\n",
       "      <td>0.944444</td>\n",
       "      <td>0.333579</td>\n",
       "      <td>0.928719</td>\n",
       "      <td>0.329531</td>\n",
       "      <td>0.926504</td>\n",
       "      <td>0.329406</td>\n",
       "      <td>0.333579</td>\n",
       "      <td>0.329531</td>\n",
       "      <td>1</td>\n",
       "    </tr>\n",
       "    <tr>\n",
       "      <th>4</th>\n",
       "      <td>1</td>\n",
       "      <td>0</td>\n",
       "      <td>0</td>\n",
       "      <td>0</td>\n",
       "      <td>0</td>\n",
       "      <td>0</td>\n",
       "      <td>0</td>\n",
       "      <td>0</td>\n",
       "      <td>0</td>\n",
       "      <td>0</td>\n",
       "      <td>...</td>\n",
       "      <td>0.325424</td>\n",
       "      <td>0.946743</td>\n",
       "      <td>0.330039</td>\n",
       "      <td>0.944444</td>\n",
       "      <td>0.334507</td>\n",
       "      <td>0.928719</td>\n",
       "      <td>0.325424</td>\n",
       "      <td>0.330039</td>\n",
       "      <td>0.334507</td>\n",
       "      <td>1</td>\n",
       "    </tr>\n",
       "  </tbody>\n",
       "</table>\n",
       "<p>5 rows × 29 columns</p>\n",
       "</div>"
      ],
      "text/plain": [
       "         1  2  3  4  5  6  7  8  9  10   ...      lat_one   lon_one   lat_two  \\\n",
       "train 0  1  0  0  0  0  0  0  0  0   0   ...     0.327986  0.926504  0.328617   \n",
       "      1  1  0  0  0  0  0  0  0  0   0   ...     0.327986  0.926504  0.328617   \n",
       "      2  1  0  0  0  0  0  0  0  0   0   ...     0.332938  0.928719  0.328617   \n",
       "      3  1  0  0  0  0  0  0  0  0   0   ...     0.329406  0.944444  0.333579   \n",
       "      4  1  0  0  0  0  0  0  0  0   0   ...     0.325424  0.946743  0.330039   \n",
       "\n",
       "          lon_two  lat_three  lon_three  speed_one  speed_two  speed_three  \\\n",
       "train 0  0.926504   0.329531   0.926504   0.327986   0.328617     0.329531   \n",
       "      1  0.926504   0.329531   0.926504   0.327986   0.328617     0.329531   \n",
       "      2  0.926504   0.329531   0.926504   0.332938   0.328617     0.329531   \n",
       "      3  0.928719   0.329531   0.926504   0.329406   0.333579     0.329531   \n",
       "      4  0.944444   0.334507   0.928719   0.325424   0.330039     0.334507   \n",
       "\n",
       "         journey  \n",
       "train 0        1  \n",
       "      1        1  \n",
       "      2        1  \n",
       "      3        1  \n",
       "      4        1  \n",
       "\n",
       "[5 rows x 29 columns]"
      ]
     },
     "execution_count": 5,
     "metadata": {},
     "output_type": "execute_result"
    }
   ],
   "source": [
    "# Make segments categorical\n",
    "dataset = pds.get_dummies(df['seg'])\n",
    "\n",
    "# Combine segments, timestamps and time from journey start\n",
    "mm = pp.MinMaxScaler()\n",
    "\n",
    "# Cyclical timestamps \n",
    "dataset['hr_sin'] = np.sin(df.timestamp.dt.hour*(2.*np.pi/24))\n",
    "dataset['hr_cos'] = np.cos(df.timestamp.dt.hour*(2.*np.pi/24))\n",
    "\n",
    "# Convert to radians befor trigonometric functions\n",
    "dataset['dir_sin'] = np.sin(df.direction*(np.pi/180))\n",
    "dataset['dir_cos'] = np.cos(df.direction*(np.pi/180))\n",
    "\n",
    "dataset['speed'] = (df['speed']-df['speed'].min())/(df['speed'].max()-df['speed'].min())\n",
    "dataset['tsjs'] = (df['tsjs']-df['tsjs'].min())/(df['tsjs'].max()-df['tsjs'].min())\n",
    "\n",
    "dataset['lat'] = (df['lat']-df['lat'].min())/(df['lat'].max()-df['lat'].min())\n",
    "dataset['lon'] = (df['lon']-df['lon'].min())/(df['lon'].max()-df['lon'].min())\n",
    "\n",
    "dataset['lat_one'] = mm.fit_transform(df.lat_one.values.reshape(-1,1))\n",
    "dataset['lon_one'] = mm.fit_transform(df.lon_one.values.reshape(-1,1))\n",
    "\n",
    "dataset['lat_two'] = mm.fit_transform(df.lat_two.values.reshape(-1,1))\n",
    "dataset['lon_two'] = mm.fit_transform(df.lon_two.values.reshape(-1,1))\n",
    "\n",
    "dataset['lat_three'] = mm.fit_transform(df.lat_three.values.reshape(-1,1))\n",
    "dataset['lon_three'] = mm.fit_transform(df.lon_three.values.reshape(-1,1))\n",
    "\n",
    "dataset['speed_one'] = mm.fit_transform(df.speed_one.values.reshape(-1,1))\n",
    "dataset['speed_two'] = mm.fit_transform(df.speed_two.values.reshape(-1,1))\n",
    "dataset['speed_three'] = mm.fit_transform(df.speed_three.values.reshape(-1,1))\n",
    "\n",
    "# Include journey number to select entire journeys\n",
    "dataset['journey'] = df['journey']\n",
    "\n",
    "dataset.head()"
   ]
  },
  {
   "cell_type": "markdown",
   "metadata": {},
   "source": [
    "Select an arbitrary number of test journeys"
   ]
  },
  {
   "cell_type": "markdown",
   "metadata": {},
   "source": [
    "divider = 0.2\n",
    "num_journeys = dataset.journey.unique()[-1]\n",
    "num_test_segments = np.int_(np.round(num_journeys*divider))\n",
    "msk = np.random.randint(1, num_journeys, num_test_segments)\n",
    "mask = dataset['journey'].isin(msk)"
   ]
  },
  {
   "cell_type": "markdown",
   "metadata": {},
   "source": [
    "Divide training and test data, where data is a sequence from a journey"
   ]
  },
  {
   "cell_type": "markdown",
   "metadata": {},
   "source": [
    "train_input = dataset[~mask]\n",
    "test_input = dataset[mask]\n",
    "\n",
    "train_labels = df[label_string][~mask]\n",
    "test_labels = df[label_string][mask]\n",
    "\n",
    "test_idxs = test_input.index"
   ]
  },
  {
   "cell_type": "code",
   "execution_count": 6,
   "metadata": {},
   "outputs": [],
   "source": [
    "train_input = dataset.loc['train']\n",
    "test_input = dataset.loc['test']\n",
    "\n",
    "train_labels = df.loc['train'][label_string]\n",
    "test_labels = df.loc['test'][label_string]\n",
    "\n",
    "test_idxs = test_labels.index"
   ]
  },
  {
   "cell_type": "code",
   "execution_count": 7,
   "metadata": {},
   "outputs": [],
   "source": [
    "# Journey numbers were needed up until this point\n",
    "train_data = train_input.drop(columns=['journey'])\n",
    "test_data = test_input.drop(columns=['journey'])"
   ]
  },
  {
   "cell_type": "markdown",
   "metadata": {},
   "source": [
    "Build model"
   ]
  },
  {
   "cell_type": "code",
   "execution_count": 8,
   "metadata": {},
   "outputs": [
    {
     "name": "stdout",
     "output_type": "stream",
     "text": [
      "_________________________________________________________________\n",
      "Layer (type)                 Output Shape              Param #   \n",
      "=================================================================\n",
      "dense (Dense)                (None, 56)                1624      \n",
      "_________________________________________________________________\n",
      "dense_1 (Dense)              (None, 28)                1596      \n",
      "_________________________________________________________________\n",
      "dense_2 (Dense)              (None, 28)                812       \n",
      "_________________________________________________________________\n",
      "dense_3 (Dense)              (None, 1)                 29        \n",
      "=================================================================\n",
      "Total params: 4,061\n",
      "Trainable params: 4,061\n",
      "Non-trainable params: 0\n",
      "_________________________________________________________________\n",
      "None\n"
     ]
    }
   ],
   "source": [
    "model = keras.Sequential([\n",
    "\tkeras.layers.Dense(2*len(train_data.columns), activation=tf.nn.relu, input_shape=(train_data.shape[1],)),\n",
    "    keras.layers.Dense(1*len(train_data.columns), activation=tf.nn.tanh),\n",
    "    keras.layers.Dense(1*len(train_data.columns)),\n",
    "\tkeras.layers.Dense(1, activation=tf.nn.relu)\n",
    "\t])\n",
    "\n",
    "optimizer = keras.optimizers.Adadelta()\n",
    "model.compile(loss='mae', optimizer = optimizer, metrics=['mae'])\n",
    "print(model.summary())"
   ]
  },
  {
   "cell_type": "markdown",
   "metadata": {},
   "source": [
    "Fit model, 10% of the training data is used as validation set"
   ]
  },
  {
   "cell_type": "code",
   "execution_count": 9,
   "metadata": {
    "scrolled": true
   },
   "outputs": [
    {
     "name": "stdout",
     "output_type": "stream",
     "text": [
      "Train on 1354825 samples, validate on 150537 samples\n",
      "Epoch 1/10\n",
      "1354825/1354825 [==============================] - 45s 33us/step - loss: 3.9014 - mean_absolute_error: 3.9014 - val_loss: 3.7256 - val_mean_absolute_error: 3.7256\n",
      "Epoch 2/10\n",
      "1354825/1354825 [==============================] - 41s 30us/step - loss: 3.4565 - mean_absolute_error: 3.4565 - val_loss: 3.5046 - val_mean_absolute_error: 3.5046\n",
      "Epoch 3/10\n",
      "1354825/1354825 [==============================] - 42s 31us/step - loss: 3.3770 - mean_absolute_error: 3.3770 - val_loss: 3.6108 - val_mean_absolute_error: 3.6108\n",
      "Epoch 4/10\n",
      "1354825/1354825 [==============================] - 42s 31us/step - loss: 3.3227 - mean_absolute_error: 3.3227 - val_loss: 3.4517 - val_mean_absolute_error: 3.4517\n",
      "Epoch 5/10\n",
      "1354825/1354825 [==============================] - 42s 31us/step - loss: 3.2836 - mean_absolute_error: 3.2836 - val_loss: 3.6710 - val_mean_absolute_error: 3.6710\n",
      "Epoch 6/10\n",
      "1354825/1354825 [==============================] - 43s 32us/step - loss: 3.2554 - mean_absolute_error: 3.2554 - val_loss: 3.4044 - val_mean_absolute_error: 3.4044\n",
      "Epoch 7/10\n",
      "1354825/1354825 [==============================] - 45s 33us/step - loss: 3.2332 - mean_absolute_error: 3.2332 - val_loss: 3.5070 - val_mean_absolute_error: 3.5070\n",
      "Epoch 8/10\n",
      "1354825/1354825 [==============================] - 43s 32us/step - loss: 3.2170 - mean_absolute_error: 3.2170 - val_loss: 3.4015 - val_mean_absolute_error: 3.4015\n",
      "Epoch 9/10\n",
      "1354825/1354825 [==============================] - 42s 31us/step - loss: 3.2035 - mean_absolute_error: 3.2035 - val_loss: 3.3570 - val_mean_absolute_error: 3.3570\n",
      "Epoch 10/10\n",
      "1354825/1354825 [==============================] - 35s 26us/step - loss: 3.1907 - mean_absolute_error: 3.1907 - val_loss: 3.4367 - val_mean_absolute_error: 3.4367\n"
     ]
    }
   ],
   "source": [
    "EPOCHS=10\n",
    "result = model.fit(train_data.values, \n",
    "                   train_labels.values, \n",
    "                   epochs = EPOCHS, \n",
    "                   validation_split=0.1, \n",
    "                   initial_epoch=0,\n",
    "                   batch_size=32\n",
    "                  )"
   ]
  },
  {
   "cell_type": "markdown",
   "metadata": {},
   "source": [
    "Evaluate model on test data"
   ]
  },
  {
   "cell_type": "code",
   "execution_count": 10,
   "metadata": {},
   "outputs": [
    {
     "name": "stdout",
     "output_type": "stream",
     "text": [
      "375276/375276 [==============================] - 3s 9us/step\n"
     ]
    },
    {
     "data": {
      "text/plain": [
       "[3.301505398718031, 3.301505398718031]"
      ]
     },
     "execution_count": 10,
     "metadata": {},
     "output_type": "execute_result"
    }
   ],
   "source": [
    "model.evaluate(test_data.values, test_labels.values)"
   ]
  },
  {
   "cell_type": "markdown",
   "metadata": {},
   "source": [
    "Prepare data for evaluation step"
   ]
  },
  {
   "cell_type": "code",
   "execution_count": 11,
   "metadata": {},
   "outputs": [],
   "source": [
    "predictions = model.predict(test_data.values)"
   ]
  },
  {
   "cell_type": "markdown",
   "metadata": {},
   "source": [
    "### Create dataset for evaluation"
   ]
  },
  {
   "cell_type": "code",
   "execution_count": 12,
   "metadata": {},
   "outputs": [],
   "source": [
    "segment = df['seg'].loc['test'].reset_index(drop=True)"
   ]
  },
  {
   "cell_type": "code",
   "execution_count": 13,
   "metadata": {},
   "outputs": [
    {
     "data": {
      "text/html": [
       "<div>\n",
       "<style scoped>\n",
       "    .dataframe tbody tr th:only-of-type {\n",
       "        vertical-align: middle;\n",
       "    }\n",
       "\n",
       "    .dataframe tbody tr th {\n",
       "        vertical-align: top;\n",
       "    }\n",
       "\n",
       "    .dataframe thead th {\n",
       "        text-align: right;\n",
       "    }\n",
       "</style>\n",
       "<table border=\"1\" class=\"dataframe\">\n",
       "  <thead>\n",
       "    <tr style=\"text-align: right;\">\n",
       "      <th></th>\n",
       "      <th>seg</th>\n",
       "      <th>journey</th>\n",
       "      <th>speed</th>\n",
       "      <th>pred</th>\n",
       "      <th>label</th>\n",
       "    </tr>\n",
       "  </thead>\n",
       "  <tbody>\n",
       "    <tr>\n",
       "      <th>0</th>\n",
       "      <td>1</td>\n",
       "      <td>12</td>\n",
       "      <td>0.199897</td>\n",
       "      <td>50.963905</td>\n",
       "      <td>55.0</td>\n",
       "    </tr>\n",
       "    <tr>\n",
       "      <th>1</th>\n",
       "      <td>1</td>\n",
       "      <td>12</td>\n",
       "      <td>0.250902</td>\n",
       "      <td>49.409420</td>\n",
       "      <td>46.0</td>\n",
       "    </tr>\n",
       "    <tr>\n",
       "      <th>2</th>\n",
       "      <td>1</td>\n",
       "      <td>12</td>\n",
       "      <td>0.289026</td>\n",
       "      <td>38.020760</td>\n",
       "      <td>37.0</td>\n",
       "    </tr>\n",
       "    <tr>\n",
       "      <th>3</th>\n",
       "      <td>1</td>\n",
       "      <td>12</td>\n",
       "      <td>0.329212</td>\n",
       "      <td>37.518921</td>\n",
       "      <td>36.0</td>\n",
       "    </tr>\n",
       "    <tr>\n",
       "      <th>4</th>\n",
       "      <td>1</td>\n",
       "      <td>12</td>\n",
       "      <td>0.371458</td>\n",
       "      <td>36.415882</td>\n",
       "      <td>35.0</td>\n",
       "    </tr>\n",
       "  </tbody>\n",
       "</table>\n",
       "</div>"
      ],
      "text/plain": [
       "   seg  journey     speed       pred  label\n",
       "0    1       12  0.199897  50.963905   55.0\n",
       "1    1       12  0.250902  49.409420   46.0\n",
       "2    1       12  0.289026  38.020760   37.0\n",
       "3    1       12  0.329212  37.518921   36.0\n",
       "4    1       12  0.371458  36.415882   35.0"
      ]
     },
     "execution_count": 13,
     "metadata": {},
     "output_type": "execute_result"
    }
   ],
   "source": [
    "output = pds.DataFrame()\n",
    "output['seg'] = segment\n",
    "output['journey'] = test_input['journey'].values\n",
    "output['speed'] = test_data.speed.values\n",
    "output['pred'] = predictions\n",
    "output['label'] = test_labels.values\n",
    "output.head()"
   ]
  },
  {
   "cell_type": "code",
   "execution_count": 14,
   "metadata": {},
   "outputs": [],
   "source": [
    "# Same name for all files\n",
    "model_name = 'ANN_M3_downsampled'\n",
    "\n",
    "# serialize model to YAML\n",
    "model_yaml = model.to_yaml()\n",
    "with open(model_name + '.yaml', 'w') as yaml_file:\n",
    "    yaml_file.write(model_yaml)\n",
    "\n",
    "# Serialize weights to HDF5\n",
    "model.save_weights(model_name + '.h5')"
   ]
  },
  {
   "cell_type": "code",
   "execution_count": 15,
   "metadata": {},
   "outputs": [],
   "source": [
    "output.to_pickle(model_name + '.pkl')"
   ]
  },
  {
   "cell_type": "markdown",
   "metadata": {},
   "source": [
    "Done! Get ready for evaluation"
   ]
  }
 ],
 "metadata": {
  "kernelspec": {
   "display_name": "Python 3",
   "language": "python",
   "name": "python3"
  },
  "language_info": {
   "codemirror_mode": {
    "name": "ipython",
    "version": 3
   },
   "file_extension": ".py",
   "mimetype": "text/x-python",
   "name": "python",
   "nbconvert_exporter": "python",
   "pygments_lexer": "ipython3",
   "version": "3.6.7"
  }
 },
 "nbformat": 4,
 "nbformat_minor": 2
}
