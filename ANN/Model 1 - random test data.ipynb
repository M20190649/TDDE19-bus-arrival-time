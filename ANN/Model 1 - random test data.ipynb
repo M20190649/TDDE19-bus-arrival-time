{
 "cells": [
  {
   "cell_type": "markdown",
   "metadata": {},
   "source": [
    "Import packages"
   ]
  },
  {
   "cell_type": "code",
   "execution_count": 1,
   "metadata": {
    "scrolled": true
   },
   "outputs": [],
   "source": [
    "import tensorflow as tf\n",
    "from tensorflow import keras\n",
    "import numpy as np\n",
    "import matplotlib.pyplot as plt\n",
    "import pandas as pds\n",
    "import datetime as dt"
   ]
  },
  {
   "cell_type": "markdown",
   "metadata": {},
   "source": [
    "Import data"
   ]
  },
  {
   "cell_type": "code",
   "execution_count": 2,
   "metadata": {},
   "outputs": [],
   "source": [
    "df = pds.read_csv('../../bus203_all_labelled.csv')"
   ]
  },
  {
   "cell_type": "markdown",
   "metadata": {},
   "source": [
    "One hot encode segments, normalize columns and create final dataset"
   ]
  },
  {
   "cell_type": "code",
   "execution_count": 3,
   "metadata": {},
   "outputs": [],
   "source": [
    "# Normalize timestamp\n",
    "df['timestamp'] = df['timestamp'].str[11:13].astype(int)/48\n",
    "\n",
    "# Normalize time since journey start\n",
    "df['time_since_journey_start'] = (df['time_since_journey_start']-df['time_since_journey_start'].mean())/df['time_since_journey_start'].std()\n",
    "\n",
    "# Make segments categorical\n",
    "dataset = pds.get_dummies(df['segment_number'])\n",
    "\n",
    "# Combine segments, timestamps and time from journey start\n",
    "dataset['timestamp'] = df['timestamp']\n",
    "dataset['time_since_journey_start'] = df['time_since_journey_start']\n"
   ]
  },
  {
   "cell_type": "markdown",
   "metadata": {},
   "source": [
    "Divide training and test data, 80% training data"
   ]
  },
  {
   "cell_type": "code",
   "execution_count": 4,
   "metadata": {},
   "outputs": [],
   "source": [
    "msk = np.random.rand(len(df))<0.8\n",
    "train_input = dataset[msk]\n",
    "test_input = dataset[~msk]\n",
    "\n",
    "train_labels = df['label'][msk]\n",
    "test_labels = df['label'][~msk]"
   ]
  },
  {
   "cell_type": "markdown",
   "metadata": {},
   "source": [
    "Build model"
   ]
  },
  {
   "cell_type": "code",
   "execution_count": 5,
   "metadata": {},
   "outputs": [
    {
     "name": "stdout",
     "output_type": "stream",
     "text": [
      "_________________________________________________________________\n",
      "Layer (type)                 Output Shape              Param #   \n",
      "=================================================================\n",
      "dense (Dense)                (None, 13)                182       \n",
      "_________________________________________________________________\n",
      "dense_1 (Dense)              (None, 1)                 14        \n",
      "=================================================================\n",
      "Total params: 196\n",
      "Trainable params: 196\n",
      "Non-trainable params: 0\n",
      "_________________________________________________________________\n",
      "None\n"
     ]
    }
   ],
   "source": [
    "model = keras.Sequential([\n",
    "\tkeras.layers.Dense(len(train_input.columns), activation=tf.nn.relu, input_shape=(train_input.shape[1],)),\n",
    "\tkeras.layers.Dense(1)\n",
    "\t])\n",
    "\n",
    "optimizer = tf.train.RMSPropOptimizer(0.001)\n",
    "model.compile(loss='mae', optimizer = optimizer, metrics=['mae'])\n",
    "print(model.summary())"
   ]
  },
  {
   "cell_type": "markdown",
   "metadata": {},
   "source": [
    "Fit model"
   ]
  },
  {
   "cell_type": "code",
   "execution_count": 6,
   "metadata": {},
   "outputs": [
    {
     "name": "stdout",
     "output_type": "stream",
     "text": [
      "Epoch 1/5\n",
      "2772356/2772356 [==============================] - 63s 23us/step - loss: 1194.3219 - mean_absolute_error: 20.7923\n",
      "Epoch 2/5\n",
      "2772356/2772356 [==============================] - 64s 23us/step - loss: 846.9594 - mean_absolute_error: 18.3704\n",
      "Epoch 3/5\n",
      "2772356/2772356 [==============================] - 64s 23us/step - loss: 844.9304 - mean_absolute_error: 18.3600\n",
      "Epoch 4/5\n",
      "2772356/2772356 [==============================] - 64s 23us/step - loss: 844.0934 - mean_absolute_error: 18.3539\n",
      "Epoch 5/5\n",
      "2772356/2772356 [==============================] - 63s 23us/step - loss: 843.7205 - mean_absolute_error: 18.3473\n"
     ]
    },
    {
     "data": {
      "text/plain": [
       "<tensorflow.python.keras.callbacks.History at 0x7f70f7045080>"
      ]
     },
     "execution_count": 6,
     "metadata": {},
     "output_type": "execute_result"
    }
   ],
   "source": [
    "EPOCHS=5\n",
    "model.fit(train_input.values, train_labels.values, epochs = EPOCHS)"
   ]
  },
  {
   "cell_type": "markdown",
   "metadata": {},
   "source": [
    "Evaluate model"
   ]
  },
  {
   "cell_type": "code",
   "execution_count": 7,
   "metadata": {},
   "outputs": [
    {
     "name": "stdout",
     "output_type": "stream",
     "text": [
      "692481/692481 [==============================] - 9s 12us/step \n"
     ]
    },
    {
     "data": {
      "text/plain": [
       "[842.986433626567, 18.394361713134444]"
      ]
     },
     "execution_count": 7,
     "metadata": {},
     "output_type": "execute_result"
    }
   ],
   "source": [
    "model.evaluate(test_input.values, test_labels.values)"
   ]
  },
  {
   "cell_type": "markdown",
   "metadata": {},
   "source": [
    "Plot predictions"
   ]
  },
  {
   "cell_type": "code",
   "execution_count": 8,
   "metadata": {
    "scrolled": true
   },
   "outputs": [
    {
     "data": {
      "image/png": "[encoded data removed]",
      "text/plain": [
       "<Figure size 432x288 with 1 Axes>"
      ]
     },
     "metadata": {
      "needs_background": "light"
     },
     "output_type": "display_data"
    }
   ],
   "source": [
    "test_predictions = model.predict(test_input.values)\n",
    "plt.scatter(test_labels.values, test_predictions)\n",
    "plt.show()"
   ]
  },
  {
   "cell_type": "code",
   "execution_count": null,
   "metadata": {},
   "outputs": [],
   "source": []
  }
 ],
 "metadata": {
  "kernelspec": {
   "display_name": "Py venv",
   "language": "python",
   "name": "envname"
  },
  "language_info": {
   "codemirror_mode": {
    "name": "ipython",
    "version": 3
   },
   "file_extension": ".py",
   "mimetype": "text/x-python",
   "name": "python",
   "nbconvert_exporter": "python",
   "pygments_lexer": "ipython3",
   "version": "3.6.6"
  }
 },
 "nbformat": 4,
 "nbformat_minor": 2
}
