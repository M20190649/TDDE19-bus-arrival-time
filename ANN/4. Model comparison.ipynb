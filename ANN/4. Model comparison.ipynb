{
 "cells": [
  {
   "cell_type": "markdown",
   "metadata": {},
   "source": [
    "# Model comparison\n",
    "This notebook evaluates a model according to an agreed upon metric in order to compare results with the GP models."
   ]
  },
  {
   "cell_type": "code",
   "execution_count": 1,
   "metadata": {},
   "outputs": [],
   "source": [
    "import numpy as np\n",
    "import pandas as pds\n",
    "import matplotlib.pyplot as plt"
   ]
  },
  {
   "cell_type": "code",
   "execution_count": 2,
   "metadata": {},
   "outputs": [],
   "source": [
    "\"\"\"\n",
    "Some loss functions\n",
    "\"\"\"\n",
    "def basic_mae(preds, labels):\n",
    "    acc = 0 \n",
    "    n = len(preds)\n",
    "    for i in range(n):\n",
    "        e = abs(preds[i] - labels.values[i])\n",
    "        acc += e\n",
    "        #print(\"Errs:\", e1, \"\\t\", e2, \"\\tDiff:\", e1-e2, \"\\t - accs:\", acc1, acc2)\n",
    "\n",
    "    acc /= n\n",
    "    return acc\n",
    "\n",
    "def mape(preds, labels):\n",
    "    acc = 0\n",
    "    n = len(preds)\n",
    "    for i in range(n):\n",
    "        acc+=abs((labels.values[i] - preds[i])/labels.values[i])\n",
    "    \n",
    "    res = acc/n\n",
    "    return res"
   ]
  },
  {
   "cell_type": "markdown",
   "metadata": {},
   "source": [
    "Pick the name for your model"
   ]
  },
  {
   "cell_type": "code",
   "execution_count": 3,
   "metadata": {},
   "outputs": [],
   "source": [
    "model_name = 'ANN_M2'"
   ]
  },
  {
   "cell_type": "code",
   "execution_count": 8,
   "metadata": {},
   "outputs": [
    {
     "data": {
      "text/html": [
       "<div>\n",
       "<style scoped>\n",
       "    .dataframe tbody tr th:only-of-type {\n",
       "        vertical-align: middle;\n",
       "    }\n",
       "\n",
       "    .dataframe tbody tr th {\n",
       "        vertical-align: top;\n",
       "    }\n",
       "\n",
       "    .dataframe thead th {\n",
       "        text-align: right;\n",
       "    }\n",
       "</style>\n",
       "<table border=\"1\" class=\"dataframe\">\n",
       "  <thead>\n",
       "    <tr style=\"text-align: right;\">\n",
       "      <th></th>\n",
       "      <th>pred</th>\n",
       "      <th>seg</th>\n",
       "      <th>journey</th>\n",
       "      <th>label</th>\n",
       "    </tr>\n",
       "  </thead>\n",
       "  <tbody>\n",
       "    <tr>\n",
       "      <th>0</th>\n",
       "      <td>124.204803</td>\n",
       "      <td>1</td>\n",
       "      <td>3</td>\n",
       "      <td>178.0</td>\n",
       "    </tr>\n",
       "    <tr>\n",
       "      <th>1</th>\n",
       "      <td>124.204803</td>\n",
       "      <td>1</td>\n",
       "      <td>3</td>\n",
       "      <td>177.0</td>\n",
       "    </tr>\n",
       "    <tr>\n",
       "      <th>2</th>\n",
       "      <td>124.204803</td>\n",
       "      <td>1</td>\n",
       "      <td>3</td>\n",
       "      <td>176.0</td>\n",
       "    </tr>\n",
       "    <tr>\n",
       "      <th>3</th>\n",
       "      <td>124.204803</td>\n",
       "      <td>1</td>\n",
       "      <td>3</td>\n",
       "      <td>175.0</td>\n",
       "    </tr>\n",
       "    <tr>\n",
       "      <th>4</th>\n",
       "      <td>124.204803</td>\n",
       "      <td>1</td>\n",
       "      <td>3</td>\n",
       "      <td>174.0</td>\n",
       "    </tr>\n",
       "  </tbody>\n",
       "</table>\n",
       "</div>"
      ],
      "text/plain": [
       "         pred  seg  journey  label\n",
       "0  124.204803    1        3  178.0\n",
       "1  124.204803    1        3  177.0\n",
       "2  124.204803    1        3  176.0\n",
       "3  124.204803    1        3  175.0\n",
       "4  124.204803    1        3  174.0"
      ]
     },
     "execution_count": 8,
     "metadata": {},
     "output_type": "execute_result"
    }
   ],
   "source": [
    "data = pds.read_pickle(model_name + '.pkl')\n",
    "data.head()"
   ]
  },
  {
   "cell_type": "code",
   "execution_count": 9,
   "metadata": {},
   "outputs": [],
   "source": [
    "segments = data.seg.unique()\n",
    "journeys = data.journey.unique()"
   ]
  },
  {
   "cell_type": "code",
   "execution_count": 12,
   "metadata": {
    "scrolled": true
   },
   "outputs": [
    {
     "name": "stdout",
     "output_type": "stream",
     "text": [
      "interval: 20 : Average MAE:  14.308055735768944\n",
      "interval: 20 : Average MAPE:  0.16058930169644772\n",
      "interval: 40 : Average MAE:  11.168365251528618\n",
      "interval: 40 : Average MAPE:  0.144681052248368\n",
      "interval: 60 : Average MAE:  9.695525046935368\n",
      "interval: 60 : Average MAPE:  0.14171169463033995\n",
      "interval: 80 : Average MAE:  8.510173238468095\n",
      "interval: 80 : Average MAPE:  0.14349154308336554\n"
     ]
    }
   ],
   "source": [
    "#Intervals to be evaluated\n",
    "intervals = [20,40,60,80]\n",
    "mae_accum = [0] * len(intervals)\n",
    "mape_accum = [0] * len(intervals)\n",
    "for s in segments:\n",
    "    for j in journeys:\n",
    "        #Extract segment s from journey j\n",
    "        seg_data = data[(data['seg'] == s) & (data['journey'] == j)]\n",
    "        seg_data = seg_data.reset_index(drop=True)\n",
    "        #For each interval, accumulate the mae/mape\n",
    "        for i, val in enumerate(intervals):\n",
    "            n = round(len(seg_data)*(val/100))\n",
    "            mae_accum[i] += basic_mae(seg_data['pred'][:n], seg_data['label'][:n])\n",
    "            mape_accum[i] += mape(seg_data['pred'][:n], seg_data['label'][:n])\n",
    "\n",
    "#Calculate the average mae/mape for each interval\n",
    "for i, val in enumerate(intervals):\n",
    "    print('interval:', val,': Average MAE: ', mae_accum[i]/(len(journeys)*len(segments)))\n",
    "    print('interval:', val,': Average MAPE: ', mape_accum[i]/(len(journeys)*len(segments)))\n",
    "    "
   ]
  },
  {
   "cell_type": "code",
   "execution_count": null,
   "metadata": {},
   "outputs": [],
   "source": []
  }
 ],
 "metadata": {
  "kernelspec": {
   "display_name": "Python 3",
   "language": "python",
   "name": "python3"
  },
  "language_info": {
   "codemirror_mode": {
    "name": "ipython",
    "version": 3
   },
   "file_extension": ".py",
   "mimetype": "text/x-python",
   "name": "python",
   "nbconvert_exporter": "python",
   "pygments_lexer": "ipython3",
   "version": "3.6.5"
  }
 },
 "nbformat": 4,
 "nbformat_minor": 2
}
