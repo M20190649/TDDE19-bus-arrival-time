{
 "cells": [
  {
   "cell_type": "markdown",
   "metadata": {},
   "source": [
    "Import packages"
   ]
  },
  {
   "cell_type": "code",
   "execution_count": 1,
   "metadata": {
    "scrolled": true
   },
   "outputs": [],
   "source": [
    "import pandas as pds\n",
    "import datetime as dt"
   ]
  },
  {
   "cell_type": "markdown",
   "metadata": {},
   "source": [
    "Import data"
   ]
  },
  {
   "cell_type": "code",
   "execution_count": 2,
   "metadata": {},
   "outputs": [],
   "source": [
    "all_data = pds.read_csv('../../bus203_all.csv')\n",
    "df = all_data.head(3464837)"
   ]
  },
  {
   "cell_type": "code",
   "execution_count": 3,
   "metadata": {},
   "outputs": [
    {
     "name": "stderr",
     "output_type": "stream",
     "text": [
      "/home/elias/anaconda3/lib/python3.6/site-packages/ipykernel_launcher.py:1: SettingWithCopyWarning: \n",
      "A value is trying to be set on a copy of a slice from a DataFrame.\n",
      "Try using .loc[row_indexer,col_indexer] = value instead\n",
      "\n",
      "See the caveats in the documentation: http://pandas.pydata.org/pandas-docs/stable/indexing.html#indexing-view-versus-copy\n",
      "  \"\"\"Entry point for launching an IPython kernel.\n"
     ]
    }
   ],
   "source": [
    "df['timestamp'] = pds.to_datetime(df['timestamp']).dt.tz_localize(\"UTC\").dt.tz_convert(\"Europe/Stockholm\")"
   ]
  },
  {
   "cell_type": "markdown",
   "metadata": {},
   "source": [
    "Extract labels"
   ]
  },
  {
   "cell_type": "code",
   "execution_count": 4,
   "metadata": {},
   "outputs": [
    {
     "name": "stderr",
     "output_type": "stream",
     "text": [
      "/home/elias/anaconda3/lib/python3.6/site-packages/ipykernel_launcher.py:1: SettingWithCopyWarning: \n",
      "A value is trying to be set on a copy of a slice from a DataFrame.\n",
      "Try using .loc[row_indexer,col_indexer] = value instead\n",
      "\n",
      "See the caveats in the documentation: http://pandas.pydata.org/pandas-docs/stable/indexing.html#indexing-view-versus-copy\n",
      "  \"\"\"Entry point for launching an IPython kernel.\n",
      "/home/elias/anaconda3/lib/python3.6/site-packages/ipykernel_launcher.py:2: SettingWithCopyWarning: \n",
      "A value is trying to be set on a copy of a slice from a DataFrame.\n",
      "Try using .loc[row_indexer,col_indexer] = value instead\n",
      "\n",
      "See the caveats in the documentation: http://pandas.pydata.org/pandas-docs/stable/indexing.html#indexing-view-versus-copy\n",
      "  \n"
     ]
    }
   ],
   "source": [
    "df['time_since_journey_start'] = -1\n",
    "df['label'] = -1\n",
    "segment_time_start = df.iloc[0]['timestamp']\n",
    "segment = df.iloc[0]['segment_number']\n",
    "segment_start_index = 0\n",
    "\n",
    "journey = df.iloc[0]['journey_number']\n",
    "journey_time = 0\n",
    "\n",
    "for index, row in df.iterrows():\n",
    "    \n",
    "    if df.loc[index, 'segment_number'] != segment or index == len(df.index)-1:\n",
    "        segment_time_end = df.iloc[index-1]['timestamp']\n",
    "        \n",
    "        # Total time for segment\n",
    "        timediff = (segment_time_end-segment_time_start).total_seconds()\n",
    "        \n",
    "        # Update time since journey start\n",
    "        journey_time = journey_time + timediff\n",
    "        \n",
    "        # Update labels and time since journey start for the observations in the segment\n",
    "        for i in range(segment_start_index, index):\n",
    "            df.at[i, 'label'] = timediff\n",
    "            \n",
    "        # Don't miss the last observation\n",
    "        if index == len(df.index)-1:\n",
    "            df.at[index, 'label'] = timediff\n",
    "        \n",
    "        # Update initial values for the next segment\n",
    "        segment_time_start = df.iloc[index]['timestamp']\n",
    "        segment = df.iloc[index]['segment_number']\n",
    "        segment_start_index = index\n",
    "        \n",
    "        if df.iloc[index]['journey_number'] != journey: # New journey, reset time since journey start\n",
    "            journey_time = 0\n",
    "            journey = df.iloc[index]['journey_number']\n",
    "    # Set time travelled since journey started\n",
    "    df.at[index,'time_since_journey_start'] = journey_time\n",
    "            \n",
    "df.to_csv(\"bus203_all_labelled_2.csv\")"
   ]
  },
  {
   "cell_type": "code",
   "execution_count": null,
   "metadata": {},
   "outputs": [],
   "source": []
  }
 ],
 "metadata": {
  "kernelspec": {
   "display_name": "Python 3",
   "language": "python",
   "name": "python3"
  },
  "language_info": {
   "codemirror_mode": {
    "name": "ipython",
    "version": 3
   },
   "file_extension": ".py",
   "mimetype": "text/x-python",
   "name": "python",
   "nbconvert_exporter": "python",
   "pygments_lexer": "ipython3",
   "version": "3.6.7"
  }
 },
 "nbformat": 4,
 "nbformat_minor": 2
}
