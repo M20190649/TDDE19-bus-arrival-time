{
 "cells": [
  {
   "cell_type": "markdown",
   "metadata": {},
   "source": [
    "Import packages"
   ]
  },
  {
   "cell_type": "code",
   "execution_count": 2,
   "metadata": {
    "scrolled": true
   },
   "outputs": [],
   "source": [
    "import tensorflow as tf\n",
    "from tensorflow import keras\n",
    "import numpy as np\n",
    "import matplotlib.pyplot as plt\n",
    "import pandas as pds\n",
    "import datetime as dt"
   ]
  },
  {
   "cell_type": "markdown",
   "metadata": {},
   "source": [
    "Import data"
   ]
  },
  {
   "cell_type": "code",
   "execution_count": 26,
   "metadata": {},
   "outputs": [],
   "source": [
    "df = pds.read_csv('../../bus203_all_labelled.csv')"
   ]
  },
  {
   "cell_type": "markdown",
   "metadata": {},
   "source": [
    "One hot encode segments, normalize columns and create final dataset"
   ]
  },
  {
   "cell_type": "code",
   "execution_count": 77,
   "metadata": {},
   "outputs": [],
   "source": [
    "# Make segments categorical\n",
    "dataset = pds.get_dummies(df['segment_number'])\n",
    "\n",
    "# Combine segments, timestamps and time from journey start\n",
    "\n",
    "# Cyclical timestamps \n",
    "dataset['hr_sin'] = np.sin(df.timestamp.str[11:13].astype(int)*(2.*np.pi/24))\n",
    "dataset['hr_cos'] = np.cos(df.timestamp.str[11:13].astype(int)*(2.*np.pi/24))\n",
    "\n",
    "dataset['time_since_journey_start'] = (df['time_since_journey_start']-df['time_since_journey_start'].min())/(df['time_since_journey_start'].max()-df['time_since_journey_start'].min())\n",
    "#dataset['latitude'] = (df['latitude']-df['latitude'].min())/(df['latitude'].max()-df['latitude'].min())\n",
    "#dataset['longitude'] = (df['longitude']-df['longitude'].min())/(df['longitude'].max()-df['longitude'].min())"
   ]
  },
  {
   "cell_type": "markdown",
   "metadata": {},
   "source": [
    "Divide training and test data, 80% training data"
   ]
  },
  {
   "cell_type": "code",
   "execution_count": 68,
   "metadata": {},
   "outputs": [
    {
     "name": "stdout",
     "output_type": "stream",
     "text": [
      "     1  2  3  4  5  6  7  8  9  10  11    hr_sin  hr_cos  \\\n",
      "0    1  0  0  0  0  0  0  0  0   0   0  0.866025     0.5   \n",
      "1    1  0  0  0  0  0  0  0  0   0   0  0.866025     0.5   \n",
      "2    1  0  0  0  0  0  0  0  0   0   0  0.866025     0.5   \n",
      "3    1  0  0  0  0  0  0  0  0   0   0  0.866025     0.5   \n",
      "4    1  0  0  0  0  0  0  0  0   0   0  0.866025     0.5   \n",
      "5    1  0  0  0  0  0  0  0  0   0   0  0.866025     0.5   \n",
      "6    1  0  0  0  0  0  0  0  0   0   0  0.866025     0.5   \n",
      "7    1  0  0  0  0  0  0  0  0   0   0  0.866025     0.5   \n",
      "8    1  0  0  0  0  0  0  0  0   0   0  0.866025     0.5   \n",
      "9    1  0  0  0  0  0  0  0  0   0   0  0.866025     0.5   \n",
      "10   1  0  0  0  0  0  0  0  0   0   0  0.866025     0.5   \n",
      "11   1  0  0  0  0  0  0  0  0   0   0  0.866025     0.5   \n",
      "12   1  0  0  0  0  0  0  0  0   0   0  0.866025     0.5   \n",
      "13   1  0  0  0  0  0  0  0  0   0   0  0.866025     0.5   \n",
      "14   1  0  0  0  0  0  0  0  0   0   0  0.866025     0.5   \n",
      "15   1  0  0  0  0  0  0  0  0   0   0  0.866025     0.5   \n",
      "16   1  0  0  0  0  0  0  0  0   0   0  0.866025     0.5   \n",
      "17   1  0  0  0  0  0  0  0  0   0   0  0.866025     0.5   \n",
      "18   1  0  0  0  0  0  0  0  0   0   0  0.866025     0.5   \n",
      "19   1  0  0  0  0  0  0  0  0   0   0  0.866025     0.5   \n",
      "20   1  0  0  0  0  0  0  0  0   0   0  0.866025     0.5   \n",
      "21   1  0  0  0  0  0  0  0  0   0   0  0.866025     0.5   \n",
      "22   1  0  0  0  0  0  0  0  0   0   0  0.866025     0.5   \n",
      "23   1  0  0  0  0  0  0  0  0   0   0  0.866025     0.5   \n",
      "24   1  0  0  0  0  0  0  0  0   0   0  0.866025     0.5   \n",
      "25   1  0  0  0  0  0  0  0  0   0   0  0.866025     0.5   \n",
      "26   1  0  0  0  0  0  0  0  0   0   0  0.866025     0.5   \n",
      "27   1  0  0  0  0  0  0  0  0   0   0  0.866025     0.5   \n",
      "28   1  0  0  0  0  0  0  0  0   0   0  0.866025     0.5   \n",
      "29   1  0  0  0  0  0  0  0  0   0   0  0.866025     0.5   \n",
      "..  .. .. .. .. .. .. .. .. ..  ..  ..       ...     ...   \n",
      "170  0  0  1  0  0  0  0  0  0   0   0  0.866025     0.5   \n",
      "171  0  0  1  0  0  0  0  0  0   0   0  0.866025     0.5   \n",
      "172  0  0  1  0  0  0  0  0  0   0   0  0.866025     0.5   \n",
      "173  0  0  1  0  0  0  0  0  0   0   0  0.866025     0.5   \n",
      "174  0  0  1  0  0  0  0  0  0   0   0  0.866025     0.5   \n",
      "175  0  0  1  0  0  0  0  0  0   0   0  0.866025     0.5   \n",
      "176  0  0  1  0  0  0  0  0  0   0   0  0.866025     0.5   \n",
      "177  0  0  0  1  0  0  0  0  0   0   0  0.866025     0.5   \n",
      "178  0  0  0  1  0  0  0  0  0   0   0  0.866025     0.5   \n",
      "179  0  0  0  1  0  0  0  0  0   0   0  0.866025     0.5   \n",
      "180  0  0  0  1  0  0  0  0  0   0   0  0.866025     0.5   \n",
      "181  0  0  0  1  0  0  0  0  0   0   0  0.866025     0.5   \n",
      "182  0  0  0  1  0  0  0  0  0   0   0  0.866025     0.5   \n",
      "183  0  0  0  1  0  0  0  0  0   0   0  0.866025     0.5   \n",
      "184  0  0  0  1  0  0  0  0  0   0   0  0.866025     0.5   \n",
      "185  0  0  0  1  0  0  0  0  0   0   0  0.866025     0.5   \n",
      "186  0  0  0  1  0  0  0  0  0   0   0  0.866025     0.5   \n",
      "187  0  0  0  1  0  0  0  0  0   0   0  0.866025     0.5   \n",
      "188  0  0  0  1  0  0  0  0  0   0   0  0.866025     0.5   \n",
      "189  0  0  0  1  0  0  0  0  0   0   0  0.866025     0.5   \n",
      "190  0  0  0  1  0  0  0  0  0   0   0  0.866025     0.5   \n",
      "191  0  0  0  1  0  0  0  0  0   0   0  0.866025     0.5   \n",
      "192  0  0  0  1  0  0  0  0  0   0   0  0.866025     0.5   \n",
      "193  0  0  0  1  0  0  0  0  0   0   0  0.866025     0.5   \n",
      "194  0  0  0  1  0  0  0  0  0   0   0  0.866025     0.5   \n",
      "195  0  0  0  1  0  0  0  0  0   0   0  0.866025     0.5   \n",
      "196  0  0  0  1  0  0  0  0  0   0   0  0.866025     0.5   \n",
      "197  0  0  0  1  0  0  0  0  0   0   0  0.866025     0.5   \n",
      "198  0  0  0  1  0  0  0  0  0   0   0  0.866025     0.5   \n",
      "199  0  0  0  1  0  0  0  0  0   0   0  0.866025     0.5   \n",
      "\n",
      "     time_since_journey_start  latitude  longitude  \n",
      "0                    0.000000  0.324595   0.924521  \n",
      "1                    0.000000  0.324595   0.924521  \n",
      "2                    0.000000  0.324595   0.924521  \n",
      "3                    0.000000  0.324515   0.925287  \n",
      "4                    0.000000  0.324435   0.925670  \n",
      "5                    0.000000  0.324355   0.926437  \n",
      "6                    0.000000  0.324395   0.926437  \n",
      "7                    0.000000  0.324435   0.926820  \n",
      "8                    0.000000  0.324475   0.926820  \n",
      "9                    0.000000  0.324515   0.926820  \n",
      "10                   0.000000  0.324575   0.927203  \n",
      "11                   0.000000  0.324595   0.927586  \n",
      "12                   0.000000  0.324595   0.927586  \n",
      "13                   0.000000  0.324595   0.927586  \n",
      "14                   0.000000  0.324595   0.927586  \n",
      "15                   0.000000  0.324575   0.927586  \n",
      "16                   0.000000  0.324575   0.927586  \n",
      "17                   0.000000  0.328194   0.920307  \n",
      "18                   0.000000  0.324615   0.927203  \n",
      "19                   0.000000  0.324795   0.926437  \n",
      "20                   0.000000  0.325014   0.925670  \n",
      "21                   0.000000  0.325334   0.924521  \n",
      "22                   0.000000  0.325774   0.923755  \n",
      "23                   0.000000  0.326334   0.922222  \n",
      "24                   0.000000  0.327154   0.921073  \n",
      "25                   0.000000  0.328194   0.920307  \n",
      "26                   0.000000  0.328194   0.920307  \n",
      "27                   0.000000  0.329334   0.920307  \n",
      "28                   0.000000  0.330414   0.920690  \n",
      "29                   0.000000  0.331474   0.921839  \n",
      "..                        ...       ...        ...  \n",
      "170                  0.094656  0.011258   0.542529  \n",
      "171                  0.094656  0.010778   0.535632  \n",
      "172                  0.094656  0.010199   0.529119  \n",
      "173                  0.094656  0.009399   0.523372  \n",
      "174                  0.094656  0.008799   0.517625  \n",
      "175                  0.094656  0.008299   0.512261  \n",
      "176                  0.094656  0.008059   0.508046  \n",
      "177                  0.125954  0.008059   0.508046  \n",
      "178                  0.125954  0.007839   0.503831  \n",
      "179                  0.125954  0.007739   0.500766  \n",
      "180                  0.125954  0.007699   0.498467  \n",
      "181                  0.125954  0.007679   0.497701  \n",
      "182                  0.125954  0.007839   0.497318  \n",
      "183                  0.125954  0.007899   0.497701  \n",
      "184                  0.125954  0.007899   0.497701  \n",
      "185                  0.125954  0.007999   0.498084  \n",
      "186                  0.125954  0.008059   0.498084  \n",
      "187                  0.125954  0.008139   0.498084  \n",
      "188                  0.125954  0.008159   0.498084  \n",
      "189                  0.125954  0.008219   0.498084  \n",
      "190                  0.125954  0.008219   0.498084  \n",
      "191                  0.125954  0.008239   0.498084  \n",
      "192                  0.125954  0.008239   0.498084  \n",
      "193                  0.125954  0.008259   0.498084  \n",
      "194                  0.125954  0.008259   0.498084  \n",
      "195                  0.125954  0.008279   0.498084  \n",
      "196                  0.125954  0.008279   0.497701  \n",
      "197                  0.125954  0.008279   0.497701  \n",
      "198                  0.125954  0.008099   0.482759  \n",
      "199                  0.125954  0.008279   0.497701  \n",
      "\n",
      "[200 rows x 16 columns]\n"
     ]
    }
   ],
   "source": [
    "print(dataset.head(200))"
   ]
  },
  {
   "cell_type": "code",
   "execution_count": 78,
   "metadata": {},
   "outputs": [],
   "source": [
    "msk = np.random.rand(len(df))<0.8\n",
    "train_input = dataset[msk]\n",
    "test_input = dataset[~msk]\n",
    "\n",
    "train_labels = df['label'][msk]\n",
    "test_labels = df['label'][~msk]"
   ]
  },
  {
   "cell_type": "markdown",
   "metadata": {},
   "source": [
    "Build model"
   ]
  },
  {
   "cell_type": "code",
   "execution_count": 79,
   "metadata": {},
   "outputs": [
    {
     "name": "stdout",
     "output_type": "stream",
     "text": [
      "_________________________________________________________________\n",
      "Layer (type)                 Output Shape              Param #   \n",
      "=================================================================\n",
      "dense_21 (Dense)             (None, 16)                240       \n",
      "_________________________________________________________________\n",
      "dense_22 (Dense)             (None, 3)                 51        \n",
      "_________________________________________________________________\n",
      "dense_23 (Dense)             (None, 1)                 4         \n",
      "=================================================================\n",
      "Total params: 295\n",
      "Trainable params: 295\n",
      "Non-trainable params: 0\n",
      "_________________________________________________________________\n",
      "None\n"
     ]
    }
   ],
   "source": [
    "model = keras.Sequential([\n",
    "\tkeras.layers.Dense(16, activation=tf.nn.relu, input_shape=(train_input.shape[1],)),\n",
    "    keras.layers.Dense(3),\n",
    "\tkeras.layers.Dense(1)\n",
    "\t])\n",
    "\n",
    "optimizer = tf.train.RMSPropOptimizer(0.001)\n",
    "model.compile(loss='mape', optimizer = optimizer, metrics=['mape'])\n",
    "print(model.summary())"
   ]
  },
  {
   "cell_type": "markdown",
   "metadata": {},
   "source": [
    "Fit model"
   ]
  },
  {
   "cell_type": "code",
   "execution_count": null,
   "metadata": {},
   "outputs": [
    {
     "name": "stdout",
     "output_type": "stream",
     "text": [
      "Epoch 1/5\n",
      "2771263/2771263 [==============================] - 90s 33us/step - loss: 17.8714 - mean_absolute_percentage_error: 17.8714\n",
      "Epoch 2/5\n",
      "2771263/2771263 [==============================] - 89s 32us/step - loss: 17.0660 - mean_absolute_percentage_error: 17.0660\n",
      "Epoch 3/5\n",
      "2771263/2771263 [==============================] - 85s 31us/step - loss: 17.0451 - mean_absolute_percentage_error: 17.0451\n",
      "Epoch 4/5\n",
      "2771263/2771263 [==============================] - 87s 31us/step - loss: 17.0338 - mean_absolute_percentage_error: 17.0338\n",
      "Epoch 5/5\n",
      " 310624/2771263 [==>...........................] - ETA: 1:11 - loss: 17.0161 - mean_absolute_percentage_error: 17.0161"
     ]
    }
   ],
   "source": [
    "EPOCHS=5\n",
    "model.fit(train_input.values, train_labels.values, epochs = EPOCHS)"
   ]
  },
  {
   "cell_type": "markdown",
   "metadata": {},
   "source": [
    "Evaluate model"
   ]
  },
  {
   "cell_type": "code",
   "execution_count": 75,
   "metadata": {},
   "outputs": [
    {
     "name": "stdout",
     "output_type": "stream",
     "text": [
      "693307/693307 [==============================] - 10s 15us/step\n"
     ]
    },
    {
     "data": {
      "text/plain": [
       "[16.729725801019352, 16.729725801019352]"
      ]
     },
     "execution_count": 75,
     "metadata": {},
     "output_type": "execute_result"
    }
   ],
   "source": [
    "model.evaluate(test_input.values, test_labels.values)"
   ]
  },
  {
   "cell_type": "markdown",
   "metadata": {},
   "source": [
    "Plot predictions"
   ]
  },
  {
   "cell_type": "code",
   "execution_count": 76,
   "metadata": {
    "scrolled": true
   },
   "outputs": [
    {
     "data": {
      "image/png": "[encoded data removed]",
      "text/plain": [
       "<Figure size 432x288 with 1 Axes>"
      ]
     },
     "metadata": {},
     "output_type": "display_data"
    }
   ],
   "source": [
    "test_predictions = model.predict(test_input.values)\n",
    "plt.scatter(test_labels.values, test_predictions)\n",
    "plt.show()"
   ]
  },
  {
   "cell_type": "code",
   "execution_count": null,
   "metadata": {},
   "outputs": [],
   "source": []
  }
 ],
 "metadata": {
  "kernelspec": {
   "display_name": "Python 3",
   "language": "python",
   "name": "python3"
  },
  "language_info": {
   "codemirror_mode": {
    "name": "ipython",
    "version": 3
   },
   "file_extension": ".py",
   "mimetype": "text/x-python",
   "name": "python",
   "nbconvert_exporter": "python",
   "pygments_lexer": "ipython3",
   "version": "3.6.5"
  }
 },
 "nbformat": 4,
 "nbformat_minor": 2
}
