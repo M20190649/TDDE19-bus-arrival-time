{
 "cells": [
  {
   "cell_type": "markdown",
   "metadata": {},
   "source": [
    "This notebook creates a Recurrent neural network (RNN) to predict bus travel times."
   ]
  },
  {
   "cell_type": "markdown",
   "metadata": {},
   "source": [
    "Import packages"
   ]
  },
  {
   "cell_type": "code",
   "execution_count": 18,
   "metadata": {
    "scrolled": true
   },
   "outputs": [],
   "source": [
    "import tensorflow as tf\n",
    "from tensorflow import keras\n",
    "import numpy as np\n",
    "import matplotlib.pyplot as plt\n",
    "import pandas as pds\n",
    "import datetime as dt\n",
    "from collections import deque\n",
    "import random"
   ]
  },
  {
   "cell_type": "code",
   "execution_count": 2,
   "metadata": {},
   "outputs": [],
   "source": [
    "data = pds.read_pickle('../../added_t_ttjs.pkl')"
   ]
  },
  {
   "cell_type": "code",
   "execution_count": 3,
   "metadata": {},
   "outputs": [
    {
     "data": {
      "text/html": [
       "<div>\n",
       "<style scoped>\n",
       "    .dataframe tbody tr th:only-of-type {\n",
       "        vertical-align: middle;\n",
       "    }\n",
       "\n",
       "    .dataframe tbody tr th {\n",
       "        vertical-align: top;\n",
       "    }\n",
       "\n",
       "    .dataframe thead th {\n",
       "        text-align: right;\n",
       "    }\n",
       "</style>\n",
       "<table border=\"1\" class=\"dataframe\">\n",
       "  <thead>\n",
       "    <tr style=\"text-align: right;\">\n",
       "      <th></th>\n",
       "      <th>Unnamed: 0</th>\n",
       "      <th>Unnamed: 0.1</th>\n",
       "      <th>timestamp</th>\n",
       "      <th>event</th>\n",
       "      <th>vehicle_id</th>\n",
       "      <th>line</th>\n",
       "      <th>longitude</th>\n",
       "      <th>latitude</th>\n",
       "      <th>direction</th>\n",
       "      <th>speed</th>\n",
       "      <th>station</th>\n",
       "      <th>journey_number</th>\n",
       "      <th>segment_number</th>\n",
       "      <th>label</th>\n",
       "      <th>t</th>\n",
       "      <th>ttjs</th>\n",
       "    </tr>\n",
       "  </thead>\n",
       "  <tbody>\n",
       "    <tr>\n",
       "      <th>0</th>\n",
       "      <td>1</td>\n",
       "      <td>1</td>\n",
       "      <td>2018-02-16 04:48:40+01:00</td>\n",
       "      <td>ObservedPositionEvent</td>\n",
       "      <td>5432</td>\n",
       "      <td>0</td>\n",
       "      <td>58.414238</td>\n",
       "      <td>15.571015</td>\n",
       "      <td>147.300003</td>\n",
       "      <td>0.0</td>\n",
       "      <td>NaN</td>\n",
       "      <td>1</td>\n",
       "      <td>1</td>\n",
       "      <td>72</td>\n",
       "      <td>71.0</td>\n",
       "      <td>0</td>\n",
       "    </tr>\n",
       "    <tr>\n",
       "      <th>1</th>\n",
       "      <td>3</td>\n",
       "      <td>3</td>\n",
       "      <td>2018-02-16 04:48:41+01:00</td>\n",
       "      <td>ObservedPositionEvent</td>\n",
       "      <td>5432</td>\n",
       "      <td>0</td>\n",
       "      <td>58.414246</td>\n",
       "      <td>15.571012</td>\n",
       "      <td>147.300003</td>\n",
       "      <td>0.0</td>\n",
       "      <td>NaN</td>\n",
       "      <td>1</td>\n",
       "      <td>1</td>\n",
       "      <td>72</td>\n",
       "      <td>70.0</td>\n",
       "      <td>0</td>\n",
       "    </tr>\n",
       "    <tr>\n",
       "      <th>2</th>\n",
       "      <td>4</td>\n",
       "      <td>4</td>\n",
       "      <td>2018-02-16 04:48:42+01:00</td>\n",
       "      <td>ObservedPositionEvent</td>\n",
       "      <td>5432</td>\n",
       "      <td>0</td>\n",
       "      <td>58.414249</td>\n",
       "      <td>15.571008</td>\n",
       "      <td>147.300003</td>\n",
       "      <td>0.0</td>\n",
       "      <td>NaN</td>\n",
       "      <td>1</td>\n",
       "      <td>1</td>\n",
       "      <td>72</td>\n",
       "      <td>69.0</td>\n",
       "      <td>0</td>\n",
       "    </tr>\n",
       "    <tr>\n",
       "      <th>3</th>\n",
       "      <td>5</td>\n",
       "      <td>5</td>\n",
       "      <td>2018-02-16 04:48:43+01:00</td>\n",
       "      <td>ObservedPositionEvent</td>\n",
       "      <td>5432</td>\n",
       "      <td>0</td>\n",
       "      <td>58.414257</td>\n",
       "      <td>15.571004</td>\n",
       "      <td>147.300003</td>\n",
       "      <td>0.0</td>\n",
       "      <td>NaN</td>\n",
       "      <td>1</td>\n",
       "      <td>1</td>\n",
       "      <td>72</td>\n",
       "      <td>68.0</td>\n",
       "      <td>0</td>\n",
       "    </tr>\n",
       "    <tr>\n",
       "      <th>4</th>\n",
       "      <td>6</td>\n",
       "      <td>6</td>\n",
       "      <td>2018-02-16 04:48:44+01:00</td>\n",
       "      <td>ObservedPositionEvent</td>\n",
       "      <td>5432</td>\n",
       "      <td>0</td>\n",
       "      <td>58.414257</td>\n",
       "      <td>15.571006</td>\n",
       "      <td>147.300003</td>\n",
       "      <td>0.0</td>\n",
       "      <td>NaN</td>\n",
       "      <td>1</td>\n",
       "      <td>1</td>\n",
       "      <td>72</td>\n",
       "      <td>67.0</td>\n",
       "      <td>0</td>\n",
       "    </tr>\n",
       "  </tbody>\n",
       "</table>\n",
       "</div>"
      ],
      "text/plain": [
       "   Unnamed: 0  Unnamed: 0.1                 timestamp                  event  \\\n",
       "0           1             1 2018-02-16 04:48:40+01:00  ObservedPositionEvent   \n",
       "1           3             3 2018-02-16 04:48:41+01:00  ObservedPositionEvent   \n",
       "2           4             4 2018-02-16 04:48:42+01:00  ObservedPositionEvent   \n",
       "3           5             5 2018-02-16 04:48:43+01:00  ObservedPositionEvent   \n",
       "4           6             6 2018-02-16 04:48:44+01:00  ObservedPositionEvent   \n",
       "\n",
       "   vehicle_id  line  longitude   latitude   direction  speed station  \\\n",
       "0        5432     0  58.414238  15.571015  147.300003    0.0     NaN   \n",
       "1        5432     0  58.414246  15.571012  147.300003    0.0     NaN   \n",
       "2        5432     0  58.414249  15.571008  147.300003    0.0     NaN   \n",
       "3        5432     0  58.414257  15.571004  147.300003    0.0     NaN   \n",
       "4        5432     0  58.414257  15.571006  147.300003    0.0     NaN   \n",
       "\n",
       "   journey_number  segment_number  label     t  ttjs  \n",
       "0               1               1     72  71.0     0  \n",
       "1               1               1     72  70.0     0  \n",
       "2               1               1     72  69.0     0  \n",
       "3               1               1     72  68.0     0  \n",
       "4               1               1     72  67.0     0  "
      ]
     },
     "execution_count": 3,
     "metadata": {},
     "output_type": "execute_result"
    }
   ],
   "source": [
    "data.head()"
   ]
  },
  {
   "cell_type": "markdown",
   "metadata": {},
   "source": [
    "One hot encode segments, normalize columns and create final dataset"
   ]
  },
  {
   "cell_type": "code",
   "execution_count": 4,
   "metadata": {},
   "outputs": [
    {
     "data": {
      "text/html": [
       "<div>\n",
       "<style scoped>\n",
       "    .dataframe tbody tr th:only-of-type {\n",
       "        vertical-align: middle;\n",
       "    }\n",
       "\n",
       "    .dataframe tbody tr th {\n",
       "        vertical-align: top;\n",
       "    }\n",
       "\n",
       "    .dataframe thead th {\n",
       "        text-align: right;\n",
       "    }\n",
       "</style>\n",
       "<table border=\"1\" class=\"dataframe\">\n",
       "  <thead>\n",
       "    <tr style=\"text-align: right;\">\n",
       "      <th></th>\n",
       "      <th>1</th>\n",
       "      <th>2</th>\n",
       "      <th>3</th>\n",
       "      <th>4</th>\n",
       "      <th>5</th>\n",
       "      <th>6</th>\n",
       "      <th>7</th>\n",
       "      <th>8</th>\n",
       "      <th>9</th>\n",
       "      <th>10</th>\n",
       "      <th>...</th>\n",
       "      <th>hr_sin</th>\n",
       "      <th>hr_cos</th>\n",
       "      <th>dir_sin</th>\n",
       "      <th>dir_cos</th>\n",
       "      <th>speed</th>\n",
       "      <th>ttjs</th>\n",
       "      <th>latitude</th>\n",
       "      <th>longitude</th>\n",
       "      <th>t</th>\n",
       "      <th>journey_number</th>\n",
       "    </tr>\n",
       "  </thead>\n",
       "  <tbody>\n",
       "    <tr>\n",
       "      <th>0</th>\n",
       "      <td>1</td>\n",
       "      <td>0</td>\n",
       "      <td>0</td>\n",
       "      <td>0</td>\n",
       "      <td>0</td>\n",
       "      <td>0</td>\n",
       "      <td>0</td>\n",
       "      <td>0</td>\n",
       "      <td>0</td>\n",
       "      <td>0</td>\n",
       "      <td>...</td>\n",
       "      <td>0.951951</td>\n",
       "      <td>0.306249</td>\n",
       "      <td>0.54024</td>\n",
       "      <td>-0.841511</td>\n",
       "      <td>0.0</td>\n",
       "      <td>0.0</td>\n",
       "      <td>0.326317</td>\n",
       "      <td>0.924521</td>\n",
       "      <td>71.0</td>\n",
       "      <td>1</td>\n",
       "    </tr>\n",
       "    <tr>\n",
       "      <th>1</th>\n",
       "      <td>1</td>\n",
       "      <td>0</td>\n",
       "      <td>0</td>\n",
       "      <td>0</td>\n",
       "      <td>0</td>\n",
       "      <td>0</td>\n",
       "      <td>0</td>\n",
       "      <td>0</td>\n",
       "      <td>0</td>\n",
       "      <td>0</td>\n",
       "      <td>...</td>\n",
       "      <td>0.951974</td>\n",
       "      <td>0.306180</td>\n",
       "      <td>0.54024</td>\n",
       "      <td>-0.841511</td>\n",
       "      <td>0.0</td>\n",
       "      <td>0.0</td>\n",
       "      <td>0.326237</td>\n",
       "      <td>0.925287</td>\n",
       "      <td>70.0</td>\n",
       "      <td>1</td>\n",
       "    </tr>\n",
       "    <tr>\n",
       "      <th>2</th>\n",
       "      <td>1</td>\n",
       "      <td>0</td>\n",
       "      <td>0</td>\n",
       "      <td>0</td>\n",
       "      <td>0</td>\n",
       "      <td>0</td>\n",
       "      <td>0</td>\n",
       "      <td>0</td>\n",
       "      <td>0</td>\n",
       "      <td>0</td>\n",
       "      <td>...</td>\n",
       "      <td>0.951996</td>\n",
       "      <td>0.306111</td>\n",
       "      <td>0.54024</td>\n",
       "      <td>-0.841511</td>\n",
       "      <td>0.0</td>\n",
       "      <td>0.0</td>\n",
       "      <td>0.326156</td>\n",
       "      <td>0.925670</td>\n",
       "      <td>69.0</td>\n",
       "      <td>1</td>\n",
       "    </tr>\n",
       "    <tr>\n",
       "      <th>3</th>\n",
       "      <td>1</td>\n",
       "      <td>0</td>\n",
       "      <td>0</td>\n",
       "      <td>0</td>\n",
       "      <td>0</td>\n",
       "      <td>0</td>\n",
       "      <td>0</td>\n",
       "      <td>0</td>\n",
       "      <td>0</td>\n",
       "      <td>0</td>\n",
       "      <td>...</td>\n",
       "      <td>0.952018</td>\n",
       "      <td>0.306041</td>\n",
       "      <td>0.54024</td>\n",
       "      <td>-0.841511</td>\n",
       "      <td>0.0</td>\n",
       "      <td>0.0</td>\n",
       "      <td>0.326076</td>\n",
       "      <td>0.926437</td>\n",
       "      <td>68.0</td>\n",
       "      <td>1</td>\n",
       "    </tr>\n",
       "    <tr>\n",
       "      <th>4</th>\n",
       "      <td>1</td>\n",
       "      <td>0</td>\n",
       "      <td>0</td>\n",
       "      <td>0</td>\n",
       "      <td>0</td>\n",
       "      <td>0</td>\n",
       "      <td>0</td>\n",
       "      <td>0</td>\n",
       "      <td>0</td>\n",
       "      <td>0</td>\n",
       "      <td>...</td>\n",
       "      <td>0.952040</td>\n",
       "      <td>0.305972</td>\n",
       "      <td>0.54024</td>\n",
       "      <td>-0.841511</td>\n",
       "      <td>0.0</td>\n",
       "      <td>0.0</td>\n",
       "      <td>0.326116</td>\n",
       "      <td>0.926437</td>\n",
       "      <td>67.0</td>\n",
       "      <td>1</td>\n",
       "    </tr>\n",
       "  </tbody>\n",
       "</table>\n",
       "<p>5 rows × 21 columns</p>\n",
       "</div>"
      ],
      "text/plain": [
       "   1  2  3  4  5  6  7  8  9  10       ...          hr_sin    hr_cos  dir_sin  \\\n",
       "0  1  0  0  0  0  0  0  0  0   0       ...        0.951951  0.306249  0.54024   \n",
       "1  1  0  0  0  0  0  0  0  0   0       ...        0.951974  0.306180  0.54024   \n",
       "2  1  0  0  0  0  0  0  0  0   0       ...        0.951996  0.306111  0.54024   \n",
       "3  1  0  0  0  0  0  0  0  0   0       ...        0.952018  0.306041  0.54024   \n",
       "4  1  0  0  0  0  0  0  0  0   0       ...        0.952040  0.305972  0.54024   \n",
       "\n",
       "    dir_cos  speed  ttjs  latitude  longitude     t  journey_number  \n",
       "0 -0.841511    0.0   0.0  0.326317   0.924521  71.0               1  \n",
       "1 -0.841511    0.0   0.0  0.326237   0.925287  70.0               1  \n",
       "2 -0.841511    0.0   0.0  0.326156   0.925670  69.0               1  \n",
       "3 -0.841511    0.0   0.0  0.326076   0.926437  68.0               1  \n",
       "4 -0.841511    0.0   0.0  0.326116   0.926437  67.0               1  \n",
       "\n",
       "[5 rows x 21 columns]"
      ]
     },
     "execution_count": 4,
     "metadata": {},
     "output_type": "execute_result"
    }
   ],
   "source": [
    "df = data\n",
    "dataset = pds.DataFrame()\n",
    "# Make segments categorical\n",
    "dataset = pds.get_dummies(df['segment_number'])\n",
    "\n",
    "# Combine segments, timestamps and time from journey start\n",
    "\n",
    "# Cyclical timestamps \n",
    "\n",
    "dataset['hr_sin'] = np.sin((df.timestamp.dt.hour*3600+df.timestamp.dt.minute*60+df.timestamp.dt.second)*(2.*np.pi/86400))\n",
    "dataset['hr_cos'] = np.cos((df.timestamp.dt.hour*3600+df.timestamp.dt.minute*60+df.timestamp.dt.second)*(2.*np.pi/86400))\n",
    "\n",
    "# Convert to radians befor trigonometric functions\n",
    "dataset['dir_sin'] = np.sin(df.direction*(np.pi/180))\n",
    "dataset['dir_cos'] = np.cos(df.direction*(np.pi/180))\n",
    "\n",
    "dataset['speed'] = (df['speed']-df['speed'].min())/(df['speed'].max()-df['speed'].min())\n",
    "# Previously was 'time_since_journey_start'\n",
    "dataset['ttjs'] = (df['ttjs']-df['ttjs'].min())/(df['ttjs'].max()-df['ttjs'].min())\n",
    "\n",
    "dataset['latitude'] = (df['latitude']-df['latitude'].min())/(df['latitude'].max()-df['latitude'].min())\n",
    "dataset['longitude'] = (df['longitude']-df['longitude'].min())/(df['longitude'].max()-df['longitude'].min())\n",
    "\n",
    "dataset['t'] = df['t']\n",
    "# Include journey number to select entire journeys\n",
    "dataset['journey_number'] = df['journey_number']\n",
    "\n",
    "dataset.head()"
   ]
  },
  {
   "cell_type": "markdown",
   "metadata": {},
   "source": [
    "Divide training/validation/test data set"
   ]
  },
  {
   "cell_type": "code",
   "execution_count": 5,
   "metadata": {},
   "outputs": [],
   "source": [
    "# Roughly 20% Test and 20% Validation\n",
    "num_test_segments = 700\n",
    "num_validation_segments = 700\n",
    "unique_journeys = dataset.journey_number.unique()\n",
    "random.shuffle(unique_journeys)\n",
    "\n",
    "msk1 = unique_journeys[0:num_test_segments]\n",
    "msk2 = unique_journeys[num_test_segments:num_test_segments+num_validation_segments]\n",
    "msk3 = unique_journeys[num_test_segments+num_validation_segments:len(unique_journeys)]\n",
    "mask1 = dataset['journey_number'].isin(msk1)\n",
    "mask2 = dataset['journey_number'].isin(msk2)\n",
    "mask3 = dataset['journey_number'].isin(msk3)"
   ]
  },
  {
   "cell_type": "code",
   "execution_count": 6,
   "metadata": {},
   "outputs": [],
   "source": [
    "test_input = dataset[mask1]\n",
    "validation_input = dataset[mask2]\n",
    "train_input = (dataset[mask3])"
   ]
  },
  {
   "cell_type": "code",
   "execution_count": 7,
   "metadata": {},
   "outputs": [
    {
     "data": {
      "text/html": [
       "<div>\n",
       "<style scoped>\n",
       "    .dataframe tbody tr th:only-of-type {\n",
       "        vertical-align: middle;\n",
       "    }\n",
       "\n",
       "    .dataframe tbody tr th {\n",
       "        vertical-align: top;\n",
       "    }\n",
       "\n",
       "    .dataframe thead th {\n",
       "        text-align: right;\n",
       "    }\n",
       "</style>\n",
       "<table border=\"1\" class=\"dataframe\">\n",
       "  <thead>\n",
       "    <tr style=\"text-align: right;\">\n",
       "      <th></th>\n",
       "      <th>1</th>\n",
       "      <th>2</th>\n",
       "      <th>3</th>\n",
       "      <th>4</th>\n",
       "      <th>5</th>\n",
       "      <th>6</th>\n",
       "      <th>7</th>\n",
       "      <th>8</th>\n",
       "      <th>9</th>\n",
       "      <th>10</th>\n",
       "      <th>11</th>\n",
       "      <th>hr_sin</th>\n",
       "      <th>hr_cos</th>\n",
       "      <th>dir_sin</th>\n",
       "      <th>dir_cos</th>\n",
       "      <th>speed</th>\n",
       "      <th>ttjs</th>\n",
       "      <th>latitude</th>\n",
       "      <th>longitude</th>\n",
       "      <th>t</th>\n",
       "    </tr>\n",
       "  </thead>\n",
       "  <tbody>\n",
       "    <tr>\n",
       "      <th>2474</th>\n",
       "      <td>1</td>\n",
       "      <td>0</td>\n",
       "      <td>0</td>\n",
       "      <td>0</td>\n",
       "      <td>0</td>\n",
       "      <td>0</td>\n",
       "      <td>0</td>\n",
       "      <td>0</td>\n",
       "      <td>0</td>\n",
       "      <td>0</td>\n",
       "      <td>0</td>\n",
       "      <td>0.998848</td>\n",
       "      <td>-0.047978</td>\n",
       "      <td>0.551937</td>\n",
       "      <td>-0.833886</td>\n",
       "      <td>0.0</td>\n",
       "      <td>0.0</td>\n",
       "      <td>0.326076</td>\n",
       "      <td>0.922605</td>\n",
       "      <td>187.0</td>\n",
       "    </tr>\n",
       "    <tr>\n",
       "      <th>2475</th>\n",
       "      <td>1</td>\n",
       "      <td>0</td>\n",
       "      <td>0</td>\n",
       "      <td>0</td>\n",
       "      <td>0</td>\n",
       "      <td>0</td>\n",
       "      <td>0</td>\n",
       "      <td>0</td>\n",
       "      <td>0</td>\n",
       "      <td>0</td>\n",
       "      <td>0</td>\n",
       "      <td>0.998845</td>\n",
       "      <td>-0.048051</td>\n",
       "      <td>0.551937</td>\n",
       "      <td>-0.833886</td>\n",
       "      <td>0.0</td>\n",
       "      <td>0.0</td>\n",
       "      <td>0.326076</td>\n",
       "      <td>0.922605</td>\n",
       "      <td>186.0</td>\n",
       "    </tr>\n",
       "    <tr>\n",
       "      <th>2476</th>\n",
       "      <td>1</td>\n",
       "      <td>0</td>\n",
       "      <td>0</td>\n",
       "      <td>0</td>\n",
       "      <td>0</td>\n",
       "      <td>0</td>\n",
       "      <td>0</td>\n",
       "      <td>0</td>\n",
       "      <td>0</td>\n",
       "      <td>0</td>\n",
       "      <td>0</td>\n",
       "      <td>0.998841</td>\n",
       "      <td>-0.048123</td>\n",
       "      <td>0.551937</td>\n",
       "      <td>-0.833886</td>\n",
       "      <td>0.0</td>\n",
       "      <td>0.0</td>\n",
       "      <td>0.326076</td>\n",
       "      <td>0.922605</td>\n",
       "      <td>185.0</td>\n",
       "    </tr>\n",
       "    <tr>\n",
       "      <th>2477</th>\n",
       "      <td>1</td>\n",
       "      <td>0</td>\n",
       "      <td>0</td>\n",
       "      <td>0</td>\n",
       "      <td>0</td>\n",
       "      <td>0</td>\n",
       "      <td>0</td>\n",
       "      <td>0</td>\n",
       "      <td>0</td>\n",
       "      <td>0</td>\n",
       "      <td>0</td>\n",
       "      <td>0.998838</td>\n",
       "      <td>-0.048196</td>\n",
       "      <td>0.551937</td>\n",
       "      <td>-0.833886</td>\n",
       "      <td>0.0</td>\n",
       "      <td>0.0</td>\n",
       "      <td>0.326076</td>\n",
       "      <td>0.922605</td>\n",
       "      <td>184.0</td>\n",
       "    </tr>\n",
       "    <tr>\n",
       "      <th>2478</th>\n",
       "      <td>1</td>\n",
       "      <td>0</td>\n",
       "      <td>0</td>\n",
       "      <td>0</td>\n",
       "      <td>0</td>\n",
       "      <td>0</td>\n",
       "      <td>0</td>\n",
       "      <td>0</td>\n",
       "      <td>0</td>\n",
       "      <td>0</td>\n",
       "      <td>0</td>\n",
       "      <td>0.998834</td>\n",
       "      <td>-0.048269</td>\n",
       "      <td>0.551937</td>\n",
       "      <td>-0.833886</td>\n",
       "      <td>0.0</td>\n",
       "      <td>0.0</td>\n",
       "      <td>0.326076</td>\n",
       "      <td>0.922605</td>\n",
       "      <td>183.0</td>\n",
       "    </tr>\n",
       "  </tbody>\n",
       "</table>\n",
       "</div>"
      ],
      "text/plain": [
       "      1  2  3  4  5  6  7  8  9  10  11    hr_sin    hr_cos   dir_sin  \\\n",
       "2474  1  0  0  0  0  0  0  0  0   0   0  0.998848 -0.047978  0.551937   \n",
       "2475  1  0  0  0  0  0  0  0  0   0   0  0.998845 -0.048051  0.551937   \n",
       "2476  1  0  0  0  0  0  0  0  0   0   0  0.998841 -0.048123  0.551937   \n",
       "2477  1  0  0  0  0  0  0  0  0   0   0  0.998838 -0.048196  0.551937   \n",
       "2478  1  0  0  0  0  0  0  0  0   0   0  0.998834 -0.048269  0.551937   \n",
       "\n",
       "       dir_cos  speed  ttjs  latitude  longitude      t  \n",
       "2474 -0.833886    0.0   0.0  0.326076   0.922605  187.0  \n",
       "2475 -0.833886    0.0   0.0  0.326076   0.922605  186.0  \n",
       "2476 -0.833886    0.0   0.0  0.326076   0.922605  185.0  \n",
       "2477 -0.833886    0.0   0.0  0.326076   0.922605  184.0  \n",
       "2478 -0.833886    0.0   0.0  0.326076   0.922605  183.0  "
      ]
     },
     "execution_count": 7,
     "metadata": {},
     "output_type": "execute_result"
    }
   ],
   "source": [
    "# Journey numbers were needed up until this point\n",
    "train_data = train_input.drop(columns=['journey_number'])\n",
    "test_data = test_input.drop(columns=['journey_number'])\n",
    "validation_data = validation_input.drop(columns=['journey_number'])\n",
    "\n",
    "train_data.head()"
   ]
  },
  {
   "cell_type": "markdown",
   "metadata": {},
   "source": [
    "Modify dataset to contain sequences. This is required for the RNN. Each sequence is SEQUENCE_LENGTH consecutive data points. Currently a sequence can contain data points from two different journeys, this is not optimal. Should check if the sequence starts and ends in the same journey."
   ]
  },
  {
   "cell_type": "code",
   "execution_count": 8,
   "metadata": {},
   "outputs": [],
   "source": [
    "SEQUENCE_LENGTH = 20\n",
    "def sequencify(df, shuffle):\n",
    "    sequencial_data = []\n",
    "    sequence = deque(maxlen=SEQUENCE_LENGTH)\n",
    "    for i in df.values:\n",
    "        sequence.append([n for n in i[:-1]])\n",
    "        if len(sequence) == SEQUENCE_LENGTH:\n",
    "            sequencial_data.append([np.array(sequence), i[-1]])\n",
    "    if shuffle:\n",
    "        random.shuffle(sequencial_data)\n",
    "    X = []\n",
    "    Y = []\n",
    "    for sequence, label in sequencial_data:\n",
    "        X.append(sequence)\n",
    "        Y.append(label)\n",
    "    return np.array(X),Y"
   ]
  },
  {
   "cell_type": "code",
   "execution_count": 9,
   "metadata": {},
   "outputs": [],
   "source": [
    "seq_train_x, seq_train_y = sequencify(train_data, True)\n",
    "seq_test_x, seq_test_y = sequencify(test_data, True)\n",
    "seq_validation_x, seq_validation_y = sequencify(validation_data, True)"
   ]
  },
  {
   "cell_type": "markdown",
   "metadata": {},
   "source": [
    "Model creation"
   ]
  },
  {
   "cell_type": "code",
   "execution_count": 10,
   "metadata": {},
   "outputs": [],
   "source": [
    "BATCH_SIZE = 64\n",
    "EPOCHS = 5\n",
    "model = keras.Sequential()\n",
    "model.add(keras.layers.CuDNNLSTM(128, input_shape=(seq_train_x.shape[1:]), return_sequences=True))\n",
    "model.add(keras.layers.Dropout(0.2))\n",
    "model.add(keras.layers.BatchNormalization())\n",
    "\n",
    "model.add(keras.layers.CuDNNLSTM(128, input_shape=(seq_train_x.shape[1:]), return_sequences=True))\n",
    "model.add(keras.layers.Dropout(0.1))\n",
    "model.add(keras.layers.BatchNormalization())\n",
    "\n",
    "model.add(keras.layers.CuDNNLSTM(128, input_shape=(seq_train_x.shape[1:])))\n",
    "model.add(keras.layers.Dropout(0.2))\n",
    "model.add(keras.layers.BatchNormalization())\n",
    "\n",
    "model.add(keras.layers.Dense(32, activation=\"relu\"))\n",
    "model.add(keras.layers.Dropout(0.2))\n",
    "model.add(keras.layers.BatchNormalization())\n",
    "\n",
    "model.add(keras.layers.Dense(1))\n",
    "\n",
    "opt = keras.optimizers.Adadelta()\n",
    "\n",
    "model.compile(loss='mae',optimizer=opt, metrics=['mae'])"
   ]
  },
  {
   "cell_type": "markdown",
   "metadata": {},
   "source": [
    "Fit model"
   ]
  },
  {
   "cell_type": "code",
   "execution_count": 11,
   "metadata": {},
   "outputs": [
    {
     "name": "stdout",
     "output_type": "stream",
     "text": [
      "Train on 2027357 samples, validate on 644250 samples\n",
      "Epoch 1/5\n",
      "2027357/2027357 [==============================] - 493s 243us/step - loss: 13.0493 - mean_absolute_error: 13.0493 - val_loss: 10.3688 - val_mean_absolute_error: 10.3688\n",
      "Epoch 2/5\n",
      "2027357/2027357 [==============================] - 476s 235us/step - loss: 12.4044 - mean_absolute_error: 12.4044 - val_loss: 10.1606 - val_mean_absolute_error: 10.1606\n",
      "Epoch 3/5\n",
      "2027357/2027357 [==============================] - 466s 230us/step - loss: 12.2803 - mean_absolute_error: 12.2803 - val_loss: 10.0970 - val_mean_absolute_error: 10.0970\n",
      "Epoch 4/5\n",
      "2027357/2027357 [==============================] - 474s 234us/step - loss: 12.2404 - mean_absolute_error: 12.2404 - val_loss: 10.1447 - val_mean_absolute_error: 10.1447\n",
      "Epoch 5/5\n",
      "2027357/2027357 [==============================] - 501s 247us/step - loss: 12.2066 - mean_absolute_error: 12.2066 - val_loss: 10.0596 - val_mean_absolute_error: 10.0596\n"
     ]
    }
   ],
   "source": [
    "result = model.fit(seq_train_x,seq_train_y,\n",
    "                  batch_size=BATCH_SIZE,\n",
    "                  epochs=EPOCHS,\n",
    "                  validation_data=(seq_validation_x,seq_validation_y))"
   ]
  },
  {
   "cell_type": "markdown",
   "metadata": {},
   "source": [
    "Saving the model to file."
   ]
  },
  {
   "cell_type": "code",
   "execution_count": 20,
   "metadata": {},
   "outputs": [],
   "source": [
    "# Serialize weights to HDF5\n",
    "model.save_weights(\"model3v2.h5\")"
   ]
  },
  {
   "cell_type": "markdown",
   "metadata": {},
   "source": [
    "Evaluate model on test data"
   ]
  },
  {
   "cell_type": "code",
   "execution_count": 12,
   "metadata": {},
   "outputs": [
    {
     "name": "stdout",
     "output_type": "stream",
     "text": [
      "640336/640336 [==============================] - 92s 143us/step\n"
     ]
    },
    {
     "data": {
      "text/plain": [
       "[9.818086423669207, 9.818086423669207]"
      ]
     },
     "execution_count": 12,
     "metadata": {},
     "output_type": "execute_result"
    }
   ],
   "source": [
    "model.evaluate(seq_test_x, seq_test_y)"
   ]
  },
  {
   "cell_type": "markdown",
   "metadata": {},
   "source": [
    "Below 10 is pretty promising. When a sequence of 10 instead of 20 was used the MAE was around 11, so about a second improvement.\n",
    "\n",
    "Lets look at a random journey from the test set. Predictions are green and true values are red."
   ]
  },
  {
   "cell_type": "code",
   "execution_count": 21,
   "metadata": {},
   "outputs": [
    {
     "name": "stdout",
     "output_type": "stream",
     "text": [
      "882/882 [==============================] - 3s 3ms/step\n"
     ]
    }
   ],
   "source": [
    "selected_journey = np.random.choice(msk1)\n",
    "to_test = test_input[test_input['journey_number'] == selected_journey]\n",
    "model_to_predict = to_test.drop(columns=['journey_number'])\n",
    "seq_x, seq_y= sequencify(model_to_predict, False)\n",
    "predictions = model.predict(seq_x, batch_size=1, verbose=1)"
   ]
  },
  {
   "cell_type": "code",
   "execution_count": 22,
   "metadata": {},
   "outputs": [
    {
     "data": {
      "image/png": "[encoded data removed]",
      "text/plain": [
       "<Figure size 1224x864 with 1 Axes>"
      ]
     },
     "metadata": {
      "needs_background": "light"
     },
     "output_type": "display_data"
    },
    {
     "name": "stdout",
     "output_type": "stream",
     "text": [
      "882/882 [==============================] - 0s 148us/step\n",
      "[6.404536891686403, 6.404536891686403]\n"
     ]
    }
   ],
   "source": [
    "plt.rcParams['figure.figsize'] = [17, 12]\n",
    "plt.plot(predictions, color='green', linewidth=2, markersize=12)\n",
    "plt.plot(seq_y, color='red', linewidth=2, markersize=12)\n",
    "plt.show()\n",
    "print(model.evaluate(seq_x, seq_y))"
   ]
  },
  {
   "cell_type": "markdown",
   "metadata": {},
   "source": [
    "The predictions follow the true values fairly well except for the first segment."
   ]
  },
  {
   "cell_type": "markdown",
   "metadata": {},
   "source": [
    "Plot of all test data. True values on the x-axis and predicted values on the y-axis."
   ]
  },
  {
   "cell_type": "code",
   "execution_count": 15,
   "metadata": {},
   "outputs": [
    {
     "data": {
      "image/png": "[encoded data removed]",
      "text/plain": [
       "<Figure size 1224x864 with 1 Axes>"
      ]
     },
     "metadata": {
      "needs_background": "light"
     },
     "output_type": "display_data"
    }
   ],
   "source": [
    "test_predictions = model.predict(seq_test_x)\n",
    "plt.scatter(seq_test_y, test_predictions)\n",
    "plt.show()"
   ]
  },
  {
   "cell_type": "code",
   "execution_count": null,
   "metadata": {},
   "outputs": [],
   "source": []
  }
 ],
 "metadata": {
  "kernelspec": {
   "display_name": "Python 3",
   "language": "python",
   "name": "python3"
  },
  "language_info": {
   "codemirror_mode": {
    "name": "ipython",
    "version": 3
   },
   "file_extension": ".py",
   "mimetype": "text/x-python",
   "name": "python",
   "nbconvert_exporter": "python",
   "pygments_lexer": "ipython3",
   "version": "3.6.7"
  }
 },
 "nbformat": 4,
 "nbformat_minor": 2
}
