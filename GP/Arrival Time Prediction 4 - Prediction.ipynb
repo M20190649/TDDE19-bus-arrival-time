{
 "cells": [
  {
   "cell_type": "markdown",
   "metadata": {},
   "source": [
    "# Arrival Time Prediction - Prediction\n",
    "This is the fourth and final notebook on GP regression for arrival time prediction. In this notebook we will finally make the predictions and take a look at the the residuals. First off we'll do the usual import stuff, and load the test data together with the synchonisation GPs trained in the previous notebook."
   ]
  },
  {
   "cell_type": "code",
   "execution_count": 2,
   "metadata": {
    "scrolled": true
   },
   "outputs": [
    {
     "data": {
      "text/html": [
       "<div>\n",
       "<style scoped>\n",
       "    .dataframe tbody tr th:only-of-type {\n",
       "        vertical-align: middle;\n",
       "    }\n",
       "\n",
       "    .dataframe tbody tr th {\n",
       "        vertical-align: top;\n",
       "    }\n",
       "\n",
       "    .dataframe thead th {\n",
       "        text-align: right;\n",
       "    }\n",
       "</style>\n",
       "<table border=\"1\" class=\"dataframe\">\n",
       "  <thead>\n",
       "    <tr style=\"text-align: right;\">\n",
       "      <th></th>\n",
       "      <th>lat</th>\n",
       "      <th>lon</th>\n",
       "      <th>traj</th>\n",
       "      <th>seg</th>\n",
       "      <th>speed</th>\n",
       "      <th>time_left</th>\n",
       "      <th>progress</th>\n",
       "    </tr>\n",
       "  </thead>\n",
       "  <tbody>\n",
       "    <tr>\n",
       "      <th>0</th>\n",
       "      <td>15.571012</td>\n",
       "      <td>58.414258</td>\n",
       "      <td>1.0</td>\n",
       "      <td>1</td>\n",
       "      <td>0.00</td>\n",
       "      <td>65.0</td>\n",
       "      <td>0.000000</td>\n",
       "    </tr>\n",
       "    <tr>\n",
       "      <th>1</th>\n",
       "      <td>15.571187</td>\n",
       "      <td>58.414196</td>\n",
       "      <td>1.0</td>\n",
       "      <td>1</td>\n",
       "      <td>-1.00</td>\n",
       "      <td>58.0</td>\n",
       "      <td>0.026316</td>\n",
       "    </tr>\n",
       "    <tr>\n",
       "      <th>2</th>\n",
       "      <td>15.571246</td>\n",
       "      <td>58.414280</td>\n",
       "      <td>1.0</td>\n",
       "      <td>1</td>\n",
       "      <td>3.08</td>\n",
       "      <td>46.0</td>\n",
       "      <td>0.052632</td>\n",
       "    </tr>\n",
       "    <tr>\n",
       "      <th>3</th>\n",
       "      <td>15.571079</td>\n",
       "      <td>58.414436</td>\n",
       "      <td>1.0</td>\n",
       "      <td>1</td>\n",
       "      <td>4.37</td>\n",
       "      <td>35.0</td>\n",
       "      <td>0.078947</td>\n",
       "    </tr>\n",
       "    <tr>\n",
       "      <th>4</th>\n",
       "      <td>15.570891</td>\n",
       "      <td>58.414459</td>\n",
       "      <td>1.0</td>\n",
       "      <td>1</td>\n",
       "      <td>6.73</td>\n",
       "      <td>34.0</td>\n",
       "      <td>0.105263</td>\n",
       "    </tr>\n",
       "  </tbody>\n",
       "</table>\n",
       "</div>"
      ],
      "text/plain": [
       "         lat        lon  traj  seg  speed  time_left  progress\n",
       "0  15.571012  58.414258   1.0    1   0.00       65.0  0.000000\n",
       "1  15.571187  58.414196   1.0    1  -1.00       58.0  0.026316\n",
       "2  15.571246  58.414280   1.0    1   3.08       46.0  0.052632\n",
       "3  15.571079  58.414436   1.0    1   4.37       35.0  0.078947\n",
       "4  15.570891  58.414459   1.0    1   6.73       34.0  0.105263"
      ]
     },
     "execution_count": 2,
     "metadata": {},
     "output_type": "execute_result"
    }
   ],
   "source": [
    "import gpflow\n",
    "import numpy as np\n",
    "import matplotlib.pyplot as plt\n",
    "import matplotlib\n",
    "import seaborn as sns\n",
    "import pandas as pd\n",
    "import scipy.stats as stats\n",
    "from sklearn.preprocessing import scale\n",
    "import time\n",
    "import pickle\n",
    "import tensorflow as tf\n",
    "import gp_gpy as gp\n",
    "import plot \n",
    "\n",
    "sns.set(style=\"darkgrid\")\n",
    "np.random.seed(1)\n",
    "data = pd.read_pickle('train.pkl')\n",
    "#travel_times = pd.read_pickle('travel_times.pkl')\n",
    "n_segs = data.seg.unique()\n",
    "synch_traj_n = 7 # traj 7 was used to train synch gps\n",
    "route_n = 3 # all data used currently is from route 3\n",
    "\n",
    "# These guys are not used as of now since all data comes from one route and one traj\n",
    "#def load_synch_gps(data):\n",
    "#    n_routes = [route_n] # should be computed from the data when all is done\n",
    "#    return {route_n: load_route_synch_gps(route_n) for route_n in n_routes}\n",
    "\n",
    "#def load_route_synch_gp(data, route_n):\n",
    "#    n_trajs = data.traj.unique()\n",
    "#    return {traj_n: load_traj_synch_gps(data[data.traj == traj_n], route_n, traj_n) for traj_n in n_trajs}\n",
    "\n",
    "#def load_traj_synch_gps(data, route_n, traj_n):\n",
    "#    n_segs = data.seg.unique()\n",
    "#    return {seg_n: load_seg_synch_gp(data[data.seg == seg_n], route_n, traj_n, seg_n) for seg_n in n_segs}\n",
    "    \n",
    "n_segs = data.seg.unique()\n",
    "#synch_gps = {seg_n: gp.load_synch(data, ['lat', 'lon'], ['progress'], seg_n) for seg_n in n_segs}\n",
    "data.head()"
   ]
  },
  {
   "cell_type": "markdown",
   "metadata": {},
   "source": [
    "## Training\n",
    "The first step is to be able to compare a new trajectoy to trajectories trained on. To do this we fit a GP for the function $f : \\tau \\mapsto \\mathcal{R}^2$ for each segment in each trajectory, which is the inverse of the synchronisation function. This will be used to compute the likelihood of a new trajectory once it has been synchronised, and then we can predict with the learned traectories that best explain it.\n",
    "\n",
    "We will also need to fit a GP for each segment in each trajectory which makes the actual predictions, that is the function $f : \\tau \\mapsto \\mathcal{R}$."
   ]
  },
  {
   "cell_type": "code",
   "execution_count": 4,
   "metadata": {
    "scrolled": false
   },
   "outputs": [
    {
     "name": "stdout",
     "output_type": "stream",
     "text": [
      "Optimization restart 1/5, f = -569.5307321008119\n",
      "Optimization restart 2/5, f = -569.5307244988253\n",
      "Optimization restart 3/5, f = -569.5306636705732\n",
      "Optimization restart 4/5, f = -569.5307749318947\n",
      "Optimization restart 5/5, f = -569.5307534853572\n",
      "Optimization restart 1/5, f = 126.14552170827724\n",
      "Optimization restart 2/5, f = 126.1455217104022\n",
      "Optimization restart 3/5, f = 126.14552173436353\n",
      "Optimization restart 4/5, f = 126.14552172047134\n",
      "Optimization restart 5/5, f = 126.14552170820139\n"
     ]
    },
    {
     "data": {
      "image/png": "[encoded data removed]",
      "text/plain": [
       "<Figure size 432x288 with 1 Axes>"
      ]
     },
     "metadata": {},
     "output_type": "display_data"
    },
    {
     "name": "stderr",
     "output_type": "stream",
     "text": [
      " /home/seba/anaconda3/envs/gp-busses/lib/python3.6/site-packages/matplotlib/figure.py:2359: UserWarning:This figure includes Axes that are not compatible with tight_layout, so results might be incorrect.\n"
     ]
    },
    {
     "data": {
      "image/png": "[encoded data removed]",
      "text/plain": [
       "<Figure size 432x288 with 1 Axes>"
      ]
     },
     "metadata": {},
     "output_type": "display_data"
    }
   ],
   "source": [
    "def synch_data(synch_gp, data):\n",
    "    latlon  = ['lat', 'lon']\n",
    "    X = data[latlon].values\n",
    "    tau, _var = gp.predict(synch_gp, X)\n",
    "    synched_data = data.copy()\n",
    "    synched_data['tau'] = tau\n",
    "    synched_data.drop(latlon, axis=1)\n",
    "    return synched_data\n",
    "    \n",
    "def train_gps(synched_data, route_n, traj_n, seg_n):\n",
    "    # Learn GP to compute likelihood of new data\n",
    "    likelihood_model = gp.build(synched_seg, \n",
    "                     ['tau'], \n",
    "                     ['lat', 'lon'], \n",
    "                     'likelihood-v1', \n",
    "                     route_n, \n",
    "                     traj_n, \n",
    "                     seg_n)\n",
    "    gp.train(likelihood_model, 5)\n",
    "    \n",
    "    prediction_model = gp.build(synched_seg, \n",
    "                                ['tau'], \n",
    "                                ['time_left'], \n",
    "                                'predict-v1', \n",
    "                                route_n, \n",
    "                                traj_n, \n",
    "                                seg_n)\n",
    "    gp.train(prediction_model, 5)\n",
    "    return likelihood_model, prediction_model\n",
    "\n",
    "n_trajs = data.traj.unique()\n",
    "traj_n = n_trajs[0]\n",
    "seg_n = n_segs[0]\n",
    "seg = data[(data.seg == seg_n) & (data.traj == traj_n)]\n",
    "synch_gp = gp.load_synch(seg_n)\n",
    "synched_seg = synch_data(synch_gp, seg)\n",
    "likelihood_model, prediction_model = train_gps(synched_seg, route_n, traj_n, seg_n)\n",
    "\n",
    "\n",
    "#likelihood_model, prediction_model = train_gp(seg, synch_gps[seg_n], route_n, traj_n, seg_n)\n",
    "sns.scatterplot(data=synched_seg.tau)\n",
    "gp.plot(prediction_model)\n",
    "#mean, _var = gp.predict(model, seg)\n",
    "#plot_df = pd.DataFrame({'tau': })\n",
    "#\n",
    "\n",
    "#for traj_n in n_trajs:\n",
    "#    traj = data[data.traj == traj_n]\n",
    "#    for seg_n in n_segs:\n",
    "#        seg = traj[traj.seg == seg_n]\n",
    "#        synch_gp = synch_gps[seg_n]\n",
    "#        likelihood_model, prediction_model = train_gp(seg, synch_gp, route_n, seg_n, traj_n)\n",
    "#        gp.save(likelihood_model)\n",
    "#        gp.save(prediction_model)\n",
    "#        gp.plot(likelihood_model)\n",
    "#        gp.plot(prediction_model)"
   ]
  },
  {
   "cell_type": "markdown",
   "metadata": {},
   "source": [
    "Let's plot some of the GPs to see what they look like"
   ]
  },
  {
   "cell_type": "code",
   "execution_count": null,
   "metadata": {
    "scrolled": false
   },
   "outputs": [],
   "source": [
    "for seg_n in n_segs:\n",
    "    gp1 = gp.load(data[data.seg == n_segs[0]], \n",
    "                  ['lat', 'lon'], \n",
    "                  ['progress'], \n",
    "                  'likelihood-v1', \n",
    "                  route_n, \n",
    "                  n_trajs[0], \n",
    "                  seg_n)\n",
    "    gp.plot(gp1)\n",
    "#gp2 = gp.load(data[data.seg == n_segs[1]], ['lat', 'lon'], ['progress'], 'likelihood-v1', route_n, n_segs[0], n_trajs[0])\n",
    "#gp3 = gp.load(data[data.seg == n_segs[1]], ['lat', 'lon'], ['progress'], 'likelihood-v1', route_n, n_segs[0], n_trajs[0])\n",
    "#gp.plot(gp2)\n",
    "#gp.plot(gp3)"
   ]
  },
  {
   "cell_type": "markdown",
   "metadata": {},
   "source": [
    "The results look reasonable, even though they are not amazing. It looks fairly likely that each process could have generated respective data."
   ]
  },
  {
   "cell_type": "markdown",
   "metadata": {},
   "source": [
    "## Prediction\n",
    "After having trained the GPs the model can now be presented with a new trajectory, look at the ones it has previously seen, rank them by likelihood and use them to make arrival time predictions."
   ]
  },
  {
   "cell_type": "code",
   "execution_count": null,
   "metadata": {},
   "outputs": [],
   "source": [
    "# We load the parameters of the learned GPs once\n",
    "learned_params = gp.load_all_params('likelihood-v1')\n",
    "# together with the test data\n",
    "test = pd.read_pickle('test.pkl')\n",
    "# and the arrival times\n",
    "with open('travel_times.pkl', 'rb') as handle:\n",
    "    travel_times = pickle.load(handle)"
   ]
  },
  {
   "cell_type": "code",
   "execution_count": null,
   "metadata": {},
   "outputs": [],
   "source": [
    "def predict(learned_params, synch_gps, traj):\n",
    "    seg_n = traj.iloc[0].seg # assume all data points are from same seg as the first\n",
    "    synch_gp = synch_gps[seg_n]\n",
    "    synched_traj = synch_data(synch_gp, traj)\n",
    "    gps = most_likely_learned_gp(learned_params, synch_gp, synched_traj)\n",
    "   # arrival_times[gps\n",
    "   # return trajs\n",
    "    #learned_trajs = [gp.build(test_traj, )]\n",
    "    gp.plot(gps[0])\n",
    "        \n",
    "    return gps\n",
    "\n",
    "def most_likely_learned_gp(learned_params, synch_gp, traj):\n",
    "    mk_model = lambda r, t, s, p: gp.set_params(gp.build(traj, ['tau'], ['lat', 'lon'], 'tmp', r, t, s), p)\n",
    "    models = [mk_model(*p) for p in learned_params]\n",
    "    return sorted(models, key=gp.loglik)\n",
    "    \n",
    "test_trajs = test[test.seg == seg_n]\n",
    "n_test_trajs = test_trajs.traj.unique()\n",
    "predictions = [predict(learned_params, synch_gps, test_trajs[test_trajs.traj == traj_n]) for traj_n in n_test_trajs]\n"
   ]
  },
  {
   "cell_type": "code",
   "execution_count": null,
   "metadata": {},
   "outputs": [],
   "source": []
  }
 ],
 "metadata": {
  "kernelspec": {
   "display_name": "Python 3",
   "language": "python",
   "name": "python3"
  },
  "language_info": {
   "codemirror_mode": {
    "name": "ipython",
    "version": 3
   },
   "file_extension": ".py",
   "mimetype": "text/x-python",
   "name": "python",
   "nbconvert_exporter": "python",
   "pygments_lexer": "ipython3",
   "version": "3.6.6"
  }
 },
 "nbformat": 4,
 "nbformat_minor": 2
}
